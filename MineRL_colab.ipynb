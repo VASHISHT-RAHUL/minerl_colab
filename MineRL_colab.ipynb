{
  "nbformat": 4,
  "nbformat_minor": 0,
  "metadata": {
    "colab": {
      "name": "MineRL_colab.ipynb",
      "provenance": [],
      "collapsed_sections": []
    },
    "kernelspec": {
      "name": "python3",
      "display_name": "Python 3"
    },
    "accelerator": "GPU"
  },
  "cells": [
    {
      "cell_type": "markdown",
      "metadata": {
        "id": "br3WWMvouBCx",
        "colab_type": "text"
      },
      "source": [
        "[![Open In Colab](https://colab.research.google.com/assets/colab-badge.svg)](https://colab.research.google.com/github/blacktanktop/minerl_colab/blob/master/MineRL_colab.ipynb)"
      ]
    },
    {
      "cell_type": "markdown",
      "metadata": {
        "id": "c6MPccQ85NOE",
        "colab_type": "text"
      },
      "source": [
        "# Install"
      ]
    },
    {
      "cell_type": "markdown",
      "metadata": {
        "id": "7DccKy9fh-7i",
        "colab_type": "text"
      },
      "source": [
        "## install minerl"
      ]
    },
    {
      "cell_type": "code",
      "metadata": {
        "id": "iZ1o6BFS5L3M",
        "colab_type": "code",
        "outputId": "c21c0b08-4313-4ccd-d398-0f0608b45713",
        "colab": {
          "base_uri": "https://localhost:8080/",
          "height": 1000
        }
      },
      "source": [
        "!pip3 install --upgrade minerl\n",
        "\n",
        "# If you finish instalation, you must restart the runtime"
      ],
      "execution_count": 1,
      "outputs": [
        {
          "output_type": "stream",
          "text": [
            "Collecting minerl\n",
            "\u001b[?25l  Downloading https://files.pythonhosted.org/packages/96/48/eca82f1751c29ac5f7cb03bb50e39ba3878bc527bc7e9adb631c4aed0dd5/minerl-0.2.4.tar.gz (43.9MB)\n",
            "\u001b[K     |████████████████████████████████| 43.9MB 1.4MB/s \n",
            "\u001b[?25hCollecting gym>=0.12.1 (from minerl)\n",
            "\u001b[?25l  Downloading https://files.pythonhosted.org/packages/61/75/9e841bc2bc75128e0b65c3d5255d0bd16becb9d8f7120b965d41b8e70041/gym-0.14.0.tar.gz (1.6MB)\n",
            "\u001b[K     |████████████████████████████████| 1.6MB 30.1MB/s \n",
            "\u001b[?25hCollecting opencv-python>=4.1.0.25 (from minerl)\n",
            "\u001b[?25l  Downloading https://files.pythonhosted.org/packages/5e/7e/bd5425f4dacb73367fddc71388a47c1ea570839197c2bcad86478e565186/opencv_python-4.1.1.26-cp36-cp36m-manylinux1_x86_64.whl (28.7MB)\n",
            "\u001b[K     |████████████████████████████████| 28.7MB 45.3MB/s \n",
            "\u001b[?25hRequirement already satisfied, skipping upgrade: setuptools>=40.6.2 in /usr/local/lib/python3.6/dist-packages (from minerl) (41.2.0)\n",
            "Collecting tqdm>=4.32.2 (from minerl)\n",
            "\u001b[?25l  Downloading https://files.pythonhosted.org/packages/e1/c1/bc1dba38b48f4ae3c4428aea669c5e27bd5a7642a74c8348451e0bd8ff86/tqdm-4.36.1-py2.py3-none-any.whl (52kB)\n",
            "\u001b[K     |████████████████████████████████| 61kB 28.7MB/s \n",
            "\u001b[?25hRequirement already satisfied, skipping upgrade: numpy>=1.16.2 in /usr/local/lib/python3.6/dist-packages (from minerl) (1.16.5)\n",
            "Requirement already satisfied, skipping upgrade: requests>=2.20.0 in /usr/local/lib/python3.6/dist-packages (from minerl) (2.21.0)\n",
            "Collecting ipython>=7.5.0 (from minerl)\n",
            "\u001b[?25l  Downloading https://files.pythonhosted.org/packages/fb/44/f28a13852e562af719f9de1761680a84a93e8b4c50e22d00d68f60ee2e8b/ipython-7.8.0-py3-none-any.whl (775kB)\n",
            "\u001b[K     |████████████████████████████████| 778kB 59.9MB/s \n",
            "\u001b[?25hRequirement already satisfied, skipping upgrade: typing>=3.6.6 in /usr/local/lib/python3.6/dist-packages (from minerl) (3.7.4.1)\n",
            "Collecting lxml>=4.3.3 (from minerl)\n",
            "\u001b[?25l  Downloading https://files.pythonhosted.org/packages/ec/be/5ab8abdd8663c0386ec2dd595a5bc0e23330a0549b8a91e32f38c20845b6/lxml-4.4.1-cp36-cp36m-manylinux1_x86_64.whl (5.8MB)\n",
            "\u001b[K     |████████████████████████████████| 5.8MB 45.2MB/s \n",
            "\u001b[?25hCollecting psutil>=5.6.2 (from minerl)\n",
            "\u001b[?25l  Downloading https://files.pythonhosted.org/packages/1c/ca/5b8c1fe032a458c2c4bcbe509d1401dca9dda35c7fc46b36bb81c2834740/psutil-5.6.3.tar.gz (435kB)\n",
            "\u001b[K     |████████████████████████████████| 440kB 46.9MB/s \n",
            "\u001b[?25hCollecting Pyro4>=4.76 (from minerl)\n",
            "\u001b[?25l  Downloading https://files.pythonhosted.org/packages/7f/95/2b4f9828a750545a7932400547a756db863561f01cd003d585b6fc255be8/Pyro4-4.76-py2.py3-none-any.whl (90kB)\n",
            "\u001b[K     |████████████████████████████████| 92kB 32.9MB/s \n",
            "\u001b[?25hCollecting coloredlogs>=10.0 (from minerl)\n",
            "\u001b[?25l  Downloading https://files.pythonhosted.org/packages/08/0f/7877fc42fff0b9d70b6442df62d53b3868d3a6ad1b876bdb54335b30ff23/coloredlogs-10.0-py2.py3-none-any.whl (47kB)\n",
            "\u001b[K     |████████████████████████████████| 51kB 27.1MB/s \n",
            "\u001b[?25hRequirement already satisfied, skipping upgrade: matplotlib==3.0.3 in /usr/local/lib/python3.6/dist-packages (from minerl) (3.0.3)\n",
            "Collecting getch>=1.0 (from minerl)\n",
            "  Downloading https://files.pythonhosted.org/packages/cc/a4/c696c05e0ff9d05b1886cb0210101083db7d330ff964a6d7cd98ad2b2064/getch-1.0.tar.gz\n",
            "Requirement already satisfied, skipping upgrade: scipy in /usr/local/lib/python3.6/dist-packages (from gym>=0.12.1->minerl) (1.3.1)\n",
            "Requirement already satisfied, skipping upgrade: six in /usr/local/lib/python3.6/dist-packages (from gym>=0.12.1->minerl) (1.12.0)\n",
            "Collecting pyglet<=1.3.2,>=1.2.0 (from gym>=0.12.1->minerl)\n",
            "\u001b[?25l  Downloading https://files.pythonhosted.org/packages/1c/fc/dad5eaaab68f0c21e2f906a94ddb98175662cc5a654eee404d59554ce0fa/pyglet-1.3.2-py2.py3-none-any.whl (1.0MB)\n",
            "\u001b[K     |████████████████████████████████| 1.0MB 50.6MB/s \n",
            "\u001b[?25hCollecting cloudpickle~=1.2.0 (from gym>=0.12.1->minerl)\n",
            "  Downloading https://files.pythonhosted.org/packages/c1/49/334e279caa3231255725c8e860fa93e72083567625573421db8875846c14/cloudpickle-1.2.2-py2.py3-none-any.whl\n",
            "Requirement already satisfied, skipping upgrade: urllib3<1.25,>=1.21.1 in /usr/local/lib/python3.6/dist-packages (from requests>=2.20.0->minerl) (1.24.3)\n",
            "Requirement already satisfied, skipping upgrade: chardet<3.1.0,>=3.0.2 in /usr/local/lib/python3.6/dist-packages (from requests>=2.20.0->minerl) (3.0.4)\n",
            "Requirement already satisfied, skipping upgrade: certifi>=2017.4.17 in /usr/local/lib/python3.6/dist-packages (from requests>=2.20.0->minerl) (2019.6.16)\n",
            "Requirement already satisfied, skipping upgrade: idna<2.9,>=2.5 in /usr/local/lib/python3.6/dist-packages (from requests>=2.20.0->minerl) (2.8)\n",
            "Requirement already satisfied, skipping upgrade: jedi>=0.10 in /usr/local/lib/python3.6/dist-packages (from ipython>=7.5.0->minerl) (0.15.1)\n",
            "Collecting prompt-toolkit<2.1.0,>=2.0.0 (from ipython>=7.5.0->minerl)\n",
            "\u001b[?25l  Downloading https://files.pythonhosted.org/packages/f7/a7/9b1dd14ef45345f186ef69d175bdd2491c40ab1dfa4b2b3e4352df719ed7/prompt_toolkit-2.0.9-py3-none-any.whl (337kB)\n",
            "\u001b[K     |████████████████████████████████| 337kB 57.9MB/s \n",
            "\u001b[?25hRequirement already satisfied, skipping upgrade: pygments in /usr/local/lib/python3.6/dist-packages (from ipython>=7.5.0->minerl) (2.1.3)\n",
            "Requirement already satisfied, skipping upgrade: pexpect; sys_platform != \"win32\" in /usr/local/lib/python3.6/dist-packages (from ipython>=7.5.0->minerl) (4.7.0)\n",
            "Requirement already satisfied, skipping upgrade: pickleshare in /usr/local/lib/python3.6/dist-packages (from ipython>=7.5.0->minerl) (0.7.5)\n",
            "Requirement already satisfied, skipping upgrade: traitlets>=4.2 in /usr/local/lib/python3.6/dist-packages (from ipython>=7.5.0->minerl) (4.3.2)\n",
            "Requirement already satisfied, skipping upgrade: decorator in /usr/local/lib/python3.6/dist-packages (from ipython>=7.5.0->minerl) (4.4.0)\n",
            "Requirement already satisfied, skipping upgrade: backcall in /usr/local/lib/python3.6/dist-packages (from ipython>=7.5.0->minerl) (0.1.0)\n",
            "Collecting serpent>=1.27 (from Pyro4>=4.76->minerl)\n",
            "  Downloading https://files.pythonhosted.org/packages/27/8a/873ccbe1d3d0f81d136686e4d0f38619ac1e718cff7d68f80e364dc52a8c/serpent-1.28-py2.py3-none-any.whl\n",
            "Collecting humanfriendly>=4.7 (from coloredlogs>=10.0->minerl)\n",
            "\u001b[?25l  Downloading https://files.pythonhosted.org/packages/90/df/88bff450f333114680698dc4aac7506ff7cab164b794461906de31998665/humanfriendly-4.18-py2.py3-none-any.whl (73kB)\n",
            "\u001b[K     |████████████████████████████████| 81kB 36.0MB/s \n",
            "\u001b[?25hRequirement already satisfied, skipping upgrade: pyparsing!=2.0.4,!=2.1.2,!=2.1.6,>=2.0.1 in /usr/local/lib/python3.6/dist-packages (from matplotlib==3.0.3->minerl) (2.4.2)\n",
            "Requirement already satisfied, skipping upgrade: kiwisolver>=1.0.1 in /usr/local/lib/python3.6/dist-packages (from matplotlib==3.0.3->minerl) (1.1.0)\n",
            "Requirement already satisfied, skipping upgrade: cycler>=0.10 in /usr/local/lib/python3.6/dist-packages (from matplotlib==3.0.3->minerl) (0.10.0)\n",
            "Requirement already satisfied, skipping upgrade: python-dateutil>=2.1 in /usr/local/lib/python3.6/dist-packages (from matplotlib==3.0.3->minerl) (2.5.3)\n",
            "Requirement already satisfied, skipping upgrade: future in /usr/local/lib/python3.6/dist-packages (from pyglet<=1.3.2,>=1.2.0->gym>=0.12.1->minerl) (0.16.0)\n",
            "Requirement already satisfied, skipping upgrade: parso>=0.5.0 in /usr/local/lib/python3.6/dist-packages (from jedi>=0.10->ipython>=7.5.0->minerl) (0.5.1)\n",
            "Requirement already satisfied, skipping upgrade: wcwidth in /usr/local/lib/python3.6/dist-packages (from prompt-toolkit<2.1.0,>=2.0.0->ipython>=7.5.0->minerl) (0.1.7)\n",
            "Requirement already satisfied, skipping upgrade: ptyprocess>=0.5 in /usr/local/lib/python3.6/dist-packages (from pexpect; sys_platform != \"win32\"->ipython>=7.5.0->minerl) (0.6.0)\n",
            "Requirement already satisfied, skipping upgrade: ipython-genutils in /usr/local/lib/python3.6/dist-packages (from traitlets>=4.2->ipython>=7.5.0->minerl) (0.2.0)\n",
            "Building wheels for collected packages: minerl, gym, psutil, getch\n",
            "  Building wheel for minerl (setup.py) ... \u001b[?25l\u001b[?25hdone\n",
            "  Created wheel for minerl: filename=minerl-0.2.4-cp36-none-any.whl size=89006370 sha256=6d904fed8c4de9a4614c5b04ea448cd29fbb3195d3c4d1d9b3be0afb5ae192e4\n",
            "  Stored in directory: /root/.cache/pip/wheels/2f/4f/46/e61cf20221f5cb5ccc6fe6f07c5a640c2bb09fed36b3246a8f\n",
            "  Building wheel for gym (setup.py) ... \u001b[?25l\u001b[?25hdone\n",
            "  Created wheel for gym: filename=gym-0.14.0-cp36-none-any.whl size=1637526 sha256=9b8418d7987940d894e401678282203cc31877a23bf608ecff3892626ab70b8f\n",
            "  Stored in directory: /root/.cache/pip/wheels/7e/53/f6/c0cd3c9bf953f35c0aee7fa62ea209371e92f5e5cced3245ba\n",
            "  Building wheel for psutil (setup.py) ... \u001b[?25l\u001b[?25hdone\n",
            "  Created wheel for psutil: filename=psutil-5.6.3-cp36-cp36m-linux_x86_64.whl size=274706 sha256=8359b008c720b220526454aae0ff6329e1eba9d6ff0158a329e1e6131d3b9b05\n",
            "  Stored in directory: /root/.cache/pip/wheels/90/7e/74/bb640d77775e6b6a78bcc3120f9fea4d2a28b2706de1cff37d\n",
            "  Building wheel for getch (setup.py) ... \u001b[?25l\u001b[?25hdone\n",
            "  Created wheel for getch: filename=getch-1.0-cp36-cp36m-linux_x86_64.whl size=14230 sha256=09236c60098f571d88d46b73017f9f39a30882d462b9c00e130b06ed3108f9fd\n",
            "  Stored in directory: /root/.cache/pip/wheels/82/9d/22/6d295c77d3b78954fe41dd47464e605e8b82802071005169c5\n",
            "Successfully built minerl gym psutil getch\n",
            "\u001b[31mERROR: jupyter-console 5.2.0 has requirement prompt-toolkit<2.0.0,>=1.0.0, but you'll have prompt-toolkit 2.0.9 which is incompatible.\u001b[0m\n",
            "\u001b[31mERROR: google-colab 1.0.0 has requirement ipython~=5.5.0, but you'll have ipython 7.8.0 which is incompatible.\u001b[0m\n",
            "\u001b[31mERROR: albumentations 0.1.12 has requirement imgaug<0.2.7,>=0.2.5, but you'll have imgaug 0.2.9 which is incompatible.\u001b[0m\n",
            "Installing collected packages: pyglet, cloudpickle, gym, opencv-python, tqdm, prompt-toolkit, ipython, lxml, psutil, serpent, Pyro4, humanfriendly, coloredlogs, getch, minerl\n",
            "  Found existing installation: pyglet 1.4.3\n",
            "    Uninstalling pyglet-1.4.3:\n",
            "      Successfully uninstalled pyglet-1.4.3\n",
            "  Found existing installation: cloudpickle 0.6.1\n",
            "    Uninstalling cloudpickle-0.6.1:\n",
            "      Successfully uninstalled cloudpickle-0.6.1\n",
            "  Found existing installation: gym 0.10.11\n",
            "    Uninstalling gym-0.10.11:\n",
            "      Successfully uninstalled gym-0.10.11\n",
            "  Found existing installation: opencv-python 3.4.5.20\n",
            "    Uninstalling opencv-python-3.4.5.20:\n",
            "      Successfully uninstalled opencv-python-3.4.5.20\n",
            "  Found existing installation: tqdm 4.28.1\n",
            "    Uninstalling tqdm-4.28.1:\n",
            "      Successfully uninstalled tqdm-4.28.1\n",
            "  Found existing installation: prompt-toolkit 1.0.16\n",
            "    Uninstalling prompt-toolkit-1.0.16:\n",
            "      Successfully uninstalled prompt-toolkit-1.0.16\n",
            "  Found existing installation: ipython 5.5.0\n",
            "    Uninstalling ipython-5.5.0:\n",
            "      Successfully uninstalled ipython-5.5.0\n",
            "  Found existing installation: lxml 4.2.6\n",
            "    Uninstalling lxml-4.2.6:\n",
            "      Successfully uninstalled lxml-4.2.6\n",
            "  Found existing installation: psutil 5.4.8\n",
            "    Uninstalling psutil-5.4.8:\n",
            "      Successfully uninstalled psutil-5.4.8\n",
            "Successfully installed Pyro4-4.76 cloudpickle-1.2.2 coloredlogs-10.0 getch-1.0 gym-0.14.0 humanfriendly-4.18 ipython-7.8.0 lxml-4.4.1 minerl-0.2.4 opencv-python-4.1.1.26 prompt-toolkit-2.0.9 psutil-5.6.3 pyglet-1.3.2 serpent-1.28 tqdm-4.36.1\n"
          ],
          "name": "stdout"
        },
        {
          "output_type": "display_data",
          "data": {
            "application/vnd.colab-display-data+json": {
              "pip_warning": {
                "packages": [
                  "IPython",
                  "cloudpickle",
                  "prompt_toolkit",
                  "tqdm"
                ]
              }
            }
          },
          "metadata": {
            "tags": []
          }
        }
      ]
    },
    {
      "cell_type": "markdown",
      "metadata": {
        "id": "2NL8r0g1iCVK",
        "colab_type": "text"
      },
      "source": [
        "## install Java"
      ]
    },
    {
      "cell_type": "code",
      "metadata": {
        "id": "ZjfT4Zm-3P-v",
        "colab_type": "code",
        "colab": {}
      },
      "source": [
        "import os       #importing os to set environment variable\n",
        "def install_java():\n",
        "    !sudo add-apt-repository ppa:openjdk-r/ppa\n",
        "    !sudo apt-get update\n",
        "    !sudo apt-get install openjdk-8-jdk\n",
        "    os.environ[\"JAVA_HOME\"] = \"/usr/lib/jvm/java-8-openjdk-amd64\"     #set environment variable\n",
        "    !java -version       #check java version"
      ],
      "execution_count": 0,
      "outputs": []
    },
    {
      "cell_type": "code",
      "metadata": {
        "id": "o1ptQjrbhK96",
        "colab_type": "code",
        "outputId": "af411223-e7ab-4416-c917-011cd1e7c6f0",
        "colab": {
          "base_uri": "https://localhost:8080/",
          "height": 1000
        }
      },
      "source": [
        "install_java()"
      ],
      "execution_count": 2,
      "outputs": [
        {
          "output_type": "stream",
          "text": [
            " \n",
            " More info: https://launchpad.net/~openjdk-r/+archive/ubuntu/ppa\n",
            "Press [ENTER] to continue or Ctrl-c to cancel adding it.\n",
            "\n",
            "Ign:1 https://developer.download.nvidia.com/compute/cuda/repos/ubuntu1804/x86_64  InRelease\n",
            "Ign:2 https://developer.download.nvidia.com/compute/machine-learning/repos/ubuntu1804/x86_64  InRelease\n",
            "Get:3 https://developer.download.nvidia.com/compute/cuda/repos/ubuntu1804/x86_64  Release [564 B]\n",
            "Get:4 https://developer.download.nvidia.com/compute/machine-learning/repos/ubuntu1804/x86_64  Release [564 B]\n",
            "Get:5 https://developer.download.nvidia.com/compute/cuda/repos/ubuntu1804/x86_64  Release.gpg [819 B]\n",
            "Get:6 https://developer.download.nvidia.com/compute/machine-learning/repos/ubuntu1804/x86_64  Release.gpg [833 B]\n",
            "Get:7 https://developer.download.nvidia.com/compute/cuda/repos/ubuntu1804/x86_64  Packages [113 kB]\n",
            "Get:8 http://security.ubuntu.com/ubuntu bionic-security InRelease [88.7 kB]\n",
            "Get:9 http://ppa.launchpad.net/graphics-drivers/ppa/ubuntu bionic InRelease [21.3 kB]\n",
            "Get:10 https://developer.download.nvidia.com/compute/machine-learning/repos/ubuntu1804/x86_64  Packages [19.8 kB]\n",
            "Hit:11 http://archive.ubuntu.com/ubuntu bionic InRelease\n",
            "Get:12 https://cloud.r-project.org/bin/linux/ubuntu bionic-cran35/ InRelease [3,626 B]\n",
            "Get:13 http://archive.ubuntu.com/ubuntu bionic-updates InRelease [88.7 kB]\n",
            "Get:14 http://ppa.launchpad.net/marutter/c2d4u3.5/ubuntu bionic InRelease [15.4 kB]\n",
            "Get:15 https://cloud.r-project.org/bin/linux/ubuntu bionic-cran35/ Packages [70.5 kB]\n",
            "Get:16 http://ppa.launchpad.net/openjdk-r/ppa/ubuntu bionic InRelease [15.4 kB]\n",
            "Get:17 http://security.ubuntu.com/ubuntu bionic-security/universe amd64 Packages [769 kB]\n",
            "Get:18 http://archive.ubuntu.com/ubuntu bionic-backports InRelease [74.6 kB]\n",
            "Get:19 http://ppa.launchpad.net/graphics-drivers/ppa/ubuntu bionic/main amd64 Packages [31.7 kB]\n",
            "Get:20 http://ppa.launchpad.net/marutter/c2d4u3.5/ubuntu bionic/main Sources [1,697 kB]\n",
            "Get:21 http://archive.ubuntu.com/ubuntu bionic-updates/universe amd64 Packages [1,287 kB]\n",
            "Get:22 http://security.ubuntu.com/ubuntu bionic-security/restricted amd64 Packages [9,585 B]\n",
            "Get:23 http://security.ubuntu.com/ubuntu bionic-security/multiverse amd64 Packages [5,230 B]\n",
            "Get:24 http://security.ubuntu.com/ubuntu bionic-security/main amd64 Packages [662 kB]\n",
            "Get:25 http://ppa.launchpad.net/marutter/c2d4u3.5/ubuntu bionic/main amd64 Packages [815 kB]\n",
            "Get:26 http://archive.ubuntu.com/ubuntu bionic-updates/multiverse amd64 Packages [8,284 B]\n",
            "Get:27 http://archive.ubuntu.com/ubuntu bionic-updates/restricted amd64 Packages [20.3 kB]\n",
            "Get:28 http://archive.ubuntu.com/ubuntu bionic-updates/main amd64 Packages [959 kB]\n",
            "Get:29 http://ppa.launchpad.net/openjdk-r/ppa/ubuntu bionic/main amd64 Packages [7,814 B]\n",
            "Get:30 http://archive.ubuntu.com/ubuntu bionic-backports/universe amd64 Packages [4,227 B]\n",
            "Fetched 6,791 kB in 8s (846 kB/s)\n",
            "Reading package lists... Done\n",
            "Ign:1 https://developer.download.nvidia.com/compute/cuda/repos/ubuntu1804/x86_64  InRelease\n",
            "Hit:2 https://cloud.r-project.org/bin/linux/ubuntu bionic-cran35/ InRelease\n",
            "Ign:3 https://developer.download.nvidia.com/compute/machine-learning/repos/ubuntu1804/x86_64  InRelease\n",
            "Hit:4 https://developer.download.nvidia.com/compute/cuda/repos/ubuntu1804/x86_64  Release\n",
            "Hit:5 https://developer.download.nvidia.com/compute/machine-learning/repos/ubuntu1804/x86_64  Release\n",
            "Hit:8 http://ppa.launchpad.net/graphics-drivers/ppa/ubuntu bionic InRelease\n",
            "Hit:9 http://archive.ubuntu.com/ubuntu bionic InRelease\n",
            "Hit:10 http://security.ubuntu.com/ubuntu bionic-security InRelease\n",
            "Hit:11 http://ppa.launchpad.net/marutter/c2d4u3.5/ubuntu bionic InRelease\n",
            "Hit:12 http://archive.ubuntu.com/ubuntu bionic-updates InRelease\n",
            "Hit:13 http://ppa.launchpad.net/openjdk-r/ppa/ubuntu bionic InRelease\n",
            "Hit:14 http://archive.ubuntu.com/ubuntu bionic-backports InRelease\n",
            "Reading package lists... Done\n",
            "Reading package lists... Done\n",
            "Building dependency tree       \n",
            "Reading state information... Done\n",
            "The following additional packages will be installed:\n",
            "  fonts-dejavu-core fonts-dejavu-extra libatk-wrapper-java\n",
            "  libatk-wrapper-java-jni libgail-common libgail18 libgtk2.0-0 libgtk2.0-bin\n",
            "  libgtk2.0-common libxxf86dga1 openjdk-8-jre x11-utils\n",
            "Suggested packages:\n",
            "  gvfs openjdk-8-demo openjdk-8-source visualvm icedtea-8-plugin mesa-utils\n",
            "The following NEW packages will be installed:\n",
            "  fonts-dejavu-core fonts-dejavu-extra libatk-wrapper-java\n",
            "  libatk-wrapper-java-jni libgail-common libgail18 libgtk2.0-0 libgtk2.0-bin\n",
            "  libgtk2.0-common libxxf86dga1 openjdk-8-jdk openjdk-8-jre x11-utils\n",
            "0 upgraded, 13 newly installed, 0 to remove and 112 not upgraded.\n",
            "Need to get 7,119 kB of archives.\n",
            "After this operation, 20.1 MB of additional disk space will be used.\n",
            "Get:1 http://archive.ubuntu.com/ubuntu bionic/main amd64 libxxf86dga1 amd64 2:1.1.4-1 [13.7 kB]\n",
            "Get:2 http://archive.ubuntu.com/ubuntu bionic/main amd64 fonts-dejavu-core all 2.37-1 [1,041 kB]\n",
            "Get:3 http://archive.ubuntu.com/ubuntu bionic/main amd64 fonts-dejavu-extra all 2.37-1 [1,953 kB]\n",
            "Get:4 http://archive.ubuntu.com/ubuntu bionic/main amd64 x11-utils amd64 7.7+3build1 [196 kB]\n",
            "Get:5 http://archive.ubuntu.com/ubuntu bionic/main amd64 libatk-wrapper-java all 0.33.3-20ubuntu0.1 [34.7 kB]\n",
            "Get:6 http://archive.ubuntu.com/ubuntu bionic/main amd64 libatk-wrapper-java-jni amd64 0.33.3-20ubuntu0.1 [28.3 kB]\n",
            "Get:7 http://archive.ubuntu.com/ubuntu bionic/main amd64 libgtk2.0-common all 2.24.32-1ubuntu1 [125 kB]\n",
            "Get:8 http://archive.ubuntu.com/ubuntu bionic/main amd64 libgtk2.0-0 amd64 2.24.32-1ubuntu1 [1,769 kB]\n",
            "Get:9 http://archive.ubuntu.com/ubuntu bionic/main amd64 libgail18 amd64 2.24.32-1ubuntu1 [14.2 kB]\n",
            "Get:10 http://archive.ubuntu.com/ubuntu bionic/main amd64 libgail-common amd64 2.24.32-1ubuntu1 [112 kB]\n",
            "Get:11 http://archive.ubuntu.com/ubuntu bionic/main amd64 libgtk2.0-bin amd64 2.24.32-1ubuntu1 [7,536 B]\n",
            "Get:12 http://archive.ubuntu.com/ubuntu bionic-updates/universe amd64 openjdk-8-jre amd64 8u222-b10-1ubuntu1~18.04.1 [69.3 kB]\n",
            "Get:13 http://archive.ubuntu.com/ubuntu bionic-updates/universe amd64 openjdk-8-jdk amd64 8u222-b10-1ubuntu1~18.04.1 [1,756 kB]\n",
            "Fetched 7,119 kB in 16s (455 kB/s)\n",
            "debconf: unable to initialize frontend: Dialog\n",
            "debconf: (No usable dialog-like program is installed, so the dialog based frontend cannot be used. at /usr/share/perl5/Debconf/FrontEnd/Dialog.pm line 76, <> line 13.)\n",
            "debconf: falling back to frontend: Readline\n",
            "debconf: unable to initialize frontend: Readline\n",
            "debconf: (This frontend requires a controlling tty.)\n",
            "debconf: falling back to frontend: Teletype\n",
            "dpkg-preconfigure: unable to re-open stdin: \n",
            "Selecting previously unselected package libxxf86dga1:amd64.\n",
            "(Reading database ... 131183 files and directories currently installed.)\n",
            "Preparing to unpack .../00-libxxf86dga1_2%3a1.1.4-1_amd64.deb ...\n",
            "Unpacking libxxf86dga1:amd64 (2:1.1.4-1) ...\n",
            "Selecting previously unselected package fonts-dejavu-core.\n",
            "Preparing to unpack .../01-fonts-dejavu-core_2.37-1_all.deb ...\n",
            "Unpacking fonts-dejavu-core (2.37-1) ...\n",
            "Selecting previously unselected package fonts-dejavu-extra.\n",
            "Preparing to unpack .../02-fonts-dejavu-extra_2.37-1_all.deb ...\n",
            "Unpacking fonts-dejavu-extra (2.37-1) ...\n",
            "Selecting previously unselected package x11-utils.\n",
            "Preparing to unpack .../03-x11-utils_7.7+3build1_amd64.deb ...\n",
            "Unpacking x11-utils (7.7+3build1) ...\n",
            "Selecting previously unselected package libatk-wrapper-java.\n",
            "Preparing to unpack .../04-libatk-wrapper-java_0.33.3-20ubuntu0.1_all.deb ...\n",
            "Unpacking libatk-wrapper-java (0.33.3-20ubuntu0.1) ...\n",
            "Selecting previously unselected package libatk-wrapper-java-jni:amd64.\n",
            "Preparing to unpack .../05-libatk-wrapper-java-jni_0.33.3-20ubuntu0.1_amd64.deb ...\n",
            "Unpacking libatk-wrapper-java-jni:amd64 (0.33.3-20ubuntu0.1) ...\n",
            "Selecting previously unselected package libgtk2.0-common.\n",
            "Preparing to unpack .../06-libgtk2.0-common_2.24.32-1ubuntu1_all.deb ...\n",
            "Unpacking libgtk2.0-common (2.24.32-1ubuntu1) ...\n",
            "Selecting previously unselected package libgtk2.0-0:amd64.\n",
            "Preparing to unpack .../07-libgtk2.0-0_2.24.32-1ubuntu1_amd64.deb ...\n",
            "Unpacking libgtk2.0-0:amd64 (2.24.32-1ubuntu1) ...\n",
            "Selecting previously unselected package libgail18:amd64.\n",
            "Preparing to unpack .../08-libgail18_2.24.32-1ubuntu1_amd64.deb ...\n",
            "Unpacking libgail18:amd64 (2.24.32-1ubuntu1) ...\n",
            "Selecting previously unselected package libgail-common:amd64.\n",
            "Preparing to unpack .../09-libgail-common_2.24.32-1ubuntu1_amd64.deb ...\n",
            "Unpacking libgail-common:amd64 (2.24.32-1ubuntu1) ...\n",
            "Selecting previously unselected package libgtk2.0-bin.\n",
            "Preparing to unpack .../10-libgtk2.0-bin_2.24.32-1ubuntu1_amd64.deb ...\n",
            "Unpacking libgtk2.0-bin (2.24.32-1ubuntu1) ...\n",
            "Selecting previously unselected package openjdk-8-jre:amd64.\n",
            "Preparing to unpack .../11-openjdk-8-jre_8u222-b10-1ubuntu1~18.04.1_amd64.deb ...\n",
            "Unpacking openjdk-8-jre:amd64 (8u222-b10-1ubuntu1~18.04.1) ...\n",
            "Selecting previously unselected package openjdk-8-jdk:amd64.\n",
            "Preparing to unpack .../12-openjdk-8-jdk_8u222-b10-1ubuntu1~18.04.1_amd64.deb ...\n",
            "Unpacking openjdk-8-jdk:amd64 (8u222-b10-1ubuntu1~18.04.1) ...\n",
            "Setting up libgtk2.0-common (2.24.32-1ubuntu1) ...\n",
            "Processing triggers for mime-support (3.60ubuntu1) ...\n",
            "Setting up fonts-dejavu-core (2.37-1) ...\n",
            "Setting up libxxf86dga1:amd64 (2:1.1.4-1) ...\n",
            "Processing triggers for libc-bin (2.27-3ubuntu1) ...\n",
            "Processing triggers for man-db (2.8.3-2ubuntu0.1) ...\n",
            "Setting up fonts-dejavu-extra (2.37-1) ...\n",
            "Processing triggers for hicolor-icon-theme (0.17-2) ...\n",
            "Processing triggers for fontconfig (2.12.6-0ubuntu2) ...\n",
            "Setting up libgtk2.0-0:amd64 (2.24.32-1ubuntu1) ...\n",
            "Setting up libgail18:amd64 (2.24.32-1ubuntu1) ...\n",
            "Setting up x11-utils (7.7+3build1) ...\n",
            "Setting up libgail-common:amd64 (2.24.32-1ubuntu1) ...\n",
            "Setting up libatk-wrapper-java (0.33.3-20ubuntu0.1) ...\n",
            "Setting up libgtk2.0-bin (2.24.32-1ubuntu1) ...\n",
            "Setting up libatk-wrapper-java-jni:amd64 (0.33.3-20ubuntu0.1) ...\n",
            "Setting up openjdk-8-jre:amd64 (8u222-b10-1ubuntu1~18.04.1) ...\n",
            "update-alternatives: using /usr/lib/jvm/java-8-openjdk-amd64/jre/bin/policytool to provide /usr/bin/policytool (policytool) in auto mode\n",
            "Setting up openjdk-8-jdk:amd64 (8u222-b10-1ubuntu1~18.04.1) ...\n",
            "update-alternatives: using /usr/lib/jvm/java-8-openjdk-amd64/bin/appletviewer to provide /usr/bin/appletviewer (appletviewer) in auto mode\n",
            "update-alternatives: using /usr/lib/jvm/java-8-openjdk-amd64/bin/jconsole to provide /usr/bin/jconsole (jconsole) in auto mode\n",
            "Processing triggers for libc-bin (2.27-3ubuntu1) ...\n",
            "openjdk version \"11.0.4\" 2019-07-16\n",
            "OpenJDK Runtime Environment (build 11.0.4+11-post-Ubuntu-1ubuntu218.04.3)\n",
            "OpenJDK 64-Bit Server VM (build 11.0.4+11-post-Ubuntu-1ubuntu218.04.3, mixed mode)\n"
          ],
          "name": "stdout"
        }
      ]
    },
    {
      "cell_type": "code",
      "metadata": {
        "id": "0lyHL4T5dsdC",
        "colab_type": "code",
        "outputId": "15d840fc-da2a-449c-e223-3c8f4fce5a26",
        "colab": {
          "base_uri": "https://localhost:8080/",
          "height": 867
        }
      },
      "source": [
        "# NoVNC\n",
        "! wget https://raw.githubusercontent.com/blacktanktop/minerl_colab/master/install_novnc.sh    \n",
        "! bash install_novnc.sh\n",
        "\n",
        "import os\n",
        "os.environ['PATH'] += \"/opt/TurboVNC/bin\"\n",
        "! mkdir -p /content/.vnc\n",
        "\n",
        "# Ngrok\n",
        "! wget https://bin.equinox.io/c/4VmDzA7iaHb/ngrok-stable-linux-amd64.zip\n",
        "! unzip -d /opt ngrok-stable-linux-amd64.zip \n",
        "! rm ngrok-stable-linux-amd64.zip \n",
        "! echo \"web_addr: 4045\" > /content/config.yml"
      ],
      "execution_count": 3,
      "outputs": [
        {
          "output_type": "stream",
          "text": [
            "--2019-09-22 01:55:43--  https://raw.githubusercontent.com/blacktanktop/minerl_colab/master/install_novnc.sh\n",
            "Resolving raw.githubusercontent.com (raw.githubusercontent.com)... 151.101.0.133, 151.101.64.133, 151.101.128.133, ...\n",
            "Connecting to raw.githubusercontent.com (raw.githubusercontent.com)|151.101.0.133|:443... connected.\n",
            "HTTP request sent, awaiting response... 200 OK\n",
            "Length: 1685 (1.6K) [text/plain]\n",
            "Saving to: ‘install_novnc.sh’\n",
            "\n",
            "\rinstall_novnc.sh      0%[                    ]       0  --.-KB/s               \rinstall_novnc.sh    100%[===================>]   1.65K  --.-KB/s    in 0s      \n",
            "\n",
            "2019-09-22 01:55:43 (473 MB/s) - ‘install_novnc.sh’ saved [1685/1685]\n",
            "\n",
            "Selecting previously unselected package libjpeg-turbo-official.\n",
            "(Reading database ... 131416 files and directories currently installed.)\n",
            "Preparing to unpack libjpeg-turbo-official_1.5.2_amd64.deb ...\n",
            "Unpacking libjpeg-turbo-official (1.5.2-20170707) ...\n",
            "Selecting previously unselected package turbovnc.\n",
            "Preparing to unpack turbovnc_2.1.2_amd64.deb ...\n",
            "Unpacking turbovnc (2.1.2-20170925) ...\n",
            "Setting up libjpeg-turbo-official (1.5.2-20170707) ...\n",
            "Setting up turbovnc (2.1.2-20170925) ...\n",
            "Processing triggers for systemd (237-3ubuntu10.25) ...\n",
            "Processing triggers for mime-support (3.60ubuntu1) ...\n",
            "cc -fPIC   -c -o rebind.o rebind.c\n",
            "cc  rebind.o -shared -fPIC -ldl -o rebind.so\n",
            "Ign:1 https://developer.download.nvidia.com/compute/cuda/repos/ubuntu1804/x86_64  InRelease\n",
            "Hit:2 https://cloud.r-project.org/bin/linux/ubuntu bionic-cran35/ InRelease\n",
            "Ign:3 https://developer.download.nvidia.com/compute/machine-learning/repos/ubuntu1804/x86_64  InRelease\n",
            "Hit:4 https://developer.download.nvidia.com/compute/cuda/repos/ubuntu1804/x86_64  Release\n",
            "Hit:5 https://developer.download.nvidia.com/compute/machine-learning/repos/ubuntu1804/x86_64  Release\n",
            "Hit:6 http://ppa.launchpad.net/graphics-drivers/ppa/ubuntu bionic InRelease\n",
            "Hit:7 http://security.ubuntu.com/ubuntu bionic-security InRelease\n",
            "Hit:10 http://archive.ubuntu.com/ubuntu bionic InRelease\n",
            "Hit:11 http://ppa.launchpad.net/marutter/c2d4u3.5/ubuntu bionic InRelease\n",
            "Hit:12 http://archive.ubuntu.com/ubuntu bionic-updates InRelease\n",
            "Hit:13 http://ppa.launchpad.net/openjdk-r/ppa/ubuntu bionic InRelease\n",
            "Hit:14 http://archive.ubuntu.com/ubuntu bionic-backports InRelease\n",
            "Reading package lists... Done\n",
            "--2019-09-22 01:56:42--  https://bin.equinox.io/c/4VmDzA7iaHb/ngrok-stable-linux-amd64.zip\n",
            "Resolving bin.equinox.io (bin.equinox.io)... 34.202.125.55, 50.17.165.171, 52.86.84.98, ...\n",
            "Connecting to bin.equinox.io (bin.equinox.io)|34.202.125.55|:443... connected.\n",
            "HTTP request sent, awaiting response... 200 OK\n",
            "Length: 13607069 (13M) [application/octet-stream]\n",
            "Saving to: ‘ngrok-stable-linux-amd64.zip’\n",
            "\n",
            "ngrok-stable-linux- 100%[===================>]  12.98M  7.54MB/s    in 1.7s    \n",
            "\n",
            "2019-09-22 01:56:45 (7.54 MB/s) - ‘ngrok-stable-linux-amd64.zip’ saved [13607069/13607069]\n",
            "\n",
            "Archive:  ngrok-stable-linux-amd64.zip\n",
            "  inflating: /opt/ngrok              \n"
          ],
          "name": "stdout"
        }
      ]
    },
    {
      "cell_type": "code",
      "metadata": {
        "id": "Qiw0Rgq7bHXw",
        "colab_type": "code",
        "outputId": "41c048a6-f030-41a8-89ab-0a9cea734fa5",
        "colab": {
          "base_uri": "https://localhost:8080/",
          "height": 34
        }
      },
      "source": [
        "!kill $(ps ax | grep websockify | grep -v grep | awk '{ print $1 }') >/dev/null\n",
        "!pkill ngrok\n",
        "!pkill vncserver\n",
        "!pkill Xvnc\n",
        "!pkill Xvfb\n",
        "!pkill x11vnc"
      ],
      "execution_count": 4,
      "outputs": [
        {
          "output_type": "stream",
          "text": [
            "kill: usage: kill [-s sigspec | -n signum | -sigspec] pid | jobspec ... or kill -l [sigspec]\n"
          ],
          "name": "stdout"
        }
      ]
    },
    {
      "cell_type": "code",
      "metadata": {
        "id": "kC099a7ddD9a",
        "colab_type": "code",
        "colab": {}
      },
      "source": [
        "!timeout 5 /opt/websockify/run 5901 --web=/opt/noVNC --wrap-mode=ignore -- /opt/TurboVNC/bin/vncserver :1 -securitytypes otp -otp -noxstartup 2>/dev/null\n",
        "get_ipython().system_raw('python /opt/websockify/run 5901 --web=/opt/noVNC --wrap-mode=ignore -- /opt/TurboVNC/bin/vncserver :1 -securitytypes otp -otp -noxstartup > /content/.vnc/stdout 2>&1 &')\n",
        "get_ipython().system_raw('/opt/ngrok http -config=/content/config.yml 5901 &')\n",
        "!sleep 1\n",
        "get_ipython().system_raw('DISPLAY=:1 openbox &')"
      ],
      "execution_count": 0,
      "outputs": []
    },
    {
      "cell_type": "code",
      "metadata": {
        "id": "J06nBulJdKFP",
        "colab_type": "code",
        "outputId": "7cfe97df-ca24-4498-b07e-4e175cf5399f",
        "colab": {
          "base_uri": "https://localhost:8080/",
          "height": 51
        }
      },
      "source": [
        "!grep \"one-time password:\" /content/.vnc/stdout\n",
        "\n",
        "import requests\n",
        "import json\n",
        "r = requests.get(\"http://localhost:4045/api/tunnels\", headers={\"content-type\": \"application/json\"})\n",
        "print(r.json()['tunnels'][0]['public_url'])"
      ],
      "execution_count": 6,
      "outputs": [
        {
          "output_type": "stream",
          "text": [
            "Full control one-time password: 28682727\n",
            "https://51ca97b1.ngrok.io\n"
          ],
          "name": "stdout"
        }
      ]
    },
    {
      "cell_type": "code",
      "metadata": {
        "id": "iTSVzBlzddQg",
        "colab_type": "code",
        "colab": {}
      },
      "source": [
        "get_ipython().system_raw('/usr/bin/Xvfb :99 -screen 0 768x1024x24 &')\n",
        "!sleep 1\n",
        "get_ipython().system_raw('/usr/bin/x11vnc -rfbport 5902 -forever -display :99 &')\n",
        "!sleep 1\n",
        "get_ipython().system_raw('DISPLAY=:1 /usr/bin/vncviewer localhost:5902 &')\n",
        "!sleep 1\n",
        "get_ipython().system_raw('DISPLAY=:99 xterm &')"
      ],
      "execution_count": 0,
      "outputs": []
    },
    {
      "cell_type": "markdown",
      "metadata": {
        "id": "ZQyli1STijsS",
        "colab_type": "text"
      },
      "source": [
        "# Sample MineRL code No-op actions"
      ]
    },
    {
      "cell_type": "code",
      "metadata": {
        "id": "zHybFrgZiMW_",
        "colab_type": "code",
        "outputId": "4b807434-a7b1-48b8-b61e-51495a7257c3",
        "colab": {
          "base_uri": "https://localhost:8080/",
          "height": 1000
        }
      },
      "source": [
        "%env DISPLAY=:99\n",
        "\n",
        "import minerl\n",
        "import gym\n",
        "import logging\n",
        "logging.basicConfig(level=logging.DEBUG)\n",
        "env = gym.make('MineRLNavigateDense-v0')\n",
        "\n",
        "\n",
        "obs  = env.reset()\n",
        "done = False\n",
        "net_reward = 0\n",
        "while not done:\n",
        "    action = env.action_space.noop()\n",
        "\n",
        "    action['camera'] = [0, 0.03*obs[\"compassAngle\"]]\n",
        "    action['back'] = 0\n",
        "    action['forward'] = 1\n",
        "    action['jump'] = 1\n",
        "    action['attack'] = 1\n",
        "\n",
        "    obs, reward, done, info = env.step(\n",
        "        action)\n",
        "\n",
        "    net_reward += reward\n",
        "    print(\"Total reward: \", net_reward)"
      ],
      "execution_count": 8,
      "outputs": [
        {
          "output_type": "stream",
          "text": [
            "env: DISPLAY=:99\n"
          ],
          "name": "stdout"
        },
        {
          "output_type": "stream",
          "text": [
            "INFO:minerl.env.malmo.instance.2e9d75:Starting Minecraft process: ['/tmp/tmph8c_xtq2/Minecraft/launchClient.sh', '-port', '9001', '-env', '-runDir', '/tmp/tmph8c_xtq2/Minecraft/run']\n",
            "INFO:minerl.env.malmo.instance.2e9d75:Starting process watcher for process 3721 @ localhost:9001\n",
            "DEBUG:minerl.env.malmo.instance.2e9d75:Downloading https://services.gradle.org/distributions/gradle-2.14-bin.zip\n",
            "DEBUG:minerl.env.malmo.instance.2e9d75:...........................................................................................................................................................................................................................................................................................................................................................................................................................................................................................................................................................................................................................................................................................................................................................................................................................................................................................................................................................................................................................................................................................................................................................................................................................................................................................................................................................................................................................................................................................................................................................................................................................................................................................................................................................................................................................................................................................................................................................................................................................................................................................................................................................................................................................................................................................................................................\n",
            "DEBUG:minerl.env.malmo.instance.2e9d75:Unzipping /root/.gradle/wrapper/dists/gradle-2.14-bin/76oc0mnc3ieqtsukq90mp0rxk/gradle-2.14-bin.zip to /root/.gradle/wrapper/dists/gradle-2.14-bin/76oc0mnc3ieqtsukq90mp0rxk\n",
            "DEBUG:minerl.env.malmo.instance.2e9d75:Set executable permissions for: /root/.gradle/wrapper/dists/gradle-2.14-bin/76oc0mnc3ieqtsukq90mp0rxk/gradle-2.14/bin/gradle\n",
            "DEBUG:minerl.env.malmo.instance.2e9d75:Download https://jcenter.bintray.com/org/ow2/asm/asm/6.0/asm-6.0.pom\n",
            "DEBUG:minerl.env.malmo.instance.2e9d75:Download https://jcenter.bintray.com/org/ow2/asm/asm-parent/6.0/asm-parent-6.0.pom\n",
            "DEBUG:minerl.env.malmo.instance.2e9d75:Download https://jcenter.bintray.com/org/ow2/ow2/1.3/ow2-1.3.pom\n",
            "DEBUG:minerl.env.malmo.instance.2e9d75:Download https://jitpack.io/com/github/SpongePowered/MixinGradle/dcfaf61/MixinGradle-dcfaf61.pom\n",
            "DEBUG:minerl.env.malmo.instance.2e9d75:Download http://files.minecraftforge.net/maven/net/minecraftforge/gradle/ForgeGradle/2.2-SNAPSHOT/ForgeGradle-2.2-20190215.210016-42.pom\n",
            "DEBUG:minerl.env.malmo.instance.2e9d75:Download https://jcenter.bintray.com/com/google/guava/guava/17.0/guava-17.0.pom\n",
            "DEBUG:minerl.env.malmo.instance.2e9d75:Download https://jcenter.bintray.com/com/google/guava/guava-parent/17.0/guava-parent-17.0.pom\n",
            "DEBUG:minerl.env.malmo.instance.2e9d75:Download https://jcenter.bintray.com/org/sonatype/oss/oss-parent/7/oss-parent-7.pom\n",
            "DEBUG:minerl.env.malmo.instance.2e9d75:Download https://jcenter.bintray.com/org/ow2/asm/asm-debug-all/5.1/asm-debug-all-5.1.pom\n",
            "DEBUG:minerl.env.malmo.instance.2e9d75:Download https://jcenter.bintray.com/org/ow2/asm/asm-parent/5.1/asm-parent-5.1.pom\n",
            "DEBUG:minerl.env.malmo.instance.2e9d75:Download https://jcenter.bintray.com/net/sf/opencsv/opencsv/2.3/opencsv-2.3.pom\n",
            "DEBUG:minerl.env.malmo.instance.2e9d75:Download https://jcenter.bintray.com/com/cloudbees/diff4j/1.1/diff4j-1.1.pom\n",
            "DEBUG:minerl.env.malmo.instance.2e9d75:Download https://jcenter.bintray.com/com/cloudbees/cloudbees-oss-parent/1/cloudbees-oss-parent-1.pom\n",
            "DEBUG:minerl.env.malmo.instance.2e9d75:Download https://jcenter.bintray.com/com/github/abrarsyed/jastyle/jAstyle/1.3/jAstyle-1.3.pom\n",
            "DEBUG:minerl.env.malmo.instance.2e9d75:Download https://jcenter.bintray.com/net/sf/trove4j/trove4j/2.1.0/trove4j-2.1.0.pom\n",
            "DEBUG:minerl.env.malmo.instance.2e9d75:Download https://jcenter.bintray.com/com/github/jponge/lzma-java/1.3/lzma-java-1.3.pom\n",
            "DEBUG:minerl.env.malmo.instance.2e9d75:Download https://jcenter.bintray.com/com/nothome/javaxdelta/2.0.1/javaxdelta-2.0.1.pom\n",
            "DEBUG:minerl.env.malmo.instance.2e9d75:Download https://jcenter.bintray.com/com/google/code/gson/gson/2.2.4/gson-2.2.4.pom\n",
            "DEBUG:minerl.env.malmo.instance.2e9d75:Download https://jcenter.bintray.com/com/github/tony19/named-regexp/0.2.3/named-regexp-0.2.3.pom\n",
            "DEBUG:minerl.env.malmo.instance.2e9d75:Download http://files.minecraftforge.net/maven/net/minecraftforge/fernflower/2.0-SNAPSHOT/fernflower-2.0-20151214.100946-17.pom\n",
            "DEBUG:minerl.env.malmo.instance.2e9d75:Download https://jcenter.bintray.com/org/apache/httpcomponents/httpclient/4.3.3/httpclient-4.3.3.pom\n",
            "DEBUG:minerl.env.malmo.instance.2e9d75:Download https://jcenter.bintray.com/org/apache/httpcomponents/httpcomponents-client/4.3.3/httpcomponents-client-4.3.3.pom\n",
            "DEBUG:minerl.env.malmo.instance.2e9d75:Download https://jcenter.bintray.com/org/apache/httpcomponents/project/7/project-7.pom\n",
            "DEBUG:minerl.env.malmo.instance.2e9d75:Download https://jcenter.bintray.com/org/apache/apache/13/apache-13.pom\n",
            "DEBUG:minerl.env.malmo.instance.2e9d75:Download https://jcenter.bintray.com/org/apache/httpcomponents/httpmime/4.3.3/httpmime-4.3.3.pom\n",
            "DEBUG:minerl.env.malmo.instance.2e9d75:Download https://jcenter.bintray.com/org/jvnet/localizer/localizer/1.12/localizer-1.12.pom\n",
            "DEBUG:minerl.env.malmo.instance.2e9d75:Download https://jcenter.bintray.com/org/jvnet/localizer/localizer-parent/1.12/localizer-parent-1.12.pom\n",
            "DEBUG:minerl.env.malmo.instance.2e9d75:Download https://jcenter.bintray.com/commons-io/commons-io/1.4/commons-io-1.4.pom\n",
            "DEBUG:minerl.env.malmo.instance.2e9d75:Download https://jcenter.bintray.com/org/apache/commons/commons-parent/7/commons-parent-7.pom\n",
            "DEBUG:minerl.env.malmo.instance.2e9d75:Download https://jcenter.bintray.com/org/apache/apache/4/apache-4.pom\n",
            "DEBUG:minerl.env.malmo.instance.2e9d75:Download https://jcenter.bintray.com/trove/trove/1.0.2/trove-1.0.2.pom\n",
            "DEBUG:minerl.env.malmo.instance.2e9d75:Download https://jcenter.bintray.com/org/apache/httpcomponents/httpcore/4.3.2/httpcore-4.3.2.pom\n",
            "DEBUG:minerl.env.malmo.instance.2e9d75:Download https://jcenter.bintray.com/org/apache/httpcomponents/httpcomponents-core/4.3.2/httpcomponents-core-4.3.2.pom\n",
            "DEBUG:minerl.env.malmo.instance.2e9d75:Download https://jcenter.bintray.com/commons-logging/commons-logging/1.1.3/commons-logging-1.1.3.pom\n",
            "DEBUG:minerl.env.malmo.instance.2e9d75:Download https://jcenter.bintray.com/org/apache/commons/commons-parent/28/commons-parent-28.pom\n",
            "DEBUG:minerl.env.malmo.instance.2e9d75:Download https://jcenter.bintray.com/commons-codec/commons-codec/1.6/commons-codec-1.6.pom\n",
            "DEBUG:minerl.env.malmo.instance.2e9d75:Download https://jcenter.bintray.com/org/apache/commons/commons-parent/22/commons-parent-22.pom\n",
            "DEBUG:minerl.env.malmo.instance.2e9d75:Download https://jcenter.bintray.com/org/apache/apache/9/apache-9.pom\n",
            "DEBUG:minerl.env.malmo.instance.2e9d75:Download https://jcenter.bintray.com/com/google/guava/guava/18.0/guava-18.0.pom\n",
            "DEBUG:minerl.env.malmo.instance.2e9d75:Download https://jcenter.bintray.com/com/google/guava/guava-parent/18.0/guava-parent-18.0.pom\n",
            "DEBUG:minerl.env.malmo.instance.2e9d75:Download https://jcenter.bintray.com/org/ow2/asm/asm/6.0/asm-6.0.jar\n",
            "DEBUG:minerl.env.malmo.instance.2e9d75:Download https://jitpack.io/com/github/SpongePowered/MixinGradle/dcfaf61/MixinGradle-dcfaf61.jar\n",
            "DEBUG:minerl.env.malmo.instance.2e9d75:Download http://files.minecraftforge.net/maven/net/minecraftforge/gradle/ForgeGradle/2.2-SNAPSHOT/ForgeGradle-2.2-20190215.210016-42.jar\n",
            "DEBUG:minerl.env.malmo.instance.2e9d75:Download https://jcenter.bintray.com/org/ow2/asm/asm-debug-all/5.1/asm-debug-all-5.1.jar\n",
            "DEBUG:minerl.env.malmo.instance.2e9d75:Download https://jcenter.bintray.com/net/sf/opencsv/opencsv/2.3/opencsv-2.3.jar\n",
            "DEBUG:minerl.env.malmo.instance.2e9d75:Download https://jcenter.bintray.com/com/cloudbees/diff4j/1.1/diff4j-1.1.jar\n",
            "DEBUG:minerl.env.malmo.instance.2e9d75:Download https://jcenter.bintray.com/com/github/abrarsyed/jastyle/jAstyle/1.3/jAstyle-1.3.jar\n",
            "DEBUG:minerl.env.malmo.instance.2e9d75:Download https://jcenter.bintray.com/net/sf/trove4j/trove4j/2.1.0/trove4j-2.1.0.jar\n",
            "DEBUG:minerl.env.malmo.instance.2e9d75:Download https://jcenter.bintray.com/com/github/jponge/lzma-java/1.3/lzma-java-1.3.jar\n",
            "DEBUG:minerl.env.malmo.instance.2e9d75:Download https://jcenter.bintray.com/com/nothome/javaxdelta/2.0.1/javaxdelta-2.0.1.jar\n",
            "DEBUG:minerl.env.malmo.instance.2e9d75:Download https://jcenter.bintray.com/com/google/code/gson/gson/2.2.4/gson-2.2.4.jar\n",
            "DEBUG:minerl.env.malmo.instance.2e9d75:Download https://jcenter.bintray.com/com/github/tony19/named-regexp/0.2.3/named-regexp-0.2.3.jar\n",
            "DEBUG:minerl.env.malmo.instance.2e9d75:Download http://files.minecraftforge.net/maven/net/minecraftforge/fernflower/2.0-SNAPSHOT/fernflower-2.0-20151214.100946-17.jar\n",
            "DEBUG:minerl.env.malmo.instance.2e9d75:Download https://jcenter.bintray.com/org/apache/httpcomponents/httpclient/4.3.3/httpclient-4.3.3.jar\n",
            "DEBUG:minerl.env.malmo.instance.2e9d75:Download https://jcenter.bintray.com/org/apache/httpcomponents/httpmime/4.3.3/httpmime-4.3.3.jar\n",
            "DEBUG:minerl.env.malmo.instance.2e9d75:Download https://jcenter.bintray.com/org/jvnet/localizer/localizer/1.12/localizer-1.12.jar\n",
            "DEBUG:minerl.env.malmo.instance.2e9d75:Download https://jcenter.bintray.com/commons-io/commons-io/1.4/commons-io-1.4.jar\n",
            "DEBUG:minerl.env.malmo.instance.2e9d75:Download https://jcenter.bintray.com/trove/trove/1.0.2/trove-1.0.2.jar\n",
            "DEBUG:minerl.env.malmo.instance.2e9d75:Download https://jcenter.bintray.com/org/apache/httpcomponents/httpcore/4.3.2/httpcore-4.3.2.jar\n",
            "DEBUG:minerl.env.malmo.instance.2e9d75:Download https://jcenter.bintray.com/commons-logging/commons-logging/1.1.3/commons-logging-1.1.3.jar\n",
            "DEBUG:minerl.env.malmo.instance.2e9d75:Download https://jcenter.bintray.com/commons-codec/commons-codec/1.6/commons-codec-1.6.jar\n",
            "DEBUG:minerl.env.malmo.instance.2e9d75:Download https://jcenter.bintray.com/com/google/guava/guava/18.0/guava-18.0.jar\n",
            "DEBUG:minerl.env.malmo.instance.2e9d75:This mapping 'snapshot_20161220' was designed for MC 1.11! Use at your own peril.\n",
            "DEBUG:minerl.env.malmo.instance.2e9d75:#################################################\n",
            "DEBUG:minerl.env.malmo.instance.2e9d75:         ForgeGradle 2.2-SNAPSHOT-3966cea        \n",
            "DEBUG:minerl.env.malmo.instance.2e9d75:  https://github.com/MinecraftForge/ForgeGradle  \n",
            "DEBUG:minerl.env.malmo.instance.2e9d75:#################################################\n",
            "DEBUG:minerl.env.malmo.instance.2e9d75:               Powered by MCP unknown               \n",
            "DEBUG:minerl.env.malmo.instance.2e9d75:             http://modcoderpack.com             \n",
            "DEBUG:minerl.env.malmo.instance.2e9d75:         by: Searge, ProfMobius, Fesh0r,         \n",
            "DEBUG:minerl.env.malmo.instance.2e9d75:         R4wk, ZeuX, IngisKahn, bspkrs           \n",
            "DEBUG:minerl.env.malmo.instance.2e9d75:#################################################\n",
            "DEBUG:minerl.env.malmo.instance.2e9d75:Found AccessTransformer: malmomod_at.cfg\n",
            "DEBUG:minerl.env.malmo.instance.2e9d75::deobfCompileDummyTask\n",
            "DEBUG:minerl.env.malmo.instance.2e9d75::deobfProvidedDummyTask\n",
            "DEBUG:minerl.env.malmo.instance.2e9d75::getVersionJson\n",
            "DEBUG:minerl.env.malmo.instance.2e9d75::extractUserdev\n",
            "DEBUG:minerl.env.malmo.instance.2e9d75:Download https://files.minecraftforge.net/maven/net/minecraftforge/forge/1.11.2-13.20.0.2228/forge-1.11.2-13.20.0.2228.pom\n",
            "DEBUG:minerl.env.malmo.instance.2e9d75:Download https://files.minecraftforge.net/maven/net/minecraftforge/forge/1.11.2-13.20.0.2228/forge-1.11.2-13.20.0.2228-userdev.jar\n",
            "DEBUG:minerl.env.malmo.instance.2e9d75::downloadClient\n",
            "DEBUG:minerl.env.malmo.instance.2e9d75::downloadServer\n",
            "DEBUG:minerl.env.malmo.instance.2e9d75::splitServerJar\n",
            "DEBUG:minerl.env.malmo.instance.2e9d75::mergeJars\n",
            "DEBUG:minerl.env.malmo.instance.2e9d75::applyBinaryPatches SKIPPED\n",
            "DEBUG:minerl.env.malmo.instance.2e9d75::extractDependencyATs SKIPPED\n",
            "DEBUG:minerl.env.malmo.instance.2e9d75::extractMcpData\n",
            "DEBUG:minerl.env.malmo.instance.2e9d75:Download https://files.minecraftforge.net/maven/de/oceanlabs/mcp/mcp/1.11.2/mcp-1.11.2-srg.zip\n",
            "DEBUG:minerl.env.malmo.instance.2e9d75::extractMcpMappings\n",
            "DEBUG:minerl.env.malmo.instance.2e9d75:Download https://files.minecraftforge.net/maven/de/oceanlabs/mcp/mcp_snapshot/20161220-1.11/mcp_snapshot-20161220-1.11.zip\n",
            "DEBUG:minerl.env.malmo.instance.2e9d75::genSrgs\n",
            "DEBUG:minerl.env.malmo.instance.2e9d75::deobfMcMCP\n",
            "DEBUG:minerl.env.malmo.instance.2e9d75:Applying SpecialSource...\n",
            "DEBUG:minerl.env.malmo.instance.2e9d75:Applying Exceptor...\n",
            "DEBUG:minerl.env.malmo.instance.2e9d75:Applying RuntimeInvisibleParameterAnnotations workaround...\n",
            "DEBUG:minerl.env.malmo.instance.2e9d75::sourceApiJava\n",
            "DEBUG:minerl.env.malmo.instance.2e9d75::compileApiJava UP-TO-DATE\n",
            "DEBUG:minerl.env.malmo.instance.2e9d75::processApiResources UP-TO-DATE\n",
            "DEBUG:minerl.env.malmo.instance.2e9d75::apiClasses UP-TO-DATE\n",
            "DEBUG:minerl.env.malmo.instance.2e9d75::copyModToClient\n",
            "DEBUG:minerl.env.malmo.instance.2e9d75::copyModToServer\n",
            "DEBUG:minerl.env.malmo.instance.2e9d75::copySrg\n",
            "DEBUG:minerl.env.malmo.instance.2e9d75::deleteSchemas\n",
            "DEBUG:minerl.env.malmo.instance.2e9d75::copySchemas\n",
            "DEBUG:minerl.env.malmo.instance.2e9d75::jaxb\n",
            "DEBUG:minerl.env.malmo.instance.2e9d75:Download https://repo1.maven.org/maven2/com/sun/xml/bind/jaxb-xjc/2.2.4-1/jaxb-xjc-2.2.4-1.pom\n",
            "DEBUG:minerl.env.malmo.instance.2e9d75:Download https://repo1.maven.org/maven2/net/java/jvnet-parent/1/jvnet-parent-1.pom\n",
            "DEBUG:minerl.env.malmo.instance.2e9d75:Download https://repo1.maven.org/maven2/com/sun/xml/bind/jaxb-impl/2.2.4-1/jaxb-impl-2.2.4-1.pom\n",
            "DEBUG:minerl.env.malmo.instance.2e9d75:Download https://repo1.maven.org/maven2/javax/xml/bind/jaxb-api/2.2.3/jaxb-api-2.2.3.pom\n",
            "DEBUG:minerl.env.malmo.instance.2e9d75:Download https://repo1.maven.org/maven2/javax/xml/stream/stax-api/1.0-2/stax-api-1.0-2.pom\n",
            "DEBUG:minerl.env.malmo.instance.2e9d75:Download https://repo1.maven.org/maven2/javax/activation/activation/1.1/activation-1.1.pom\n",
            "DEBUG:minerl.env.malmo.instance.2e9d75:Download https://repo1.maven.org/maven2/com/sun/xml/bind/jaxb-xjc/2.2.4-1/jaxb-xjc-2.2.4-1.jar\n",
            "DEBUG:minerl.env.malmo.instance.2e9d75:Download https://repo1.maven.org/maven2/com/sun/xml/bind/jaxb-impl/2.2.4-1/jaxb-impl-2.2.4-1.jar\n",
            "DEBUG:minerl.env.malmo.instance.2e9d75:Download https://repo1.maven.org/maven2/javax/xml/bind/jaxb-api/2.2.3/jaxb-api-2.2.3.jar\n",
            "DEBUG:minerl.env.malmo.instance.2e9d75:Download https://repo1.maven.org/maven2/javax/xml/stream/stax-api/1.0-2/stax-api-1.0-2.jar\n",
            "DEBUG:minerl.env.malmo.instance.2e9d75:Download https://repo1.maven.org/maven2/javax/activation/activation/1.1/activation-1.1.jar\n",
            "DEBUG:minerl.env.malmo.instance.2e9d75::sourceMainJava\n",
            "DEBUG:minerl.env.malmo.instance.2e9d75::compileJava\n",
            "DEBUG:minerl.env.malmo.instance.2e9d75:Download http://repo.spongepowered.org/maven/org/spongepowered/mixin/0.7.5-SNAPSHOT/mixin-0.7.5-20171018.121934-1.pom\n",
            "DEBUG:minerl.env.malmo.instance.2e9d75:Download https://repo1.maven.org/maven2/commons-io/commons-io/2.4/commons-io-2.4.pom\n",
            "DEBUG:minerl.env.malmo.instance.2e9d75:Download https://repo1.maven.org/maven2/org/apache/commons/commons-parent/25/commons-parent-25.pom\n",
            "DEBUG:minerl.env.malmo.instance.2e9d75:Download http://repo.spongepowered.org/maven/org/spongepowered/mixin/0.7.5-SNAPSHOT/mixin-0.7.5-20171018.121934-1.jar\n",
            "DEBUG:minerl.env.malmo.instance.2e9d75:Download https://repo1.maven.org/maven2/com/google/guava/guava/17.0/guava-17.0.jar\n",
            "DEBUG:minerl.env.malmo.instance.2e9d75:Download https://repo1.maven.org/maven2/commons-io/commons-io/2.4/commons-io-2.4.jar\n",
            "DEBUG:minerl.env.malmo.instance.2e9d75:Download https://repo1.maven.org/maven2/com/google/code/findbugs/jsr305/3.0.1/jsr305-3.0.1.pom\n",
            "DEBUG:minerl.env.malmo.instance.2e9d75:Download https://libraries.minecraft.net/com/mojang/netty/1.6/netty-1.6.pom\n",
            "DEBUG:minerl.env.malmo.instance.2e9d75:Download https://libraries.minecraft.net/oshi-project/oshi-core/1.1/oshi-core-1.1.pom\n",
            "DEBUG:minerl.env.malmo.instance.2e9d75:Download https://repo1.maven.org/maven2/net/java/dev/jna/jna/3.4.0/jna-3.4.0.pom\n",
            "DEBUG:minerl.env.malmo.instance.2e9d75:Download https://repo1.maven.org/maven2/net/java/dev/jna/platform/3.4.0/platform-3.4.0.pom\n",
            "DEBUG:minerl.env.malmo.instance.2e9d75:Download https://libraries.minecraft.net/com/ibm/icu/icu4j-core-mojang/51.2/icu4j-core-mojang-51.2.pom\n",
            "DEBUG:minerl.env.malmo.instance.2e9d75:Download https://repo1.maven.org/maven2/net/sf/jopt-simple/jopt-simple/4.6/jopt-simple-4.6.pom\n",
            "DEBUG:minerl.env.malmo.instance.2e9d75:Download https://repo1.maven.org/maven2/io/netty/netty-all/4.0.23.Final/netty-all-4.0.23.Final.pom\n",
            "DEBUG:minerl.env.malmo.instance.2e9d75:Download https://repo1.maven.org/maven2/io/netty/netty-parent/4.0.23.Final/netty-parent-4.0.23.Final.pom\n",
            "DEBUG:minerl.env.malmo.instance.2e9d75:Download https://repo1.maven.org/maven2/org/sonatype/oss/oss-parent/9/oss-parent-9.pom\n",
            "DEBUG:minerl.env.malmo.instance.2e9d75:Download https://repo1.maven.org/maven2/org/apache/commons/commons-lang3/3.3.2/commons-lang3-3.3.2.pom\n",
            "DEBUG:minerl.env.malmo.instance.2e9d75:Download https://repo1.maven.org/maven2/org/apache/commons/commons-parent/33/commons-parent-33.pom\n",
            "DEBUG:minerl.env.malmo.instance.2e9d75:Download https://repo1.maven.org/maven2/commons-codec/commons-codec/1.9/commons-codec-1.9.pom\n",
            "DEBUG:minerl.env.malmo.instance.2e9d75:Download https://repo1.maven.org/maven2/org/apache/commons/commons-parent/32/commons-parent-32.pom\n",
            "DEBUG:minerl.env.malmo.instance.2e9d75:Download https://repo1.maven.org/maven2/net/java/jutils/jutils/1.0.0/jutils-1.0.0.pom\n",
            "DEBUG:minerl.env.malmo.instance.2e9d75:Download https://libraries.minecraft.net/com/mojang/authlib/1.5.24/authlib-1.5.24.pom\n",
            "DEBUG:minerl.env.malmo.instance.2e9d75:Download https://libraries.minecraft.net/com/mojang/realms/1.10.16/realms-1.10.16.pom\n",
            "DEBUG:minerl.env.malmo.instance.2e9d75:Download https://repo1.maven.org/maven2/org/apache/commons/commons-compress/1.8.1/commons-compress-1.8.1.pom\n",
            "DEBUG:minerl.env.malmo.instance.2e9d75:Download https://libraries.minecraft.net/it/unimi/dsi/fastutil/7.0.12_mojang/fastutil-7.0.12_mojang.pom\n",
            "DEBUG:minerl.env.malmo.instance.2e9d75:Download https://repo1.maven.org/maven2/org/apache/logging/log4j/log4j-api/2.0-beta9/log4j-api-2.0-beta9.pom\n",
            "DEBUG:minerl.env.malmo.instance.2e9d75:Download https://repo1.maven.org/maven2/org/apache/logging/log4j/log4j/2.0-beta9/log4j-2.0-beta9.pom\n",
            "DEBUG:minerl.env.malmo.instance.2e9d75:Download https://repo1.maven.org/maven2/org/apache/logging/log4j/log4j-core/2.0-beta9/log4j-core-2.0-beta9.pom\n",
            "DEBUG:minerl.env.malmo.instance.2e9d75:Download https://libraries.minecraft.net/net/minecraft/launchwrapper/1.12/launchwrapper-1.12.pom\n",
            "DEBUG:minerl.env.malmo.instance.2e9d75:Download https://repo1.maven.org/maven2/jline/jline/2.13/jline-2.13.pom\n",
            "DEBUG:minerl.env.malmo.instance.2e9d75:Download https://repo1.maven.org/maven2/org/ow2/asm/asm-debug-all/5.0.3/asm-debug-all-5.0.3.pom\n",
            "DEBUG:minerl.env.malmo.instance.2e9d75:Download https://repo1.maven.org/maven2/org/ow2/asm/asm-parent/5.0.3/asm-parent-5.0.3.pom\n",
            "DEBUG:minerl.env.malmo.instance.2e9d75:Download https://repo1.maven.org/maven2/com/typesafe/akka/akka-actor_2.11/2.3.3/akka-actor_2.11-2.3.3.pom\n",
            "DEBUG:minerl.env.malmo.instance.2e9d75:Download https://repo1.maven.org/maven2/com/typesafe/config/1.2.1/config-1.2.1.pom\n",
            "DEBUG:minerl.env.malmo.instance.2e9d75:Download https://repo1.maven.org/maven2/org/scala-lang/scala-actors-migration_2.11/1.1.0/scala-actors-migration_2.11-1.1.0.pom\n",
            "DEBUG:minerl.env.malmo.instance.2e9d75:Download https://repo1.maven.org/maven2/org/scala-lang/scala-compiler/2.11.1/scala-compiler-2.11.1.pom\n",
            "DEBUG:minerl.env.malmo.instance.2e9d75:Download https://repo1.maven.org/maven2/org/scala-lang/plugins/scala-continuations-library_2.11/1.0.2/scala-continuations-library_2.11-1.0.2.pom\n",
            "DEBUG:minerl.env.malmo.instance.2e9d75:Download https://repo1.maven.org/maven2/org/scala-lang/plugins/scala-continuations-plugin_2.11.1/1.0.2/scala-continuations-plugin_2.11.1-1.0.2.pom\n",
            "DEBUG:minerl.env.malmo.instance.2e9d75:Download https://repo1.maven.org/maven2/org/scala-lang/scala-library/2.11.1/scala-library-2.11.1.pom\n",
            "DEBUG:minerl.env.malmo.instance.2e9d75:Download https://repo1.maven.org/maven2/org/scala-lang/modules/scala-parser-combinators_2.11/1.0.1/scala-parser-combinators_2.11-1.0.1.pom\n",
            "DEBUG:minerl.env.malmo.instance.2e9d75:Download https://repo1.maven.org/maven2/org/scala-lang/scala-reflect/2.11.1/scala-reflect-2.11.1.pom\n",
            "DEBUG:minerl.env.malmo.instance.2e9d75:Download https://repo1.maven.org/maven2/org/scala-lang/modules/scala-swing_2.11/1.0.1/scala-swing_2.11-1.0.1.pom\n",
            "DEBUG:minerl.env.malmo.instance.2e9d75:Download https://repo1.maven.org/maven2/org/scala-lang/modules/scala-xml_2.11/1.0.2/scala-xml_2.11-1.0.2.pom\n",
            "DEBUG:minerl.env.malmo.instance.2e9d75:Download https://libraries.minecraft.net/lzma/lzma/0.0.1/lzma-0.0.1.pom\n",
            "DEBUG:minerl.env.malmo.instance.2e9d75:Download https://repo1.maven.org/maven2/net/sf/trove4j/trove4j/3.0.3/trove4j-3.0.3.pom\n",
            "DEBUG:minerl.env.malmo.instance.2e9d75:Download https://libraries.minecraft.net/com/paulscode/codecjorbis/20101023/codecjorbis-20101023.pom\n",
            "DEBUG:minerl.env.malmo.instance.2e9d75:Download https://libraries.minecraft.net/com/paulscode/codecwav/20101023/codecwav-20101023.pom\n",
            "DEBUG:minerl.env.malmo.instance.2e9d75:Download https://libraries.minecraft.net/com/paulscode/libraryjavasound/20101123/libraryjavasound-20101123.pom\n",
            "DEBUG:minerl.env.malmo.instance.2e9d75:Download https://libraries.minecraft.net/com/paulscode/librarylwjglopenal/20100824/librarylwjglopenal-20100824.pom\n",
            "DEBUG:minerl.env.malmo.instance.2e9d75:Download https://libraries.minecraft.net/com/paulscode/soundsystem/20120107/soundsystem-20120107.pom\n",
            "DEBUG:minerl.env.malmo.instance.2e9d75:Download https://repo1.maven.org/maven2/net/java/jinput/jinput/2.0.5/jinput-2.0.5.pom\n",
            "DEBUG:minerl.env.malmo.instance.2e9d75:Download https://libraries.minecraft.net/org/lwjgl/lwjgl/lwjgl/2.9.4-nightly-20150209/lwjgl-2.9.4-nightly-20150209.pom\n",
            "DEBUG:minerl.env.malmo.instance.2e9d75:Download https://libraries.minecraft.net/org/lwjgl/lwjgl/parent/2.9.4-nightly-20150209/parent-2.9.4-nightly-20150209.pom\n",
            "DEBUG:minerl.env.malmo.instance.2e9d75:Download https://libraries.minecraft.net/org/lwjgl/lwjgl/lwjgl_util/2.9.4-nightly-20150209/lwjgl_util-2.9.4-nightly-20150209.pom\n",
            "DEBUG:minerl.env.malmo.instance.2e9d75:Download https://libraries.minecraft.net/java3d/vecmath/1.5.2/vecmath-1.5.2.pom\n",
            "DEBUG:minerl.env.malmo.instance.2e9d75:Download https://repo1.maven.org/maven2/org/fusesource/jansi/jansi/1.11/jansi-1.11.pom\n",
            "DEBUG:minerl.env.malmo.instance.2e9d75:Download https://repo1.maven.org/maven2/org/fusesource/jansi/jansi-project/1.11/jansi-project-1.11.pom\n",
            "DEBUG:minerl.env.malmo.instance.2e9d75:Download https://repo1.maven.org/maven2/org/fusesource/fusesource-pom/1.8/fusesource-pom-1.8.pom\n",
            "DEBUG:minerl.env.malmo.instance.2e9d75:Download https://repo1.maven.org/maven2/org/scala-lang/scala-actors/2.11.0/scala-actors-2.11.0.pom\n",
            "DEBUG:minerl.env.malmo.instance.2e9d75:Download https://repo1.maven.org/maven2/net/java/jinput/jinput-platform/2.0.5/jinput-platform-2.0.5.pom\n",
            "DEBUG:minerl.env.malmo.instance.2e9d75:Download https://libraries.minecraft.net/org/lwjgl/lwjgl/lwjgl-platform/2.9.4-nightly-20150209/lwjgl-platform-2.9.4-nightly-20150209.pom\n",
            "DEBUG:minerl.env.malmo.instance.2e9d75:Download https://repo1.maven.org/maven2/com/google/code/findbugs/jsr305/3.0.1/jsr305-3.0.1.jar\n",
            "DEBUG:minerl.env.malmo.instance.2e9d75:Download https://libraries.minecraft.net/com/mojang/netty/1.6/netty-1.6.jar\n",
            "DEBUG:minerl.env.malmo.instance.2e9d75:Download https://libraries.minecraft.net/oshi-project/oshi-core/1.1/oshi-core-1.1.jar\n",
            "DEBUG:minerl.env.malmo.instance.2e9d75:Download https://repo1.maven.org/maven2/net/java/dev/jna/jna/3.4.0/jna-3.4.0.jar\n",
            "DEBUG:minerl.env.malmo.instance.2e9d75:Download https://repo1.maven.org/maven2/net/java/dev/jna/platform/3.4.0/platform-3.4.0.jar\n",
            "DEBUG:minerl.env.malmo.instance.2e9d75:Download https://libraries.minecraft.net/com/ibm/icu/icu4j-core-mojang/51.2/icu4j-core-mojang-51.2.jar\n",
            "DEBUG:minerl.env.malmo.instance.2e9d75:Download https://repo1.maven.org/maven2/net/sf/jopt-simple/jopt-simple/4.6/jopt-simple-4.6.jar\n",
            "DEBUG:minerl.env.malmo.instance.2e9d75:Download https://repo1.maven.org/maven2/io/netty/netty-all/4.0.23.Final/netty-all-4.0.23.Final.jar\n",
            "DEBUG:minerl.env.malmo.instance.2e9d75:Download https://repo1.maven.org/maven2/org/apache/commons/commons-lang3/3.3.2/commons-lang3-3.3.2.jar\n",
            "DEBUG:minerl.env.malmo.instance.2e9d75:Download https://repo1.maven.org/maven2/commons-codec/commons-codec/1.9/commons-codec-1.9.jar\n",
            "DEBUG:minerl.env.malmo.instance.2e9d75:Download https://repo1.maven.org/maven2/net/java/jutils/jutils/1.0.0/jutils-1.0.0.jar\n",
            "DEBUG:minerl.env.malmo.instance.2e9d75:Download https://libraries.minecraft.net/com/mojang/authlib/1.5.24/authlib-1.5.24.jar\n",
            "DEBUG:minerl.env.malmo.instance.2e9d75:Download https://libraries.minecraft.net/com/mojang/realms/1.10.16/realms-1.10.16.jar\n",
            "DEBUG:minerl.env.malmo.instance.2e9d75:Download https://repo1.maven.org/maven2/org/apache/commons/commons-compress/1.8.1/commons-compress-1.8.1.jar\n",
            "DEBUG:minerl.env.malmo.instance.2e9d75:Download https://libraries.minecraft.net/it/unimi/dsi/fastutil/7.0.12_mojang/fastutil-7.0.12_mojang.jar\n",
            "DEBUG:minerl.env.malmo.instance.2e9d75:Download https://repo1.maven.org/maven2/org/apache/logging/log4j/log4j-api/2.0-beta9/log4j-api-2.0-beta9.jar\n",
            "DEBUG:minerl.env.malmo.instance.2e9d75:Download https://repo1.maven.org/maven2/org/apache/logging/log4j/log4j-core/2.0-beta9/log4j-core-2.0-beta9.jar\n",
            "DEBUG:minerl.env.malmo.instance.2e9d75:Download https://libraries.minecraft.net/net/minecraft/launchwrapper/1.12/launchwrapper-1.12.jar\n",
            "DEBUG:minerl.env.malmo.instance.2e9d75:Download https://repo1.maven.org/maven2/jline/jline/2.13/jline-2.13.jar\n",
            "DEBUG:minerl.env.malmo.instance.2e9d75:Download https://repo1.maven.org/maven2/org/ow2/asm/asm-debug-all/5.0.3/asm-debug-all-5.0.3.jar\n",
            "DEBUG:minerl.env.malmo.instance.2e9d75:Download https://repo1.maven.org/maven2/com/typesafe/akka/akka-actor_2.11/2.3.3/akka-actor_2.11-2.3.3.jar\n",
            "DEBUG:minerl.env.malmo.instance.2e9d75:Download https://repo1.maven.org/maven2/com/typesafe/config/1.2.1/config-1.2.1.jar\n",
            "DEBUG:minerl.env.malmo.instance.2e9d75:Download https://repo1.maven.org/maven2/org/scala-lang/scala-actors-migration_2.11/1.1.0/scala-actors-migration_2.11-1.1.0.jar\n",
            "DEBUG:minerl.env.malmo.instance.2e9d75:Download https://repo1.maven.org/maven2/org/scala-lang/scala-compiler/2.11.1/scala-compiler-2.11.1.jar\n",
            "DEBUG:minerl.env.malmo.instance.2e9d75:Download https://repo1.maven.org/maven2/org/scala-lang/plugins/scala-continuations-library_2.11/1.0.2/scala-continuations-library_2.11-1.0.2.jar\n",
            "DEBUG:minerl.env.malmo.instance.2e9d75:Download https://repo1.maven.org/maven2/org/scala-lang/plugins/scala-continuations-plugin_2.11.1/1.0.2/scala-continuations-plugin_2.11.1-1.0.2.jar\n",
            "DEBUG:minerl.env.malmo.instance.2e9d75:Download https://repo1.maven.org/maven2/org/scala-lang/scala-library/2.11.1/scala-library-2.11.1.jar\n",
            "DEBUG:minerl.env.malmo.instance.2e9d75:Download https://repo1.maven.org/maven2/org/scala-lang/modules/scala-parser-combinators_2.11/1.0.1/scala-parser-combinators_2.11-1.0.1.jar\n",
            "DEBUG:minerl.env.malmo.instance.2e9d75:Download https://repo1.maven.org/maven2/org/scala-lang/scala-reflect/2.11.1/scala-reflect-2.11.1.jar\n",
            "DEBUG:minerl.env.malmo.instance.2e9d75:Download https://repo1.maven.org/maven2/org/scala-lang/modules/scala-swing_2.11/1.0.1/scala-swing_2.11-1.0.1.jar\n",
            "DEBUG:minerl.env.malmo.instance.2e9d75:Download https://repo1.maven.org/maven2/org/scala-lang/modules/scala-xml_2.11/1.0.2/scala-xml_2.11-1.0.2.jar\n",
            "DEBUG:minerl.env.malmo.instance.2e9d75:Download https://libraries.minecraft.net/lzma/lzma/0.0.1/lzma-0.0.1.jar\n",
            "DEBUG:minerl.env.malmo.instance.2e9d75:Download https://repo1.maven.org/maven2/net/sf/trove4j/trove4j/3.0.3/trove4j-3.0.3.jar\n",
            "DEBUG:minerl.env.malmo.instance.2e9d75:Download https://libraries.minecraft.net/com/paulscode/codecjorbis/20101023/codecjorbis-20101023.jar\n",
            "DEBUG:minerl.env.malmo.instance.2e9d75:Download https://libraries.minecraft.net/com/paulscode/codecwav/20101023/codecwav-20101023.jar\n",
            "DEBUG:minerl.env.malmo.instance.2e9d75:Download https://libraries.minecraft.net/com/paulscode/libraryjavasound/20101123/libraryjavasound-20101123.jar\n",
            "DEBUG:minerl.env.malmo.instance.2e9d75:Download https://libraries.minecraft.net/com/paulscode/librarylwjglopenal/20100824/librarylwjglopenal-20100824.jar\n",
            "DEBUG:minerl.env.malmo.instance.2e9d75:Download https://libraries.minecraft.net/com/paulscode/soundsystem/20120107/soundsystem-20120107.jar\n",
            "DEBUG:minerl.env.malmo.instance.2e9d75:Download https://repo1.maven.org/maven2/net/java/jinput/jinput/2.0.5/jinput-2.0.5.jar\n",
            "DEBUG:minerl.env.malmo.instance.2e9d75:Download https://libraries.minecraft.net/org/lwjgl/lwjgl/lwjgl/2.9.4-nightly-20150209/lwjgl-2.9.4-nightly-20150209.jar\n",
            "DEBUG:minerl.env.malmo.instance.2e9d75:Download https://libraries.minecraft.net/org/lwjgl/lwjgl/lwjgl_util/2.9.4-nightly-20150209/lwjgl_util-2.9.4-nightly-20150209.jar\n",
            "DEBUG:minerl.env.malmo.instance.2e9d75:Download https://libraries.minecraft.net/java3d/vecmath/1.5.2/vecmath-1.5.2.jar\n",
            "DEBUG:minerl.env.malmo.instance.2e9d75:Download https://repo1.maven.org/maven2/org/fusesource/jansi/jansi/1.11/jansi-1.11.jar\n",
            "DEBUG:minerl.env.malmo.instance.2e9d75:Download https://repo1.maven.org/maven2/org/scala-lang/scala-actors/2.11.0/scala-actors-2.11.0.jar\n",
            "DEBUG:minerl.env.malmo.instance.2e9d75:Download https://repo1.maven.org/maven2/net/java/jinput/jinput-platform/2.0.5/jinput-platform-2.0.5-natives-linux.jar\n",
            "DEBUG:minerl.env.malmo.instance.2e9d75:Download https://repo1.maven.org/maven2/net/java/jinput/jinput-platform/2.0.5/jinput-platform-2.0.5-natives-windows.jar\n",
            "DEBUG:minerl.env.malmo.instance.2e9d75:Download https://repo1.maven.org/maven2/net/java/jinput/jinput-platform/2.0.5/jinput-platform-2.0.5-natives-osx.jar\n",
            "DEBUG:minerl.env.malmo.instance.2e9d75:Download https://libraries.minecraft.net/org/lwjgl/lwjgl/lwjgl-platform/2.9.4-nightly-20150209/lwjgl-platform-2.9.4-nightly-20150209-natives-windows.jar\n",
            "DEBUG:minerl.env.malmo.instance.2e9d75:Download https://libraries.minecraft.net/org/lwjgl/lwjgl/lwjgl-platform/2.9.4-nightly-20150209/lwjgl-platform-2.9.4-nightly-20150209-natives-linux.jar\n",
            "DEBUG:minerl.env.malmo.instance.2e9d75:Download https://libraries.minecraft.net/org/lwjgl/lwjgl/lwjgl-platform/2.9.4-nightly-20150209/lwjgl-platform-2.9.4-nightly-20150209-natives-osx.jar\n",
            "DEBUG:minerl.env.malmo.instance.2e9d75:warning: [options] bootstrap class path not set in conjunction with -source 1.6\n",
            "DEBUG:minerl.env.malmo.instance.2e9d75:Note: SpongePowered MIXIN Annotation Processor Version=0.7.5\n",
            "DEBUG:minerl.env.malmo.instance.2e9d75:Note: ObfuscationServiceMCP supports type: \"searge\"\n",
            "DEBUG:minerl.env.malmo.instance.2e9d75:Note: ObfuscationServiceMCP supports type: \"notch\"\n",
            "DEBUG:minerl.env.malmo.instance.2e9d75:Note: Loading searge mappings from /root/.gradle/caches/minecraft/de/oceanlabs/mcp/mcp_snapshot/20161220/1.11.2/srgs/mcp-srg.srg\n",
            "DEBUG:minerl.env.malmo.instance.2e9d75:Note: Loading notch mappings from /root/.gradle/caches/minecraft/de/oceanlabs/mcp/mcp_snapshot/20161220/1.11.2/srgs/mcp-notch.srg\n",
            "DEBUG:minerl.env.malmo.instance.2e9d75:Note: Writing refmap to /tmp/tmph8c_xtq2/Minecraft/build/tmp/compileJava/compileJava-refmap.json\n",
            "DEBUG:minerl.env.malmo.instance.2e9d75:Note: Writing refmap to /tmp/tmph8c_xtq2/Minecraft/build/tmp/compileJava/compileJava-refmap.json\n",
            "DEBUG:minerl.env.malmo.instance.2e9d75:Note: Writing searge output SRGs to /tmp/tmph8c_xtq2/Minecraft/build/tmp/compileJava/mcp-srg.srg\n",
            "DEBUG:minerl.env.malmo.instance.2e9d75:Note: Writing notch output SRGs to /tmp/tmph8c_xtq2/Minecraft/build/tmp/compileJava/mcp-notch.srg\n",
            "DEBUG:minerl.env.malmo.instance.2e9d75:Note: Writing refmap to /tmp/tmph8c_xtq2/Minecraft/build/tmp/compileJava/compileJava-refmap.json\n",
            "DEBUG:minerl.env.malmo.instance.2e9d75:Note: Writing refmap to /tmp/tmph8c_xtq2/Minecraft/build/tmp/compileJava/compileJava-refmap.json\n",
            "DEBUG:minerl.env.malmo.instance.2e9d75:Note: Writing searge output SRGs to /tmp/tmph8c_xtq2/Minecraft/build/tmp/compileJava/mcp-srg.srg\n",
            "DEBUG:minerl.env.malmo.instance.2e9d75:Note: Writing notch output SRGs to /tmp/tmph8c_xtq2/Minecraft/build/tmp/compileJava/mcp-notch.srg\n",
            "DEBUG:minerl.env.malmo.instance.2e9d75:Note: Some input files use or override a deprecated API.\n",
            "DEBUG:minerl.env.malmo.instance.2e9d75:Note: Recompile with -Xlint:deprecation for details.\n",
            "DEBUG:minerl.env.malmo.instance.2e9d75:Note: Some input files use unchecked or unsafe operations.\n",
            "DEBUG:minerl.env.malmo.instance.2e9d75:Note: Recompile with -Xlint:unchecked for details.\n",
            "DEBUG:minerl.env.malmo.instance.2e9d75::processResources\n",
            "DEBUG:minerl.env.malmo.instance.2e9d75::classes\n",
            "DEBUG:minerl.env.malmo.instance.2e9d75::jar\n",
            "DEBUG:minerl.env.malmo.instance.2e9d75::extractNatives\n",
            "DEBUG:minerl.env.malmo.instance.2e9d75::getAssetIndex\n",
            "DEBUG:minerl.env.malmo.instance.2e9d75::getAssets\n",
            "DEBUG:minerl.env.malmo.instance.2e9d75:Current status: 16/1196   1%\n",
            "DEBUG:minerl.env.malmo.instance.2e9d75:Current status: 44/1196   3%\n",
            "DEBUG:minerl.env.malmo.instance.2e9d75:Current status: 73/1196   6%\n",
            "DEBUG:minerl.env.malmo.instance.2e9d75:Current status: 104/1196   8%\n",
            "DEBUG:minerl.env.malmo.instance.2e9d75:Current status: 141/1196   11%\n",
            "DEBUG:minerl.env.malmo.instance.2e9d75:Current status: 181/1196   15%\n",
            "DEBUG:minerl.env.malmo.instance.2e9d75:Current status: 222/1196   18%\n",
            "DEBUG:minerl.env.malmo.instance.2e9d75:Current status: 262/1196   21%\n",
            "DEBUG:minerl.env.malmo.instance.2e9d75:Current status: 301/1196   25%\n",
            "DEBUG:minerl.env.malmo.instance.2e9d75:Current status: 343/1196   28%\n",
            "DEBUG:minerl.env.malmo.instance.2e9d75:Current status: 383/1196   32%\n",
            "DEBUG:minerl.env.malmo.instance.2e9d75:Current status: 422/1196   35%\n",
            "DEBUG:minerl.env.malmo.instance.2e9d75:Current status: 461/1196   38%\n",
            "DEBUG:minerl.env.malmo.instance.2e9d75:Current status: 500/1196   41%\n",
            "DEBUG:minerl.env.malmo.instance.2e9d75:Current status: 539/1196   45%\n",
            "DEBUG:minerl.env.malmo.instance.2e9d75:Current status: 578/1196   48%\n",
            "DEBUG:minerl.env.malmo.instance.2e9d75:Current status: 617/1196   51%\n",
            "DEBUG:minerl.env.malmo.instance.2e9d75:Current status: 658/1196   55%\n",
            "DEBUG:minerl.env.malmo.instance.2e9d75:Current status: 698/1196   58%\n",
            "DEBUG:minerl.env.malmo.instance.2e9d75:Current status: 738/1196   61%\n",
            "DEBUG:minerl.env.malmo.instance.2e9d75:Current status: 781/1196   65%\n",
            "DEBUG:minerl.env.malmo.instance.2e9d75:Current status: 820/1196   68%\n",
            "DEBUG:minerl.env.malmo.instance.2e9d75:Current status: 861/1196   71%\n",
            "DEBUG:minerl.env.malmo.instance.2e9d75:Current status: 901/1196   75%\n",
            "DEBUG:minerl.env.malmo.instance.2e9d75:Current status: 940/1196   78%\n",
            "DEBUG:minerl.env.malmo.instance.2e9d75:Current status: 972/1196   81%\n",
            "DEBUG:minerl.env.malmo.instance.2e9d75:Current status: 980/1196   81%\n",
            "DEBUG:minerl.env.malmo.instance.2e9d75:Current status: 998/1196   83%\n",
            "DEBUG:minerl.env.malmo.instance.2e9d75:Current status: 1038/1196   86%\n",
            "DEBUG:minerl.env.malmo.instance.2e9d75:Current status: 1077/1196   90%\n",
            "DEBUG:minerl.env.malmo.instance.2e9d75:Current status: 1122/1196   93%\n",
            "DEBUG:minerl.env.malmo.instance.2e9d75:Current status: 1162/1196   97%\n",
            "DEBUG:minerl.env.malmo.instance.2e9d75::makeStart\n",
            "DEBUG:minerl.env.malmo.instance.2e9d75::runClient\n",
            "DEBUG:minerl.env.malmo.instance.2e9d75:[02:01:17] [main/INFO]: Extra: []\n",
            "DEBUG:minerl.env.malmo.instance.2e9d75:[02:01:17] [main/INFO]: Found and added coremod: com.microsoft.Malmo.OverclockingPlugin\n",
            "DEBUG:minerl.env.malmo.instance.2e9d75:[02:01:17] [main/INFO]: Running with arguments: [--userProperties, {}, --assetsDir, /root/.gradle/caches/minecraft/assets, --assetIndex, 1.11, --accessToken{REDACTED}, --version, 1.11.2, --tweakClass, net.minecraftforge.fml.common.launcher.FMLTweaker, --tweakClass, net.minecraftforge.gradle.tweakers.CoremodTweaker]\n",
            "DEBUG:minerl.env.malmo.instance.2e9d75:[02:01:17] [main/INFO]: Loading tweak class name net.minecraftforge.fml.common.launcher.FMLTweaker\n",
            "DEBUG:minerl.env.malmo.instance.2e9d75:[02:01:17] [main/INFO]: Using primary tweak class name net.minecraftforge.fml.common.launcher.FMLTweaker\n",
            "DEBUG:minerl.env.malmo.instance.2e9d75:[02:01:17] [main/INFO]: Loading tweak class name net.minecraftforge.gradle.tweakers.CoremodTweaker\n",
            "DEBUG:minerl.env.malmo.instance.2e9d75:[02:01:17] [main/INFO]: Calling tweak class net.minecraftforge.fml.common.launcher.FMLTweaker\n",
            "DEBUG:minerl.env.malmo.instance.2e9d75:[02:01:17] [main/INFO]: Forge Mod Loader version 13.20.0.2228 for Minecraft 1.11.2 loading\n",
            "DEBUG:minerl.env.malmo.instance.2e9d75:[02:01:17] [main/INFO]: Java is OpenJDK 64-Bit Server VM, version 1.8.0_222, running on Linux:amd64:4.14.137+, installed at /usr/lib/jvm/java-8-openjdk-amd64/jre\n",
            "DEBUG:minerl.env.malmo.instance.2e9d75:[02:01:17] [main/INFO]: Managed to load a deobfuscated Minecraft name- we are in a deobfuscated environment. Skipping runtime deobfuscation\n",
            "DEBUG:minerl.env.malmo.instance.2e9d75:[02:01:17] [main/INFO]: Found a command line coremod : com.microsoft.Malmo.OverclockingPlugin\n",
            "DEBUG:minerl.env.malmo.instance.2e9d75:[02:01:17] [main/WARN]: The coremod com.microsoft.Malmo.OverclockingPlugin does not have a MCVersion annotation, it may cause issues with this version of Minecraft\n",
            "DEBUG:minerl.env.malmo.instance.2e9d75:[02:01:17] [main/INFO]: SpongePowered MIXIN Subsystem Version=0.7.5 Source=file:/root/.gradle/caches/modules-2/files-2.1/org.spongepowered/mixin/0.7.5-SNAPSHOT/c989878008c2c5ff1a7c6491c4103d8faa221d19/mixin-0.7.5-SNAPSHOT.jar Service=LaunchWrapper Env=CLIENT\n",
            "DEBUG:minerl.env.malmo.instance.2e9d75:[02:01:17] [main/INFO]: Compatibility level set to JAVA_8\n",
            "DEBUG:minerl.env.malmo.instance.2e9d75:[02:01:17] [main/INFO]: Calling tweak class net.minecraftforge.gradle.tweakers.CoremodTweaker\n",
            "DEBUG:minerl.env.malmo.instance.2e9d75:[02:01:17] [main/INFO]: Injecting location in coremod net.minecraftforge.fml.relauncher.FMLCorePlugin\n",
            "DEBUG:minerl.env.malmo.instance.2e9d75:[02:01:17] [main/INFO]: Injecting location in coremod net.minecraftforge.classloading.FMLForgePlugin\n",
            "DEBUG:minerl.env.malmo.instance.2e9d75:[02:01:17] [main/INFO]: Injecting location in coremod com.microsoft.Malmo.OverclockingPlugin\n",
            "DEBUG:minerl.env.malmo.instance.2e9d75:[02:01:17] [main/INFO]: Loading tweak class name net.minecraftforge.fml.common.launcher.FMLInjectionAndSortingTweaker\n",
            "DEBUG:minerl.env.malmo.instance.2e9d75:[02:01:17] [main/INFO]: Loading tweak class name org.spongepowered.asm.mixin.EnvironmentStateTweaker\n",
            "DEBUG:minerl.env.malmo.instance.2e9d75:[02:01:17] [main/INFO]: Loading tweak class name net.minecraftforge.fml.common.launcher.FMLDeobfTweaker\n",
            "DEBUG:minerl.env.malmo.instance.2e9d75:[02:01:17] [main/INFO]: Loading tweak class name net.minecraftforge.gradle.tweakers.AccessTransformerTweaker\n",
            "DEBUG:minerl.env.malmo.instance.2e9d75:[02:01:17] [main/INFO]: Calling tweak class net.minecraftforge.fml.common.launcher.FMLInjectionAndSortingTweaker\n",
            "DEBUG:minerl.env.malmo.instance.2e9d75:[02:01:17] [main/INFO]: Calling tweak class net.minecraftforge.fml.common.launcher.FMLInjectionAndSortingTweaker\n",
            "DEBUG:minerl.env.malmo.instance.2e9d75:[02:01:17] [main/INFO]: Calling tweak class net.minecraftforge.fml.relauncher.CoreModManager$FMLPluginWrapper\n",
            "DEBUG:minerl.env.malmo.instance.2e9d75:[02:01:17] [main/ERROR]: The binary patch set is missing. Either you are in a development environment, or things are not going to work!\n",
            "DEBUG:minerl.env.malmo.instance.2e9d75:[02:01:18] [main/ERROR]: FML appears to be missing any signature data. This is not a good thing\n",
            "DEBUG:minerl.env.malmo.instance.2e9d75:[02:01:18] [main/INFO]: Calling tweak class net.minecraftforge.fml.relauncher.CoreModManager$FMLPluginWrapper\n",
            "DEBUG:minerl.env.malmo.instance.2e9d75:[02:01:18] [main/INFO]: Calling tweak class net.minecraftforge.fml.relauncher.CoreModManager$FMLPluginWrapper\n",
            "DEBUG:minerl.env.malmo.instance.2e9d75:[02:01:18] [main/INFO]: Calling tweak class org.spongepowered.asm.mixin.EnvironmentStateTweaker\n",
            "DEBUG:minerl.env.malmo.instance.2e9d75:[02:01:18] [main/INFO]: Initialised Mixin FML Remapper Adapter with net.minecraftforge.fml.common.asm.transformers.deobf.FMLDeobfuscatingRemapper@31198ceb\n",
            "DEBUG:minerl.env.malmo.instance.2e9d75:[02:01:18] [main/INFO]: Calling tweak class net.minecraftforge.fml.common.launcher.FMLDeobfTweaker\n",
            "DEBUG:minerl.env.malmo.instance.2e9d75:[02:01:19] [main/INFO]: Calling tweak class net.minecraftforge.gradle.tweakers.AccessTransformerTweaker\n",
            "DEBUG:minerl.env.malmo.instance.2e9d75:[02:01:19] [main/INFO]: Loading tweak class name net.minecraftforge.fml.common.launcher.TerminalTweaker\n",
            "DEBUG:minerl.env.malmo.instance.2e9d75:[02:01:19] [main/INFO]: Calling tweak class net.minecraftforge.fml.common.launcher.TerminalTweaker\n",
            "DEBUG:minerl.env.malmo.instance.2e9d75:[02:01:19] [main/WARN]: Reference map 'mixins.replaymod.refmap.json' for mixins.overclocking.malmomod.json could not be read. If this is a development environment you can ignore this message\n",
            "DEBUG:minerl.env.malmo.instance.2e9d75:[02:01:19] [main/INFO]: [com.microsoft.Malmo.OverclockingClassTransformer:transform:58]: MALMO: Attempting to transform MinecraftServer\n",
            "DEBUG:minerl.env.malmo.instance.2e9d75:[02:01:19] [main/INFO]: [com.microsoft.Malmo.OverclockingClassTransformer:overclockRenderer:129]: MALMO: Found Minecraft, attempting to transform it\n",
            "DEBUG:minerl.env.malmo.instance.2e9d75:[02:01:19] [main/INFO]: [com.microsoft.Malmo.OverclockingClassTransformer:overclockRenderer:135]: MALMO: Found Minecraft.runGameLoop() method, attempting to transform it\n",
            "DEBUG:minerl.env.malmo.instance.2e9d75:[02:01:19] [main/INFO]: [com.microsoft.Malmo.OverclockingClassTransformer:overclockRenderer:150]: MALMO: Hooked into call to Minecraft.updateDisplay()\n",
            "DEBUG:minerl.env.malmo.instance.2e9d75:[02:01:19] [main/INFO]: A re-entrant transformer '$wrapper.com.microsoft.Malmo.OverclockingClassTransformer' was detected and will no longer process meta class data\n",
            "DEBUG:minerl.env.malmo.instance.2e9d75:[02:01:19] [main/INFO]: Launching wrapped minecraft {net.minecraft.client.main.Main}\n",
            "DEBUG:minerl.env.malmo.instance.2e9d75:[02:01:19] [main/INFO]: [com.microsoft.Malmo.OverclockingClassTransformer:transform:58]: MALMO: Attempting to transform MinecraftServer\n",
            "DEBUG:minerl.env.malmo.instance.2e9d75:[02:01:19] [main/INFO]: [com.microsoft.Malmo.OverclockingClassTransformer:overclockRenderer:129]: MALMO: Found Minecraft, attempting to transform it\n",
            "DEBUG:minerl.env.malmo.instance.2e9d75:[02:01:19] [main/INFO]: [com.microsoft.Malmo.OverclockingClassTransformer:overclockRenderer:135]: MALMO: Found Minecraft.runGameLoop() method, attempting to transform it\n",
            "DEBUG:minerl.env.malmo.instance.2e9d75:[02:01:19] [main/INFO]: [com.microsoft.Malmo.OverclockingClassTransformer:overclockRenderer:150]: MALMO: Hooked into call to Minecraft.updateDisplay()\n",
            "DEBUG:minerl.env.malmo.instance.2e9d75:[02:01:20] [main/INFO]: [com.microsoft.Malmo.OverclockingClassTransformer:transform:42]: Transformed Name: net.minecraft.client.entity.EntityPlayerSP\n",
            "DEBUG:minerl.env.malmo.instance.2e9d75:[02:01:20] [main/INFO]: [com.microsoft.Malmo.OverclockingClassTransformer:transform:42]: Transformed Name: net.minecraft.client.entity.AbstractClientPlayer\n",
            "DEBUG:minerl.env.malmo.instance.2e9d75:[02:01:21] [Client thread/INFO]: Setting user: Player602\n",
            "DEBUG:minerl.env.malmo.instance.2e9d75:[02:01:25] [Client thread/WARN]: Skipping bad option: lastServer:\n",
            "DEBUG:minerl.env.malmo.instance.2e9d75:[02:01:25] [Client thread/INFO]: LWJGL Version: 2.9.4\n",
            "DEBUG:minerl.env.malmo.instance.2e9d75:[02:01:25] [Client thread/INFO]: [STDOUT]: MALMO: Attempting to transform MinecraftServer\n",
            "DEBUG:minerl.env.malmo.instance.2e9d75:[02:01:25] [Client thread/INFO]: [STDOUT]: MALMO: Found GlStateManager, attempting to transform it\n",
            "DEBUG:minerl.env.malmo.instance.2e9d75:[02:01:25] [Client thread/INFO]: [STDOUT]: MALMO: Found GlStateManager.bindTexture() method, attempting to transform it\n",
            "DEBUG:minerl.env.malmo.instance.2e9d75:[02:01:25] [Client thread/INFO]: [STDOUT]: MALMO: Hooked into call to GlStateManager.bindTexture()\n",
            "DEBUG:minerl.env.malmo.instance.2e9d75:[02:01:25] [Client thread/INFO]: MinecraftForge v13.20.0.2228 Initialized\n",
            "DEBUG:minerl.env.malmo.instance.2e9d75:[02:01:26] [Client thread/INFO]: Replaced 232 ore recipes\n",
            "DEBUG:minerl.env.malmo.instance.2e9d75:[02:01:26] [Client thread/INFO]: Found 0 mods from the command line. Injecting into mod discoverer\n",
            "DEBUG:minerl.env.malmo.instance.2e9d75:[02:01:26] [Client thread/INFO]: Searching /tmp/tmph8c_xtq2/Minecraft/run/mods for mods\n",
            "DEBUG:minerl.env.malmo.instance.2e9d75:[02:01:28] [Client thread/INFO]: Forge Mod Loader has identified 5 mods to load\n",
            "DEBUG:minerl.env.malmo.instance.2e9d75:[02:01:28] [Client thread/INFO]: Attempting connection with missing mods [minecraft, mcp, FML, forge, malmomod] at CLIENT\n",
            "DEBUG:minerl.env.malmo.instance.2e9d75:[02:01:28] [Client thread/INFO]: Attempting connection with missing mods [minecraft, mcp, FML, forge, malmomod] at SERVER\n",
            "DEBUG:minerl.env.malmo.instance.2e9d75:[02:01:30] [Client thread/INFO]: Reloading ResourceManager: Default, FMLFileResourcePack:Forge Mod Loader, FMLFileResourcePack:Minecraft Forge, FMLFileResourcePack:Microsoft Malmo Mod\n",
            "DEBUG:minerl.env.malmo.instance.2e9d75:[02:01:30] [Client thread/WARN]: ResourcePack: ignored non-lowercase namespace: MalmoMod in /tmp/tmph8c_xtq2/Minecraft/build/libs/MalmoMod-0.37.0.jar\n",
            "DEBUG:minerl.env.malmo.instance.2e9d75:[02:01:30] [Client thread/WARN]: ResourcePack: ignored non-lowercase namespace: MalmoMod in /tmp/tmph8c_xtq2/Minecraft/build/libs/MalmoMod-0.37.0.jar\n",
            "DEBUG:minerl.env.malmo.instance.2e9d75:[02:01:30] [Client thread/WARN]: ResourcePack: ignored non-lowercase namespace: MalmoMod in /tmp/tmph8c_xtq2/Minecraft/build/libs/MalmoMod-0.37.0.jar\n",
            "DEBUG:minerl.env.malmo.instance.2e9d75:[02:01:30] [Client thread/INFO]: Processing ObjectHolder annotations\n",
            "DEBUG:minerl.env.malmo.instance.2e9d75:[02:01:30] [Client thread/INFO]: Found 444 ObjectHolder annotations\n",
            "DEBUG:minerl.env.malmo.instance.2e9d75:[02:01:30] [Client thread/INFO]: Identifying ItemStackHolder annotations\n",
            "DEBUG:minerl.env.malmo.instance.2e9d75:[02:01:30] [Client thread/INFO]: Found 0 ItemStackHolder annotations\n",
            "DEBUG:minerl.env.malmo.instance.2e9d75:[02:01:30] [Client thread/INFO]: Applying holder lookups\n",
            "DEBUG:minerl.env.malmo.instance.2e9d75:[02:01:30] [Client thread/INFO]: Holder lookups applied\n",
            "DEBUG:minerl.env.malmo.instance.2e9d75:[02:01:30] [Client thread/INFO]: Applying holder lookups\n",
            "DEBUG:minerl.env.malmo.instance.2e9d75:[02:01:30] [Client thread/INFO]: Holder lookups applied\n",
            "DEBUG:minerl.env.malmo.instance.2e9d75:[02:01:30] [Client thread/INFO]: Applying holder lookups\n",
            "DEBUG:minerl.env.malmo.instance.2e9d75:[02:01:30] [Client thread/INFO]: Holder lookups applied\n",
            "DEBUG:minerl.env.malmo.instance.2e9d75:[02:01:30] [Client thread/INFO]: Configured a dormant chunk cache size of 0\n",
            "DEBUG:minerl.env.malmo.instance.2e9d75:[02:01:30] [Forge Version Check/INFO]: [forge] Starting version check at http://files.minecraftforge.net/maven/net/minecraftforge/forge/promotions_slim.json\n",
            "DEBUG:minerl.env.malmo.instance.2e9d75:[02:01:30] [Client thread/INFO]: [STDOUT]: Testing schemas against internal version number: 0.37\n",
            "DEBUG:minerl.env.malmo.instance.2e9d75:[02:01:30] [Client thread/INFO]: [STDOUT]: [LOGTOPY] Performance directory not specified.\n",
            "DEBUG:minerl.env.malmo.instance.2e9d75:[02:01:30] [Client thread/INFO]: [STDOUT]: [ERROR] Seed specified was NONE. Expected a long (integer).\n",
            "DEBUG:minerl.env.malmo.instance.2e9d75:[02:01:30] [Client thread/INFO]: Applying holder lookups\n",
            "DEBUG:minerl.env.malmo.instance.2e9d75:[02:01:30] [Client thread/INFO]: Holder lookups applied\n",
            "DEBUG:minerl.env.malmo.instance.2e9d75:[02:01:30] [Client thread/INFO]: Injecting itemstacks\n",
            "DEBUG:minerl.env.malmo.instance.2e9d75:[02:01:30] [Client thread/INFO]: Itemstack injection complete\n",
            "DEBUG:minerl.env.malmo.instance.2e9d75:[02:01:30] [Forge Version Check/INFO]: [forge] Found status: OUTDATED Target: 13.20.1.2386\n",
            "DEBUG:minerl.env.malmo.instance.2e9d75:[02:01:31] [Sound Library Loader/INFO]: Starting up SoundSystem...\n",
            "DEBUG:minerl.env.malmo.instance.2e9d75:[02:01:31] [Thread-6/INFO]: Initializing LWJGL OpenAL\n",
            "DEBUG:minerl.env.malmo.instance.2e9d75:[02:01:31] [Thread-6/INFO]: (The LWJGL binding of OpenAL.  For more information, see http://www.lwjgl.org)\n",
            "DEBUG:minerl.env.malmo.instance.2e9d75:ALSA lib confmisc.c:767:(parse_card) cannot find card '0'\n",
            "DEBUG:minerl.env.malmo.instance.2e9d75:ALSA lib conf.c:4528:(_snd_config_evaluate) function snd_func_card_driver returned error: No such file or directory\n",
            "DEBUG:minerl.env.malmo.instance.2e9d75:ALSA lib confmisc.c:392:(snd_func_concat) error evaluating strings\n",
            "DEBUG:minerl.env.malmo.instance.2e9d75:ALSA lib conf.c:4528:(_snd_config_evaluate) function snd_func_concat returned error: No such file or directory\n",
            "DEBUG:minerl.env.malmo.instance.2e9d75:ALSA lib confmisc.c:1246:(snd_func_refer) error evaluating name\n",
            "DEBUG:minerl.env.malmo.instance.2e9d75:ALSA lib conf.c:4528:(_snd_config_evaluate) function snd_func_refer returned error: No such file or directory\n",
            "DEBUG:minerl.env.malmo.instance.2e9d75:ALSA lib conf.c:5007:(snd_config_expand) Evaluate error: No such file or directory\n",
            "DEBUG:minerl.env.malmo.instance.2e9d75:ALSA lib pcm.c:2495:(snd_pcm_open_noupdate) Unknown PCM default\n",
            "DEBUG:minerl.env.malmo.instance.2e9d75:AL lib: (EE) alsa_open_playback: Could not open playback device 'default': No such file or directory\n",
            "DEBUG:minerl.env.malmo.instance.2e9d75:[02:01:31] [Thread-6/ERROR]: Error in class 'LibraryLWJGLOpenAL'\n",
            "DEBUG:minerl.env.malmo.instance.2e9d75:[02:01:31] [Thread-6/ERROR]: Unable to initialize OpenAL.  Probable cause: OpenAL not supported.\n",
            "DEBUG:minerl.env.malmo.instance.2e9d75:[02:01:31] [Thread-6/WARN]: ERROR MESSAGE:\n",
            "DEBUG:minerl.env.malmo.instance.2e9d75:[02:01:31] [Thread-6/INFO]: Could not locate OpenAL library.\n",
            "DEBUG:minerl.env.malmo.instance.2e9d75:[02:01:31] [Thread-6/WARN]: STACK TRACE:\n",
            "DEBUG:minerl.env.malmo.instance.2e9d75:[02:01:31] [Thread-6/INFO]: org.lwjgl.openal.AL.create(AL.java:156)\n",
            "DEBUG:minerl.env.malmo.instance.2e9d75:[02:01:31] [Thread-6/INFO]: org.lwjgl.openal.AL.create(AL.java:102)\n",
            "DEBUG:minerl.env.malmo.instance.2e9d75:[02:01:31] [Thread-6/INFO]: org.lwjgl.openal.AL.create(AL.java:206)\n",
            "DEBUG:minerl.env.malmo.instance.2e9d75:[02:01:31] [Thread-6/INFO]: paulscode.sound.libraries.LibraryLWJGLOpenAL.init(LibraryLWJGLOpenAL.java:164)\n",
            "DEBUG:minerl.env.malmo.instance.2e9d75:[02:01:31] [Thread-6/INFO]: paulscode.sound.SoundSystem.CommandNewLibrary(SoundSystem.java:1576)\n",
            "DEBUG:minerl.env.malmo.instance.2e9d75:[02:01:31] [Thread-6/INFO]: paulscode.sound.SoundSystem.CommandQueue(SoundSystem.java:2572)\n",
            "DEBUG:minerl.env.malmo.instance.2e9d75:[02:01:31] [Thread-6/INFO]: paulscode.sound.CommandThread.run(CommandThread.java:121)\n",
            "DEBUG:minerl.env.malmo.instance.2e9d75:[02:01:32] [Sound Library Loader/WARN]: ERROR MESSAGE:\n",
            "DEBUG:minerl.env.malmo.instance.2e9d75:[02:01:32] [Sound Library Loader/INFO]: Could not locate OpenAL library.\n",
            "DEBUG:minerl.env.malmo.instance.2e9d75:[02:01:32] [Sound Library Loader/INFO]: Starting up SoundSystem...\n",
            "DEBUG:minerl.env.malmo.instance.2e9d75:[02:01:32] [Thread-8/INFO]: Switching to No Sound\n",
            "DEBUG:minerl.env.malmo.instance.2e9d75:[02:01:32] [Thread-8/INFO]: (Silent Mode)\n",
            "DEBUG:minerl.env.malmo.instance.2e9d75:[02:01:32] [Sound Library Loader/INFO]: Sound engine started\n",
            "DEBUG:minerl.env.malmo.instance.2e9d75:[02:01:33] [Client thread/INFO]: Max texture size: 8192\n",
            "DEBUG:minerl.env.malmo.instance.2e9d75:[02:01:33] [Client thread/INFO]: Created: 16x16 textures-atlas\n",
            "DEBUG:minerl.env.malmo.instance.2e9d75:[02:01:34] [Client thread/INFO]: [STDOUT]: CLIENT request state: WAITING_FOR_MOD_READY\n",
            "DEBUG:minerl.env.malmo.instance.2e9d75:[02:01:34] [Client thread/INFO]: Injecting itemstacks\n",
            "DEBUG:minerl.env.malmo.instance.2e9d75:[02:01:34] [Client thread/INFO]: Itemstack injection complete\n",
            "DEBUG:minerl.env.malmo.instance.2e9d75:[02:01:34] [Client thread/INFO]: Forge Mod Loader has successfully loaded 5 mods\n",
            "DEBUG:minerl.env.malmo.instance.2e9d75:[02:01:34] [Client thread/INFO]: Reloading ResourceManager: Default, FMLFileResourcePack:Forge Mod Loader, FMLFileResourcePack:Minecraft Forge, FMLFileResourcePack:Microsoft Malmo Mod\n",
            "DEBUG:minerl.env.malmo.instance.2e9d75:[02:01:34] [Client thread/WARN]: ResourcePack: ignored non-lowercase namespace: MalmoMod in /tmp/tmph8c_xtq2/Minecraft/build/libs/MalmoMod-0.37.0.jar\n",
            "DEBUG:minerl.env.malmo.instance.2e9d75:[02:01:34] [Client thread/WARN]: ResourcePack: ignored non-lowercase namespace: MalmoMod in /tmp/tmph8c_xtq2/Minecraft/build/libs/MalmoMod-0.37.0.jar\n",
            "DEBUG:minerl.env.malmo.instance.2e9d75:[02:01:34] [Client thread/WARN]: ResourcePack: ignored non-lowercase namespace: MalmoMod in /tmp/tmph8c_xtq2/Minecraft/build/libs/MalmoMod-0.37.0.jar\n",
            "DEBUG:minerl.env.malmo.instance.2e9d75:[02:01:35] [Client thread/INFO]: SoundSystem shutting down...\n",
            "DEBUG:minerl.env.malmo.instance.2e9d75:[02:01:35] [Client thread/WARN]: Author: Paul Lamb, www.paulscode.com\n",
            "DEBUG:minerl.env.malmo.instance.2e9d75:[02:01:35] [Sound Library Loader/INFO]: Starting up SoundSystem...\n",
            "DEBUG:minerl.env.malmo.instance.2e9d75:[02:01:35] [Thread-10/INFO]: Initializing LWJGL OpenAL\n",
            "DEBUG:minerl.env.malmo.instance.2e9d75:[02:01:35] [Thread-10/INFO]: (The LWJGL binding of OpenAL.  For more information, see http://www.lwjgl.org)\n",
            "DEBUG:minerl.env.malmo.instance.2e9d75:ALSA lib confmisc.c:767:(parse_card) cannot find card '0'\n",
            "DEBUG:minerl.env.malmo.instance.2e9d75:ALSA lib conf.c:4528:(_snd_config_evaluate) function snd_func_card_driver returned error: No such file or directory\n",
            "DEBUG:minerl.env.malmo.instance.2e9d75:ALSA lib confmisc.c:392:(snd_func_concat) error evaluating strings\n",
            "DEBUG:minerl.env.malmo.instance.2e9d75:ALSA lib conf.c:4528:(_snd_config_evaluate) function snd_func_concat returned error: No such file or directory\n",
            "DEBUG:minerl.env.malmo.instance.2e9d75:ALSA lib confmisc.c:1246:(snd_func_refer) error evaluating name\n",
            "DEBUG:minerl.env.malmo.instance.2e9d75:ALSA lib conf.c:4528:(_snd_config_evaluate) function snd_func_refer returned error: No such file or directory\n",
            "DEBUG:minerl.env.malmo.instance.2e9d75:ALSA lib conf.c:5007:(snd_config_expand) Evaluate error: No such file or directory\n",
            "DEBUG:minerl.env.malmo.instance.2e9d75:ALSA lib pcm.c:2495:(snd_pcm_open_noupdate) Unknown PCM default\n",
            "DEBUG:minerl.env.malmo.instance.2e9d75:AL lib: (EE) alsa_open_playback: Could not open playback device 'default': No such file or directory\n",
            "DEBUG:minerl.env.malmo.instance.2e9d75:[02:01:35] [Thread-10/ERROR]: Error in class 'LibraryLWJGLOpenAL'\n",
            "DEBUG:minerl.env.malmo.instance.2e9d75:[02:01:35] [Thread-10/ERROR]: Unable to initialize OpenAL.  Probable cause: OpenAL not supported.\n",
            "DEBUG:minerl.env.malmo.instance.2e9d75:[02:01:35] [Thread-10/WARN]: ERROR MESSAGE:\n",
            "DEBUG:minerl.env.malmo.instance.2e9d75:[02:01:35] [Thread-10/INFO]: Could not locate OpenAL library.\n",
            "DEBUG:minerl.env.malmo.instance.2e9d75:[02:01:35] [Thread-10/WARN]: STACK TRACE:\n",
            "DEBUG:minerl.env.malmo.instance.2e9d75:[02:01:35] [Thread-10/INFO]: org.lwjgl.openal.AL.create(AL.java:156)\n",
            "DEBUG:minerl.env.malmo.instance.2e9d75:[02:01:35] [Thread-10/INFO]: org.lwjgl.openal.AL.create(AL.java:102)\n",
            "DEBUG:minerl.env.malmo.instance.2e9d75:[02:01:35] [Thread-10/INFO]: org.lwjgl.openal.AL.create(AL.java:206)\n",
            "DEBUG:minerl.env.malmo.instance.2e9d75:[02:01:35] [Thread-10/INFO]: paulscode.sound.libraries.LibraryLWJGLOpenAL.init(LibraryLWJGLOpenAL.java:164)\n",
            "DEBUG:minerl.env.malmo.instance.2e9d75:[02:01:35] [Thread-10/INFO]: paulscode.sound.SoundSystem.CommandNewLibrary(SoundSystem.java:1576)\n",
            "DEBUG:minerl.env.malmo.instance.2e9d75:[02:01:35] [Thread-10/INFO]: paulscode.sound.SoundSystem.CommandQueue(SoundSystem.java:2572)\n",
            "DEBUG:minerl.env.malmo.instance.2e9d75:[02:01:35] [Thread-10/INFO]: paulscode.sound.CommandThread.run(CommandThread.java:121)\n",
            "DEBUG:minerl.env.malmo.instance.2e9d75:[02:01:35] [Sound Library Loader/WARN]: ERROR MESSAGE:\n",
            "DEBUG:minerl.env.malmo.instance.2e9d75:[02:01:35] [Sound Library Loader/INFO]: Could not locate OpenAL library.\n",
            "DEBUG:minerl.env.malmo.instance.2e9d75:[02:01:35] [Sound Library Loader/INFO]: Starting up SoundSystem...\n",
            "DEBUG:minerl.env.malmo.instance.2e9d75:[02:01:36] [Thread-12/INFO]: Switching to No Sound\n",
            "DEBUG:minerl.env.malmo.instance.2e9d75:[02:01:36] [Thread-12/INFO]: (Silent Mode)\n",
            "DEBUG:minerl.env.malmo.instance.2e9d75:[02:01:36] [Sound Library Loader/INFO]: Sound engine started\n",
            "DEBUG:minerl.env.malmo.instance.2e9d75:[02:01:36] [Client thread/INFO]: Max texture size: 8192\n",
            "DEBUG:minerl.env.malmo.instance.2e9d75:[02:01:36] [Client thread/INFO]: Created: 512x512 textures-atlas\n",
            "DEBUG:minerl.env.malmo.instance.2e9d75:[02:01:39] [Client thread/WARN]: Skipping bad option: lastServer:\n",
            "DEBUG:minerl.env.malmo.instance.2e9d75:[02:01:40] [Client thread/INFO]: [STDOUT]: CLIENT enter state: WAITING_FOR_MOD_READY\n",
            "DEBUG:minerl.env.malmo.instance.2e9d75:[02:01:40] [Client thread/INFO]: [STDOUT]: ***** Start MalmoEnvServer on port 9001\n",
            "DEBUG:minerl.env.malmo.instance.2e9d75:[02:01:40] [Client thread/INFO]: [STDOUT]: CLIENT request state: DORMANT\n",
            "DEBUG:minerl.env.malmo.instance.2e9d75:[02:01:40] [Realms Notification Availability checker #1/INFO]: Could not authorize you against Realms server: Invalid session id\n",
            "DEBUG:minerl.env.malmo.instance.2e9d75:[02:01:40] [Client thread/INFO]: [STDOUT]: CLIENT enter state: DORMANT\n",
            "INFO:minerl.env.malmo.instance.2e9d75:Minecraft process ready\n",
            "INFO:minerl.env.malmo:Logging output of Minecraft to ./logs/mc_1.log\n",
            "DEBUG:minerl.env.core:Creating socket connection!\n",
            "DEBUG:minerl.env.core:Sending mission init!\n",
            "DEBUG:minerl.env.malmo.instance.2e9d75:[02:01:41] [EnvServerSocketHandler/INFO]: [STDOUT]: Received from localhost:<MissionInit xmlns=\"http://ProjectMalmo.microsoft.com\" xmlns:xsi=\"http://www.w3.org/2001/XMLSchema-instance\" SchemaVersion=\"\" PlatformVersion=\"0.37.0\">\n",
            "DEBUG:minerl.env.malmo.instance.2e9d75:                                <Mission>\n",
            "DEBUG:minerl.env.malmo.instance.2e9d75:    <About>\n",
            "DEBUG:minerl.env.malmo.instance.2e9d75:        <Summary>MineRLNavigateDense-v0</Summary>\n",
            "DEBUG:minerl.env.malmo.instance.2e9d75:    </About>\n",
            "DEBUG:minerl.env.malmo.instance.2e9d75:\n",
            "DEBUG:minerl.env.malmo.instance.2e9d75:    <ModSettings>\n",
            "DEBUG:minerl.env.malmo.instance.2e9d75:        <MsPerTick>50</MsPerTick>\n",
            "DEBUG:minerl.env.malmo.instance.2e9d75:    </ModSettings>\n",
            "DEBUG:minerl.env.malmo.instance.2e9d75:\n",
            "DEBUG:minerl.env.malmo.instance.2e9d75:    <ServerSection>\n",
            "DEBUG:minerl.env.malmo.instance.2e9d75:        <ServerInitialConditions>\n",
            "DEBUG:minerl.env.malmo.instance.2e9d75:            <Time>\n",
            "DEBUG:minerl.env.malmo.instance.2e9d75:                <StartTime>6000</StartTime>\n",
            "DEBUG:minerl.env.malmo.instance.2e9d75:                <AllowPassageOfTime>false</AllowPassageOfTime>\n",
            "DEBUG:minerl.env.malmo.instance.2e9d75:            </Time>\n",
            "DEBUG:minerl.env.malmo.instance.2e9d75:            <Weather>clear</Weather>\n",
            "DEBUG:minerl.env.malmo.instance.2e9d75:            <AllowSpawning>false</AllowSpawning>\n",
            "DEBUG:minerl.env.malmo.instance.2e9d75:        </ServerInitialConditions>\n",
            "DEBUG:minerl.env.malmo.instance.2e9d75:        <ServerHandlers>\n",
            "DEBUG:minerl.env.malmo.instance.2e9d75:            <DefaultWorldGenerator forceReset=\"true\"/>\n",
            "DEBUG:minerl.env.malmo.instance.2e9d75:            <NavigationDecorator>\n",
            "DEBUG:minerl.env.malmo.instance.2e9d75:                <randomPlacementProperties>\n",
            "DEBUG:minerl.env.malmo.instance.2e9d75:                    <maxRandomizedRadius>64</maxRandomizedRadius>\n",
            "DEBUG:minerl.env.malmo.instance.2e9d75:                    <minRandomizedRadius>64</minRandomizedRadius>\n",
            "DEBUG:minerl.env.malmo.instance.2e9d75:                    <maxRadius>8</maxRadius>\n",
            "DEBUG:minerl.env.malmo.instance.2e9d75:                    <minRa\n",
            "DEBUG:minerl.env.malmo.instance.2e9d75:[02:01:42] [EnvServerSocketHandler/INFO]: [STDOUT]: REPLYING WITH: MALMOOK\n",
            "DEBUG:minerl.env.core:Peeking the client.\n",
            "DEBUG:minerl.env.malmo.instance.2e9d75:[02:01:42] [Client thread/INFO]: [STDOUT]: Mission received: MineRLNavigateDense-v0\n",
            "DEBUG:minerl.env.malmo.instance.2e9d75:[02:01:42] [Client thread/INFO]: [STDOUT]: CLIENT request state: CREATING_HANDLERS\n",
            "DEBUG:minerl.env.malmo.instance.2e9d75:[02:01:42] [Client thread/INFO]: [STDOUT]: CLIENT enter state: CREATING_HANDLERS\n",
            "DEBUG:minerl.env.malmo.instance.2e9d75:[02:01:42] [Client thread/INFO]: [STDOUT]: Starting command server.\n",
            "DEBUG:minerl.env.malmo.instance.2e9d75:[02:01:42] [Thread-15/INFO]: [STDOUT]: INFO: ->com(0) Listening for messages on port 10824\n",
            "DEBUG:minerl.env.malmo.instance.2e9d75:[02:01:43] [Client thread/INFO]: [STDOUT]: CLIENT request state: EVALUATING_WORLD_REQUIREMENTS\n",
            "DEBUG:minerl.env.malmo.instance.2e9d75:[02:01:43] [Client thread/INFO]: [STDOUT]: CLIENT enter state: EVALUATING_WORLD_REQUIREMENTS\n",
            "DEBUG:minerl.env.malmo.instance.2e9d75:[02:01:43] [Client thread/INFO]: [STDOUT]: CLIENT request state: CREATING_NEW_WORLD\n",
            "DEBUG:minerl.env.malmo.instance.2e9d75:[02:01:43] [Client thread/INFO]: [STDOUT]: CLIENT enter state: CREATING_NEW_WORLD\n",
            "DEBUG:minerl.env.malmo.instance.2e9d75:[02:01:45] [Server thread/INFO]: Starting integrated minecraft server version 1.11.2\n",
            "DEBUG:minerl.env.malmo.instance.2e9d75:[02:01:45] [Server thread/INFO]: Generating keypair\n",
            "DEBUG:minerl.env.malmo.instance.2e9d75:[02:01:45] [Server thread/INFO]: Injecting existing block and item data into this server instance\n",
            "DEBUG:minerl.env.malmo.instance.2e9d75:[02:01:45] [Server thread/INFO]: Applying holder lookups\n",
            "DEBUG:minerl.env.malmo.instance.2e9d75:[02:01:45] [Server thread/INFO]: Holder lookups applied\n",
            "DEBUG:minerl.env.malmo.instance.2e9d75:[02:01:46] [Server thread/INFO]: Loading dimension 0 (TEMP_0_c78d9dc0-7dc9-4974-863f-be3d4622bc91) (net.minecraft.server.integrated.IntegratedServer@5e931bd5)\n",
            "DEBUG:minerl.env.malmo.instance.2e9d75:[02:01:47] [Server thread/INFO]: Loading dimension 1 (TEMP_0_c78d9dc0-7dc9-4974-863f-be3d4622bc91) (net.minecraft.server.integrated.IntegratedServer@5e931bd5)\n",
            "DEBUG:minerl.env.malmo.instance.2e9d75:[02:01:47] [Server thread/INFO]: Loading dimension -1 (TEMP_0_c78d9dc0-7dc9-4974-863f-be3d4622bc91) (net.minecraft.server.integrated.IntegratedServer@5e931bd5)\n",
            "DEBUG:minerl.env.malmo.instance.2e9d75:[02:01:48] [Server thread/INFO]: Preparing start region for level 0\n",
            "DEBUG:minerl.env.malmo.instance.2e9d75:[02:01:49] [Server thread/INFO]: Preparing spawn area: 3%\n",
            "DEBUG:minerl.env.malmo.instance.2e9d75:[02:01:50] [Server thread/INFO]: Preparing spawn area: 4%\n",
            "DEBUG:minerl.env.malmo.instance.2e9d75:[02:01:51] [Server thread/INFO]: Preparing spawn area: 7%\n",
            "DEBUG:minerl.env.malmo.instance.2e9d75:[02:01:52] [Server thread/INFO]: Preparing spawn area: 9%\n",
            "DEBUG:minerl.env.malmo.instance.2e9d75:[02:01:53] [Server thread/INFO]: Preparing spawn area: 11%\n",
            "DEBUG:minerl.env.malmo.instance.2e9d75:[02:01:54] [Server thread/INFO]: Preparing spawn area: 13%\n",
            "DEBUG:minerl.env.malmo.instance.2e9d75:[02:01:55] [Server thread/INFO]: Preparing spawn area: 16%\n",
            "DEBUG:minerl.env.malmo.instance.2e9d75:[02:01:56] [Server thread/INFO]: Preparing spawn area: 19%\n",
            "DEBUG:minerl.env.malmo.instance.2e9d75:[02:01:57] [Server thread/INFO]: Preparing spawn area: 22%\n",
            "DEBUG:minerl.env.malmo.instance.2e9d75:[02:01:58] [Server thread/INFO]: Preparing spawn area: 25%\n",
            "DEBUG:minerl.env.malmo.instance.2e9d75:[02:01:59] [Server thread/INFO]: Preparing spawn area: 28%\n",
            "DEBUG:minerl.env.malmo.instance.2e9d75:[02:02:00] [Server thread/INFO]: Preparing spawn area: 32%\n",
            "DEBUG:minerl.env.malmo.instance.2e9d75:[02:02:01] [Server thread/INFO]: Preparing spawn area: 35%\n",
            "DEBUG:minerl.env.malmo.instance.2e9d75:[02:02:02] [Server thread/INFO]: Preparing spawn area: 38%\n",
            "DEBUG:minerl.env.malmo.instance.2e9d75:[02:02:03] [Server thread/INFO]: Preparing spawn area: 42%\n",
            "DEBUG:minerl.env.malmo.instance.2e9d75:[02:02:04] [Server thread/INFO]: Preparing spawn area: 46%\n",
            "DEBUG:minerl.env.malmo.instance.2e9d75:[02:02:05] [Server thread/INFO]: Preparing spawn area: 51%\n",
            "DEBUG:minerl.env.malmo.instance.2e9d75:[02:02:06] [Server thread/INFO]: Preparing spawn area: 56%\n",
            "DEBUG:minerl.env.malmo.instance.2e9d75:[02:02:07] [Server thread/INFO]: Preparing spawn area: 62%\n",
            "DEBUG:minerl.env.malmo.instance.2e9d75:[02:02:08] [Server thread/INFO]: Preparing spawn area: 68%\n",
            "DEBUG:minerl.env.malmo.instance.2e9d75:[02:02:09] [Server thread/INFO]: Preparing spawn area: 75%\n",
            "DEBUG:minerl.env.malmo.instance.2e9d75:[02:02:10] [Server thread/INFO]: Preparing spawn area: 81%\n",
            "DEBUG:minerl.env.malmo.instance.2e9d75:[02:02:11] [Server thread/INFO]: Preparing spawn area: 88%\n",
            "DEBUG:minerl.env.malmo.instance.2e9d75:[02:02:12] [Server thread/INFO]: Preparing spawn area: 94%\n",
            "DEBUG:minerl.env.malmo.instance.2e9d75:[02:02:13] [Server thread/INFO]: Changing view distance to 4, from 10\n",
            "DEBUG:minerl.env.malmo.instance.2e9d75:[02:02:15] [Netty Local Client IO #0/INFO]: [STDOUT]: Transformed Name: net.minecraft.client.entity.EntityOtherPlayerMP\n",
            "DEBUG:minerl.env.malmo.instance.2e9d75:[02:02:15] [Netty Local Client IO #0/INFO]: [STDOUT]: MALMO: Attempting to transform MinecraftServer\n",
            "DEBUG:minerl.env.malmo.instance.2e9d75:[02:02:15] [Netty Local Client IO #0/INFO]: [STDOUT]: MALMO: Found EntityOtherPlayerMP, attempting to transform it\n",
            "DEBUG:minerl.env.malmo.instance.2e9d75:[02:02:15] [Server thread/INFO]: [STDOUT]: SERVER request state: WAITING_FOR_MOD_READY\n",
            "DEBUG:minerl.env.malmo.instance.2e9d75:[02:02:16] [Server thread/INFO]: [STDOUT]: CLIENT request state: WAITING_FOR_SERVER_READY\n",
            "DEBUG:minerl.env.malmo.instance.2e9d75:[02:02:16] [Server thread/INFO]: [STDOUT]: SERVER enter state: WAITING_FOR_MOD_READY\n",
            "DEBUG:minerl.env.malmo.instance.2e9d75:[02:02:16] [Client thread/INFO]: [STDOUT]: CLIENT enter state: WAITING_FOR_SERVER_READY\n",
            "DEBUG:minerl.env.malmo.instance.2e9d75:[02:02:16] [Netty Local Client IO #0/INFO]: Server protocol version 2\n",
            "DEBUG:minerl.env.malmo.instance.2e9d75:[02:02:16] [Netty Server IO #1/INFO]: Client protocol version 2\n",
            "DEBUG:minerl.env.malmo.instance.2e9d75:[02:02:16] [Netty Server IO #1/INFO]: Client attempting to join with 5 mods : minecraft@1.11.2,FML@8.0.99.99,malmomod@0.37.0,forge@13.20.0.2228,mcp@9.19\n",
            "DEBUG:minerl.env.malmo.instance.2e9d75:[02:02:16] [Netty Local Client IO #0/INFO]: [Netty Local Client IO #0] Client side modded connection established\n",
            "DEBUG:minerl.env.malmo.instance.2e9d75:[02:02:16] [Server thread/INFO]: [Server thread] Server side modded connection established\n",
            "DEBUG:minerl.env.malmo.instance.2e9d75:[02:02:16] [Server thread/INFO]: MineRLAgent[local:E:f82caae2] logged in with entity id 1321 at (182.5, 67.0, 233.5)\n",
            "DEBUG:minerl.env.malmo.instance.2e9d75:[02:02:16] [Server thread/INFO]: MineRLAgent joined the game\n",
            "DEBUG:minerl.env.malmo.instance.2e9d75:[02:02:16] [Server thread/INFO]: [STDOUT]: SERVER request state: DORMANT\n",
            "DEBUG:minerl.env.malmo.instance.2e9d75:[02:02:16] [Server thread/INFO]: [STDOUT]: SERVER enter state: DORMANT\n",
            "DEBUG:minerl.env.malmo.instance.2e9d75:[02:02:16] [Server thread/INFO]: [STDOUT]: INCOMING MISSION: Received MissionInit directly through ServerStateMachine constructor.\n",
            "DEBUG:minerl.env.malmo.instance.2e9d75:[02:02:16] [Server thread/INFO]: [STDOUT]: Mission received: MineRLNavigateDense-v0\n",
            "DEBUG:minerl.env.malmo.instance.2e9d75:[02:02:16] [Server thread/INFO]: Received mission: §9MineRLNavigateDense-v0\n",
            "DEBUG:minerl.env.malmo.instance.2e9d75:[02:02:16] [Server thread/INFO]: Source: §alocalhost\n",
            "DEBUG:minerl.env.malmo.instance.2e9d75:[02:02:16] [Server thread/INFO]: [STDOUT]: SERVER request state: BUILDING_WORLD\n",
            "DEBUG:minerl.env.malmo.instance.2e9d75:[02:02:16] [Server thread/INFO]: [STDOUT]: SERVER enter state: BUILDING_WORLD\n",
            "DEBUG:minerl.env.malmo.instance.2e9d75:[02:02:16] [Server thread/INFO]: [STDOUT]: SERVER request state: WAITING_FOR_AGENTS_TO_ASSEMBLE\n",
            "DEBUG:minerl.env.malmo.instance.2e9d75:[02:02:18] [Client thread/INFO]: [CHAT] Received mission: §9MineRLNavigateDense-v0\n",
            "DEBUG:minerl.env.malmo.instance.2e9d75:[02:02:18] [Client thread/INFO]: [CHAT] Source: §alocalhost\n",
            "DEBUG:minerl.env.malmo.instance.2e9d75:[02:02:18] [Client thread/INFO]: [STDOUT]: ***Telling server we are ready - MineRLAgent\n",
            "DEBUG:minerl.env.malmo.instance.2e9d75:[02:02:19] [Client thread/INFO]: [STDOUT]: ***Telling server we are ready - MineRLAgent\n",
            "DEBUG:minerl.env.malmo.instance.2e9d75:[02:02:20] [Client thread/INFO]: [STDOUT]: ***Telling server we are ready - MineRLAgent\n",
            "DEBUG:minerl.env.malmo.instance.2e9d75:[02:02:20] [Client thread/INFO]: [STDOUT]: ***Telling server we are ready - MineRLAgent\n",
            "DEBUG:minerl.env.malmo.instance.2e9d75:[02:02:21] [Client thread/INFO]: [STDOUT]: ***Telling server we are ready - MineRLAgent\n",
            "DEBUG:minerl.env.malmo.instance.2e9d75:[02:02:21] [Client thread/INFO]: [STDOUT]: ***Telling server we are ready - MineRLAgent\n",
            "DEBUG:minerl.env.malmo.instance.2e9d75:[02:02:22] [Server thread/INFO]: [STDOUT]: SERVER enter state: WAITING_FOR_AGENTS_TO_ASSEMBLE\n",
            "DEBUG:minerl.env.malmo.instance.2e9d75:[02:02:22] [Server thread/INFO]: [STDOUT]: Experiment requires: \n",
            "DEBUG:minerl.env.malmo.instance.2e9d75:[02:02:22] [Server thread/INFO]: [STDOUT]: >>>> MineRLAgent\n",
            "DEBUG:minerl.env.malmo.instance.2e9d75:[02:02:22] [Server thread/WARN]: Can't keep up! Did the system time change, or is the server overloaded? Running 8119ms behind, skipping 162 tick(s)\n",
            "DEBUG:minerl.env.malmo.instance.2e9d75:[02:02:24] [Client thread/INFO]: [STDOUT]: ***Telling server we are ready - MineRLAgent\n",
            "DEBUG:minerl.env.malmo.instance.2e9d75:[02:02:24] [Client thread/INFO]: [STDOUT]: CLIENT request state: RUNNING\n",
            "DEBUG:minerl.env.malmo.instance.2e9d75:[02:02:24] [Client thread/INFO]: [STDOUT]: CLIENT enter state: RUNNING\n",
            "DEBUG:minerl.env.malmo.instance.2e9d75:[02:02:24] [Server thread/INFO]: [STDOUT]: SERVER request state: RUNNING\n",
            "DEBUG:minerl.env.malmo.instance.2e9d75:[02:02:24] [Server thread/INFO]: [STDOUT]: SERVER enter state: RUNNING\n",
            "DEBUG:minerl.env.malmo.instance.2e9d75:[02:02:24] [Client thread/INFO]: [STDOUT]: Resized the window\n",
            "DEBUG:minerl.env.malmo.instance.2e9d75:[02:02:24] [Client thread/INFO]: [STDOUT]: Unpausing\n",
            "DEBUG:minerl.env.malmo.instance.2e9d75:[02:02:25] [Client thread/INFO]: [CHAT] §l300...\n"
          ],
          "name": "stderr"
        },
        {
          "output_type": "stream",
          "text": [
            "Total reward:  0.113250732421875\n",
            "Total reward:  0.19684600830078125\n"
          ],
          "name": "stdout"
        },
        {
          "output_type": "stream",
          "text": [
            "DEBUG:minerl.env.malmo.instance.2e9d75:[02:02:25] [Server thread/INFO]: [STDOUT]: Warning: managed 10/20 ticks this second.\n"
          ],
          "name": "stderr"
        },
        {
          "output_type": "stream",
          "text": [
            "Total reward:  0.2898406982421875\n",
            "Total reward:  0.3919219970703125\n",
            "Total reward:  0.5026092529296875\n",
            "Total reward:  0.6212158203125\n",
            "Total reward:  0.7468948364257812\n",
            "Total reward:  0.8786544799804688\n",
            "Total reward:  1.0153274536132812\n",
            "Total reward:  1.1555938720703125\n",
            "Total reward:  1.2979965209960938\n",
            "Total reward:  1.4545669555664062\n",
            "Total reward:  1.714935302734375\n"
          ],
          "name": "stdout"
        },
        {
          "output_type": "stream",
          "text": [
            "DEBUG:minerl.env.malmo.instance.2e9d75:[02:02:26] [Client thread/INFO]: [CHAT] §l299...\n",
            "DEBUG:minerl.env.malmo.instance.2e9d75:[02:02:26] [Server thread/INFO]: [STDOUT]: Warning: managed 11/20 ticks this second.\n"
          ],
          "name": "stderr"
        },
        {
          "output_type": "stream",
          "text": [
            "Total reward:  1.8789291381835938\n",
            "Total reward:  2.0450439453125\n",
            "Total reward:  2.2136306762695312\n",
            "Total reward:  2.3847885131835938\n",
            "Total reward:  2.558380126953125\n",
            "Total reward:  2.7340621948242188\n",
            "Total reward:  2.9112472534179688\n",
            "Total reward:  3.0891647338867188\n",
            "Total reward:  3.2668609619140625\n",
            "Total reward:  3.44317626953125\n",
            "Total reward:  3.6308059692382812\n",
            "Total reward:  3.9200363159179688\n",
            "Total reward:  4.099861145019531\n",
            "Total reward:  4.280311584472656\n"
          ],
          "name": "stdout"
        },
        {
          "output_type": "stream",
          "text": [
            "DEBUG:minerl.env.malmo.instance.2e9d75:[02:02:27] [Server thread/INFO]: [STDOUT]: Warning: managed 15/20 ticks this second.\n"
          ],
          "name": "stderr"
        },
        {
          "output_type": "stream",
          "text": [
            "Total reward:  4.4618682861328125\n",
            "Total reward:  4.644775390625\n",
            "Total reward:  4.829010009765625\n",
            "Total reward:  5.014305114746094\n"
          ],
          "name": "stdout"
        },
        {
          "output_type": "stream",
          "text": [
            "DEBUG:minerl.env.malmo.instance.2e9d75:[02:02:28] [Client thread/INFO]: [CHAT] §l298...\n"
          ],
          "name": "stderr"
        },
        {
          "output_type": "stream",
          "text": [
            "Total reward:  5.200172424316406\n",
            "Total reward:  5.385902404785156\n",
            "Total reward:  5.570564270019531\n",
            "Total reward:  5.753059387207031\n",
            "Total reward:  5.946556091308594\n",
            "Total reward:  6.241798400878906\n",
            "Total reward:  6.42498779296875\n",
            "Total reward:  6.6083984375\n",
            "Total reward:  6.7925872802734375\n",
            "Total reward:  6.977821350097656\n",
            "Total reward:  7.1641082763671875\n"
          ],
          "name": "stdout"
        },
        {
          "output_type": "stream",
          "text": [
            "DEBUG:minerl.env.malmo.instance.2e9d75:[02:02:28] [Server thread/INFO]: [STDOUT]: Warning: managed 17/20 ticks this second.\n"
          ],
          "name": "stderr"
        },
        {
          "output_type": "stream",
          "text": [
            "Total reward:  7.3512115478515625\n",
            "Total reward:  7.538642883300781\n",
            "Total reward:  7.725685119628906\n",
            "Total reward:  7.911415100097656\n",
            "Total reward:  8.094696044921875\n",
            "Total reward:  8.192779541015625\n",
            "Total reward:  8.209922790527344\n",
            "Total reward:  8.221694946289062\n",
            "Total reward:  8.229400634765625\n",
            "Total reward:  8.234024047851562\n",
            "Total reward:  8.236198425292969\n"
          ],
          "name": "stdout"
        },
        {
          "output_type": "stream",
          "text": [
            "DEBUG:minerl.env.malmo.instance.2e9d75:[02:02:29] [Client thread/INFO]: [CHAT] §l297...\n"
          ],
          "name": "stderr"
        },
        {
          "output_type": "stream",
          "text": [
            "Total reward:  8.236282348632812\n",
            "Total reward:  8.234306335449219\n",
            "Total reward:  8.230072021484375\n"
          ],
          "name": "stdout"
        },
        {
          "output_type": "stream",
          "text": [
            "DEBUG:minerl.env.malmo.instance.2e9d75:[02:02:29] [Server thread/INFO]: [STDOUT]: Warning: managed 13/20 ticks this second.\n"
          ],
          "name": "stderr"
        },
        {
          "output_type": "stream",
          "text": [
            "Total reward:  8.223114013671875\n",
            "Total reward:  8.212730407714844\n",
            "Total reward:  8.198005676269531\n",
            "Total reward:  8.192794799804688\n",
            "Total reward:  8.209938049316406\n",
            "Total reward:  8.221702575683594\n",
            "Total reward:  8.229415893554688\n",
            "Total reward:  8.234039306640625\n",
            "Total reward:  8.236213684082031\n",
            "Total reward:  8.236297607421875\n",
            "Total reward:  8.234321594238281\n",
            "Total reward:  8.230087280273438\n",
            "Total reward:  8.223129272460938\n"
          ],
          "name": "stdout"
        },
        {
          "output_type": "stream",
          "text": [
            "DEBUG:minerl.env.malmo.instance.2e9d75:[02:02:30] [Server thread/INFO]: [STDOUT]: Warning: managed 11/20 ticks this second.\n"
          ],
          "name": "stderr"
        },
        {
          "output_type": "stream",
          "text": [
            "Total reward:  8.212745666503906\n",
            "Total reward:  8.198020935058594\n",
            "Total reward:  8.192802429199219\n"
          ],
          "name": "stdout"
        },
        {
          "output_type": "stream",
          "text": [
            "DEBUG:minerl.env.malmo.instance.2e9d75:[02:02:31] [Client thread/INFO]: [CHAT] §l296...\n"
          ],
          "name": "stderr"
        },
        {
          "output_type": "stream",
          "text": [
            "Total reward:  8.209953308105469\n",
            "Total reward:  8.221717834472656\n",
            "Total reward:  8.22943115234375\n",
            "Total reward:  8.234046936035156\n",
            "Total reward:  8.236228942871094\n",
            "Total reward:  8.236305236816406\n",
            "Total reward:  8.234336853027344\n",
            "Total reward:  8.2301025390625\n",
            "Total reward:  8.22314453125\n"
          ],
          "name": "stdout"
        },
        {
          "output_type": "stream",
          "text": [
            "DEBUG:minerl.env.malmo.instance.2e9d75:[02:02:31] [Server thread/INFO]: [STDOUT]: Warning: managed 12/20 ticks this second.\n"
          ],
          "name": "stderr"
        },
        {
          "output_type": "stream",
          "text": [
            "Total reward:  8.212760925292969\n",
            "Total reward:  8.198036193847656\n",
            "Total reward:  8.192817687988281\n",
            "Total reward:  8.209968566894531\n",
            "Total reward:  8.221733093261719\n",
            "Total reward:  8.229446411132812\n",
            "Total reward:  8.234062194824219\n",
            "Total reward:  8.236244201660156\n",
            "Total reward:  8.236320495605469\n",
            "Total reward:  "
          ],
          "name": "stdout"
        },
        {
          "output_type": "stream",
          "text": [
            "DEBUG:minerl.env.malmo.instance.2e9d75:[02:02:32] [Client thread/INFO]: [CHAT] §l295...\n",
            "DEBUG:minerl.env.malmo.instance.2e9d75:[02:02:32] [Server thread/INFO]: [STDOUT]: Warning: managed 12/20 ticks this second.\n"
          ],
          "name": "stderr"
        },
        {
          "output_type": "stream",
          "text": [
            "8.234352111816406\n",
            "Total reward:  8.230117797851562\n",
            "Total reward:  8.223159790039062\n",
            "Total reward:  8.212776184082031\n",
            "Total reward:  8.198051452636719\n",
            "Total reward:  8.192832946777344\n",
            "Total reward:  8.209983825683594\n",
            "Total reward:  8.221748352050781\n",
            "Total reward:  8.229454040527344\n",
            "Total reward:  8.234077453613281\n",
            "Total reward:  8.236259460449219\n",
            "Total reward:  8.236335754394531\n",
            "Total reward:  8.234367370605469\n",
            "Total reward:  8.230133056640625\n",
            "Total reward:  8.223175048828125\n",
            "Total reward:  8.212791442871094\n"
          ],
          "name": "stdout"
        },
        {
          "output_type": "stream",
          "text": [
            "DEBUG:minerl.env.malmo.instance.2e9d75:[02:02:33] [Server thread/INFO]: [STDOUT]: Warning: managed 13/20 ticks this second.\n"
          ],
          "name": "stderr"
        },
        {
          "output_type": "stream",
          "text": [
            "Total reward:  8.198066711425781\n",
            "Total reward:  8.192848205566406\n",
            "Total reward:  8.209999084472656\n",
            "Total reward:  8.221763610839844\n",
            "Total reward:  8.229469299316406\n"
          ],
          "name": "stdout"
        },
        {
          "output_type": "stream",
          "text": [
            "DEBUG:minerl.env.malmo.instance.2e9d75:[02:02:34] [Client thread/INFO]: [CHAT] §l294...\n"
          ],
          "name": "stderr"
        },
        {
          "output_type": "stream",
          "text": [
            "Total reward:  8.234092712402344\n",
            "Total reward:  8.236274719238281\n",
            "Total reward:  8.236351013183594\n",
            "Total reward:  8.234382629394531\n",
            "Total reward:  8.230148315429688\n",
            "Total reward:  8.223190307617188\n"
          ],
          "name": "stdout"
        },
        {
          "output_type": "stream",
          "text": [
            "DEBUG:minerl.env.malmo.instance.2e9d75:[02:02:34] [Server thread/INFO]: [STDOUT]: Warning: managed 12/20 ticks this second.\n"
          ],
          "name": "stderr"
        },
        {
          "output_type": "stream",
          "text": [
            "Total reward:  8.212806701660156\n",
            "Total reward:  8.198081970214844\n",
            "Total reward:  8.192863464355469\n",
            "Total reward:  8.210014343261719\n",
            "Total reward:  8.221778869628906\n",
            "Total reward:  8.2294921875\n",
            "Total reward:  8.234107971191406\n",
            "Total reward:  8.236289978027344\n",
            "Total reward:  8.236366271972656\n",
            "Total reward:  8.234397888183594\n",
            "Total reward:  8.23016357421875\n",
            "Total reward:  8.22320556640625\n",
            "Total reward:  8.212821960449219\n",
            "Total reward:  8.198097229003906\n",
            "Total reward:  8.192878723144531\n"
          ],
          "name": "stdout"
        },
        {
          "output_type": "stream",
          "text": [
            "DEBUG:minerl.env.malmo.instance.2e9d75:[02:02:36] [Server thread/INFO]: [STDOUT]: Warning: managed 14/20 ticks this second.\n",
            "DEBUG:minerl.env.malmo.instance.2e9d75:[02:02:36] [Client thread/INFO]: [CHAT] §l293...\n"
          ],
          "name": "stderr"
        },
        {
          "output_type": "stream",
          "text": [
            "Total reward:  8.210029602050781\n",
            "Total reward:  8.221794128417969\n",
            "Total reward:  8.229507446289062\n",
            "Total reward:  8.234123229980469\n",
            "Total reward:  8.236305236816406\n",
            "Total reward:  8.236381530761719\n",
            "Total reward:  8.234413146972656\n",
            "Total reward:  8.230178833007812\n",
            "Total reward:  8.223220825195312\n",
            "Total reward:  8.212837219238281\n",
            "Total reward:  8.198112487792969\n",
            "Total reward:  8.192893981933594\n"
          ],
          "name": "stdout"
        },
        {
          "output_type": "stream",
          "text": [
            "DEBUG:minerl.env.malmo.instance.2e9d75:[02:02:37] [Server thread/INFO]: [STDOUT]: Warning: managed 14/20 ticks this second.\n"
          ],
          "name": "stderr"
        },
        {
          "output_type": "stream",
          "text": [
            "Total reward:  8.210044860839844\n",
            "Total reward:  8.221809387207031\n",
            "Total reward:  8.229522705078125\n",
            "Total reward:  8.234138488769531\n",
            "Total reward:  8.236320495605469\n",
            "Total reward:  8.236396789550781\n",
            "Total reward:  8.234428405761719\n",
            "Total reward:  8.230194091796875\n",
            "Total reward:  8.223236083984375\n"
          ],
          "name": "stdout"
        },
        {
          "output_type": "stream",
          "text": [
            "DEBUG:minerl.env.malmo.instance.2e9d75:[02:02:37] [Client thread/INFO]: [CHAT] §l292...\n"
          ],
          "name": "stderr"
        },
        {
          "output_type": "stream",
          "text": [
            "Total reward:  8.212852478027344\n",
            "Total reward:  8.198127746582031\n",
            "Total reward:  8.192909240722656\n",
            "Total reward:  8.210060119628906\n",
            "Total reward:  8.221824645996094\n",
            "Total reward:  8.229537963867188\n"
          ],
          "name": "stdout"
        },
        {
          "output_type": "stream",
          "text": [
            "DEBUG:minerl.env.malmo.instance.2e9d75:[02:02:38] [Server thread/INFO]: [STDOUT]: Warning: managed 13/20 ticks this second.\n"
          ],
          "name": "stderr"
        },
        {
          "output_type": "stream",
          "text": [
            "Total reward:  8.234153747558594\n",
            "Total reward:  8.236335754394531\n",
            "Total reward:  8.236412048339844\n",
            "Total reward:  8.234443664550781\n",
            "Total reward:  8.230209350585938\n",
            "Total reward:  8.223251342773438\n",
            "Total reward:  8.212867736816406\n",
            "Total reward:  8.198143005371094\n",
            "Total reward:  8.192924499511719\n",
            "Total reward:  8.210075378417969\n",
            "Total reward:  8.221839904785156\n"
          ],
          "name": "stdout"
        },
        {
          "output_type": "stream",
          "text": [
            "DEBUG:minerl.env.malmo.instance.2e9d75:[02:02:39] [Server thread/INFO]: [STDOUT]: Warning: managed 11/20 ticks this second.\n"
          ],
          "name": "stderr"
        },
        {
          "output_type": "stream",
          "text": [
            "Total reward:  8.22955322265625\n",
            "Total reward:  8.234169006347656\n",
            "Total reward:  8.236351013183594\n"
          ],
          "name": "stdout"
        },
        {
          "output_type": "stream",
          "text": [
            "DEBUG:minerl.env.malmo.instance.2e9d75:[02:02:39] [Client thread/INFO]: [CHAT] §l291...\n"
          ],
          "name": "stderr"
        },
        {
          "output_type": "stream",
          "text": [
            "Total reward:  8.236427307128906\n",
            "Total reward:  8.234458923339844\n",
            "Total reward:  8.230224609375\n",
            "Total reward:  8.2232666015625\n",
            "Total reward:  8.212882995605469\n",
            "Total reward:  8.198158264160156\n",
            "Total reward:  8.192939758300781\n",
            "Total reward:  8.210090637207031\n"
          ],
          "name": "stdout"
        },
        {
          "output_type": "stream",
          "text": [
            "DEBUG:minerl.env.malmo.instance.2e9d75:[02:02:40] [Server thread/INFO]: [STDOUT]: Warning: managed 11/20 ticks this second.\n"
          ],
          "name": "stderr"
        },
        {
          "output_type": "stream",
          "text": [
            "Total reward:  8.221855163574219\n",
            "Total reward:  8.229568481445312\n",
            "Total reward:  8.234184265136719\n",
            "Total reward:  8.236366271972656\n",
            "Total reward:  8.236442565917969\n",
            "Total reward:  8.234474182128906\n",
            "Total reward:  8.230239868164062\n",
            "Total reward:  8.223281860351562\n",
            "Total reward:  8.212898254394531\n",
            "Total reward:  8.198173522949219\n",
            "Total reward:  8.192955017089844\n",
            "Total reward:  8.210105895996094\n"
          ],
          "name": "stdout"
        },
        {
          "output_type": "stream",
          "text": [
            "DEBUG:minerl.env.malmo.instance.2e9d75:[02:02:41] [Client thread/INFO]: [CHAT] §l290...\n",
            "DEBUG:minerl.env.malmo.instance.2e9d75:[02:02:41] [Server thread/INFO]: [STDOUT]: Warning: managed 12/20 ticks this second.\n"
          ],
          "name": "stderr"
        },
        {
          "output_type": "stream",
          "text": [
            "Total reward:  8.221870422363281\n",
            "Total reward:  8.229576110839844\n",
            "Total reward:  8.234199523925781\n",
            "Total reward:  8.236381530761719\n",
            "Total reward:  8.236457824707031\n",
            "Total reward:  8.234489440917969\n",
            "Total reward:  8.230255126953125\n",
            "Total reward:  8.223297119140625\n",
            "Total reward:  8.212905883789062\n",
            "Total reward:  8.198188781738281\n",
            "Total reward:  8.192970275878906\n"
          ],
          "name": "stdout"
        },
        {
          "output_type": "stream",
          "text": [
            "DEBUG:minerl.env.malmo.instance.2e9d75:[02:02:42] [Server thread/INFO]: [STDOUT]: Warning: managed 12/20 ticks this second.\n"
          ],
          "name": "stderr"
        },
        {
          "output_type": "stream",
          "text": [
            "Total reward:  8.210121154785156\n",
            "Total reward:  8.221885681152344\n",
            "Total reward:  8.229591369628906\n",
            "Total reward:  8.234214782714844\n",
            "Total reward:  8.236396789550781\n",
            "Total reward:  8.236473083496094\n",
            "Total reward:  8.234504699707031\n",
            "Total reward:  8.230270385742188\n"
          ],
          "name": "stdout"
        },
        {
          "output_type": "stream",
          "text": [
            "DEBUG:minerl.env.malmo.instance.2e9d75:[02:02:42] [Client thread/INFO]: [CHAT] §l289...\n"
          ],
          "name": "stderr"
        },
        {
          "output_type": "stream",
          "text": [
            "Total reward:  8.223312377929688\n",
            "Total reward:  8.212921142578125\n",
            "Total reward:  8.198204040527344\n",
            "Total reward:  8.192985534667969\n",
            "Total reward:  8.210136413574219\n"
          ],
          "name": "stdout"
        },
        {
          "output_type": "stream",
          "text": [
            "DEBUG:minerl.env.malmo.instance.2e9d75:[02:02:43] [Server thread/INFO]: [STDOUT]: Warning: managed 12/20 ticks this second.\n"
          ],
          "name": "stderr"
        },
        {
          "output_type": "stream",
          "text": [
            "Total reward:  8.221900939941406\n",
            "Total reward:  8.229606628417969\n",
            "Total reward:  8.234230041503906\n",
            "Total reward:  8.236412048339844\n",
            "Total reward:  8.236488342285156\n",
            "Total reward:  8.234519958496094\n",
            "Total reward:  8.23028564453125\n",
            "Total reward:  8.22332763671875\n",
            "Total reward:  8.212936401367188\n",
            "Total reward:  8.198219299316406\n",
            "Total reward:  8.193000793457031\n"
          ],
          "name": "stdout"
        },
        {
          "output_type": "stream",
          "text": [
            "DEBUG:minerl.env.malmo.instance.2e9d75:[02:02:44] [Server thread/INFO]: [STDOUT]: Warning: managed 11/20 ticks this second.\n"
          ],
          "name": "stderr"
        },
        {
          "output_type": "stream",
          "text": [
            "Total reward:  8.21014404296875\n",
            "Total reward:  8.221916198730469\n",
            "Total reward:  8.229621887207031\n"
          ],
          "name": "stdout"
        },
        {
          "output_type": "stream",
          "text": [
            "DEBUG:minerl.env.malmo.instance.2e9d75:[02:02:44] [Client thread/INFO]: [CHAT] §l288...\n"
          ],
          "name": "stderr"
        },
        {
          "output_type": "stream",
          "text": [
            "Total reward:  8.234245300292969\n",
            "Total reward:  8.236427307128906\n",
            "Total reward:  8.236503601074219\n",
            "Total reward:  8.234535217285156\n",
            "Total reward:  8.230300903320312\n",
            "Total reward:  8.223335266113281\n",
            "Total reward:  8.21295166015625\n",
            "Total reward:  8.198226928710938\n",
            "Total reward:  8.193016052246094\n"
          ],
          "name": "stdout"
        },
        {
          "output_type": "stream",
          "text": [
            "DEBUG:minerl.env.malmo.instance.2e9d75:[02:02:45] [Server thread/INFO]: [STDOUT]: Warning: managed 12/20 ticks this second.\n"
          ],
          "name": "stderr"
        },
        {
          "output_type": "stream",
          "text": [
            "Total reward:  8.210159301757812\n",
            "Total reward:  8.221931457519531\n",
            "Total reward:  8.229637145996094\n",
            "Total reward:  8.234260559082031\n",
            "Total reward:  8.236442565917969\n",
            "Total reward:  8.236518859863281\n",
            "Total reward:  8.234550476074219\n",
            "Total reward:  8.230316162109375\n",
            "Total reward:  8.223350524902344\n",
            "Total reward:  8.212966918945312\n",
            "Total reward:  8.1982421875\n"
          ],
          "name": "stdout"
        },
        {
          "output_type": "stream",
          "text": [
            "DEBUG:minerl.env.malmo.instance.2e9d75:[02:02:46] [Server thread/INFO]: [STDOUT]: Warning: managed 12/20 ticks this second.\n",
            "DEBUG:minerl.env.malmo.instance.2e9d75:[02:02:46] [Client thread/INFO]: [CHAT] §l287...\n"
          ],
          "name": "stderr"
        },
        {
          "output_type": "stream",
          "text": [
            "Total reward:  8.193031311035156\n",
            "Total reward:  8.210174560546875\n",
            "Total reward:  8.221946716308594\n",
            "Total reward:  8.229652404785156\n",
            "Total reward:  8.234275817871094\n",
            "Total reward:  8.236457824707031\n",
            "Total reward:  8.236534118652344\n",
            "Total reward:  8.234565734863281\n",
            "Total reward:  8.230331420898438\n",
            "Total reward:  8.223365783691406\n",
            "Total reward:  8.212982177734375\n"
          ],
          "name": "stdout"
        },
        {
          "output_type": "stream",
          "text": [
            "DEBUG:minerl.env.malmo.instance.2e9d75:[02:02:47] [Server thread/INFO]: [STDOUT]: Warning: managed 11/20 ticks this second.\n"
          ],
          "name": "stderr"
        },
        {
          "output_type": "stream",
          "text": [
            "Total reward:  8.198257446289062\n",
            "Total reward:  8.193046569824219\n",
            "Total reward:  8.210189819335938\n",
            "Total reward:  8.221954345703125\n",
            "Total reward:  8.229667663574219\n",
            "Total reward:  8.234291076660156\n",
            "Total reward:  8.236465454101562\n",
            "Total reward:  8.236549377441406\n",
            "Total reward:  8.234573364257812\n",
            "Total reward:  8.230339050292969\n"
          ],
          "name": "stdout"
        },
        {
          "output_type": "stream",
          "text": [
            "DEBUG:minerl.env.malmo.instance.2e9d75:[02:02:48] [Client thread/INFO]: [CHAT] §l286...\n"
          ],
          "name": "stderr"
        },
        {
          "output_type": "stream",
          "text": [
            "Total reward:  8.223381042480469\n",
            "Total reward:  8.212997436523438\n",
            "Total reward:  8.198272705078125\n"
          ],
          "name": "stdout"
        },
        {
          "output_type": "stream",
          "text": [
            "DEBUG:minerl.env.malmo.instance.2e9d75:[02:02:48] [Server thread/INFO]: [STDOUT]: Warning: managed 12/20 ticks this second.\n"
          ],
          "name": "stderr"
        },
        {
          "output_type": "stream",
          "text": [
            "Total reward:  8.193061828613281\n",
            "Total reward:  8.210205078125\n",
            "Total reward:  8.221969604492188\n",
            "Total reward:  8.229682922363281\n",
            "Total reward:  8.234306335449219\n",
            "Total reward:  8.236480712890625\n",
            "Total reward:  8.236564636230469\n",
            "Total reward:  8.234588623046875\n",
            "Total reward:  8.230354309082031\n",
            "Total reward:  8.223396301269531\n",
            "Total reward:  8.2130126953125\n",
            "Total reward:  8.198287963867188\n"
          ],
          "name": "stdout"
        },
        {
          "output_type": "stream",
          "text": [
            "DEBUG:minerl.env.malmo.instance.2e9d75:[02:02:49] [Server thread/INFO]: [STDOUT]: Warning: managed 13/20 ticks this second.\n"
          ],
          "name": "stderr"
        },
        {
          "output_type": "stream",
          "text": [
            "Total reward:  8.193069458007812\n",
            "Total reward:  8.210220336914062\n",
            "Total reward:  8.22198486328125\n",
            "Total reward:  8.229698181152344\n",
            "Total reward:  8.23431396484375\n",
            "Total reward:  8.236495971679688\n"
          ],
          "name": "stdout"
        },
        {
          "output_type": "stream",
          "text": [
            "DEBUG:minerl.env.malmo.instance.2e9d75:[02:02:50] [Client thread/INFO]: [CHAT] §l285...\n"
          ],
          "name": "stderr"
        },
        {
          "output_type": "stream",
          "text": [
            "Total reward:  8.236572265625\n",
            "Total reward:  8.234603881835938\n",
            "Total reward:  8.230369567871094\n",
            "Total reward:  8.223411560058594\n",
            "Total reward:  8.213020324707031\n",
            "Total reward:  8.19830322265625\n"
          ],
          "name": "stdout"
        },
        {
          "output_type": "stream",
          "text": [
            "DEBUG:minerl.env.malmo.instance.2e9d75:[02:02:50] [Server thread/INFO]: [STDOUT]: Warning: managed 13/20 ticks this second.\n"
          ],
          "name": "stderr"
        },
        {
          "output_type": "stream",
          "text": [
            "Total reward:  8.193084716796875\n",
            "Total reward:  8.210235595703125\n",
            "Total reward:  8.222000122070312\n",
            "Total reward:  8.229705810546875\n",
            "Total reward:  8.234329223632812\n",
            "Total reward:  8.23651123046875\n",
            "Total reward:  8.236587524414062\n",
            "Total reward:  8.234619140625\n",
            "Total reward:  8.230384826660156\n",
            "Total reward:  8.223419189453125\n",
            "Total reward:  8.213035583496094\n",
            "Total reward:  8.198310852050781\n"
          ],
          "name": "stdout"
        },
        {
          "output_type": "stream",
          "text": [
            "DEBUG:minerl.env.malmo.instance.2e9d75:[02:02:51] [Client thread/INFO]: [CHAT] §l284...\n",
            "DEBUG:minerl.env.malmo.instance.2e9d75:[02:02:51] [Server thread/INFO]: [STDOUT]: Warning: managed 12/20 ticks this second.\n"
          ],
          "name": "stderr"
        },
        {
          "output_type": "stream",
          "text": [
            "Total reward:  8.193099975585938\n",
            "Total reward:  8.210243225097656\n",
            "Total reward:  8.222015380859375\n",
            "Total reward:  8.229721069335938\n",
            "Total reward:  8.234344482421875\n",
            "Total reward:  8.236526489257812\n",
            "Total reward:  8.236602783203125\n",
            "Total reward:  8.234634399414062\n",
            "Total reward:  8.230400085449219\n",
            "Total reward:  8.223434448242188\n",
            "Total reward:  8.213050842285156\n",
            "Total reward:  8.198326110839844\n",
            "Total reward:  8.193115234375\n",
            "Total reward:  8.210258483886719\n",
            "Total reward:  8.222023010253906\n"
          ],
          "name": "stdout"
        },
        {
          "output_type": "stream",
          "text": [
            "DEBUG:minerl.env.malmo.instance.2e9d75:[02:02:52] [Server thread/INFO]: [STDOUT]: Warning: managed 13/20 ticks this second.\n"
          ],
          "name": "stderr"
        },
        {
          "output_type": "stream",
          "text": [
            "Total reward:  8.229736328125\n",
            "Total reward:  8.234359741210938\n",
            "Total reward:  8.236534118652344\n",
            "Total reward:  8.236618041992188\n",
            "Total reward:  8.234642028808594\n",
            "Total reward:  8.23040771484375\n",
            "Total reward:  8.22344970703125\n"
          ],
          "name": "stdout"
        },
        {
          "output_type": "stream",
          "text": [
            "DEBUG:minerl.env.malmo.instance.2e9d75:[02:02:53] [Client thread/INFO]: [CHAT] §l283...\n"
          ],
          "name": "stderr"
        },
        {
          "output_type": "stream",
          "text": [
            "Total reward:  8.213066101074219\n",
            "Total reward:  8.198341369628906\n",
            "Total reward:  8.193130493164062\n",
            "Total reward:  8.210273742675781\n",
            "Total reward:  8.222038269042969\n",
            "Total reward:  8.229751586914062\n"
          ],
          "name": "stdout"
        },
        {
          "output_type": "stream",
          "text": [
            "DEBUG:minerl.env.malmo.instance.2e9d75:[02:02:53] [Server thread/INFO]: [STDOUT]: Warning: managed 13/20 ticks this second.\n"
          ],
          "name": "stderr"
        },
        {
          "output_type": "stream",
          "text": [
            "Total reward:  8.234367370605469\n",
            "Total reward:  8.236549377441406\n",
            "Total reward:  8.236625671386719\n",
            "Total reward:  8.234657287597656\n",
            "Total reward:  8.230422973632812\n",
            "Total reward:  8.223464965820312\n",
            "Total reward:  8.213081359863281\n",
            "Total reward:  8.198356628417969\n",
            "Total reward:  8.193138122558594\n",
            "Total reward:  8.210289001464844\n",
            "Total reward:  8.222053527832031\n"
          ],
          "name": "stdout"
        },
        {
          "output_type": "stream",
          "text": [
            "DEBUG:minerl.env.malmo.instance.2e9d75:[02:02:54] [Client thread/INFO]: [CHAT] §l282...\n"
          ],
          "name": "stderr"
        },
        {
          "output_type": "stream",
          "text": [
            "Total reward:  8.229759216308594\n",
            "Total reward:  8.234382629394531\n",
            "Total reward:  8.236564636230469\n",
            "Total reward:  8.236640930175781\n"
          ],
          "name": "stdout"
        },
        {
          "output_type": "stream",
          "text": [
            "DEBUG:minerl.env.malmo.instance.2e9d75:[02:02:54] [Server thread/INFO]: [STDOUT]: Warning: managed 15/20 ticks this second.\n"
          ],
          "name": "stderr"
        },
        {
          "output_type": "stream",
          "text": [
            "Total reward:  8.234672546386719\n",
            "Total reward:  8.230438232421875\n",
            "Total reward:  8.223480224609375\n",
            "Total reward:  8.213088989257812\n",
            "Total reward:  8.1983642578125\n",
            "Total reward:  8.193153381347656\n",
            "Total reward:  8.210296630859375\n",
            "Total reward:  8.222068786621094\n",
            "Total reward:  8.249366760253906\n"
          ],
          "name": "stdout"
        },
        {
          "output_type": "stream",
          "text": [
            "DEBUG:minerl.env.malmo.instance.2e9d75:[02:02:55] [Server thread/INFO]: [STDOUT]: Warning: managed 9/20 ticks this second.\n"
          ],
          "name": "stderr"
        },
        {
          "output_type": "stream",
          "text": [
            "Total reward:  8.291412353515625\n",
            "Total reward:  8.347236633300781\n",
            "Total reward:  8.415725708007812\n",
            "Total reward:  8.495597839355469\n",
            "Total reward:  8.585411071777344\n",
            "Total reward:  8.689888000488281\n",
            "Total reward:  8.883567810058594\n",
            "Total reward:  9.098411560058594\n",
            "Total reward:  9.236236572265625\n"
          ],
          "name": "stdout"
        },
        {
          "output_type": "stream",
          "text": [
            "DEBUG:minerl.env.malmo.instance.2e9d75:[02:02:56] [Client thread/INFO]: [CHAT] §l281...\n",
            "DEBUG:minerl.env.malmo.instance.2e9d75:[02:02:56] [Server thread/INFO]: [STDOUT]: Warning: managed 10/20 ticks this second.\n"
          ],
          "name": "stderr"
        },
        {
          "output_type": "stream",
          "text": [
            "Total reward:  9.379051208496094\n",
            "Total reward:  9.527091979980469\n",
            "Total reward:  9.680351257324219\n",
            "Total reward:  9.838554382324219\n",
            "Total reward:  10.001190185546875\n",
            "Total reward:  10.167533874511719\n",
            "Total reward:  10.336631774902344\n",
            "Total reward:  10.50732421875\n",
            "Total reward:  10.678260803222656\n",
            "Total reward:  10.858528137207031\n",
            "Total reward:  11.135269165039062\n",
            "Total reward:  11.306930541992188\n"
          ],
          "name": "stdout"
        },
        {
          "output_type": "stream",
          "text": [
            "DEBUG:minerl.env.malmo.instance.2e9d75:[02:02:57] [Server thread/INFO]: [STDOUT]: Warning: managed 12/20 ticks this second.\n"
          ],
          "name": "stderr"
        },
        {
          "output_type": "stream",
          "text": [
            "Total reward:  11.48046875\n",
            "Total reward:  11.656425476074219\n",
            "Total reward:  11.835044860839844\n",
            "Total reward:  12.016304016113281\n",
            "Total reward:  12.199897766113281\n",
            "Total reward:  12.385261535644531\n",
            "Total reward:  12.571598052978516\n",
            "Total reward:  12.757877349853516\n",
            "Total reward:  12.942852020263672\n"
          ],
          "name": "stdout"
        },
        {
          "output_type": "stream",
          "text": [
            "DEBUG:minerl.env.malmo.instance.2e9d75:[02:02:58] [Client thread/INFO]: [CHAT] §l280...\n"
          ],
          "name": "stderr"
        },
        {
          "output_type": "stream",
          "text": [
            "Total reward:  13.136077880859375\n",
            "Total reward:  13.42513656616211\n",
            "Total reward:  13.603557586669922\n",
            "Total reward:  13.78316879272461\n",
            "Total reward:  13.964595794677734\n",
            "Total reward:  14.148155212402344\n"
          ],
          "name": "stdout"
        },
        {
          "output_type": "stream",
          "text": [
            "DEBUG:minerl.env.malmo.instance.2e9d75:[02:02:59] [Server thread/INFO]: [STDOUT]: Warning: managed 14/20 ticks this second.\n"
          ],
          "name": "stderr"
        },
        {
          "output_type": "stream",
          "text": [
            "Total reward:  14.333873748779297\n",
            "Total reward:  14.521488189697266\n",
            "Total reward:  14.710464477539062\n",
            "Total reward:  14.900016784667969\n",
            "Total reward:  15.089111328125\n",
            "Total reward:  15.276481628417969\n",
            "Total reward:  15.472091674804688\n",
            "Total reward:  15.763900756835938\n",
            "Total reward:  15.943866729736328\n",
            "Total reward:  16.12479019165039\n",
            "Total reward:  16.307350158691406\n"
          ],
          "name": "stdout"
        },
        {
          "output_type": "stream",
          "text": [
            "DEBUG:minerl.env.malmo.instance.2e9d75:[02:02:59] [Client thread/INFO]: [CHAT] §l279...\n"
          ],
          "name": "stderr"
        },
        {
          "output_type": "stream",
          "text": [
            "Total reward:  16.491901397705078\n",
            "Total reward:  16.678482055664062\n",
            "Total reward:  16.866840362548828\n",
            "Total reward:  17.056442260742188\n"
          ],
          "name": "stdout"
        },
        {
          "output_type": "stream",
          "text": [
            "DEBUG:minerl.env.malmo.instance.2e9d75:[02:03:00] [Server thread/INFO]: [STDOUT]: Warning: managed 15/20 ticks this second.\n"
          ],
          "name": "stderr"
        },
        {
          "output_type": "stream",
          "text": [
            "Total reward:  17.246482849121094\n",
            "Total reward:  17.435901641845703\n",
            "Total reward:  17.623397827148438\n",
            "Total reward:  17.807430267333984\n",
            "Total reward:  17.986244201660156\n",
            "Total reward:  18.157882690429688\n",
            "Total reward:  18.32018280029297\n",
            "Total reward:  18.470809936523438\n",
            "Total reward:  18.6585693359375\n",
            "Total reward:  18.791015625\n",
            "Total reward:  18.889385223388672\n",
            "Total reward:  18.9930419921875\n",
            "Total reward:  19.102008819580078\n"
          ],
          "name": "stdout"
        },
        {
          "output_type": "stream",
          "text": [
            "DEBUG:minerl.env.malmo.instance.2e9d75:[02:03:01] [Server thread/INFO]: [STDOUT]: Warning: managed 14/20 ticks this second.\n"
          ],
          "name": "stderr"
        },
        {
          "output_type": "stream",
          "text": [
            "Total reward:  19.216014862060547\n",
            "Total reward:  19.334522247314453\n",
            "Total reward:  19.456741333007812\n",
            "Total reward:  19.581626892089844\n",
            "Total reward:  19.707908630371094\n",
            "Total reward:  19.834087371826172\n"
          ],
          "name": "stdout"
        },
        {
          "output_type": "stream",
          "text": [
            "DEBUG:minerl.env.malmo.instance.2e9d75:[02:03:01] [Client thread/INFO]: [CHAT] §l278...\n"
          ],
          "name": "stderr"
        },
        {
          "output_type": "stream",
          "text": [
            "Total reward:  19.958454132080078\n",
            "Total reward:  20.079097747802734\n",
            "Total reward:  20.193912506103516\n",
            "Total reward:  20.347030639648438\n",
            "Total reward:  20.64276123046875\n",
            "Total reward:  20.832454681396484\n",
            "Total reward:  21.01810073852539\n"
          ],
          "name": "stdout"
        },
        {
          "output_type": "stream",
          "text": [
            "DEBUG:minerl.env.malmo.instance.2e9d75:[02:03:02] [Server thread/INFO]: [STDOUT]: Warning: managed 13/20 ticks this second.\n"
          ],
          "name": "stderr"
        },
        {
          "output_type": "stream",
          "text": [
            "Total reward:  21.200424194335938\n",
            "Total reward:  21.379798889160156\n",
            "Total reward:  21.556270599365234\n",
            "Total reward:  21.729557037353516\n",
            "Total reward:  21.89908218383789\n",
            "Total reward:  22.063983917236328\n",
            "Total reward:  22.223114013671875\n",
            "Total reward:  22.375076293945312\n",
            "Total reward:  22.51822280883789\n",
            "Total reward:  22.650676727294922\n"
          ],
          "name": "stdout"
        },
        {
          "output_type": "stream",
          "text": [
            "DEBUG:minerl.env.malmo.instance.2e9d75:[02:03:03] [Client thread/INFO]: [CHAT] §l277...\n"
          ],
          "name": "stderr"
        },
        {
          "output_type": "stream",
          "text": [
            "Total reward:  22.82672119140625\n",
            "Total reward:  23.1563720703125\n",
            "Total reward:  23.366962432861328\n",
            "Total reward:  23.570293426513672\n"
          ],
          "name": "stdout"
        },
        {
          "output_type": "stream",
          "text": [
            "DEBUG:minerl.env.malmo.instance.2e9d75:[02:03:03] [Server thread/INFO]: [STDOUT]: Warning: managed 15/20 ticks this second.\n"
          ],
          "name": "stderr"
        },
        {
          "output_type": "stream",
          "text": [
            "Total reward:  23.767257690429688\n",
            "Total reward:  23.95836639404297\n",
            "Total reward:  24.143787384033203\n",
            "Total reward:  24.323333740234375\n",
            "Total reward:  24.496505737304688\n",
            "Total reward:  24.662479400634766\n",
            "Total reward:  24.820152282714844\n",
            "Total reward:  24.968124389648438\n",
            "Total reward:  25.149803161621094\n",
            "Total reward:  25.482845306396484\n",
            "Total reward:  25.695796966552734\n",
            "Total reward:  25.900920867919922\n",
            "Total reward:  26.099159240722656\n",
            "Total reward:  26.291072845458984\n",
            "Total reward:  26.476844787597656\n"
          ],
          "name": "stdout"
        },
        {
          "output_type": "stream",
          "text": [
            "DEBUG:minerl.env.malmo.instance.2e9d75:[02:03:04] [Server thread/INFO]: [STDOUT]: Warning: managed 15/20 ticks this second.\n"
          ],
          "name": "stderr"
        },
        {
          "output_type": "stream",
          "text": [
            "Total reward:  26.656295776367188\n",
            "Total reward:  26.828907012939453\n",
            "Total reward:  26.99383544921875\n"
          ],
          "name": "stdout"
        },
        {
          "output_type": "stream",
          "text": [
            "DEBUG:minerl.env.malmo.instance.2e9d75:[02:03:04] [Client thread/INFO]: [CHAT] §l276...\n"
          ],
          "name": "stderr"
        },
        {
          "output_type": "stream",
          "text": [
            "Total reward:  27.149925231933594\n",
            "Total reward:  27.295730590820312\n",
            "Total reward:  27.476707458496094\n",
            "Total reward:  27.812381744384766\n",
            "Total reward:  28.027332305908203\n",
            "Total reward:  28.233882904052734\n",
            "Total reward:  28.433032989501953\n",
            "Total reward:  28.625385284423828\n",
            "Total reward:  28.811134338378906\n",
            "Total reward:  28.990108489990234\n",
            "Total reward:  29.161766052246094\n",
            "Total reward:  29.325233459472656\n",
            "Total reward:  29.47930145263672\n",
            "Total reward:  29.622459411621094\n"
          ],
          "name": "stdout"
        },
        {
          "output_type": "stream",
          "text": [
            "DEBUG:minerl.env.malmo.instance.2e9d75:[02:03:05] [Server thread/INFO]: [STDOUT]: Warning: managed 15/20 ticks this second.\n"
          ],
          "name": "stderr"
        },
        {
          "output_type": "stream",
          "text": [
            "Total reward:  29.732398986816406\n",
            "Total reward:  29.793346405029297\n",
            "Total reward:  29.839061737060547\n",
            "Total reward:  29.891029357910156\n"
          ],
          "name": "stdout"
        },
        {
          "output_type": "stream",
          "text": [
            "DEBUG:minerl.env.malmo.instance.2e9d75:[02:03:05] [Client thread/INFO]: [CHAT] §l275...\n"
          ],
          "name": "stderr"
        },
        {
          "output_type": "stream",
          "text": [
            "Total reward:  29.94906234741211\n",
            "Total reward:  30.01264190673828\n",
            "Total reward:  30.080921173095703\n",
            "Total reward:  30.152759552001953\n",
            "Total reward:  30.226715087890625\n",
            "Total reward:  30.327903747558594\n",
            "Total reward:  30.52001953125\n",
            "Total reward:  30.775142669677734\n",
            "Total reward:  30.944557189941406\n",
            "Total reward:  31.110275268554688\n",
            "Total reward:  31.273075103759766\n",
            "Total reward:  31.433303833007812\n"
          ],
          "name": "stdout"
        },
        {
          "output_type": "stream",
          "text": [
            "DEBUG:minerl.env.malmo.instance.2e9d75:[02:03:06] [Server thread/INFO]: [STDOUT]: Warning: managed 16/20 ticks this second.\n"
          ],
          "name": "stderr"
        },
        {
          "output_type": "stream",
          "text": [
            "Total reward:  31.590911865234375\n",
            "Total reward:  31.745471954345703\n",
            "Total reward:  31.896190643310547\n",
            "Total reward:  31.953994750976562\n",
            "Total reward:  31.917816162109375\n",
            "Total reward:  31.87017059326172\n",
            "Total reward:  31.85405731201172\n",
            "Total reward:  31.908493041992188\n"
          ],
          "name": "stdout"
        },
        {
          "output_type": "stream",
          "text": [
            "DEBUG:minerl.env.malmo.instance.2e9d75:[02:03:06] [Client thread/INFO]: [CHAT] §l274...\n"
          ],
          "name": "stderr"
        },
        {
          "output_type": "stream",
          "text": [
            "Total reward:  31.94890594482422\n",
            "Total reward:  31.99688720703125\n",
            "Total reward:  32.05228042602539\n",
            "Total reward:  32.114585876464844\n",
            "Total reward:  32.18294906616211\n",
            "Total reward:  32.25619888305664\n",
            "Total reward:  32.332862854003906\n",
            "Total reward:  32.434661865234375\n"
          ],
          "name": "stdout"
        },
        {
          "output_type": "stream",
          "text": [
            "DEBUG:minerl.env.malmo.instance.2e9d75:[02:03:07] [Server thread/INFO]: [STDOUT]: Warning: managed 18/20 ticks this second.\n"
          ],
          "name": "stderr"
        },
        {
          "output_type": "stream",
          "text": [
            "Total reward:  32.62717056274414\n",
            "Total reward:  32.87565612792969\n",
            "Total reward:  33.039573669433594\n",
            "Total reward:  33.20117950439453\n",
            "Total reward:  33.36129379272461\n",
            "Total reward:  33.520286560058594\n",
            "Total reward:  33.67811965942383\n",
            "Total reward:  33.8343391418457\n",
            "Total reward:  33.988121032714844\n",
            "Total reward:  34.06977844238281\n",
            "Total reward:  34.069786071777344\n",
            "Total reward:  34.10727310180664\n"
          ],
          "name": "stdout"
        },
        {
          "output_type": "stream",
          "text": [
            "DEBUG:minerl.env.malmo.instance.2e9d75:[02:03:08] [Client thread/INFO]: [CHAT] §l273...\n"
          ],
          "name": "stderr"
        },
        {
          "output_type": "stream",
          "text": [
            "Total reward:  34.13407516479492\n",
            "Total reward:  34.17189407348633\n",
            "Total reward:  34.2205810546875\n",
            "Total reward:  34.27960968017578\n",
            "Total reward:  34.34809494018555\n",
            "Total reward:  34.4248046875\n",
            "Total reward:  34.5081901550293\n",
            "Total reward:  34.61141586303711\n"
          ],
          "name": "stdout"
        },
        {
          "output_type": "stream",
          "text": [
            "DEBUG:minerl.env.malmo.instance.2e9d75:[02:03:08] [Server thread/INFO]: [STDOUT]: Warning: managed 17/20 ticks this second.\n"
          ],
          "name": "stderr"
        },
        {
          "output_type": "stream",
          "text": [
            "Total reward:  34.8046760559082\n",
            "Total reward:  35.0361442565918\n",
            "Total reward:  35.186187744140625\n",
            "Total reward:  35.337440490722656\n",
            "Total reward:  35.49075698852539\n",
            "Total reward:  35.64651870727539\n",
            "Total reward:  35.8046760559082\n",
            "Total reward:  35.96473693847656\n",
            "Total reward:  36.125823974609375\n",
            "Total reward:  36.20884704589844\n",
            "Total reward:  36.20885467529297\n",
            "Total reward:  "
          ],
          "name": "stdout"
        },
        {
          "output_type": "stream",
          "text": [
            "DEBUG:minerl.env.malmo.instance.2e9d75:[02:03:09] [Client thread/INFO]: [CHAT] §l272...\n"
          ],
          "name": "stderr"
        },
        {
          "output_type": "stream",
          "text": [
            "36.227500915527344\n",
            "Total reward:  36.23917770385742\n",
            "Total reward:  36.265682220458984\n",
            "Total reward:  36.30685806274414\n",
            "Total reward:  36.362144470214844\n"
          ],
          "name": "stdout"
        },
        {
          "output_type": "stream",
          "text": [
            "DEBUG:minerl.env.malmo.instance.2e9d75:[02:03:09] [Server thread/INFO]: [STDOUT]: Warning: managed 18/20 ticks this second.\n"
          ],
          "name": "stderr"
        },
        {
          "output_type": "stream",
          "text": [
            "Total reward:  36.43062210083008\n",
            "Total reward:  36.51100158691406\n",
            "Total reward:  36.601654052734375\n",
            "Total reward:  36.70624542236328\n",
            "Total reward:  36.89994430541992\n",
            "Total reward:  37.11207580566406\n",
            "Total reward:  37.24642562866211\n",
            "Total reward:  37.38588333129883\n",
            "Total reward:  37.53133010864258\n",
            "Total reward:  37.683162689208984\n",
            "Total reward:  37.84130859375\n",
            "Total reward:  38.00525665283203\n",
            "Total reward:  38.174068450927734\n",
            "Total reward:  38.25786590576172\n",
            "Total reward:  38.25508117675781\n",
            "Total reward:  38.24833297729492\n",
            "Total reward:  38.245361328125\n",
            "Total reward:  38.2540283203125\n",
            "Total reward:  38.25762939453125\n"
          ],
          "name": "stdout"
        },
        {
          "output_type": "stream",
          "text": [
            "DEBUG:minerl.env.malmo.instance.2e9d75:[02:03:10] [Server thread/INFO]: [STDOUT]: Warning: managed 17/20 ticks this second.\n",
            "DEBUG:minerl.env.malmo.instance.2e9d75:[02:03:10] [Client thread/INFO]: [CHAT] §l271...\n"
          ],
          "name": "stderr"
        },
        {
          "output_type": "stream",
          "text": [
            "Total reward:  38.27802276611328\n",
            "Total reward:  38.31509780883789\n",
            "Total reward:  38.368309020996094\n",
            "Total reward:  38.43671798706055\n",
            "Total reward:  38.519012451171875\n",
            "Total reward:  38.61351776123047\n",
            "Total reward:  38.718753814697266\n",
            "Total reward:  38.912513732910156\n",
            "Total reward:  39.11394119262695\n",
            "Total reward:  39.239559173583984\n",
            "Total reward:  39.37235641479492\n",
            "Total reward:  39.513282775878906\n",
            "Total reward:  39.66276550292969\n"
          ],
          "name": "stdout"
        },
        {
          "output_type": "stream",
          "text": [
            "DEBUG:minerl.env.malmo.instance.2e9d75:[02:03:11] [Server thread/INFO]: [STDOUT]: Warning: managed 15/20 ticks this second.\n"
          ],
          "name": "stderr"
        },
        {
          "output_type": "stream",
          "text": [
            "Total reward:  39.82073974609375\n",
            "Total reward:  39.98667907714844\n",
            "Total reward:  40.159610748291016\n",
            "Total reward:  40.2496223449707\n"
          ],
          "name": "stdout"
        },
        {
          "output_type": "stream",
          "text": [
            "DEBUG:minerl.env.malmo.instance.2e9d75:[02:03:11] [Client thread/INFO]: [CHAT] §l270...\n"
          ],
          "name": "stderr"
        },
        {
          "output_type": "stream",
          "text": [
            "Total reward:  40.25498962402344\n",
            "Total reward:  40.2581672668457\n",
            "Total reward:  40.25836944580078\n",
            "Total reward:  40.255950927734375\n",
            "Total reward:  40.25056838989258\n",
            "Total reward:  40.26416778564453\n",
            "Total reward:  40.29666519165039\n",
            "Total reward:  40.34752655029297\n",
            "Total reward:  40.41581344604492\n",
            "Total reward:  40.50017547607422\n",
            "Total reward:  40.5988883972168\n",
            "Total reward:  40.70476531982422\n",
            "Total reward:  40.89844512939453\n"
          ],
          "name": "stdout"
        },
        {
          "output_type": "stream",
          "text": [
            "DEBUG:minerl.env.malmo.instance.2e9d75:[02:03:12] [Server thread/INFO]: [STDOUT]: Warning: managed 19/20 ticks this second.\n"
          ],
          "name": "stderr"
        },
        {
          "output_type": "stream",
          "text": [
            "Total reward:  41.08782196044922\n",
            "Total reward:  41.20362091064453\n",
            "Total reward:  41.32890701293945\n",
            "Total reward:  41.464683532714844\n",
            "Total reward:  41.611419677734375\n",
            "Total reward:  41.76906204223633\n",
            "Total reward:  41.93707275390625\n",
            "Total reward:  42.11443328857422\n",
            "Total reward:  42.2996826171875\n"
          ],
          "name": "stdout"
        },
        {
          "output_type": "stream",
          "text": [
            "DEBUG:minerl.env.malmo.instance.2e9d75:[02:03:12] [Client thread/INFO]: [CHAT] §l269...\n"
          ],
          "name": "stderr"
        },
        {
          "output_type": "stream",
          "text": [
            "Total reward:  42.49089431762695\n",
            "Total reward:  42.685726165771484\n",
            "Total reward:  42.87335968017578\n",
            "Total reward:  43.1234016418457\n",
            "Total reward:  43.271846771240234\n",
            "Total reward:  43.42682647705078\n",
            "Total reward:  43.58972930908203\n",
            "Total reward:  43.76136016845703\n",
            "Total reward:  43.94194412231445\n",
            "Total reward:  44.13116455078125\n",
            "Total reward:  44.32816696166992\n",
            "Total reward:  "
          ],
          "name": "stdout"
        },
        {
          "output_type": "stream",
          "text": [
            "DEBUG:minerl.env.malmo.instance.2e9d75:[02:03:13] [Server thread/INFO]: [STDOUT]: Warning: managed 18/20 ticks this second.\n"
          ],
          "name": "stderr"
        },
        {
          "output_type": "stream",
          "text": [
            "44.53158950805664\n",
            "Total reward:  44.739580154418945\n",
            "Total reward:  44.949790954589844\n",
            "Total reward:  45.1507682800293\n",
            "Total reward:  45.41158103942871\n",
            "Total reward:  45.56532669067383\n",
            "Total reward:  45.72512626647949\n",
            "Total reward:  45.8925724029541\n",
            "Total reward:  46.068607330322266\n",
            "Total reward:  46.25355529785156\n"
          ],
          "name": "stdout"
        },
        {
          "output_type": "stream",
          "text": [
            "DEBUG:minerl.env.malmo.instance.2e9d75:[02:03:14] [Client thread/INFO]: [CHAT] §l268...\n"
          ],
          "name": "stderr"
        },
        {
          "output_type": "stream",
          "text": [
            "Total reward:  46.44714546203613\n",
            "Total reward:  46.64853096008301\n",
            "Total reward:  46.85630798339844\n",
            "Total reward:  47.06852912902832\n",
            "Total reward:  47.28271293640137\n",
            "Total reward:  47.486528396606445\n",
            "Total reward:  47.74829292297363\n",
            "Total reward:  47.90187072753906\n",
            "Total reward:  48.06152534484863\n",
            "Total reward:  48.22901916503906\n",
            "Total reward:  48.405418395996094\n",
            "Total reward:  48.59111785888672\n",
            "Total reward:  48.78586196899414\n",
            "Total reward:  48.9887752532959\n",
            "Total reward:  49.19837188720703\n",
            "Total reward:  49.412567138671875\n",
            "Total reward:  49.628692626953125\n",
            "Total reward:  49.83335494995117\n"
          ],
          "name": "stdout"
        },
        {
          "output_type": "stream",
          "text": [
            "DEBUG:minerl.env.malmo.instance.2e9d75:[02:03:14] [Client thread/INFO]: [CHAT] §l267...\n"
          ],
          "name": "stderr"
        },
        {
          "output_type": "stream",
          "text": [
            "Total reward:  50.09396743774414\n",
            "Total reward:  50.24610137939453\n",
            "Total reward:  50.40444564819336\n",
            "Total reward:  50.570960998535156\n",
            "Total reward:  50.74684524536133\n",
            "Total reward:  50.93256950378418\n",
            "Total reward:  51.12789726257324\n",
            "Total reward:  51.33190727233887\n",
            "Total reward:  51.54300880432129\n",
            "Total reward:  51.75895881652832\n",
            "Total reward:  51.97685623168945\n",
            "Total reward:  52.18203926086426\n",
            "Total reward:  52.44082069396973\n",
            "Total reward:  52.59097862243652\n",
            "Total reward:  52.74752616882324\n",
            "Total reward:  52.912654876708984\n",
            "Total reward:  53.08772850036621\n",
            "Total reward:  53.27330207824707\n",
            "Total reward:  53.46916198730469\n"
          ],
          "name": "stdout"
        },
        {
          "output_type": "stream",
          "text": [
            "DEBUG:minerl.env.malmo.instance.2e9d75:[02:03:15] [Client thread/INFO]: [CHAT] §l266...\n"
          ],
          "name": "stderr"
        },
        {
          "output_type": "stream",
          "text": [
            "Total reward:  53.674339294433594\n",
            "Total reward:  53.88711929321289\n",
            "Total reward:  54.10506057739258\n",
            "Total reward:  54.32499122619629\n",
            "Total reward:  54.53070068359375\n",
            "Total reward:  54.787166595458984\n",
            "Total reward:  54.934865951538086\n",
            "Total reward:  55.089168548583984\n",
            "Total reward:  55.25255584716797\n",
            "Total reward:  55.42658233642578\n",
            "Total reward:  55.611921310424805\n",
            "Total reward:  55.80838203430176\n",
            "Total reward:  56.01494026184082\n",
            "Total reward:  56.229740142822266\n",
            "Total reward:  56.45009994506836\n",
            "Total reward:  56.672508239746094\n",
            "Total reward:  56.87884521484375\n"
          ],
          "name": "stdout"
        },
        {
          "output_type": "stream",
          "text": [
            "DEBUG:minerl.env.malmo.instance.2e9d75:[02:03:16] [Client thread/INFO]: [CHAT] §l265...\n"
          ],
          "name": "stderr"
        },
        {
          "output_type": "stream",
          "text": [
            "Total reward:  57.13241004943848\n",
            "Total reward:  57.27703285217285\n",
            "Total reward:  57.42852020263672\n",
            "Total reward:  57.58970642089844\n",
            "Total reward:  57.762393951416016\n",
            "Total reward:  57.9473991394043\n",
            "Total reward:  58.144575119018555\n",
            "Total reward:  58.35283279418945\n",
            "Total reward:  58.570138931274414\n",
            "Total reward:  58.79351997375488\n",
            "Total reward:  59.019046783447266\n",
            "Total reward:  59.241817474365234\n",
            "Total reward:  59.45596122741699\n",
            "Total reward:  59.65986633300781\n",
            "Total reward:  59.93740653991699\n",
            "Total reward:  60.0994873046875\n",
            "Total reward:  60.26388168334961\n",
            "Total reward:  60.43398094177246\n",
            "Total reward:  60.61197853088379\n",
            "Total reward:  60.79889678955078\n",
            "Total reward:  60.99460983276367\n",
            "Total reward:  61.19784927368164\n"
          ],
          "name": "stdout"
        },
        {
          "output_type": "stream",
          "text": [
            "DEBUG:minerl.env.malmo.instance.2e9d75:[02:03:16] [Client thread/INFO]: [CHAT] §l264...\n"
          ],
          "name": "stderr"
        },
        {
          "output_type": "stream",
          "text": [
            "Total reward:  61.40620517730713\n",
            "Total reward:  61.61610794067383\n",
            "Total reward:  61.82281494140625\n",
            "Total reward:  62.023993492126465\n",
            "Total reward:  62.29841613769531\n",
            "Total reward:  62.457261085510254\n",
            "Total reward:  62.618210792541504\n",
            "Total reward:  62.785271644592285\n",
            "Total reward:  62.9610710144043\n",
            "Total reward:  63.14687919616699\n",
            "Total reward:  63.34262943267822\n",
            "Total reward:  63.54691219329834\n",
            "Total reward:  63.756954193115234\n",
            "Total reward:  63.96858501434326\n",
            "Total reward:  64.1761884689331\n",
            "Total reward:  64.3769645690918\n",
            "Total reward:  64.64970779418945\n",
            "Total reward:  64.80548858642578\n",
            "Total reward:  64.96292304992676\n",
            "Total reward:  65.12689208984375\n",
            "Total reward:  65.3006477355957\n"
          ],
          "name": "stdout"
        },
        {
          "output_type": "stream",
          "text": [
            "DEBUG:minerl.env.malmo.instance.2e9d75:[02:03:17] [Client thread/INFO]: [CHAT] §l263...\n"
          ],
          "name": "stderr"
        },
        {
          "output_type": "stream",
          "text": [
            "Total reward:  65.48583507537842\n",
            "Total reward:  65.68249988555908\n",
            "Total reward:  65.88906574249268\n",
            "Total reward:  66.10227298736572\n",
            "Total reward:  66.31709861755371\n",
            "Total reward:  66.5266580581665\n",
            "Total reward:  66.72211933135986\n",
            "Total reward:  66.89268970489502\n",
            "Total reward:  67.0257453918457\n",
            "Total reward:  67.10717964172363\n",
            "Total reward:  67.12206745147705\n",
            "Total reward:  67.05564212799072\n",
            "Total reward:  67.07192993164062\n",
            "Total reward:  67.33159637451172\n",
            "Total reward:  67.52387714385986\n",
            "Total reward:  67.69106864929199\n",
            "Total reward:  67.8380479812622\n",
            "Total reward:  67.95181941986084\n",
            "Total reward:  68.03758811950684\n",
            "Total reward: "
          ],
          "name": "stdout"
        },
        {
          "output_type": "stream",
          "text": [
            "DEBUG:minerl.env.malmo.instance.2e9d75:[02:03:18] [Client thread/INFO]: [CHAT] §l262...\n"
          ],
          "name": "stderr"
        },
        {
          "output_type": "stream",
          "text": [
            " 68.10293197631836\n",
            "Total reward:  68.14257526397705\n",
            "Total reward:  68.14954376220703\n",
            "Total reward:  68.11550426483154\n",
            "Total reward:  68.03123378753662\n",
            "Total reward:  67.88724136352539\n",
            "Total reward:  67.67446613311768\n",
            "Total reward:  67.38497066497803\n",
            "Total reward:  67.01249504089355\n",
            "Total reward:  66.55278873443604\n",
            "Total reward:  66.00365734100342\n",
            "Total reward:  65.36477851867676\n",
            "Total reward:  64.94837474822998\n",
            "Total reward:  65.35912799835205\n",
            "Total reward:  65.68136692047119\n",
            "Total reward:  65.93741703033447\n",
            "Total reward:  66.12897109985352\n"
          ],
          "name": "stdout"
        },
        {
          "output_type": "stream",
          "text": [
            "DEBUG:minerl.env.malmo.instance.2e9d75:[02:03:19] [Client thread/INFO]: [CHAT] §l261...\n"
          ],
          "name": "stderr"
        },
        {
          "output_type": "stream",
          "text": [
            "Total reward:  66.25694847106934\n",
            "Total reward:  66.32150459289551\n",
            "Total reward:  66.32210063934326\n",
            "Total reward:  66.25764656066895\n",
            "Total reward:  66.12667560577393\n",
            "Total reward:  65.92755603790283\n",
            "Total reward:  65.65870094299316\n",
            "Total reward:  65.31875038146973\n",
            "Total reward:  64.90670871734619\n",
            "Total reward:  64.81660079956055\n",
            "Total reward:  65.29828453063965\n",
            "Total reward:  65.66525554656982\n",
            "Total reward:  65.95374870300293\n",
            "Total reward:  66.16452312469482\n",
            "Total reward:  66.29801273345947\n",
            "Total reward:  66.35439872741699\n",
            "Total reward:  66.33370399475098\n",
            "Total reward:  66.23591136932373\n",
            "Total reward:  66.0610761642456\n",
            "Total reward:  65.80942630767822\n",
            "Total reward:  65.48142719268799\n"
          ],
          "name": "stdout"
        },
        {
          "output_type": "stream",
          "text": [
            "DEBUG:minerl.env.malmo.instance.2e9d75:[02:03:19] [Client thread/INFO]: [CHAT] §l260...\n"
          ],
          "name": "stderr"
        },
        {
          "output_type": "stream",
          "text": [
            "Total reward:  65.07781791687012\n",
            "Total reward:  64.59960079193115\n",
            "Total reward:  64.46512126922607\n",
            "Total reward:  64.91402530670166\n",
            "Total reward:  65.26243209838867\n",
            "Total reward:  65.52467250823975\n",
            "Total reward:  65.70180702209473\n",
            "Total reward:  65.79492282867432\n",
            "Total reward:  65.8051815032959\n",
            "Total reward:  65.73385047912598\n",
            "Total reward:  65.58232975006104\n",
            "Total reward:  65.35215187072754\n",
            "Total reward:  65.0449686050415\n",
            "Total reward:  64.66252613067627\n",
            "Total reward:  64.52934646606445\n",
            "Total reward:  64.70656204223633\n",
            "Total reward:  64.61182308197021\n",
            "Total reward:  64.47173023223877\n",
            "Total reward:  64.44058418273926\n",
            "Total reward:  64.4398832321167\n",
            "Total reward:  64.43866062164307\n",
            "Total reward:  64.43712520599365\n",
            "Total reward:  64.42171478271484\n",
            "Total reward:  64.31997299194336\n"
          ],
          "name": "stdout"
        },
        {
          "output_type": "stream",
          "text": [
            "DEBUG:minerl.env.malmo.instance.2e9d75:[02:03:20] [Client thread/INFO]: [CHAT] §l259...\n"
          ],
          "name": "stderr"
        },
        {
          "output_type": "stream",
          "text": [
            "Total reward:  64.1496696472168\n",
            "Total reward:  63.90309429168701\n",
            "Total reward:  63.582058906555176\n",
            "Total reward:  63.18836307525635\n",
            "Total reward:  62.72377014160156\n",
            "Total reward:  62.19003677368164\n",
            "Total reward:  61.58876991271973\n",
            "Total reward:  61.261202812194824\n",
            "Total reward:  61.630784034729004\n",
            "Total reward:  61.92740821838379\n",
            "Total reward:  62.13807392120361\n",
            "Total reward:  62.265780448913574\n",
            "Total reward:  62.2655086517334\n",
            "Total reward:  62.156270027160645\n",
            "Total reward:  61.97296619415283\n",
            "Total reward:  61.71753787994385\n",
            "Total reward:  61.391761779785156\n",
            "Total reward:  60.997246742248535\n",
            "Total reward:  60.535451889038086\n",
            "Total reward:  60.007707595825195\n"
          ],
          "name": "stdout"
        },
        {
          "output_type": "stream",
          "text": [
            "DEBUG:minerl.env.malmo.instance.2e9d75:[02:03:20] [Client thread/INFO]: [CHAT] §l258...\n"
          ],
          "name": "stderr"
        },
        {
          "output_type": "stream",
          "text": [
            "Total reward:  59.89047622680664\n",
            "Total reward:  60.257110595703125\n",
            "Total reward:  60.55249214172363\n",
            "Total reward:  60.7653865814209\n",
            "Total reward:  60.89815807342529\n",
            "Total reward:  60.95305061340332\n",
            "Total reward:  60.93216037750244\n",
            "Total reward:  60.837411880493164\n",
            "Total reward:  60.67055320739746\n",
            "Total reward:  60.433156967163086\n",
            "Total reward:  60.126625061035156\n",
            "Total reward:  59.75176239013672\n",
            "Total reward:  59.61604881286621\n",
            "Total reward:  59.991498947143555\n",
            "Total reward:  60.29152870178223\n",
            "Total reward:  60.5109748840332\n",
            "Total reward:  60.65210151672363\n",
            "Total reward:  60.716997146606445\n"
          ],
          "name": "stdout"
        },
        {
          "output_type": "stream",
          "text": [
            "DEBUG:minerl.env.malmo.instance.2e9d75:[02:03:21] [Server thread/INFO]: [STDOUT]: Warning: managed 19/20 ticks this second.\n"
          ],
          "name": "stderr"
        },
        {
          "output_type": "stream",
          "text": [
            "Total reward:  60.70755672454834\n",
            "Total reward:  60.62547302246094\n"
          ],
          "name": "stdout"
        },
        {
          "output_type": "stream",
          "text": [
            "DEBUG:minerl.env.malmo.instance.2e9d75:[02:03:23] [Server thread/INFO]: [STDOUT]: Warning: managed 2/20 ticks this second.\n"
          ],
          "name": "stderr"
        },
        {
          "output_type": "stream",
          "text": [
            "Total reward:  60.47223663330078\n",
            "Total reward:  60.438438415527344\n"
          ],
          "name": "stdout"
        },
        {
          "output_type": "stream",
          "text": [
            "DEBUG:minerl.env.malmo.instance.2e9d75:[02:03:23] [Client thread/INFO]: [CHAT] §l257...\n"
          ],
          "name": "stderr"
        },
        {
          "output_type": "stream",
          "text": [
            "Total reward:  60.43209457397461\n",
            "Total reward:  60.61830234527588\n",
            "Total reward:  60.545413970947266\n",
            "Total reward:  60.43242645263672\n",
            "Total reward:  60.438011169433594\n"
          ],
          "name": "stdout"
        },
        {
          "output_type": "stream",
          "text": [
            "DEBUG:minerl.env.malmo.instance.2e9d75:[02:03:24] [Server thread/INFO]: [STDOUT]: Warning: managed 9/20 ticks this second.\n"
          ],
          "name": "stderr"
        },
        {
          "output_type": "stream",
          "text": [
            "Total reward:  60.44652557373047\n",
            "Total reward:  60.42965888977051\n",
            "Total reward:  60.40310287475586\n",
            "Total reward:  60.37940788269043\n",
            "Total reward:  60.35841941833496\n",
            "Total reward:  60.34008598327637\n",
            "Total reward:  60.508981704711914\n",
            "Total reward:  60.42708969116211\n",
            "Total reward:  60.305532455444336\n",
            "Total reward:  60.29488182067871\n",
            "Total reward:  60.288063049316406\n",
            "Total reward:  60.28444862365723\n",
            "Total reward:  60.28364944458008\n"
          ],
          "name": "stdout"
        },
        {
          "output_type": "stream",
          "text": [
            "DEBUG:minerl.env.malmo.instance.2e9d75:[02:03:25] [Client thread/INFO]: [CHAT] §l256...\n"
          ],
          "name": "stderr"
        },
        {
          "output_type": "stream",
          "text": [
            "Total reward:  60.28584289550781\n",
            "Total reward:  60.290199279785156\n",
            "Total reward:  60.296653747558594\n"
          ],
          "name": "stdout"
        },
        {
          "output_type": "stream",
          "text": [
            "DEBUG:minerl.env.malmo.instance.2e9d75:[02:03:25] [Server thread/INFO]: [STDOUT]: Warning: managed 14/20 ticks this second.\n"
          ],
          "name": "stderr"
        },
        {
          "output_type": "stream",
          "text": [
            "Total reward:  60.69185543060303\n",
            "Total reward:  61.00345802307129\n",
            "Total reward:  61.232595443725586\n",
            "Total reward:  61.38293170928955\n",
            "Total reward:  61.41381549835205\n",
            "Total reward:  61.34235191345215\n",
            "Total reward:  61.200653076171875\n",
            "Total reward:  60.989747047424316\n",
            "Total reward:  60.710495948791504\n",
            "Total reward:  60.36592674255371\n",
            "Total reward:  60.31972694396973\n",
            "Total reward:  60.5210018157959\n",
            "Total reward:  60.46026802062988\n"
          ],
          "name": "stdout"
        },
        {
          "output_type": "stream",
          "text": [
            "DEBUG:minerl.env.malmo.instance.2e9d75:[02:03:26] [Server thread/INFO]: [STDOUT]: Warning: managed 14/20 ticks this second.\n"
          ],
          "name": "stderr"
        },
        {
          "output_type": "stream",
          "text": [
            "Total reward:  60.360952377319336\n",
            "Total reward:  60.38650894165039\n",
            "Total reward:  60.41425132751465\n",
            "Total reward:  60.4433536529541\n"
          ],
          "name": "stdout"
        },
        {
          "output_type": "stream",
          "text": [
            "DEBUG:minerl.env.malmo.instance.2e9d75:[02:03:26] [Client thread/INFO]: [CHAT] §l255...\n"
          ],
          "name": "stderr"
        },
        {
          "output_type": "stream",
          "text": [
            "Total reward:  60.47331619262695\n",
            "Total reward:  60.50382614135742\n",
            "Total reward:  60.53466796875\n",
            "Total reward:  60.56567668914795\n",
            "Total reward:  60.78449726104736\n",
            "Total reward:  60.73058223724365\n",
            "Total reward:  60.63661289215088\n",
            "Total reward:  60.66914081573486\n",
            "Total reward:  60.70059013366699\n",
            "Total reward:  60.7312126159668\n",
            "Total reward:  60.761112213134766\n",
            "Total reward:  60.790310859680176\n"
          ],
          "name": "stdout"
        },
        {
          "output_type": "stream",
          "text": [
            "DEBUG:minerl.env.malmo.instance.2e9d75:[02:03:27] [Server thread/INFO]: [STDOUT]: Warning: managed 16/20 ticks this second.\n"
          ],
          "name": "stderr"
        },
        {
          "output_type": "stream",
          "text": [
            "Total reward:  60.8187894821167\n",
            "Total reward:  60.84651184082031\n",
            "Total reward:  61.06456184387207\n",
            "Total reward:  61.00643253326416\n",
            "Total reward:  60.90718078613281\n",
            "Total reward:  60.933587074279785\n",
            "Total reward:  60.95826816558838\n",
            "Total reward:  60.98153877258301\n",
            "Total reward:  60.927945137023926\n"
          ],
          "name": "stdout"
        },
        {
          "output_type": "stream",
          "text": [
            "DEBUG:minerl.env.malmo.instance.2e9d75:[02:03:27] [Client thread/INFO]: [CHAT] §l254...\n"
          ],
          "name": "stderr"
        },
        {
          "output_type": "stream",
          "text": [
            "Total reward:  60.791385650634766\n",
            "Total reward:  60.58168983459473\n",
            "Total reward:  60.2869930267334\n",
            "Total reward:  60.06255340576172\n",
            "Total reward:  60.469552993774414\n",
            "Total reward:  60.791954040527344\n",
            "Total reward:  61.03352737426758\n",
            "Total reward:  61.19602870941162\n"
          ],
          "name": "stdout"
        },
        {
          "output_type": "stream",
          "text": [
            "DEBUG:minerl.env.malmo.instance.2e9d75:[02:03:28] [Server thread/INFO]: [STDOUT]: Warning: managed 17/20 ticks this second.\n"
          ],
          "name": "stderr"
        },
        {
          "output_type": "stream",
          "text": [
            "Total reward:  61.23355484008789\n",
            "Total reward:  61.16382598876953\n",
            "Total reward:  61.05324077606201\n",
            "Total reward:  61.06730270385742\n",
            "Total reward:  61.082101821899414\n",
            "Total reward:  61.09675598144531\n",
            "Total reward:  61.30490303039551\n",
            "Total reward:  61.23735046386719\n",
            "Total reward:  61.12772560119629\n",
            "Total reward:  61.14028835296631\n",
            "Total reward:  61.15138816833496\n",
            "Total reward:  61.161208152770996\n",
            "Total reward:  61.169846534729004\n"
          ],
          "name": "stdout"
        },
        {
          "output_type": "stream",
          "text": [
            "DEBUG:minerl.env.malmo.instance.2e9d75:[02:03:28] [Client thread/INFO]: [CHAT] §l253...\n"
          ],
          "name": "stderr"
        },
        {
          "output_type": "stream",
          "text": [
            "Total reward:  61.1773624420166\n",
            "Total reward:  61.18379497528076\n",
            "Total reward:  61.189178466796875\n",
            "Total reward:  61.603240966796875\n",
            "Total reward:  61.93025016784668\n",
            "Total reward:  62.173898696899414\n",
            "Total reward:  62.335941314697266\n",
            "Total reward:  62.37022018432617\n",
            "Total reward:  62.29478931427002\n",
            "Total reward:  62.14402389526367\n",
            "Total reward:  61.919278144836426\n",
            "Total reward:  61.621859550476074\n",
            "Total reward:  61.25303554534912\n",
            "Total reward:  61.20142459869385\n",
            "Total reward:  61.630812644958496\n",
            "Total reward:  61.96972370147705\n",
            "Total reward:  62.22742176055908\n",
            "Total reward:  62.40522003173828\n"
          ],
          "name": "stdout"
        },
        {
          "output_type": "stream",
          "text": [
            "DEBUG:minerl.env.malmo.instance.2e9d75:[02:03:29] [Client thread/INFO]: [CHAT] §l252...\n"
          ],
          "name": "stderr"
        },
        {
          "output_type": "stream",
          "text": [
            "Total reward:  62.50428295135498\n",
            "Total reward:  62.52564716339111\n",
            "Total reward:  62.47026443481445\n",
            "Total reward:  62.33903217315674\n",
            "Total reward:  62.132394790649414\n",
            "Total reward:  61.83017826080322\n",
            "Total reward:  61.45651435852051\n",
            "Total reward:  61.331570625305176\n"
          ],
          "name": "stdout"
        },
        {
          "output_type": "stream",
          "text": [
            "DEBUG:minerl.env.malmo.instance.2e9d75:[02:03:30] [Server thread/INFO]: [STDOUT]: Warning: managed 19/20 ticks this second.\n"
          ],
          "name": "stderr"
        },
        {
          "output_type": "stream",
          "text": [
            "Total reward:  61.73801326751709\n",
            "Total reward:  62.06118583679199\n",
            "Total reward:  62.30348873138428\n",
            "Total reward:  62.4666109085083\n",
            "Total reward:  62.55203342437744\n",
            "Total reward:  62.56103992462158\n",
            "Total reward:  62.49475383758545\n",
            "Total reward:  62.35417461395264\n",
            "Total reward:  62.340378761291504\n",
            "Total reward:  62.36075782775879\n",
            "Total reward:  62.79596710205078\n",
            "Total reward:  63.1372709274292\n",
            "Total reward:  63.39467239379883\n",
            "Total reward:  "
          ],
          "name": "stdout"
        },
        {
          "output_type": "stream",
          "text": [
            "DEBUG:minerl.env.malmo.instance.2e9d75:[02:03:30] [Client thread/INFO]: [CHAT] §l251...\n"
          ],
          "name": "stderr"
        },
        {
          "output_type": "stream",
          "text": [
            "63.56947135925293\n",
            "Total reward:  63.663100242614746\n",
            "Total reward:  63.67625427246094\n",
            "Total reward:  63.61009883880615\n",
            "Total reward:  63.4662389755249\n"
          ],
          "name": "stdout"
        },
        {
          "output_type": "stream",
          "text": [
            "DEBUG:minerl.env.malmo.instance.2e9d75:[02:03:31] [Server thread/INFO]: [STDOUT]: Warning: managed 17/20 ticks this second.\n"
          ],
          "name": "stderr"
        },
        {
          "output_type": "stream",
          "text": [
            "Total reward:  63.44746494293213\n",
            "Total reward:  63.45389270782471\n",
            "Total reward:  63.874027252197266\n",
            "Total reward:  64.20476055145264\n",
            "Total reward:  64.44956970214844\n",
            "Total reward:  64.61001586914062\n",
            "Total reward:  64.68767738342285\n",
            "Total reward:  64.68416404724121\n",
            "Total reward:  64.60111713409424\n",
            "Total reward:  64.44020462036133\n",
            "Total reward:  64.40380382537842\n",
            "Total reward:  64.38590908050537\n",
            "Total reward:  64.78155708312988\n",
            "Total reward:  65.0954647064209\n",
            "Total reward:  65.32317543029785\n",
            "Total reward:  65.46673583984375\n"
          ],
          "name": "stdout"
        },
        {
          "output_type": "stream",
          "text": [
            "DEBUG:minerl.env.malmo.instance.2e9d75:[02:03:32] [Client thread/INFO]: [CHAT] §l250...\n"
          ],
          "name": "stderr"
        },
        {
          "output_type": "stream",
          "text": [
            "Total reward:  65.52821922302246\n",
            "Total reward:  65.50970458984375\n",
            "Total reward:  65.41324234008789\n",
            "Total reward:  65.24082088470459\n"
          ],
          "name": "stdout"
        },
        {
          "output_type": "stream",
          "text": [
            "DEBUG:minerl.env.malmo.instance.2e9d75:[02:03:32] [Server thread/INFO]: [STDOUT]: Warning: managed 19/20 ticks this second.\n"
          ],
          "name": "stderr"
        },
        {
          "output_type": "stream",
          "text": [
            "Total reward:  65.1911211013794\n",
            "Total reward:  65.1570987701416\n",
            "Total reward:  65.53114891052246\n",
            "Total reward:  65.82923221588135\n",
            "Total reward:  66.04266929626465\n",
            "Total reward:  66.17400360107422\n",
            "Total reward:  66.22572803497314\n",
            "Total reward:  66.20022106170654\n",
            "Total reward:  66.09969711303711\n",
            "Total reward:  65.92616653442383\n",
            "Total reward:  65.68142127990723\n",
            "Total reward:  65.3911714553833\n",
            "Total reward:  65.03813743591309\n",
            "Total reward:  64.92577266693115\n",
            "Total reward:  65.33693790435791\n"
          ],
          "name": "stdout"
        },
        {
          "output_type": "stream",
          "text": [
            "DEBUG:minerl.env.malmo.instance.2e9d75:[02:03:33] [Client thread/INFO]: [CHAT] §l249...\n",
            "DEBUG:minerl.env.malmo.instance.2e9d75:[02:03:33] [Server thread/INFO]: [STDOUT]: Warning: managed 15/20 ticks this second.\n"
          ],
          "name": "stderr"
        },
        {
          "output_type": "stream",
          "text": [
            "Total reward:  65.66162395477295\n",
            "Total reward:  65.90801334381104\n",
            "Total reward:  66.07818508148193\n",
            "Total reward:  66.1738510131836\n",
            "Total reward:  66.19633960723877\n",
            "Total reward:  66.14661502838135\n",
            "Total reward:  66.02533435821533\n",
            "Total reward:  65.83292293548584\n",
            "Total reward:  65.56967067718506\n",
            "Total reward:  65.23582744598389\n",
            "Total reward:  65.14371967315674\n",
            "Total reward:  65.5877456665039\n",
            "Total reward:  65.93342304229736\n",
            "Total reward:  66.19635581970215\n",
            "Total reward:  66.37792873382568\n",
            "Total reward:  66.47934627532959\n",
            "Total reward:  66.50167083740234\n",
            "Total reward:  66.44587707519531\n"
          ],
          "name": "stdout"
        },
        {
          "output_type": "stream",
          "text": [
            "DEBUG:minerl.env.malmo.instance.2e9d75:[02:03:34] [Client thread/INFO]: [CHAT] §l248...\n"
          ],
          "name": "stderr"
        },
        {
          "output_type": "stream",
          "text": [
            "Total reward:  66.31290531158447\n",
            "Total reward:  66.29871654510498\n",
            "Total reward:  66.28646469116211\n",
            "Total reward:  66.68284225463867\n",
            "Total reward:  66.99790287017822\n",
            "Total reward:  67.23221206665039\n",
            "Total reward:  67.38795185089111\n",
            "Total reward:  67.4669771194458\n",
            "Total reward:  67.47080326080322\n",
            "Total reward:  67.400634765625\n",
            "Total reward:  67.25741481781006\n",
            "Total reward:  67.23828792572021\n",
            "Total reward:  67.25073051452637\n",
            "Total reward:  67.66999340057373\n",
            "Total reward:  67.99773502349854\n",
            "Total reward:  68.2415828704834\n",
            "Total reward:  "
          ],
          "name": "stdout"
        },
        {
          "output_type": "stream",
          "text": [
            "DEBUG:minerl.env.malmo.instance.2e9d75:[02:03:35] [Client thread/INFO]: [CHAT] §l247...\n"
          ],
          "name": "stderr"
        },
        {
          "output_type": "stream",
          "text": [
            "68.40398406982422\n",
            "Total reward:  68.4864559173584\n",
            "Total reward:  68.49039649963379\n",
            "Total reward:  68.41710662841797\n",
            "Total reward:  68.26782417297363\n",
            "Total reward:  68.04375267028809\n",
            "Total reward:  67.74609756469727\n",
            "Total reward:  67.37608242034912\n",
            "Total reward:  67.24799537658691\n",
            "Total reward:  67.63856983184814\n",
            "Total reward:  67.94648456573486\n",
            "Total reward:  68.1692762374878\n",
            "Total reward:  68.30928230285645\n",
            "Total reward:  68.36883544921875\n",
            "Total reward:  68.3501968383789\n",
            "Total reward:  68.25549983978271\n",
            "Total reward:  68.0867052078247\n",
            "Total reward:  67.83086776733398\n",
            "Total reward:  67.50425338745117\n",
            "Total reward:  67.11048316955566\n",
            "Total reward:  66.95484733581543\n",
            "Total reward:  67.29424667358398\n",
            "Total reward:  67.56878566741943\n",
            "Total reward:  67.7622480392456\n",
            "Total reward:  67.87838935852051\n",
            "Total reward:  67.92069721221924\n",
            "Total reward:  67.89222049713135\n"
          ],
          "name": "stdout"
        },
        {
          "output_type": "stream",
          "text": [
            "DEBUG:minerl.env.malmo.instance.2e9d75:[02:03:35] [Client thread/INFO]: [CHAT] §l246...\n"
          ],
          "name": "stderr"
        },
        {
          "output_type": "stream",
          "text": [
            "Total reward:  67.7954568862915\n",
            "Total reward:  67.63231086730957\n",
            "Total reward:  67.58575820922852\n",
            "Total reward:  67.56477642059326\n",
            "Total reward:  67.73384380340576\n",
            "Total reward:  67.66096115112305\n",
            "Total reward:  67.55124282836914\n",
            "Total reward:  67.55734825134277\n",
            "Total reward:  67.56982421875\n",
            "Total reward:  67.58699226379395\n",
            "Total reward:  67.60783195495605\n",
            "Total reward:  67.63169288635254\n",
            "Total reward:  67.65812397003174\n",
            "Total reward:  67.61602973937988\n"
          ],
          "name": "stdout"
        },
        {
          "output_type": "stream",
          "text": [
            "DEBUG:minerl.env.malmo.instance.2e9d75:[02:03:36] [Client thread/INFO]: [CHAT] §l245...\n"
          ],
          "name": "stderr"
        },
        {
          "output_type": "stream",
          "text": [
            "Total reward:  67.49363994598389\n",
            "Total reward:  67.30273342132568\n",
            "Total reward:  67.04332447052002\n",
            "Total reward:  66.84995746612549\n",
            "Total reward:  67.2735767364502\n",
            "Total reward:  67.60377216339111\n",
            "Total reward:  67.85674667358398\n",
            "Total reward:  68.034499168396\n",
            "Total reward:  68.13856220245361\n",
            "Total reward:  68.16999053955078\n",
            "Total reward:  68.12939357757568\n",
            "Total reward:  68.01703548431396\n",
            "Total reward:  67.83295345306396\n",
            "Total reward:  67.57710456848145\n",
            "Total reward:  67.24949073791504\n",
            "Total reward:  67.16047668457031\n",
            "Total reward:  67.60219383239746\n",
            "Total reward:  67.94571781158447\n",
            "Total reward:  68.21074962615967\n",
            "Total reward:  68.39852523803711\n"
          ],
          "name": "stdout"
        },
        {
          "output_type": "stream",
          "text": [
            "DEBUG:minerl.env.malmo.instance.2e9d75:[02:03:37] [Client thread/INFO]: [CHAT] §l244...\n"
          ],
          "name": "stderr"
        },
        {
          "output_type": "stream",
          "text": [
            "Total reward:  68.50982189178467\n",
            "Total reward:  68.54502773284912\n",
            "Total reward:  68.5042552947998\n",
            "Total reward:  68.38749027252197\n",
            "Total reward:  68.39396667480469\n",
            "Total reward:  68.43676090240479\n",
            "Total reward:  68.88744401931763\n",
            "Total reward:  69.23779392242432\n",
            "Total reward:  69.50348806381226\n",
            "Total reward:  69.6851053237915\n",
            "Total reward:  69.78315544128418\n",
            "Total reward:  69.79821157455444\n",
            "Total reward:  69.73104047775269\n",
            "Total reward:  69.5826940536499\n",
            "Total reward:  69.55773305892944\n",
            "Total reward:  69.54886722564697\n",
            "Total reward:  69.95047235488892\n",
            "Total reward:  70.26580762863159\n",
            "Total reward:  70.49325275421143\n",
            "Total reward:  70.64314556121826\n",
            "Total reward:  70.72503614425659\n",
            "Total reward:  70.72800874710083\n",
            "Total reward:  70.6536455154419\n"
          ],
          "name": "stdout"
        },
        {
          "output_type": "stream",
          "text": [
            "DEBUG:minerl.env.malmo.instance.2e9d75:[02:03:38] [Client thread/INFO]: [CHAT] §l243...\n"
          ],
          "name": "stderr"
        },
        {
          "output_type": "stream",
          "text": [
            "Total reward:  70.50341129302979\n",
            "Total reward:  70.27867412567139\n",
            "Total reward:  69.98073530197144\n",
            "Total reward:  69.61085987091064\n",
            "Total reward:  69.49077892303467\n",
            "Total reward:  69.9063811302185\n",
            "Total reward:  70.23567867279053\n",
            "Total reward:  70.48063230514526\n",
            "Total reward:  70.64314556121826\n",
            "Total reward:  70.72503614425659\n",
            "Total reward:  70.72800874710083\n",
            "Total reward:  70.6536455154419\n",
            "Total reward:  70.50341129302979\n",
            "Total reward:  70.27883386611938\n",
            "Total reward:  69.98119974136353\n",
            "Total reward:  69.6117353439331\n",
            "Total reward:  69.49257802963257\n",
            "Total reward:  69.91260194778442\n"
          ],
          "name": "stdout"
        },
        {
          "output_type": "stream",
          "text": [
            "DEBUG:minerl.env.malmo.instance.2e9d75:[02:03:38] [Client thread/INFO]: [CHAT] §l242...\n"
          ],
          "name": "stderr"
        },
        {
          "output_type": "stream",
          "text": [
            "Total reward:  70.24535417556763\n",
            "Total reward:  70.49438142776489\n",
            "Total reward:  70.66141271591187\n",
            "Total reward:  70.74799060821533\n",
            "Total reward:  70.75546932220459\n",
            "Total reward:  70.68504905700684\n",
            "Total reward:  70.53783082962036\n",
            "Total reward:  70.31488084793091\n",
            "Total reward:  70.01728773117065\n",
            "Total reward:  69.64620208740234\n",
            "Total reward:  69.52481269836426\n",
            "Total reward:  69.93739795684814\n",
            "Total reward:  70.26211023330688\n",
            "Total reward:  70.49794292449951\n",
            "Total reward:  70.64640140533447\n",
            "Total reward:  70.70925188064575\n",
            "Total reward:  70.68855905532837\n",
            "Total reward:  70.5866527557373\n",
            "Total reward:  70.40603637695312\n",
            "Total reward:  70.14925909042358\n",
            "Total reward:  69.81879329681396\n",
            "Total reward:  69.41694450378418\n",
            "Total reward:  69.25642728805542\n"
          ],
          "name": "stdout"
        },
        {
          "output_type": "stream",
          "text": [
            "DEBUG:minerl.env.malmo.instance.2e9d75:[02:03:39] [Client thread/INFO]: [CHAT] §l241...\n"
          ],
          "name": "stderr"
        },
        {
          "output_type": "stream",
          "text": [
            "Total reward:  69.58900928497314\n",
            "Total reward:  69.85454893112183\n",
            "Total reward:  70.03171920776367\n",
            "Total reward:  70.12475061416626\n",
            "Total reward:  70.178138256073\n",
            "Total reward:  70.18660640716553\n",
            "Total reward:  70.12422132492065\n",
            "Total reward:  69.99143314361572\n",
            "Total reward:  69.78827857971191\n",
            "Total reward:  69.51114797592163\n",
            "Total reward:  69.1654052734375\n",
            "Total reward:  69.05363941192627\n",
            "Total reward:  69.24291801452637\n",
            "Total reward:  69.17097568511963\n",
            "Total reward:  69.05755949020386\n",
            "Total reward:  69.05393028259277\n"
          ],
          "name": "stdout"
        },
        {
          "output_type": "stream",
          "text": [
            "DEBUG:minerl.env.malmo.instance.2e9d75:[02:03:40] [Server thread/INFO]: [STDOUT]: Warning: managed 18/20 ticks this second.\n"
          ],
          "name": "stderr"
        },
        {
          "output_type": "stream",
          "text": [
            "Total reward:  69.04501676559448\n",
            "Total reward:  68.95731782913208\n",
            "Total reward:  68.80053758621216\n",
            "Total reward:  68.57059097290039\n"
          ],
          "name": "stdout"
        },
        {
          "output_type": "stream",
          "text": [
            "DEBUG:minerl.env.malmo.instance.2e9d75:[02:03:40] [Client thread/INFO]: [CHAT] §l240...\n"
          ],
          "name": "stderr"
        },
        {
          "output_type": "stream",
          "text": [
            "Total reward:  68.26860427856445\n",
            "Total reward:  68.03172779083252\n",
            "Total reward:  68.39197158813477\n",
            "Total reward:  68.67663097381592\n",
            "Total reward:  68.87734460830688\n",
            "Total reward:  68.99740791320801\n",
            "Total reward:  68.99583339691162\n",
            "Total reward:  68.89119958877563\n",
            "Total reward:  68.71617317199707\n",
            "Total reward:  68.47239112854004\n",
            "Total reward:  68.16111183166504\n",
            "Total reward:  67.78329563140869\n"
          ],
          "name": "stdout"
        },
        {
          "output_type": "stream",
          "text": [
            "DEBUG:minerl.env.malmo.instance.2e9d75:[02:03:41] [Server thread/INFO]: [STDOUT]: Warning: managed 17/20 ticks this second.\n"
          ],
          "name": "stderr"
        },
        {
          "output_type": "stream",
          "text": [
            "Total reward:  67.33969306945801\n",
            "Total reward:  66.83093738555908\n",
            "Total reward:  66.25761795043945\n",
            "Total reward:  65.7558536529541\n",
            "Total reward:  66.10254383087158\n",
            "Total reward:  66.3800106048584\n",
            "Total reward:  66.57656669616699\n"
          ],
          "name": "stdout"
        },
        {
          "output_type": "stream",
          "text": [
            "DEBUG:minerl.env.malmo.instance.2e9d75:[02:03:42] [Client thread/INFO]: [CHAT] §l239...\n"
          ],
          "name": "stderr"
        },
        {
          "output_type": "stream",
          "text": [
            "Total reward:  66.69539260864258\n",
            "Total reward:  66.73943042755127\n",
            "Total reward:  66.71127891540527\n",
            "Total reward:  66.61312675476074\n",
            "Total reward:  66.44673538208008\n",
            "Total reward:  66.21345043182373\n",
            "Total reward:  65.91426277160645\n",
            "Total reward:  65.54988193511963\n",
            "Total reward:  65.41191673278809\n",
            "Total reward:  65.75714015960693\n",
            "Total reward:  66.03207492828369\n",
            "Total reward:  66.2293701171875\n"
          ],
          "name": "stdout"
        },
        {
          "output_type": "stream",
          "text": [
            "DEBUG:minerl.env.malmo.instance.2e9d75:[02:03:42] [Server thread/INFO]: [STDOUT]: Warning: managed 18/20 ticks this second.\n"
          ],
          "name": "stderr"
        },
        {
          "output_type": "stream",
          "text": [
            "Total reward:  66.35224437713623\n",
            "Total reward:  66.40353679656982\n",
            "Total reward:  66.38561630249023\n",
            "Total reward:  66.30033779144287\n",
            "Total reward:  66.1490478515625\n",
            "Total reward:  65.93399429321289\n",
            "Total reward:  65.65413188934326\n",
            "Total reward:  65.3097038269043\n",
            "Total reward:  65.18625259399414\n",
            "Total reward:  65.54167079925537\n",
            "Total reward:  65.82201671600342\n"
          ],
          "name": "stdout"
        },
        {
          "output_type": "stream",
          "text": [
            "DEBUG:minerl.env.malmo.instance.2e9d75:[02:03:43] [Client thread/INFO]: [CHAT] §l238...\n"
          ],
          "name": "stderr"
        },
        {
          "output_type": "stream",
          "text": [
            "Total reward:  66.02678966522217\n",
            "Total reward:  66.15905570983887\n",
            "Total reward:  66.22143268585205\n",
            "Total reward:  66.21600818634033\n",
            "Total reward:  66.14431858062744\n",
            "Total reward:  66.00737380981445\n",
            "Total reward:  65.80572032928467\n",
            "Total reward:  65.53954887390137\n",
            "Total reward:  65.21309185028076\n",
            "Total reward:  65.15006828308105\n",
            "Total reward:  65.5855016708374\n",
            "Total reward:  65.91873550415039\n",
            "Total reward:  66.17611026763916\n",
            "Total reward:  66.35973834991455\n"
          ],
          "name": "stdout"
        },
        {
          "output_type": "stream",
          "text": [
            "DEBUG:minerl.env.malmo.instance.2e9d75:[02:03:43] [Client thread/INFO]: [CHAT] §l237...\n"
          ],
          "name": "stderr"
        },
        {
          "output_type": "stream",
          "text": [
            "Total reward:  66.47124195098877\n",
            "Total reward:  66.51174640655518\n",
            "Total reward:  66.48191165924072\n",
            "Total reward:  66.3820161819458\n",
            "Total reward:  66.39241123199463\n",
            "Total reward:  66.43584442138672\n",
            "Total reward:  66.8458251953125\n",
            "Total reward:  67.16145610809326\n",
            "Total reward:  67.40089893341064\n",
            "Total reward:  67.56644821166992\n",
            "Total reward:  67.6599292755127\n",
            "Total reward:  67.6826639175415\n",
            "Total reward:  67.63464260101318\n",
            "Total reward:  67.49451541900635\n",
            "Total reward:  67.28901386260986\n",
            "Total reward:  67.01848220825195\n",
            "Total reward:  66.68548488616943\n",
            "Total reward:  66.2899808883667\n",
            "Total reward:  65.83035659790039\n",
            "Total reward:  65.30591583251953\n",
            "Total reward:  64.78108882904053\n"
          ],
          "name": "stdout"
        },
        {
          "output_type": "stream",
          "text": [
            "DEBUG:minerl.env.malmo.instance.2e9d75:[02:03:44] [Client thread/INFO]: [CHAT] §l236...\n"
          ],
          "name": "stderr"
        },
        {
          "output_type": "stream",
          "text": [
            "Total reward:  65.20481586456299\n",
            "Total reward:  65.53576850891113\n",
            "Total reward:  65.7887601852417\n",
            "Total reward:  65.96541786193848\n",
            "Total reward:  66.06703186035156\n",
            "Total reward:  66.09457111358643\n",
            "Total reward:  66.04872703552246\n",
            "Total reward:  65.92998695373535\n",
            "Total reward:  65.73871326446533\n",
            "Total reward:  65.47523498535156\n",
            "Total reward:  65.13992404937744\n",
            "Total reward:  65.04262828826904\n",
            "Total reward:  65.47139549255371\n",
            "Total reward:  65.80480766296387\n",
            "Total reward:  66.05622959136963\n",
            "Total reward:  66.22724914550781\n",
            "Total reward:  66.31929397583008\n",
            "Total reward:  66.33364582061768\n",
            "Total reward:  66.27146434783936\n",
            "Total reward:  66.13382530212402\n",
            "Total reward:  65.92175197601318\n",
            "Total reward:  65.63625907897949\n",
            "Total reward:  65.27838039398193\n",
            "Total reward:  64.84919166564941\n",
            "Total reward:  64.3498182296753\n"
          ],
          "name": "stdout"
        },
        {
          "output_type": "stream",
          "text": [
            "DEBUG:minerl.env.malmo.instance.2e9d75:[02:03:45] [Client thread/INFO]: [CHAT] §l235...\n"
          ],
          "name": "stderr"
        },
        {
          "output_type": "stream",
          "text": [
            "Total reward:  64.18955135345459\n",
            "Total reward:  64.59440994262695\n",
            "Total reward:  64.92726707458496\n",
            "Total reward:  65.18247604370117\n",
            "Total reward:  65.35584259033203\n",
            "Total reward:  65.44860363006592\n",
            "Total reward:  65.46190929412842\n",
            "Total reward:  65.3968620300293\n",
            "Total reward:  65.2545518875122\n",
            "Total reward:  65.03609466552734\n",
            "Total reward:  64.74283981323242\n",
            "Total reward:  64.37601661682129\n",
            "Total reward:  63.93690013885498\n",
            "Total reward:  63.426822662353516\n",
            "Total reward:  63.25886344909668\n",
            "Total reward:  63.65537071228027\n",
            "Total reward:  63.96926403045654\n",
            "Total reward:  64.19796752929688\n"
          ],
          "name": "stdout"
        },
        {
          "output_type": "stream",
          "text": [
            "DEBUG:minerl.env.malmo.instance.2e9d75:[02:03:46] [Client thread/INFO]: [CHAT] §l234...\n"
          ],
          "name": "stderr"
        },
        {
          "output_type": "stream",
          "text": [
            "Total reward:  64.34354209899902\n",
            "Total reward:  64.4080286026001\n",
            "Total reward:  64.39342594146729\n",
            "Total reward:  64.30166816711426\n",
            "Total reward:  64.13460540771484\n",
            "Total reward:  63.893988609313965\n",
            "Total reward:  63.581464767456055\n",
            "Total reward:  63.198577880859375\n",
            "Total reward:  62.7467737197876\n",
            "Total reward:  62.22741222381592\n",
            "Total reward:  61.64177989959717\n",
            "Total reward:  61.05835819244385\n"
          ],
          "name": "stdout"
        },
        {
          "output_type": "stream",
          "text": [
            "DEBUG:minerl.env.malmo.instance.2e9d75:[02:03:46] [Server thread/INFO]: [STDOUT]: Warning: managed 19/20 ticks this second.\n"
          ],
          "name": "stderr"
        },
        {
          "output_type": "stream",
          "text": [
            "Total reward:  61.43842792510986\n",
            "Total reward:  61.742326736450195\n",
            "Total reward:  61.962785720825195\n",
            "Total reward:  62.10203742980957\n",
            "Total reward:  62.16222286224365\n",
            "Total reward:  62.145368576049805\n",
            "Total reward:  62.05336666107178\n",
            "Total reward:  61.88796615600586\n"
          ],
          "name": "stdout"
        },
        {
          "output_type": "stream",
          "text": [
            "DEBUG:minerl.env.malmo.instance.2e9d75:[02:03:47] [Client thread/INFO]: [CHAT] §l233...\n"
          ],
          "name": "stderr"
        },
        {
          "output_type": "stream",
          "text": [
            "Total reward:  61.65076732635498\n",
            "Total reward:  61.343234062194824\n",
            "Total reward:  60.96670055389404\n",
            "Total reward:  60.522396087646484\n",
            "Total reward:  60.0114688873291\n",
            "Total reward:  59.837562561035156\n",
            "Total reward:  60.220428466796875\n"
          ],
          "name": "stdout"
        },
        {
          "output_type": "stream",
          "text": [
            "DEBUG:minerl.env.malmo.instance.2e9d75:[02:03:47] [Server thread/INFO]: [STDOUT]: Warning: managed 13/20 ticks this second.\n"
          ],
          "name": "stderr"
        },
        {
          "output_type": "stream",
          "text": [
            "Total reward:  60.525861740112305\n",
            "Total reward:  60.74940776824951\n",
            "Total reward:  60.89323425292969\n",
            "Total reward:  60.95926856994629\n",
            "Total reward:  60.94950866699219\n",
            "Total reward:  60.86567687988281\n",
            "Total reward:  60.70933246612549\n",
            "Total reward:  60.481882095336914\n",
            "Total reward:  60.18459510803223\n",
            "Total reward:  59.81862449645996\n",
            "Total reward:  59.69221115112305\n",
            "Total reward:  60.082231521606445\n",
            "Total reward:  60.39169692993164\n",
            "Total reward:  60.62027359008789\n",
            "Total reward:  60.77005386352539\n"
          ],
          "name": "stdout"
        },
        {
          "output_type": "stream",
          "text": [
            "DEBUG:minerl.env.malmo.instance.2e9d75:[02:03:48] [Client thread/INFO]: [CHAT] §l232...\n",
            "DEBUG:minerl.env.malmo.instance.2e9d75:[02:03:48] [Server thread/INFO]: [STDOUT]: Warning: managed 16/20 ticks this second.\n"
          ],
          "name": "stderr"
        },
        {
          "output_type": "stream",
          "text": [
            "Total reward:  60.79679298400879\n",
            "Total reward:  60.71816635131836\n",
            "Total reward:  60.59902095794678\n",
            "Total reward:  60.59955310821533\n",
            "Total reward:  60.604737281799316\n",
            "Total reward:  60.61270618438721\n",
            "Total reward:  60.79053497314453\n",
            "Total reward:  60.69804668426514\n",
            "Total reward:  60.564687728881836\n",
            "Total reward:  60.538103103637695\n",
            "Total reward:  60.51548194885254\n",
            "Total reward:  60.49607467651367\n",
            "Total reward:  60.479482650756836\n"
          ],
          "name": "stdout"
        },
        {
          "output_type": "stream",
          "text": [
            "DEBUG:minerl.env.malmo.instance.2e9d75:[02:03:49] [Server thread/INFO]: [STDOUT]: Warning: managed 15/20 ticks this second.\n"
          ],
          "name": "stderr"
        },
        {
          "output_type": "stream",
          "text": [
            "Total reward:  60.465492248535156\n",
            "Total reward:  60.4539852142334\n",
            "Total reward:  60.44488334655762\n",
            "Total reward:  60.62403106689453\n",
            "Total reward:  60.54730796813965\n",
            "Total reward:  60.43077850341797\n",
            "Total reward:  60.42870903015137\n"
          ],
          "name": "stdout"
        },
        {
          "output_type": "stream",
          "text": [
            "DEBUG:minerl.env.malmo.instance.2e9d75:[02:03:50] [Client thread/INFO]: [CHAT] §l231...\n"
          ],
          "name": "stderr"
        },
        {
          "output_type": "stream",
          "text": [
            "Total reward:  60.42957305908203\n",
            "Total reward:  60.43242073059082\n",
            "Total reward:  60.43762969970703\n",
            "Total reward:  60.44489097595215\n",
            "Total reward:  60.45398712158203\n",
            "Total reward:  60.46475601196289\n",
            "Total reward:  60.66342735290527\n",
            "Total reward:  60.598562240600586\n",
            "Total reward:  60.4940128326416\n",
            "Total reward:  60.51020050048828\n",
            "Total reward:  60.52760314941406\n",
            "Total reward:  60.546077728271484\n",
            "Total reward:  60.56550312042236\n"
          ],
          "name": "stdout"
        },
        {
          "output_type": "stream",
          "text": [
            "DEBUG:minerl.env.malmo.instance.2e9d75:[02:03:50] [Server thread/INFO]: [STDOUT]: Warning: managed 17/20 ticks this second.\n"
          ],
          "name": "stderr"
        },
        {
          "output_type": "stream",
          "text": [
            "Total reward:  60.585763931274414\n",
            "Total reward:  60.60675621032715\n",
            "Total reward:  60.628374099731445\n",
            "Total reward:  60.83893966674805\n",
            "Total reward:  60.77927017211914\n",
            "Total reward:  60.67939376831055\n"
          ],
          "name": "stdout"
        },
        {
          "output_type": "stream",
          "text": [
            "DEBUG:minerl.env.malmo.instance.2e9d75:[02:03:51] [Client thread/INFO]: [CHAT] §l230...\n"
          ],
          "name": "stderr"
        },
        {
          "output_type": "stream",
          "text": [
            "Total reward:  60.70370864868164\n",
            "Total reward:  60.727782249450684\n",
            "Total reward:  60.751708984375\n",
            "Total reward:  60.77550220489502\n",
            "Total reward:  60.79913139343262\n",
            "Total reward:  60.82254409790039\n",
            "Total reward:  60.845680236816406\n",
            "Total reward:  61.05954360961914\n",
            "Total reward:  60.99897861480713\n",
            "Total reward:  60.897377014160156\n",
            "Total reward:  60.92045497894287\n",
            "Total reward:  60.94237804412842\n",
            "Total reward:  60.96336650848389\n",
            "Total reward:  60.98351573944092\n",
            "Total reward:  60.9272518157959\n",
            "Total reward:  60.78917694091797\n",
            "Total reward:  60.578182220458984\n",
            "Total reward:  60.2869930267334\n"
          ],
          "name": "stdout"
        },
        {
          "output_type": "stream",
          "text": [
            "DEBUG:minerl.env.malmo.instance.2e9d75:[02:03:51] [Client thread/INFO]: [CHAT] §l229...\n"
          ],
          "name": "stderr"
        },
        {
          "output_type": "stream",
          "text": [
            "Total reward:  60.06255340576172\n",
            "Total reward:  60.469552993774414\n",
            "Total reward:  60.791954040527344\n",
            "Total reward:  61.03336811065674\n",
            "Total reward:  61.19557189941406\n",
            "Total reward:  61.23268795013428\n",
            "Total reward:  61.1624698638916\n",
            "Total reward:  61.05134391784668\n",
            "Total reward:  61.06438446044922\n",
            "Total reward:  61.07821273803711\n",
            "Total reward:  61.09201526641846\n",
            "Total reward:  61.299394607543945\n",
            "Total reward:  61.23149871826172\n",
            "Total reward:  61.12160110473633\n",
            "Total reward:  61.13382625579834\n",
            "Total reward:  61.144776344299316\n",
            "Total reward:  61.154611587524414\n",
            "Total reward:  61.163414001464844\n",
            "Total reward:  61.17122936248779\n",
            "Total reward:  61.1780891418457\n",
            "Total reward:  61.184014320373535\n",
            "Total reward:  61.38413429260254\n"
          ],
          "name": "stdout"
        },
        {
          "output_type": "stream",
          "text": [
            "DEBUG:minerl.env.malmo.instance.2e9d75:[02:03:52] [Client thread/INFO]: [CHAT] §l228...\n"
          ],
          "name": "stderr"
        },
        {
          "output_type": "stream",
          "text": [
            "Total reward:  61.31043815612793\n",
            "Total reward:  61.19429588317871\n",
            "Total reward:  61.197471618652344\n",
            "Total reward:  61.19967269897461\n",
            "Total reward:  61.201040267944336\n",
            "Total reward:  61.201663970947266\n",
            "Total reward:  61.201613426208496\n",
            "Total reward:  61.200944900512695\n",
            "Total reward:  61.19971466064453\n",
            "Total reward:  61.627309799194336\n",
            "Total reward:  61.96557807922363\n",
            "Total reward:  62.22303867340088\n",
            "Total reward:  62.4010009765625\n",
            "Total reward:  62.500606536865234\n",
            "Total reward:  62.52285861968994\n",
            "Total reward:  62.46866035461426\n",
            "Total reward:  62.33885383605957\n",
            "Total reward:  62.13426208496094\n",
            "Total reward:  61.846967697143555\n"
          ],
          "name": "stdout"
        },
        {
          "output_type": "stream",
          "text": [
            "DEBUG:minerl.env.malmo.instance.2e9d75:[02:03:53] [Client thread/INFO]: [CHAT] §l227...\n"
          ],
          "name": "stderr"
        },
        {
          "output_type": "stream",
          "text": [
            "Total reward:  61.47439002990723\n",
            "Total reward:  61.35074996948242\n",
            "Total reward:  61.75930976867676\n",
            "Total reward:  62.08388614654541\n"
          ],
          "name": "stdout"
        },
        {
          "output_type": "stream",
          "text": [
            "DEBUG:minerl.env.malmo.instance.2e9d75:[02:03:53] [Server thread/INFO]: [STDOUT]: Warning: managed 19/20 ticks this second.\n"
          ],
          "name": "stderr"
        },
        {
          "output_type": "stream",
          "text": [
            "Total reward:  62.32744216918945\n",
            "Total reward:  62.49163246154785\n",
            "Total reward:  62.57790660858154\n",
            "Total reward:  62.58752632141113\n",
            "Total reward:  62.52160453796387\n",
            "Total reward:  62.381134033203125\n",
            "Total reward:  62.36757564544678\n",
            "Total reward:  62.38782787322998\n",
            "Total reward:  62.823333740234375\n",
            "Total reward:  63.16491222381592\n",
            "Total reward:  63.42234516143799\n",
            "Total reward:  63.59691905975342\n",
            "Total reward:  63.68986701965332\n",
            "Total reward:  63.702396392822266\n",
            "Total reward:  63.63598442077637\n"
          ],
          "name": "stdout"
        },
        {
          "output_type": "stream",
          "text": [
            "DEBUG:minerl.env.malmo.instance.2e9d75:[02:03:54] [Client thread/INFO]: [CHAT] §l226...\n"
          ],
          "name": "stderr"
        },
        {
          "output_type": "stream",
          "text": [
            "Total reward:  63.491294860839844\n",
            "Total reward:  63.47148895263672\n",
            "Total reward:  63.47614860534668\n",
            "Total reward:  63.8950777053833\n",
            "Total reward:  64.22508335113525\n",
            "Total reward:  64.46889305114746\n",
            "Total reward:  64.62807559967041\n",
            "Total reward:  64.70423412322998\n",
            "Total reward:  64.6990098953247\n",
            "Total reward:  64.614089012146\n",
            "Total reward:  64.45118808746338\n",
            "Total reward:  64.4128828048706\n",
            "Total reward:  64.39216613769531\n",
            "Total reward:  64.78531837463379\n",
            "Total reward:  65.09759044647217\n",
            "Total reward:  65.32351207733154\n",
            "Total reward:  65.46517276763916\n",
            "Total reward:  65.52470016479492\n",
            "Total reward:  65.50422668457031\n",
            "Total reward:  65.40585517883301\n",
            "Total reward:  65.23162269592285\n",
            "Total reward:  65.18006038665771\n"
          ],
          "name": "stdout"
        },
        {
          "output_type": "stream",
          "text": [
            "DEBUG:minerl.env.malmo.instance.2e9d75:[02:03:56] [Server thread/INFO]: [STDOUT]: Warning: managed 16/20 ticks this second.\n",
            "DEBUG:minerl.env.malmo.instance.2e9d75:[02:03:56] [Client thread/INFO]: [CHAT] §l225...\n"
          ],
          "name": "stderr"
        },
        {
          "output_type": "stream",
          "text": [
            "Total reward:  65.1435375213623\n",
            "Total reward:  65.5149040222168\n",
            "Total reward:  65.8111400604248\n",
            "Total reward:  66.02276802062988\n",
            "Total reward:  66.15238285064697\n",
            "Total reward:  66.20252323150635\n",
            "Total reward:  66.17560958862305\n",
            "Total reward:  66.0738878250122\n",
            "Total reward:  65.89939022064209\n",
            "Total reward:  65.66228103637695\n",
            "Total reward:  65.37643909454346\n",
            "Total reward:  65.02385234832764\n",
            "Total reward:  64.91167163848877\n",
            "Total reward:  65.32262516021729\n",
            "Total reward:  65.6471118927002\n"
          ],
          "name": "stdout"
        },
        {
          "output_type": "stream",
          "text": [
            "DEBUG:minerl.env.malmo.instance.2e9d75:[02:03:57] [Server thread/INFO]: [STDOUT]: Warning: managed 16/20 ticks this second.\n"
          ],
          "name": "stderr"
        },
        {
          "output_type": "stream",
          "text": [
            "Total reward:  65.89343452453613\n",
            "Total reward:  66.06367874145508\n",
            "Total reward:  66.15955638885498\n",
            "Total reward:  66.18239116668701\n"
          ],
          "name": "stdout"
        },
        {
          "output_type": "stream",
          "text": [
            "DEBUG:minerl.env.malmo.instance.2e9d75:[02:03:57] [Client thread/INFO]: [CHAT] §l224...\n"
          ],
          "name": "stderr"
        },
        {
          "output_type": "stream",
          "text": [
            "Total reward:  66.13313579559326\n",
            "Total reward:  66.01243305206299\n",
            "Total reward:  65.8206901550293\n",
            "Total reward:  65.55817890167236\n",
            "Total reward:  65.22512722015381\n",
            "Total reward:  65.13357448577881\n",
            "Total reward:  65.57795333862305\n",
            "Total reward:  65.92380905151367\n",
            "Total reward:  66.1870288848877\n",
            "Total reward:  66.36899471282959\n",
            "Total reward:  66.4709062576294\n",
            "Total reward:  66.4938154220581\n",
            "Total reward:  66.43868160247803\n",
            "Total reward:  66.30642795562744\n",
            "Total reward:  66.2961254119873\n",
            "Total reward:  66.2862434387207\n",
            "Total reward:  66.6824951171875\n",
            "Total reward:  66.99746131896973\n",
            "Total reward:  67.23166179656982\n",
            "Total reward:  67.38728141784668\n",
            "Total reward:  67.46617794036865\n"
          ],
          "name": "stdout"
        },
        {
          "output_type": "stream",
          "text": [
            "DEBUG:minerl.env.malmo.instance.2e9d75:[02:03:58] [Client thread/INFO]: [CHAT] §l223...\n"
          ],
          "name": "stderr"
        },
        {
          "output_type": "stream",
          "text": [
            "Total reward:  67.4698715209961\n",
            "Total reward:  67.39957237243652\n",
            "Total reward:  67.25622749328613\n",
            "Total reward:  67.2369613647461\n",
            "Total reward:  67.24921226501465\n",
            "Total reward:  67.66824054718018\n",
            "Total reward:  67.9959077835083\n",
            "Total reward:  68.23969554901123\n",
            "Total reward:  68.40204620361328\n",
            "Total reward:  68.4844799041748\n",
            "Total reward:  68.4883975982666\n",
            "Total reward:  68.4151029586792\n",
            "Total reward:  68.26583194732666\n",
            "Total reward:  68.04179000854492\n",
            "Total reward:  67.74417877197266\n",
            "Total reward:  67.3742208480835\n",
            "Total reward:  67.2461404800415\n",
            "Total reward:  67.6366195678711\n",
            "Total reward:  67.9444580078125\n",
            "Total reward:  68.16718864440918\n"
          ],
          "name": "stdout"
        },
        {
          "output_type": "stream",
          "text": [
            "DEBUG:minerl.env.malmo.instance.2e9d75:[02:03:59] [Client thread/INFO]: [CHAT] §l222...\n"
          ],
          "name": "stderr"
        },
        {
          "output_type": "stream",
          "text": [
            "Total reward:  68.30715656280518\n",
            "Total reward:  68.36669254302979\n",
            "Total reward:  68.34806060791016\n",
            "Total reward:  68.25339412689209\n",
            "Total reward:  68.08465003967285\n",
            "Total reward:  67.83028316497803\n",
            "Total reward:  67.50359535217285\n",
            "Total reward:  67.10975170135498\n",
            "Total reward:  66.95401859283447\n",
            "Total reward:  67.29320907592773\n",
            "Total reward:  67.56759548187256\n",
            "Total reward:  67.76090049743652\n",
            "Total reward:  67.8768835067749\n",
            "Total reward:  67.91903591156006\n",
            "Total reward:  67.89041233062744\n",
            "Total reward:  67.79351615905762\n",
            "Total reward:  67.63025379180908\n",
            "Total reward:  67.58356094360352\n"
          ],
          "name": "stdout"
        },
        {
          "output_type": "stream",
          "text": [
            "DEBUG:minerl.env.malmo.instance.2e9d75:[02:03:59] [Client thread/INFO]: [CHAT] §l221...\n"
          ],
          "name": "stderr"
        },
        {
          "output_type": "stream",
          "text": [
            "Total reward:  67.56239795684814\n",
            "Total reward:  67.73126888275146\n",
            "Total reward:  67.65831851959229\n",
            "Total reward:  67.54854583740234\n",
            "Total reward:  67.55454635620117\n",
            "Total reward:  67.56694221496582\n",
            "Total reward:  67.58404636383057\n",
            "Total reward:  67.60483837127686\n",
            "Total reward:  67.62866401672363\n",
            "Total reward:  67.65506839752197\n",
            "Total reward:  67.61298561096191\n",
            "Total reward:  67.49063682556152\n",
            "Total reward:  67.29979515075684\n",
            "Total reward:  67.04047298431396\n",
            "Total reward:  66.8471736907959\n",
            "Total reward:  67.2706995010376\n",
            "Total reward:  67.60081386566162\n",
            "Total reward:  67.85373497009277\n",
            "Total reward:  68.03146266937256\n"
          ],
          "name": "stdout"
        },
        {
          "output_type": "stream",
          "text": [
            "DEBUG:minerl.env.malmo.instance.2e9d75:[02:04:00] [Client thread/INFO]: [CHAT] §l220...\n"
          ],
          "name": "stderr"
        },
        {
          "output_type": "stream",
          "text": [
            "Total reward:  68.1355333328247\n",
            "Total reward:  68.16700172424316\n",
            "Total reward:  68.12647819519043\n",
            "Total reward:  68.01422214508057\n",
            "Total reward:  67.8302698135376\n",
            "Total reward:  67.57457160949707\n",
            "Total reward:  67.24712467193604\n",
            "Total reward:  67.15821552276611\n",
            "Total reward:  67.59996509552002\n",
            "Total reward:  67.94349575042725\n",
            "Total reward:  68.20856285095215\n",
            "Total reward:  68.39640140533447\n",
            "Total reward:  68.50778865814209\n",
            "Total reward:  68.54311084747314\n",
            "Total reward:  68.50247764587402\n",
            "Total reward:  68.3858699798584\n",
            "Total reward:  68.39248085021973\n",
            "Total reward:  68.43547058105469\n",
            "Total reward:  68.88627910614014\n",
            "Total reward:  69.23670625686646\n"
          ],
          "name": "stdout"
        },
        {
          "output_type": "stream",
          "text": [
            "DEBUG:minerl.env.malmo.instance.2e9d75:[02:04:01] [Client thread/INFO]: [CHAT] §l219...\n"
          ],
          "name": "stderr"
        },
        {
          "output_type": "stream",
          "text": [
            "Total reward:  69.50250291824341\n",
            "Total reward:  69.6842474937439\n",
            "Total reward:  69.78244638442993\n",
            "Total reward:  69.79766750335693\n",
            "Total reward:  69.73067092895508\n",
            "Total reward:  69.58250284194946\n",
            "Total reward:  69.5577163696289\n",
            "Total reward:  69.54910659790039\n",
            "Total reward:  69.9509801864624\n",
            "Total reward:  70.26650953292847\n",
            "Total reward:  70.49400091171265\n",
            "Total reward:  70.6432843208313\n",
            "Total reward:  70.72503614425659\n",
            "Total reward:  70.72800874710083\n",
            "Total reward:  70.6536455154419\n",
            "Total reward:  70.50341129302979\n",
            "Total reward:  70.27867412567139\n",
            "Total reward:  69.98073530197144\n",
            "Total reward:  69.61085987091064\n",
            "Total reward:  69.49077892303467\n",
            "Total reward:  69.9063811302185\n",
            "Total reward:  70.23567867279053\n",
            "Total reward:  70.48063230514526\n",
            "Total reward:  70.64314556121826\n"
          ],
          "name": "stdout"
        },
        {
          "output_type": "stream",
          "text": [
            "DEBUG:minerl.env.malmo.instance.2e9d75:[02:04:02] [Client thread/INFO]: [CHAT] §l218...\n"
          ],
          "name": "stderr"
        },
        {
          "output_type": "stream",
          "text": [
            "Total reward:  70.72503614425659\n",
            "Total reward:  70.72800874710083\n",
            "Total reward:  70.6536455154419\n",
            "Total reward:  70.50341129302979\n",
            "Total reward:  70.27883529663086\n",
            "Total reward:  69.98120307922363\n",
            "Total reward:  69.61173963546753\n",
            "Total reward:  69.49258470535278\n",
            "Total reward:  69.91261577606201\n",
            "Total reward:  70.24537420272827\n",
            "Total reward:  70.49440717697144\n",
            "Total reward:  70.66144371032715\n",
            "Total reward:  70.74802494049072\n",
            "Total reward:  70.75550556182861\n",
            "Total reward:  70.6850848197937\n",
            "Total reward:  70.5378623008728\n",
            "Total reward:  70.31490516662598\n",
            "Total reward:  70.01730155944824\n",
            "Total reward:  69.64620304107666\n"
          ],
          "name": "stdout"
        },
        {
          "output_type": "stream",
          "text": [
            "DEBUG:minerl.env.malmo.instance.2e9d75:[02:04:02] [Client thread/INFO]: [CHAT] §l217...\n"
          ],
          "name": "stderr"
        },
        {
          "output_type": "stream",
          "text": [
            "Total reward:  69.52479696273804\n",
            "Total reward:  69.93734550476074\n",
            "Total reward:  70.26202726364136\n",
            "Total reward:  70.49782419204712\n",
            "Total reward:  70.64624404907227\n",
            "Total reward:  70.70905351638794\n",
            "Total reward:  70.68831872940063\n",
            "Total reward:  70.58637285232544\n",
            "Total reward:  70.40572023391724\n",
            "Total reward:  70.1489109992981\n",
            "Total reward:  69.81841897964478\n",
            "Total reward:  69.4165506362915\n",
            "Total reward:  69.25600242614746\n",
            "Total reward:  69.58850431442261\n",
            "Total reward:  69.8539891242981\n",
            "Total reward:  70.03111028671265\n",
            "Total reward:  70.1241021156311\n",
            "Total reward:  70.17824506759644\n",
            "Total reward:  70.18670988082886\n",
            "Total reward:  70.12431764602661\n"
          ],
          "name": "stdout"
        },
        {
          "output_type": "stream",
          "text": [
            "DEBUG:minerl.env.malmo.instance.2e9d75:[02:04:03] [Client thread/INFO]: [CHAT] §l216...\n"
          ],
          "name": "stderr"
        },
        {
          "output_type": "stream",
          "text": [
            "Total reward:  69.99151706695557\n",
            "Total reward:  69.78834581375122\n",
            "Total reward:  69.51114797592163\n",
            "Total reward:  69.16540575027466\n",
            "Total reward:  69.05363988876343\n",
            "Total reward:  69.24291944503784\n",
            "Total reward:  69.17097616195679\n",
            "Total reward:  69.05755853652954\n",
            "Total reward:  69.05392551422119\n",
            "Total reward:  69.045006275177\n",
            "Total reward:  68.95730066299438\n",
            "Total reward:  68.8005166053772\n"
          ],
          "name": "stdout"
        },
        {
          "output_type": "stream",
          "text": [
            "DEBUG:minerl.env.malmo.instance.2e9d75:[02:04:04] [Server thread/INFO]: [STDOUT]: Warning: managed 18/20 ticks this second.\n"
          ],
          "name": "stderr"
        },
        {
          "output_type": "stream",
          "text": [
            "Total reward:  68.57056903839111\n",
            "Total reward:  68.26858139038086\n",
            "Total reward:  68.03170394897461\n",
            "Total reward:  68.39195919036865\n",
            "Total reward:  68.67662763595581\n",
            "Total reward:  68.87735319137573\n",
            "Total reward:  68.99743223190308\n"
          ],
          "name": "stdout"
        },
        {
          "output_type": "stream",
          "text": [
            "DEBUG:minerl.env.malmo.instance.2e9d75:[02:04:04] [Client thread/INFO]: [CHAT] §l215...\n"
          ],
          "name": "stderr"
        },
        {
          "output_type": "stream",
          "text": [
            "Total reward:  68.99587440490723\n",
            "Total reward:  68.89125871658325\n",
            "Total reward:  68.71625089645386\n",
            "Total reward:  68.472487449646\n",
            "Total reward:  68.16122627258301\n",
            "Total reward:  67.78342628479004\n",
            "Total reward:  67.33983898162842\n"
          ],
          "name": "stdout"
        },
        {
          "output_type": "stream",
          "text": [
            "DEBUG:minerl.env.malmo.instance.2e9d75:[02:04:05] [Server thread/INFO]: [STDOUT]: Warning: managed 16/20 ticks this second.\n"
          ],
          "name": "stderr"
        },
        {
          "output_type": "stream",
          "text": [
            "Total reward:  66.83109664916992\n",
            "Total reward:  66.25778865814209\n",
            "Total reward:  65.75603580474854\n",
            "Total reward:  66.10275840759277\n",
            "Total reward:  66.3802490234375\n",
            "Total reward:  66.57682609558105\n",
            "Total reward:  66.6956729888916\n",
            "Total reward:  66.73972988128662\n",
            "Total reward:  66.71159362792969\n",
            "Total reward:  66.6134557723999\n",
            "Total reward:  66.44707298278809\n",
            "Total reward:  66.21379566192627\n"
          ],
          "name": "stdout"
        },
        {
          "output_type": "stream",
          "text": [
            "DEBUG:minerl.env.malmo.instance.2e9d75:[02:04:06] [Client thread/INFO]: [CHAT] §l214...\n"
          ],
          "name": "stderr"
        },
        {
          "output_type": "stream",
          "text": [
            "Total reward:  65.91461181640625\n",
            "Total reward:  65.55023384094238\n",
            "Total reward:  65.41227722167969\n",
            "Total reward:  65.75752925872803\n",
            "Total reward:  66.03248310089111\n",
            "Total reward:  66.2297945022583\n",
            "Total reward:  66.35268306732178\n",
            "Total reward:  66.40398597717285\n"
          ],
          "name": "stdout"
        },
        {
          "output_type": "stream",
          "text": [
            "DEBUG:minerl.env.malmo.instance.2e9d75:[02:04:06] [Server thread/INFO]: [STDOUT]: Warning: managed 18/20 ticks this second.\n"
          ],
          "name": "stderr"
        },
        {
          "output_type": "stream",
          "text": [
            "Total reward:  66.38607215881348\n",
            "Total reward:  66.30079650878906\n",
            "Total reward:  66.14950656890869\n",
            "Total reward:  65.93442058563232\n",
            "Total reward:  65.65452671051025\n",
            "Total reward:  65.31006717681885\n",
            "Total reward:  65.18659400939941\n",
            "Total reward:  65.54200839996338\n",
            "Total reward:  65.82235527038574\n",
            "Total reward:  66.02712535858154\n"
          ],
          "name": "stdout"
        },
        {
          "output_type": "stream",
          "text": [
            "DEBUG:minerl.env.malmo.instance.2e9d75:[02:04:06] [Client thread/INFO]: [CHAT] §l213...\n"
          ],
          "name": "stderr"
        },
        {
          "output_type": "stream",
          "text": [
            "Total reward:  66.1593885421753\n",
            "Total reward:  66.22175979614258\n",
            "Total reward:  66.21632862091064\n",
            "Total reward:  66.14462947845459\n",
            "Total reward:  66.00767421722412\n",
            "Total reward:  65.80600929260254\n",
            "Total reward:  65.53982543945312\n",
            "Total reward:  65.21373748779297\n",
            "Total reward:  65.15070724487305\n",
            "Total reward:  65.58615303039551\n",
            "Total reward:  65.91939640045166\n",
            "Total reward:  66.17677688598633\n",
            "Total reward:  66.36040687561035\n",
            "Total reward:  66.47190761566162\n",
            "Total reward:  66.51240253448486\n",
            "Total reward:  66.48255348205566\n",
            "Total reward:  66.3826379776001\n",
            "Total reward:  66.39301872253418\n",
            "Total reward:  66.43643379211426\n",
            "Total reward:  66.84641933441162\n",
            "Total reward:  67.16205596923828\n",
            "Total reward:  67.40149974822998\n",
            "Total reward:  67.56704425811768\n"
          ],
          "name": "stdout"
        },
        {
          "output_type": "stream",
          "text": [
            "DEBUG:minerl.env.malmo.instance.2e9d75:[02:04:07] [Client thread/INFO]: [CHAT] §l212...\n"
          ],
          "name": "stderr"
        },
        {
          "output_type": "stream",
          "text": [
            "Total reward:  67.66051578521729\n",
            "Total reward:  67.68323516845703\n",
            "Total reward:  67.63487529754639\n",
            "Total reward:  67.4947681427002\n",
            "Total reward:  67.28928565979004\n",
            "Total reward:  67.01877117156982\n",
            "Total reward:  66.68578815460205\n",
            "Total reward:  66.29027462005615\n",
            "Total reward:  65.830641746521\n",
            "Total reward:  65.30619144439697\n",
            "Total reward:  64.78135776519775\n",
            "Total reward:  65.20510578155518\n",
            "Total reward:  65.5360746383667\n",
            "Total reward:  65.78908061981201\n",
            "Total reward:  65.96575260162354\n",
            "Total reward:  66.06737804412842\n",
            "Total reward:  66.09492588043213\n",
            "Total reward:  66.04908847808838\n",
            "Total reward:  65.93035125732422\n",
            "Total reward:  65.73907852172852\n",
            "Total reward:  65.4755973815918\n",
            "Total reward:  65.14028072357178\n"
          ],
          "name": "stdout"
        },
        {
          "output_type": "stream",
          "text": [
            "DEBUG:minerl.env.malmo.instance.2e9d75:[02:04:08] [Client thread/INFO]: [CHAT] §l211...\n"
          ],
          "name": "stderr"
        },
        {
          "output_type": "stream",
          "text": [
            "Total reward:  65.04298686981201\n",
            "Total reward:  65.47176837921143\n",
            "Total reward:  65.8051929473877\n",
            "Total reward:  66.0566234588623\n",
            "Total reward:  66.22764873504639\n",
            "Total reward:  66.31969451904297\n",
            "Total reward:  66.33404350280762\n",
            "Total reward:  66.2718563079834\n",
            "Total reward:  66.13420677185059\n",
            "Total reward:  65.92212009429932\n",
            "Total reward:  65.63661193847656\n",
            "Total reward:  65.27871513366699\n",
            "Total reward:  64.84950733184814\n",
            "Total reward:  64.35011386871338\n",
            "Total reward:  64.18983459472656\n",
            "Total reward:  64.59469032287598\n",
            "Total reward:  64.92743015289307\n"
          ],
          "name": "stdout"
        },
        {
          "output_type": "stream",
          "text": [
            "DEBUG:minerl.env.malmo.instance.2e9d75:[02:04:09] [Client thread/INFO]: [CHAT] §l210...\n"
          ],
          "name": "stderr"
        },
        {
          "output_type": "stream",
          "text": [
            "Total reward:  65.1826229095459\n",
            "Total reward:  65.35597229003906\n",
            "Total reward:  65.44871234893799\n",
            "Total reward:  65.4619951248169\n",
            "Total reward:  65.39692401885986\n",
            "Total reward:  65.25458908081055\n",
            "Total reward:  65.03610706329346\n",
            "Total reward:  64.74282741546631\n",
            "Total reward:  64.37598133087158\n",
            "Total reward:  63.936842918395996\n",
            "Total reward:  63.42674541473389\n",
            "Total reward:  63.258766174316406\n",
            "Total reward:  63.65524482727051\n",
            "Total reward:  63.96911907196045\n",
            "Total reward:  64.19780445098877\n",
            "Total reward:  64.34336280822754\n",
            "Total reward:  64.40783405303955\n",
            "Total reward:  64.39321899414062\n",
            "Total reward:  64.30145072937012\n",
            "Total reward:  64.13437938690186\n",
            "Total reward:  63.89375686645508\n"
          ],
          "name": "stdout"
        },
        {
          "output_type": "stream",
          "text": [
            "DEBUG:minerl.env.malmo.instance.2e9d75:[02:04:10] [Client thread/INFO]: [CHAT] §l209...\n"
          ],
          "name": "stderr"
        },
        {
          "output_type": "stream",
          "text": [
            "Total reward:  63.58123016357422\n",
            "Total reward:  63.198341369628906\n",
            "Total reward:  62.746538162231445\n",
            "Total reward:  62.227179527282715\n",
            "Total reward:  61.64155197143555\n",
            "Total reward:  61.05813503265381\n",
            "Total reward:  61.43819618225098\n",
            "Total reward:  61.74209022521973\n",
            "Total reward:  61.96254634857178\n",
            "Total reward:  62.1017951965332\n",
            "Total reward:  62.161980628967285\n",
            "Total reward:  62.145127296447754\n",
            "Total reward:  62.05312919616699\n",
            "Total reward:  61.887733459472656\n",
            "Total reward:  61.65054130554199\n",
            "Total reward:  61.34301471710205\n",
            "Total reward:  60.96648979187012\n",
            "Total reward:  60.52219581604004\n",
            "Total reward:  60.01127815246582\n",
            "Total reward:  59.837379455566406\n"
          ],
          "name": "stdout"
        },
        {
          "output_type": "stream",
          "text": [
            "DEBUG:minerl.env.malmo.instance.2e9d75:[02:04:11] [Server thread/INFO]: [STDOUT]: Warning: managed 16/20 ticks this second.\n",
            "DEBUG:minerl.env.malmo.instance.2e9d75:[02:04:11] [Client thread/INFO]: [CHAT] §l208...\n"
          ],
          "name": "stderr"
        },
        {
          "output_type": "stream",
          "text": [
            "Total reward:  60.22024726867676\n",
            "Total reward:  60.52568054199219\n",
            "Total reward:  60.74923038482666\n",
            "Total reward:  60.8930606842041\n",
            "Total reward:  60.959083557128906\n",
            "Total reward:  60.94931507110596\n",
            "Total reward:  60.86547660827637\n",
            "Total reward:  60.70912837982178\n",
            "Total reward:  60.4816780090332\n",
            "Total reward:  60.184391021728516\n",
            "Total reward:  59.81842231750488\n",
            "Total reward:  59.6920108795166\n",
            "Total reward:  60.08203125\n",
            "Total reward:  60.39149475097656\n",
            "Total reward:  60.62007427215576\n",
            "Total reward:  60.76985740661621\n"
          ],
          "name": "stdout"
        },
        {
          "output_type": "stream",
          "text": [
            "DEBUG:minerl.env.malmo.instance.2e9d75:[02:04:12] [Server thread/INFO]: [STDOUT]: Warning: managed 17/20 ticks this second.\n"
          ],
          "name": "stderr"
        },
        {
          "output_type": "stream",
          "text": [
            "Total reward:  60.79660224914551\n",
            "Total reward:  60.717984199523926\n",
            "Total reward:  60.59884738922119\n",
            "Total reward:  60.59938907623291\n"
          ],
          "name": "stdout"
        },
        {
          "output_type": "stream",
          "text": [
            "DEBUG:minerl.env.malmo.instance.2e9d75:[02:04:12] [Client thread/INFO]: [CHAT] §l207...\n"
          ],
          "name": "stderr"
        },
        {
          "output_type": "stream",
          "text": [
            "Total reward:  60.60458564758301\n",
            "Total reward:  60.612563133239746\n",
            "Total reward:  60.7903528213501\n",
            "Total reward:  60.697869300842285\n",
            "Total reward:  60.5645170211792\n",
            "Total reward:  60.537940979003906\n",
            "Total reward:  60.515329360961914\n",
            "Total reward:  60.495933532714844\n",
            "Total reward:  60.479352951049805\n",
            "Total reward:  60.465375900268555\n",
            "Total reward:  60.45388221740723\n",
            "Total reward:  60.44479179382324\n"
          ],
          "name": "stdout"
        },
        {
          "output_type": "stream",
          "text": [
            "DEBUG:minerl.env.malmo.instance.2e9d75:[02:04:13] [Server thread/INFO]: [STDOUT]: Warning: managed 18/20 ticks this second.\n"
          ],
          "name": "stderr"
        },
        {
          "output_type": "stream",
          "text": [
            "Total reward:  60.62395095825195\n",
            "Total reward:  60.547237396240234\n",
            "Total reward:  60.430715560913086\n",
            "Total reward:  60.428659439086914\n",
            "Total reward:  60.42953872680664\n",
            "Total reward:  60.43238830566406\n",
            "Total reward:  60.437604904174805\n",
            "Total reward:  60.44487190246582\n"
          ],
          "name": "stdout"
        },
        {
          "output_type": "stream",
          "text": [
            "DEBUG:minerl.env.malmo.instance.2e9d75:[02:04:13] [Client thread/INFO]: [CHAT] §l206...\n"
          ],
          "name": "stderr"
        },
        {
          "output_type": "stream",
          "text": [
            "Total reward:  60.453975677490234\n",
            "Total reward:  60.464752197265625\n",
            "Total reward:  60.663434982299805\n",
            "Total reward:  60.59857654571533\n",
            "Total reward:  60.49403381347656\n",
            "Total reward:  60.51022911071777\n",
            "Total reward:  60.52764129638672\n",
            "Total reward:  60.546125411987305\n",
            "Total reward:  60.565558433532715\n",
            "Total reward:  60.58582592010498\n",
            "Total reward:  60.60682201385498\n",
            "Total reward:  60.62844657897949\n"
          ],
          "name": "stdout"
        },
        {
          "output_type": "stream",
          "text": [
            "DEBUG:minerl.env.malmo.instance.2e9d75:[02:04:14] [Server thread/INFO]: [STDOUT]: Warning: managed 17/20 ticks this second.\n"
          ],
          "name": "stderr"
        },
        {
          "output_type": "stream",
          "text": [
            "Total reward:  60.83901786804199\n",
            "Total reward:  60.77935218811035\n",
            "Total reward:  60.67947769165039\n",
            "Total reward:  60.70379638671875\n",
            "Total reward:  60.72787094116211\n",
            "Total reward:  60.751797676086426\n",
            "Total reward:  60.77558898925781\n",
            "Total reward:  60.799217224121094\n",
            "Total reward:  60.822630882263184\n",
            "Total reward:  60.84576606750488\n"
          ],
          "name": "stdout"
        },
        {
          "output_type": "stream",
          "text": [
            "DEBUG:minerl.env.malmo.instance.2e9d75:[02:04:14] [Client thread/INFO]: [CHAT] §l205...\n"
          ],
          "name": "stderr"
        },
        {
          "output_type": "stream",
          "text": [
            "Total reward:  61.059630393981934\n",
            "Total reward:  60.999064445495605\n",
            "Total reward:  60.89746284484863\n",
            "Total reward:  60.9205379486084\n",
            "Total reward:  60.94246006011963\n",
            "Total reward:  60.9634485244751\n",
            "Total reward:  60.983595848083496\n",
            "Total reward:  60.92732906341553\n",
            "Total reward:  60.78925132751465\n",
            "Total reward:  60.578253746032715\n",
            "Total reward:  60.2869930267334\n",
            "Total reward:  60.06255340576172\n",
            "Total reward:  60.469552993774414\n",
            "Total reward:  60.791954040527344\n",
            "Total reward:  61.03336811065674\n",
            "Total reward:  61.19557189941406\n",
            "Total reward:  61.23268795013428\n",
            "Total reward:  61.1624698638916\n"
          ],
          "name": "stdout"
        },
        {
          "output_type": "stream",
          "text": [
            "DEBUG:minerl.env.malmo.instance.2e9d75:[02:04:15] [Client thread/INFO]: [CHAT] §l204...\n"
          ],
          "name": "stderr"
        },
        {
          "output_type": "stream",
          "text": [
            "Total reward:  61.05134391784668\n",
            "Total reward:  61.06438446044922\n",
            "Total reward:  61.07821273803711\n",
            "Total reward:  61.09201526641846\n",
            "Total reward:  61.299394607543945\n",
            "Total reward:  61.23149871826172\n",
            "Total reward:  61.12160110473633\n",
            "Total reward:  61.13382625579834\n",
            "Total reward:  61.14477729797363\n",
            "Total reward:  61.15461254119873\n",
            "Total reward:  61.16341495513916\n",
            "Total reward:  61.171231269836426\n",
            "Total reward:  61.1780891418457\n",
            "Total reward:  61.18401527404785\n",
            "Total reward:  61.384135246276855\n",
            "Total reward:  61.310439109802246\n",
            "Total reward:  61.19429683685303\n",
            "Total reward:  61.19747257232666\n",
            "Total reward:  61.199673652648926\n",
            "Total reward:  61.201040267944336\n",
            "Total reward:  61.201663970947266\n",
            "Total reward:  61.20161247253418\n"
          ],
          "name": "stdout"
        },
        {
          "output_type": "stream",
          "text": [
            "DEBUG:minerl.env.malmo.instance.2e9d75:[02:04:16] [Client thread/INFO]: [CHAT] §l203...\n"
          ],
          "name": "stderr"
        },
        {
          "output_type": "stream",
          "text": [
            "Total reward:  61.200944900512695\n",
            "Total reward:  61.199713706970215\n",
            "Total reward:  61.62730884552002\n",
            "Total reward:  61.965577125549316\n",
            "Total reward:  62.22303867340088\n",
            "Total reward:  62.401000022888184\n",
            "Total reward:  62.50060558319092\n",
            "Total reward:  62.522857666015625\n",
            "Total reward:  62.46865940093994\n",
            "Total reward:  62.338852882385254\n",
            "Total reward:  62.134260177612305\n",
            "Total reward:  61.84696674346924\n",
            "Total reward:  61.474388122558594\n",
            "Total reward:  61.35074806213379\n",
            "Total reward:  61.75930881500244\n",
            "Total reward:  62.08388423919678\n",
            "Total reward:  62.32744026184082\n",
            "Total reward:  62.49163055419922\n",
            "Total reward:  62.577903747558594\n"
          ],
          "name": "stdout"
        },
        {
          "output_type": "stream",
          "text": [
            "DEBUG:minerl.env.malmo.instance.2e9d75:[02:04:17] [Client thread/INFO]: [CHAT] §l202...\n"
          ],
          "name": "stderr"
        },
        {
          "output_type": "stream",
          "text": [
            "Total reward:  62.5875244140625\n",
            "Total reward:  62.52160167694092\n",
            "Total reward:  62.381131172180176\n",
            "Total reward:  62.367573738098145\n",
            "Total reward:  62.38782501220703\n",
            "Total reward:  62.823330879211426\n",
            "Total reward:  63.16490936279297\n",
            "Total reward:  63.42234230041504\n",
            "Total reward:  63.59691619873047\n",
            "Total reward:  63.68986415863037\n",
            "Total reward:  63.70239448547363\n",
            "Total reward:  63.63598155975342\n",
            "Total reward:  63.491291999816895\n",
            "Total reward:  63.47148609161377\n",
            "Total reward:  63.47614574432373\n",
            "Total reward:  63.89507484436035\n",
            "Total reward:  64.2250804901123\n",
            "Total reward:  64.46889019012451\n",
            "Total reward:  64.62807273864746\n"
          ],
          "name": "stdout"
        },
        {
          "output_type": "stream",
          "text": [
            "DEBUG:minerl.env.malmo.instance.2e9d75:[02:04:18] [Client thread/INFO]: [CHAT] §l201...\n"
          ],
          "name": "stderr"
        },
        {
          "output_type": "stream",
          "text": [
            "Total reward:  64.70423126220703\n",
            "Total reward:  64.69900798797607\n",
            "Total reward:  64.61408710479736\n",
            "Total reward:  64.45118618011475\n",
            "Total reward:  64.41288089752197\n",
            "Total reward:  64.39216613769531\n",
            "Total reward:  64.78531837463379\n",
            "Total reward:  65.09759140014648\n",
            "Total reward:  65.32351398468018\n",
            "Total reward:  65.46517562866211\n",
            "Total reward:  65.52470397949219\n",
            "Total reward:  65.50423049926758\n",
            "Total reward:  65.40585899353027\n",
            "Total reward:  65.23162746429443\n",
            "Total reward:  65.18006610870361\n",
            "Total reward:  65.1435432434082\n",
            "Total reward:  65.5149097442627\n"
          ],
          "name": "stdout"
        },
        {
          "output_type": "stream",
          "text": [
            "DEBUG:minerl.env.malmo.instance.2e9d75:[02:04:19] [Server thread/INFO]: [STDOUT]: Warning: managed 18/20 ticks this second.\n"
          ],
          "name": "stderr"
        },
        {
          "output_type": "stream",
          "text": [
            "Total reward:  65.8111457824707\n",
            "Total reward:  66.0227746963501\n",
            "Total reward:  66.15238952636719\n",
            "Total reward:  66.20252990722656\n"
          ],
          "name": "stdout"
        },
        {
          "output_type": "stream",
          "text": [
            "DEBUG:minerl.env.malmo.instance.2e9d75:[02:04:19] [Client thread/INFO]: [CHAT] §l200...\n"
          ],
          "name": "stderr"
        },
        {
          "output_type": "stream",
          "text": [
            "Total reward:  66.17561626434326\n",
            "Total reward:  66.07389450073242\n",
            "Total reward:  65.8993968963623\n",
            "Total reward:  65.66228866577148\n",
            "Total reward:  65.37644577026367\n",
            "Total reward:  65.02385902404785\n",
            "Total reward:  64.91167831420898\n",
            "Total reward:  65.3226318359375\n",
            "Total reward:  65.64711856842041\n",
            "Total reward:  65.89344215393066\n",
            "Total reward:  66.06368637084961\n",
            "Total reward:  66.15956401824951\n",
            "Total reward:  66.18239784240723\n",
            "Total reward:  66.13314247131348\n",
            "Total reward:  66.0124397277832\n"
          ],
          "name": "stdout"
        },
        {
          "output_type": "stream",
          "text": [
            "DEBUG:minerl.env.malmo.instance.2e9d75:[02:04:20] [Server thread/INFO]: [STDOUT]: Warning: managed 16/20 ticks this second.\n"
          ],
          "name": "stderr"
        },
        {
          "output_type": "stream",
          "text": [
            "Total reward:  65.82069683074951\n",
            "Total reward:  65.55818462371826\n",
            "Total reward:  65.2251329421997\n",
            "Total reward:  65.13357925415039\n"
          ],
          "name": "stdout"
        },
        {
          "output_type": "stream",
          "text": [
            "DEBUG:minerl.env.malmo.instance.2e9d75:[02:04:20] [Client thread/INFO]: [CHAT] §l199...\n"
          ],
          "name": "stderr"
        },
        {
          "output_type": "stream",
          "text": [
            "Total reward:  65.57795810699463\n",
            "Total reward:  65.92381477355957\n",
            "Total reward:  66.18703365325928\n",
            "Total reward:  66.36899948120117\n",
            "Total reward:  66.47091102600098\n",
            "Total reward:  66.49382019042969\n",
            "Total reward:  66.4386854171753\n",
            "Total reward:  66.30643081665039\n",
            "Total reward:  66.29612827301025\n",
            "Total reward:  66.2862434387207\n",
            "Total reward:  66.6824951171875\n",
            "Total reward:  66.99746131896973\n"
          ],
          "name": "stdout"
        },
        {
          "output_type": "stream",
          "text": [
            "DEBUG:minerl.env.malmo.instance.2e9d75:[02:04:21] [Server thread/INFO]: [STDOUT]: Warning: managed 16/20 ticks this second.\n"
          ],
          "name": "stderr"
        },
        {
          "output_type": "stream",
          "text": [
            "Total reward:  67.23166179656982\n",
            "Total reward:  67.38728141784668\n",
            "Total reward:  67.46617794036865\n",
            "Total reward:  67.4698715209961\n",
            "Total reward:  67.39957237243652\n",
            "Total reward:  67.25622749328613\n",
            "Total reward:  67.2369613647461\n",
            "Total reward:  67.24921226501465\n"
          ],
          "name": "stdout"
        },
        {
          "output_type": "stream",
          "text": [
            "DEBUG:minerl.env.malmo.instance.2e9d75:[02:04:22] [Client thread/INFO]: [CHAT] §l198...\n"
          ],
          "name": "stderr"
        },
        {
          "output_type": "stream",
          "text": [
            "Total reward:  67.66824054718018\n",
            "Total reward:  67.9959077835083\n",
            "Total reward:  68.23969554901123\n",
            "Total reward:  68.40204620361328\n",
            "Total reward:  68.4844799041748\n",
            "Total reward:  68.4883975982666\n",
            "Total reward:  68.4151029586792\n",
            "Total reward:  68.26583194732666\n"
          ],
          "name": "stdout"
        },
        {
          "output_type": "stream",
          "text": [
            "DEBUG:minerl.env.malmo.instance.2e9d75:[02:04:22] [Server thread/INFO]: [STDOUT]: Warning: managed 18/20 ticks this second.\n"
          ],
          "name": "stderr"
        },
        {
          "output_type": "stream",
          "text": [
            "Total reward:  68.04179000854492\n",
            "Total reward:  67.74417877197266\n",
            "Total reward:  67.3742208480835\n",
            "Total reward:  67.2461404800415\n",
            "Total reward:  67.6366195678711\n",
            "Total reward:  67.9444580078125\n",
            "Total reward:  68.16718864440918\n",
            "Total reward:  68.30715656280518\n",
            "Total reward:  68.36669254302979\n",
            "Total reward:  68.34806060791016\n",
            "Total reward:  68.25339412689209\n",
            "Total reward:  68.08465003967285\n",
            "Total reward:  67.83028316497803\n",
            "Total reward:  67.50359535217285\n"
          ],
          "name": "stdout"
        },
        {
          "output_type": "stream",
          "text": [
            "DEBUG:minerl.env.malmo.instance.2e9d75:[02:04:23] [Client thread/INFO]: [CHAT] §l197...\n"
          ],
          "name": "stderr"
        },
        {
          "output_type": "stream",
          "text": [
            "Total reward:  67.10975170135498\n",
            "Total reward:  66.95401859283447\n",
            "Total reward:  67.29320907592773\n",
            "Total reward:  67.56759548187256\n",
            "Total reward:  67.76090049743652\n",
            "Total reward:  67.8768835067749\n",
            "Total reward:  67.91903591156006\n",
            "Total reward:  67.89041233062744\n",
            "Total reward:  67.79351615905762\n",
            "Total reward:  67.63025379180908\n",
            "Total reward:  67.58356094360352\n",
            "Total reward:  67.56239795684814\n",
            "Total reward:  67.73126888275146\n",
            "Total reward:  67.65831851959229\n",
            "Total reward:  67.54854583740234\n"
          ],
          "name": "stdout"
        },
        {
          "output_type": "stream",
          "text": [
            "DEBUG:minerl.env.malmo.instance.2e9d75:[02:04:24] [Client thread/INFO]: [CHAT] §l196...\n"
          ],
          "name": "stderr"
        },
        {
          "output_type": "stream",
          "text": [
            "Total reward:  67.55454635620117\n",
            "Total reward:  67.56694221496582\n",
            "Total reward:  67.58404636383057\n",
            "Total reward:  67.60483837127686\n",
            "Total reward:  67.62866401672363\n",
            "Total reward:  67.65506839752197\n",
            "Total reward:  67.61298561096191\n",
            "Total reward:  67.49063682556152\n",
            "Total reward:  67.29979515075684\n",
            "Total reward:  67.04047298431396\n",
            "Total reward:  66.8471736907959\n",
            "Total reward:  67.2706995010376\n",
            "Total reward:  67.60081386566162\n",
            "Total reward:  67.85373497009277\n",
            "Total reward:  68.03146266937256\n",
            "Total reward:  68.1355333328247\n",
            "Total reward:  68.16700172424316\n",
            "Total reward:  68.12647819519043\n",
            "Total reward:  68.01422214508057\n",
            "Total reward:  67.8302698135376\n",
            "Total reward:  67.57457160949707\n",
            "Total reward:  67.24712467193604\n",
            "Total reward:  67.15821552276611\n",
            "Total reward:  67.59996509552002\n",
            "Total reward:  67.94349575042725\n"
          ],
          "name": "stdout"
        },
        {
          "output_type": "stream",
          "text": [
            "DEBUG:minerl.env.malmo.instance.2e9d75:[02:04:24] [Client thread/INFO]: [CHAT] §l195...\n"
          ],
          "name": "stderr"
        },
        {
          "output_type": "stream",
          "text": [
            "Total reward:  68.20856285095215\n",
            "Total reward:  68.39640140533447\n",
            "Total reward:  68.50778865814209\n",
            "Total reward:  68.54311084747314\n",
            "Total reward:  68.50247764587402\n",
            "Total reward:  68.3858699798584\n",
            "Total reward:  68.39248085021973\n",
            "Total reward:  68.43547058105469\n",
            "Total reward:  68.88627910614014\n",
            "Total reward:  69.23670625686646\n",
            "Total reward:  69.50250291824341\n",
            "Total reward:  69.6842474937439\n",
            "Total reward:  69.78244638442993\n",
            "Total reward:  69.79766750335693\n",
            "Total reward:  69.73067092895508\n",
            "Total reward:  69.58250284194946\n",
            "Total reward:  69.5577163696289\n",
            "Total reward:  69.54910659790039\n",
            "Total reward:  69.9509801864624\n",
            "Total reward:  70.26650953292847\n"
          ],
          "name": "stdout"
        },
        {
          "output_type": "stream",
          "text": [
            "DEBUG:minerl.env.malmo.instance.2e9d75:[02:04:25] [Client thread/INFO]: [CHAT] §l194...\n"
          ],
          "name": "stderr"
        },
        {
          "output_type": "stream",
          "text": [
            "Total reward:  70.49400091171265\n",
            "Total reward:  70.6432843208313\n",
            "Total reward:  70.72503614425659\n",
            "Total reward:  70.72800874710083\n",
            "Total reward:  70.6536455154419\n",
            "Total reward:  70.50341129302979\n",
            "Total reward:  70.27867412567139\n",
            "Total reward:  69.98073530197144\n",
            "Total reward:  69.61085987091064\n",
            "Total reward:  69.49077892303467\n",
            "Total reward:  69.9063811302185\n",
            "Total reward:  70.23567867279053\n",
            "Total reward:  70.48063230514526\n",
            "Total reward:  70.64314556121826\n",
            "Total reward:  70.72503614425659\n",
            "Total reward:  70.72800874710083\n",
            "Total reward:  70.6536455154419\n",
            "Total reward:  70.50341129302979\n",
            "Total reward:  70.27883529663086\n"
          ],
          "name": "stdout"
        },
        {
          "output_type": "stream",
          "text": [
            "DEBUG:minerl.env.malmo.instance.2e9d75:[02:04:26] [Client thread/INFO]: [CHAT] §l193...\n"
          ],
          "name": "stderr"
        },
        {
          "output_type": "stream",
          "text": [
            "Total reward:  69.98120307922363\n",
            "Total reward:  69.61173963546753\n",
            "Total reward:  69.49258470535278\n",
            "Total reward:  69.91261577606201\n",
            "Total reward:  70.24537420272827\n",
            "Total reward:  70.49440717697144\n",
            "Total reward:  70.66144371032715\n",
            "Total reward:  70.74802494049072\n",
            "Total reward:  70.75550556182861\n",
            "Total reward:  70.6850848197937\n",
            "Total reward:  70.5378623008728\n",
            "Total reward:  70.31490516662598\n",
            "Total reward:  70.01730155944824\n",
            "Total reward:  69.64620304107666\n",
            "Total reward:  69.52479696273804\n",
            "Total reward:  69.93734550476074\n",
            "Total reward:  70.26202726364136\n",
            "Total reward:  70.49782419204712\n",
            "Total reward:  70.64624404907227\n"
          ],
          "name": "stdout"
        },
        {
          "output_type": "stream",
          "text": [
            "DEBUG:minerl.env.malmo.instance.2e9d75:[02:04:26] [Client thread/INFO]: [CHAT] §l192...\n"
          ],
          "name": "stderr"
        },
        {
          "output_type": "stream",
          "text": [
            "Total reward:  70.70905351638794\n",
            "Total reward:  70.68831872940063\n",
            "Total reward:  70.58637285232544\n",
            "Total reward:  70.40572023391724\n",
            "Total reward:  70.1489109992981\n",
            "Total reward:  69.81841897964478\n",
            "Total reward:  69.4165506362915\n",
            "Total reward:  69.25600242614746\n",
            "Total reward:  69.58850431442261\n",
            "Total reward:  69.8539891242981\n",
            "Total reward:  70.03111028671265\n",
            "Total reward:  70.1241021156311\n",
            "Total reward:  70.17824506759644\n",
            "Total reward:  70.18670988082886\n",
            "Total reward:  70.12431764602661\n",
            "Total reward:  69.99151706695557\n",
            "Total reward:  69.78834581375122\n",
            "Total reward:  69.51114797592163\n",
            "Total reward:  69.16540575027466\n"
          ],
          "name": "stdout"
        },
        {
          "output_type": "stream",
          "text": [
            "DEBUG:minerl.env.malmo.instance.2e9d75:[02:04:27] [Client thread/INFO]: [CHAT] §l191...\n"
          ],
          "name": "stderr"
        },
        {
          "output_type": "stream",
          "text": [
            "Total reward:  69.05363988876343\n",
            "Total reward:  69.24291944503784\n",
            "Total reward:  69.17097616195679\n",
            "Total reward:  69.05755853652954\n",
            "Total reward:  69.05392551422119\n",
            "Total reward:  69.045006275177\n",
            "Total reward:  68.95730066299438\n",
            "Total reward:  68.8005166053772\n",
            "Total reward:  68.57056903839111\n",
            "Total reward:  68.26858139038086\n",
            "Total reward:  68.03170394897461\n",
            "Total reward:  68.39195919036865\n",
            "Total reward:  68.67662763595581\n",
            "Total reward:  68.87735319137573\n",
            "Total reward:  68.99743223190308\n",
            "Total reward:  68.99587440490723\n"
          ],
          "name": "stdout"
        },
        {
          "output_type": "stream",
          "text": [
            "DEBUG:minerl.env.malmo.instance.2e9d75:[02:04:28] [Server thread/INFO]: [STDOUT]: Warning: managed 17/20 ticks this second.\n"
          ],
          "name": "stderr"
        },
        {
          "output_type": "stream",
          "text": [
            "Total reward:  68.89125871658325\n",
            "Total reward:  68.71625089645386\n",
            "Total reward:  68.472487449646\n",
            "Total reward:  68.16122627258301\n",
            "Total reward:  67.78342628479004\n",
            "Total reward:  67.33983898162842\n",
            "Total reward:  66.83109664916992\n"
          ],
          "name": "stdout"
        },
        {
          "output_type": "stream",
          "text": [
            "DEBUG:minerl.env.malmo.instance.2e9d75:[02:04:29] [Client thread/INFO]: [CHAT] §l190...\n"
          ],
          "name": "stderr"
        },
        {
          "output_type": "stream",
          "text": [
            "Total reward:  66.25778865814209\n",
            "Total reward:  65.75603580474854\n",
            "Total reward:  66.10275840759277\n",
            "Total reward:  66.3802490234375\n",
            "Total reward:  66.57682609558105\n",
            "Total reward:  66.6956729888916\n",
            "Total reward:  66.73972988128662\n",
            "Total reward:  66.71159362792969\n"
          ],
          "name": "stdout"
        },
        {
          "output_type": "stream",
          "text": [
            "DEBUG:minerl.env.malmo.instance.2e9d75:[02:04:29] [Server thread/INFO]: [STDOUT]: Warning: managed 15/20 ticks this second.\n"
          ],
          "name": "stderr"
        },
        {
          "output_type": "stream",
          "text": [
            "Total reward:  66.6134557723999\n",
            "Total reward:  66.44707298278809\n",
            "Total reward:  66.21379566192627\n",
            "Total reward:  65.91461181640625\n",
            "Total reward:  65.55023384094238\n",
            "Total reward:  65.41227722167969\n",
            "Total reward:  65.75752925872803\n",
            "Total reward:  66.03248310089111\n",
            "Total reward:  66.2297945022583\n",
            "Total reward:  66.35268306732178\n",
            "Total reward:  66.40398597717285\n"
          ],
          "name": "stdout"
        },
        {
          "output_type": "stream",
          "text": [
            "DEBUG:minerl.env.malmo.instance.2e9d75:[02:04:30] [Client thread/INFO]: [CHAT] §l189...\n"
          ],
          "name": "stderr"
        },
        {
          "output_type": "stream",
          "text": [
            "Total reward:  66.38607215881348\n",
            "Total reward:  66.30079650878906\n",
            "Total reward:  66.14950656890869\n",
            "Total reward:  65.93442058563232\n",
            "Total reward:  65.65452671051025\n",
            "Total reward:  65.31006717681885\n",
            "Total reward:  65.18659400939941\n",
            "Total reward:  65.54200839996338\n",
            "Total reward:  65.82235527038574\n",
            "Total reward:  66.02712535858154\n",
            "Total reward:  66.1593885421753\n",
            "Total reward:  66.22175979614258\n",
            "Total reward:  66.21632862091064\n",
            "Total reward:  66.14462947845459\n",
            "Total reward:  66.00767421722412\n",
            "Total reward:  65.80600929260254\n",
            "Total reward:  65.53982543945312\n",
            "Total reward:  65.21373748779297\n"
          ],
          "name": "stdout"
        },
        {
          "output_type": "stream",
          "text": [
            "DEBUG:minerl.env.malmo.instance.2e9d75:[02:04:30] [Client thread/INFO]: [CHAT] §l188...\n"
          ],
          "name": "stderr"
        },
        {
          "output_type": "stream",
          "text": [
            "Total reward:  65.15070724487305\n",
            "Total reward:  65.58615303039551\n",
            "Total reward:  65.91939640045166\n",
            "Total reward:  66.17677688598633\n",
            "Total reward:  66.36040687561035\n",
            "Total reward:  66.47190761566162\n",
            "Total reward:  66.51240253448486\n",
            "Total reward:  66.48255348205566\n",
            "Total reward:  66.3826379776001\n",
            "Total reward:  66.39301872253418\n",
            "Total reward:  66.43643379211426\n",
            "Total reward:  66.84641933441162\n",
            "Total reward:  67.16205596923828\n",
            "Total reward:  67.40149974822998\n",
            "Total reward:  67.56704425811768\n",
            "Total reward:  67.66051578521729\n",
            "Total reward:  67.68323516845703\n",
            "Total reward:  67.63487529754639\n",
            "Total reward:  67.4947681427002\n"
          ],
          "name": "stdout"
        },
        {
          "output_type": "stream",
          "text": [
            "DEBUG:minerl.env.malmo.instance.2e9d75:[02:04:31] [Client thread/INFO]: [CHAT] §l187...\n"
          ],
          "name": "stderr"
        },
        {
          "output_type": "stream",
          "text": [
            "Total reward:  67.28928565979004\n",
            "Total reward:  67.01877117156982\n",
            "Total reward:  66.68578815460205\n",
            "Total reward:  66.29027462005615\n",
            "Total reward:  65.830641746521\n",
            "Total reward:  65.30619144439697\n",
            "Total reward:  64.78135776519775\n",
            "Total reward:  65.20510578155518\n",
            "Total reward:  65.5360746383667\n",
            "Total reward:  65.78908061981201\n",
            "Total reward:  65.96575260162354\n",
            "Total reward:  66.06737804412842\n",
            "Total reward:  66.09492588043213\n",
            "Total reward:  66.04908847808838\n",
            "Total reward:  65.93035125732422\n",
            "Total reward:  65.73907852172852\n",
            "Total reward:  65.4755973815918\n",
            "Total reward:  65.14028072357178\n",
            "Total reward:  65.04298686981201\n",
            "Total reward:  65.47176837921143\n",
            "Total reward:  65.8051929473877\n",
            "Total reward:  66.0566234588623\n",
            "Total reward:  66.22764873504639\n"
          ],
          "name": "stdout"
        },
        {
          "output_type": "stream",
          "text": [
            "DEBUG:minerl.env.malmo.instance.2e9d75:[02:04:32] [Client thread/INFO]: [CHAT] §l186...\n"
          ],
          "name": "stderr"
        },
        {
          "output_type": "stream",
          "text": [
            "Total reward:  66.31969451904297\n",
            "Total reward:  66.33404350280762\n",
            "Total reward:  66.2718563079834\n",
            "Total reward:  66.13420677185059\n",
            "Total reward:  65.92212009429932\n",
            "Total reward:  65.63661193847656\n",
            "Total reward:  65.27871513366699\n",
            "Total reward:  64.84950733184814\n",
            "Total reward:  64.35011386871338\n",
            "Total reward:  64.18983459472656\n",
            "Total reward:  64.59469032287598\n",
            "Total reward:  64.92743015289307\n",
            "Total reward:  65.1826229095459\n",
            "Total reward:  65.35597229003906\n",
            "Total reward:  65.44871234893799\n",
            "Total reward:  65.4619951248169\n",
            "Total reward:  65.39692401885986\n",
            "Total reward:  65.25458908081055\n",
            "Total reward:  65.03610706329346\n"
          ],
          "name": "stdout"
        },
        {
          "output_type": "stream",
          "text": [
            "DEBUG:minerl.env.malmo.instance.2e9d75:[02:04:33] [Client thread/INFO]: [CHAT] §l185...\n"
          ],
          "name": "stderr"
        },
        {
          "output_type": "stream",
          "text": [
            "Total reward:  64.74282741546631\n",
            "Total reward:  64.37598133087158\n",
            "Total reward:  63.936842918395996\n",
            "Total reward:  63.42674541473389\n",
            "Total reward:  63.258766174316406\n",
            "Total reward:  63.65524482727051\n",
            "Total reward:  63.96911907196045\n",
            "Total reward:  64.19780445098877\n",
            "Total reward:  64.34336280822754\n",
            "Total reward:  64.40783405303955\n",
            "Total reward:  64.39321899414062\n",
            "Total reward:  64.30145072937012\n",
            "Total reward:  64.13437938690186\n",
            "Total reward:  63.89375686645508\n",
            "Total reward:  63.58123016357422\n",
            "Total reward:  63.198341369628906\n",
            "Total reward:  62.746538162231445\n",
            "Total reward:  62.227179527282715\n"
          ],
          "name": "stdout"
        },
        {
          "output_type": "stream",
          "text": [
            "DEBUG:minerl.env.malmo.instance.2e9d75:[02:04:34] [Client thread/INFO]: [CHAT] §l184...\n"
          ],
          "name": "stderr"
        },
        {
          "output_type": "stream",
          "text": [
            "Total reward:  61.64155197143555\n",
            "Total reward:  61.05813503265381\n",
            "Total reward:  61.43819618225098\n",
            "Total reward:  61.74209022521973\n",
            "Total reward:  61.96254634857178\n",
            "Total reward:  62.1017951965332\n",
            "Total reward:  62.161980628967285\n",
            "Total reward:  62.145127296447754\n",
            "Total reward:  62.05312919616699\n",
            "Total reward:  61.887733459472656\n",
            "Total reward:  61.65054130554199\n",
            "Total reward:  61.34301471710205\n",
            "Total reward:  60.96648979187012\n",
            "Total reward:  60.52219581604004\n",
            "Total reward:  60.01127815246582\n",
            "Total reward:  59.837379455566406\n",
            "Total reward:  60.22024726867676\n",
            "Total reward:  60.52568054199219\n"
          ],
          "name": "stdout"
        },
        {
          "output_type": "stream",
          "text": [
            "DEBUG:minerl.env.malmo.instance.2e9d75:[02:04:35] [Server thread/INFO]: [STDOUT]: Warning: managed 14/20 ticks this second.\n"
          ],
          "name": "stderr"
        },
        {
          "output_type": "stream",
          "text": [
            "Total reward:  60.74923038482666\n",
            "Total reward:  60.8930606842041\n",
            "Total reward:  60.959083557128906\n",
            "Total reward:  60.94931507110596\n"
          ],
          "name": "stdout"
        },
        {
          "output_type": "stream",
          "text": [
            "DEBUG:minerl.env.malmo.instance.2e9d75:[02:04:36] [Client thread/INFO]: [CHAT] §l183...\n"
          ],
          "name": "stderr"
        },
        {
          "output_type": "stream",
          "text": [
            "Total reward:  60.86547660827637\n",
            "Total reward:  60.70912837982178\n",
            "Total reward:  60.4816780090332\n",
            "Total reward:  60.184391021728516\n",
            "Total reward:  59.81842231750488\n",
            "Total reward:  59.6920108795166\n",
            "Total reward:  60.08203125\n",
            "Total reward:  60.39149475097656\n",
            "Total reward:  60.62007427215576\n",
            "Total reward:  60.76985740661621\n",
            "Total reward:  60.79660224914551\n",
            "Total reward:  60.717984199523926\n",
            "Total reward:  60.59884738922119\n",
            "Total reward:  60.59938907623291\n"
          ],
          "name": "stdout"
        },
        {
          "output_type": "stream",
          "text": [
            "DEBUG:minerl.env.malmo.instance.2e9d75:[02:04:36] [Server thread/INFO]: [STDOUT]: Warning: managed 16/20 ticks this second.\n"
          ],
          "name": "stderr"
        },
        {
          "output_type": "stream",
          "text": [
            "Total reward:  60.60458564758301\n",
            "Total reward:  60.612563133239746\n",
            "Total reward:  60.7903528213501\n",
            "Total reward:  60.697869300842285\n",
            "Total reward:  60.5645170211792\n",
            "Total reward:  60.537940979003906\n",
            "Total reward:  60.515329360961914\n"
          ],
          "name": "stdout"
        },
        {
          "output_type": "stream",
          "text": [
            "DEBUG:minerl.env.malmo.instance.2e9d75:[02:04:37] [Client thread/INFO]: [CHAT] §l182...\n"
          ],
          "name": "stderr"
        },
        {
          "output_type": "stream",
          "text": [
            "Total reward:  60.495933532714844\n",
            "Total reward:  60.479352951049805\n",
            "Total reward:  60.465375900268555\n",
            "Total reward:  60.45388221740723\n",
            "Total reward:  60.44479179382324\n",
            "Total reward:  60.62395095825195\n",
            "Total reward:  60.547237396240234\n"
          ],
          "name": "stdout"
        },
        {
          "output_type": "stream",
          "text": [
            "DEBUG:minerl.env.malmo.instance.2e9d75:[02:04:37] [Server thread/INFO]: [STDOUT]: Warning: managed 15/20 ticks this second.\n"
          ],
          "name": "stderr"
        },
        {
          "output_type": "stream",
          "text": [
            "Total reward:  60.430715560913086\n",
            "Total reward:  60.428659439086914\n",
            "Total reward:  60.42953872680664\n",
            "Total reward:  60.43238830566406\n",
            "Total reward:  60.437604904174805\n",
            "Total reward:  60.44487190246582\n",
            "Total reward:  60.453975677490234\n",
            "Total reward:  60.464752197265625\n",
            "Total reward:  60.663434982299805\n",
            "Total reward:  60.59857654571533\n",
            "Total reward:  60.49403381347656\n",
            "Total reward:  60.51022911071777\n"
          ],
          "name": "stdout"
        },
        {
          "output_type": "stream",
          "text": [
            "DEBUG:minerl.env.malmo.instance.2e9d75:[02:04:38] [Client thread/INFO]: [CHAT] §l181...\n"
          ],
          "name": "stderr"
        },
        {
          "output_type": "stream",
          "text": [
            "Total reward:  60.52764129638672\n",
            "Total reward:  60.546125411987305\n",
            "Total reward:  60.565558433532715\n",
            "Total reward:  60.58582592010498\n",
            "Total reward:  60.60682201385498\n",
            "Total reward:  60.62844657897949\n",
            "Total reward:  60.83901786804199\n",
            "Total reward:  60.77935218811035\n",
            "Total reward:  60.67947769165039\n",
            "Total reward:  60.70379638671875\n",
            "Total reward:  60.72787094116211\n",
            "Total reward:  60.751797676086426\n",
            "Total reward:  60.77558898925781\n",
            "Total reward:  60.799217224121094\n",
            "Total reward:  60.822630882263184\n",
            "Total reward:  60.84576606750488\n",
            "Total reward:  61.059630393981934\n"
          ],
          "name": "stdout"
        },
        {
          "output_type": "stream",
          "text": [
            "DEBUG:minerl.env.malmo.instance.2e9d75:[02:04:39] [Client thread/INFO]: [CHAT] §l180...\n"
          ],
          "name": "stderr"
        },
        {
          "output_type": "stream",
          "text": [
            "Total reward:  60.999064445495605\n",
            "Total reward:  60.89746284484863\n",
            "Total reward:  60.9205379486084\n",
            "Total reward:  60.94246006011963\n",
            "Total reward:  60.9634485244751\n",
            "Total reward:  60.983595848083496\n",
            "Total reward:  60.92732906341553\n",
            "Total reward:  60.78925132751465\n",
            "Total reward:  60.578253746032715\n",
            "Total reward:  60.2869930267334\n",
            "Total reward:  60.06255340576172\n",
            "Total reward:  60.469552993774414\n",
            "Total reward:  60.791954040527344\n",
            "Total reward:  61.03336811065674\n",
            "Total reward:  61.19557189941406\n",
            "Total reward:  61.23268795013428\n",
            "Total reward:  61.1624698638916\n",
            "Total reward:  61.05134391784668\n",
            "Total reward:  61.06438446044922\n",
            "Total reward:  61.07821273803711\n",
            "Total reward:  61.09201526641846\n",
            "Total reward:  61.299394607543945\n",
            "Total reward:  61.23149871826172\n"
          ],
          "name": "stdout"
        },
        {
          "output_type": "stream",
          "text": [
            "DEBUG:minerl.env.malmo.instance.2e9d75:[02:04:40] [Client thread/INFO]: [CHAT] §l179...\n"
          ],
          "name": "stderr"
        },
        {
          "output_type": "stream",
          "text": [
            "Total reward:  61.12160110473633\n",
            "Total reward:  61.13382625579834\n",
            "Total reward:  61.14477729797363\n",
            "Total reward:  61.15461254119873\n",
            "Total reward:  61.16341495513916\n",
            "Total reward:  61.171231269836426\n",
            "Total reward:  61.1780891418457\n",
            "Total reward:  61.18401527404785\n",
            "Total reward:  61.384135246276855\n",
            "Total reward:  61.310439109802246\n",
            "Total reward:  61.19429683685303\n",
            "Total reward:  61.19747257232666\n",
            "Total reward:  61.199673652648926\n",
            "Total reward:  61.201040267944336\n",
            "Total reward:  61.201663970947266\n",
            "Total reward:  61.20161247253418\n",
            "Total reward:  61.200944900512695\n",
            "Total reward:  61.199713706970215\n",
            "Total reward:  61.62730884552002\n",
            "Total reward:  61.965577125549316\n",
            "Total reward:  62.22303867340088\n",
            "Total reward:  62.401000022888184\n"
          ],
          "name": "stdout"
        },
        {
          "output_type": "stream",
          "text": [
            "DEBUG:minerl.env.malmo.instance.2e9d75:[02:04:40] [Client thread/INFO]: [CHAT] §l178...\n"
          ],
          "name": "stderr"
        },
        {
          "output_type": "stream",
          "text": [
            "Total reward:  62.50060558319092\n",
            "Total reward:  62.522857666015625\n",
            "Total reward:  62.46865940093994\n",
            "Total reward:  62.338852882385254\n",
            "Total reward:  62.134260177612305\n",
            "Total reward:  61.84696674346924\n",
            "Total reward:  61.474388122558594\n",
            "Total reward:  61.35074806213379\n",
            "Total reward:  61.75930881500244\n",
            "Total reward:  62.08388423919678\n",
            "Total reward:  62.32744026184082\n",
            "Total reward:  62.49163055419922\n",
            "Total reward:  62.577903747558594\n",
            "Total reward:  62.5875244140625\n",
            "Total reward:  62.52160167694092\n",
            "Total reward:  62.381131172180176\n"
          ],
          "name": "stdout"
        },
        {
          "output_type": "stream",
          "text": [
            "DEBUG:minerl.env.malmo.instance.2e9d75:[02:04:41] [Server thread/INFO]: [STDOUT]: Warning: managed 18/20 ticks this second.\n"
          ],
          "name": "stderr"
        },
        {
          "output_type": "stream",
          "text": [
            "Total reward:  62.367573738098145\n",
            "Total reward:  62.38782501220703\n",
            "Total reward:  62.823330879211426\n",
            "Total reward:  63.16490936279297\n"
          ],
          "name": "stdout"
        },
        {
          "output_type": "stream",
          "text": [
            "DEBUG:minerl.env.malmo.instance.2e9d75:[02:04:42] [Client thread/INFO]: [CHAT] §l177...\n"
          ],
          "name": "stderr"
        },
        {
          "output_type": "stream",
          "text": [
            "Total reward:  63.42234230041504\n",
            "Total reward:  63.59691619873047\n",
            "Total reward:  63.68986415863037\n",
            "Total reward:  63.70239448547363\n",
            "Total reward:  63.63598155975342\n",
            "Total reward:  63.491291999816895\n",
            "Total reward:  63.47148609161377\n",
            "Total reward:  63.47614574432373\n",
            "Total reward:  63.89507484436035\n",
            "Total reward:  64.2250804901123\n",
            "Total reward:  64.46889019012451\n",
            "Total reward:  64.62807273864746\n",
            "Total reward:  64.70423126220703\n",
            "Total reward:  64.69900798797607\n",
            "Total reward:  64.61408710479736\n",
            "Total reward:  64.45118618011475\n"
          ],
          "name": "stdout"
        },
        {
          "output_type": "stream",
          "text": [
            "DEBUG:minerl.env.malmo.instance.2e9d75:[02:04:42] [Server thread/INFO]: [STDOUT]: Warning: managed 18/20 ticks this second.\n"
          ],
          "name": "stderr"
        },
        {
          "output_type": "stream",
          "text": [
            "Total reward:  64.41288089752197\n",
            "Total reward:  64.39216613769531\n",
            "Total reward:  64.78531837463379\n"
          ],
          "name": "stdout"
        },
        {
          "output_type": "stream",
          "text": [
            "DEBUG:minerl.env.malmo.instance.2e9d75:[02:04:43] [Client thread/INFO]: [CHAT] §l176...\n"
          ],
          "name": "stderr"
        },
        {
          "output_type": "stream",
          "text": [
            "Total reward:  65.09759140014648\n",
            "Total reward:  65.32351398468018\n",
            "Total reward:  65.46517562866211\n",
            "Total reward:  65.52470397949219\n",
            "Total reward:  65.50423049926758\n",
            "Total reward:  65.40585899353027\n",
            "Total reward:  65.23162746429443\n",
            "Total reward:  65.18006610870361\n",
            "Total reward:  65.1435432434082\n",
            "Total reward:  65.5149097442627\n"
          ],
          "name": "stdout"
        },
        {
          "output_type": "stream",
          "text": [
            "DEBUG:minerl.env.malmo.instance.2e9d75:[02:04:44] [Server thread/INFO]: [STDOUT]: Warning: managed 14/20 ticks this second.\n"
          ],
          "name": "stderr"
        },
        {
          "output_type": "stream",
          "text": [
            "Total reward:  65.8111457824707\n",
            "Total reward:  66.0227746963501\n",
            "Total reward:  66.15238952636719\n",
            "Total reward:  66.20252990722656\n",
            "Total reward:  66.17561626434326\n",
            "Total reward:  66.07389450073242\n",
            "Total reward:  65.8993968963623\n",
            "Total reward:  65.66228866577148\n",
            "Total reward:  65.37644577026367\n",
            "Total reward:  65.02385902404785\n"
          ],
          "name": "stdout"
        },
        {
          "output_type": "stream",
          "text": [
            "DEBUG:minerl.env.malmo.instance.2e9d75:[02:04:44] [Client thread/INFO]: [CHAT] §l175...\n"
          ],
          "name": "stderr"
        },
        {
          "output_type": "stream",
          "text": [
            "Total reward:  64.91167831420898\n",
            "Total reward:  65.3226318359375\n",
            "Total reward:  65.64711856842041\n",
            "Total reward:  65.89344215393066\n"
          ],
          "name": "stdout"
        },
        {
          "output_type": "stream",
          "text": [
            "DEBUG:minerl.env.malmo.instance.2e9d75:[02:04:45] [Server thread/INFO]: [STDOUT]: Warning: managed 15/20 ticks this second.\n"
          ],
          "name": "stderr"
        },
        {
          "output_type": "stream",
          "text": [
            "Total reward:  66.06368637084961\n",
            "Total reward:  66.15956401824951\n",
            "Total reward:  66.18239784240723\n",
            "Total reward:  66.13314247131348\n",
            "Total reward:  66.0124397277832\n",
            "Total reward:  65.82069683074951\n",
            "Total reward:  65.55818462371826\n",
            "Total reward:  65.2251329421997\n",
            "Total reward:  65.13357925415039\n",
            "Total reward:  65.57795810699463\n",
            "Total reward:  65.92381477355957\n",
            "Total reward:  66.18703365325928\n",
            "Total reward:  66.36899948120117\n",
            "Total reward:  66.47091102600098\n",
            "Total reward:  66.49382019042969\n",
            "Total reward:  66.4386854171753\n"
          ],
          "name": "stdout"
        },
        {
          "output_type": "stream",
          "text": [
            "DEBUG:minerl.env.malmo.instance.2e9d75:[02:04:45] [Client thread/INFO]: [CHAT] §l174...\n"
          ],
          "name": "stderr"
        },
        {
          "output_type": "stream",
          "text": [
            "Total reward:  66.30643081665039\n",
            "Total reward:  66.29612827301025\n",
            "Total reward:  66.2862434387207\n",
            "Total reward:  66.6824951171875\n"
          ],
          "name": "stdout"
        },
        {
          "output_type": "stream",
          "text": [
            "DEBUG:minerl.env.malmo.instance.2e9d75:[02:04:46] [Server thread/INFO]: [STDOUT]: Warning: managed 19/20 ticks this second.\n"
          ],
          "name": "stderr"
        },
        {
          "output_type": "stream",
          "text": [
            "Total reward:  66.99746131896973\n",
            "Total reward:  67.23166179656982\n",
            "Total reward:  67.38728141784668\n",
            "Total reward:  67.46617794036865\n",
            "Total reward:  67.4698715209961\n",
            "Total reward:  67.39957237243652\n",
            "Total reward:  67.25622749328613\n",
            "Total reward:  67.2369613647461\n",
            "Total reward:  67.24921226501465\n",
            "Total reward:  67.66824054718018\n",
            "Total reward:  67.9959077835083\n",
            "Total reward:  68.23969554901123\n",
            "Total reward:  68.40204620361328\n",
            "Total reward:  68.4844799041748\n"
          ],
          "name": "stdout"
        },
        {
          "output_type": "stream",
          "text": [
            "DEBUG:minerl.env.malmo.instance.2e9d75:[02:04:47] [Server thread/INFO]: [STDOUT]: Warning: managed 15/20 ticks this second.\n",
            "DEBUG:minerl.env.malmo.instance.2e9d75:[02:04:47] [Client thread/INFO]: [CHAT] §l173...\n"
          ],
          "name": "stderr"
        },
        {
          "output_type": "stream",
          "text": [
            "Total reward:  68.4883975982666\n",
            "Total reward:  68.4151029586792\n",
            "Total reward:  68.26583194732666\n",
            "Total reward:  68.04179000854492\n",
            "Total reward:  67.74417877197266\n",
            "Total reward:  67.3742208480835\n",
            "Total reward:  67.2461404800415\n",
            "Total reward:  67.6366195678711\n",
            "Total reward:  67.9444580078125\n",
            "Total reward:  68.16718864440918\n",
            "Total reward:  68.30715656280518\n",
            "Total reward:  68.36669254302979\n",
            "Total reward:  68.34806060791016\n",
            "Total reward:  68.25339412689209\n",
            "Total reward:  68.08465003967285\n",
            "Total reward:  67.83028316497803\n",
            "Total reward:  67.50359535217285\n",
            "Total reward:  67.10975170135498\n",
            "Total reward:  66.95401859283447\n"
          ],
          "name": "stdout"
        },
        {
          "output_type": "stream",
          "text": [
            "DEBUG:minerl.env.malmo.instance.2e9d75:[02:04:47] [Client thread/INFO]: [CHAT] §l172...\n"
          ],
          "name": "stderr"
        },
        {
          "output_type": "stream",
          "text": [
            "Total reward:  67.29320907592773\n",
            "Total reward:  67.56759548187256\n",
            "Total reward:  67.76090049743652\n",
            "Total reward:  67.8768835067749\n",
            "Total reward:  67.91903591156006\n",
            "Total reward:  67.89041233062744\n",
            "Total reward:  67.79351615905762\n",
            "Total reward:  67.63025379180908\n",
            "Total reward:  67.58356094360352\n",
            "Total reward:  67.56239795684814\n",
            "Total reward:  67.73126888275146\n",
            "Total reward:  67.65831851959229\n",
            "Total reward:  67.54854583740234\n",
            "Total reward:  67.55454635620117\n",
            "Total reward:  67.56694221496582\n",
            "Total reward:  67.58404636383057\n",
            "Total reward:  67.60483837127686\n",
            "Total reward:  67.62866401672363\n",
            "Total reward:  67.65506839752197\n",
            "Total reward:  67.61298561096191\n",
            "Total reward:  67.49063682556152\n"
          ],
          "name": "stdout"
        },
        {
          "output_type": "stream",
          "text": [
            "DEBUG:minerl.env.malmo.instance.2e9d75:[02:04:48] [Client thread/INFO]: [CHAT] §l171...\n"
          ],
          "name": "stderr"
        },
        {
          "output_type": "stream",
          "text": [
            "Total reward:  67.29979515075684\n",
            "Total reward:  67.04047298431396\n",
            "Total reward:  66.8471736907959\n",
            "Total reward:  67.2706995010376\n",
            "Total reward:  67.60081386566162\n",
            "Total reward:  67.85373497009277\n",
            "Total reward:  68.03146266937256\n",
            "Total reward:  68.1355333328247\n",
            "Total reward:  68.16700172424316\n",
            "Total reward:  68.12647819519043\n",
            "Total reward:  68.01422214508057\n",
            "Total reward:  67.8302698135376\n",
            "Total reward:  67.57457160949707\n",
            "Total reward:  67.24712467193604\n",
            "Total reward:  67.15821552276611\n",
            "Total reward:  67.59996509552002\n",
            "Total reward:  67.94349575042725\n",
            "Total reward:  68.20856285095215\n",
            "Total reward:  68.39640140533447\n",
            "Total reward:  68.50778865814209\n",
            "Total reward:  68.54311084747314\n",
            "Total reward:  68.50247764587402\n",
            "Total reward:  68.3858699798584\n"
          ],
          "name": "stdout"
        },
        {
          "output_type": "stream",
          "text": [
            "DEBUG:minerl.env.malmo.instance.2e9d75:[02:04:49] [Client thread/INFO]: [CHAT] §l170...\n"
          ],
          "name": "stderr"
        },
        {
          "output_type": "stream",
          "text": [
            "Total reward:  68.39248085021973\n",
            "Total reward:  68.43547058105469\n",
            "Total reward:  68.88627910614014\n",
            "Total reward:  69.23670625686646\n",
            "Total reward:  69.50250291824341\n",
            "Total reward:  69.6842474937439\n",
            "Total reward:  69.78244638442993\n",
            "Total reward:  69.79766750335693\n",
            "Total reward:  69.73067092895508\n",
            "Total reward:  69.58250284194946\n",
            "Total reward:  69.5577163696289\n",
            "Total reward:  69.54910659790039\n",
            "Total reward:  69.9509801864624\n",
            "Total reward:  70.26650953292847\n",
            "Total reward:  70.49400091171265\n",
            "Total reward:  70.6432843208313\n"
          ],
          "name": "stdout"
        },
        {
          "output_type": "stream",
          "text": [
            "DEBUG:minerl.env.malmo.instance.2e9d75:[02:04:50] [Client thread/INFO]: [CHAT] §l169...\n"
          ],
          "name": "stderr"
        },
        {
          "output_type": "stream",
          "text": [
            "Total reward:  70.72503614425659\n",
            "Total reward:  70.72800874710083\n",
            "Total reward:  70.6536455154419\n",
            "Total reward:  70.50341129302979\n",
            "Total reward:  70.27867412567139\n",
            "Total reward:  69.98073530197144\n",
            "Total reward:  69.61085987091064\n",
            "Total reward:  69.49077892303467\n",
            "Total reward:  69.9063811302185\n",
            "Total reward:  70.23567867279053\n",
            "Total reward:  70.48063230514526\n",
            "Total reward:  70.64314556121826\n",
            "Total reward:  70.72503614425659\n",
            "Total reward:  70.72800874710083\n",
            "Total reward:  70.6536455154419\n",
            "Total reward:  70.50341129302979\n",
            "Total reward:  70.27883529663086\n",
            "Total reward:  69.98120307922363\n",
            "Total reward:  69.61173963546753\n",
            "Total reward:  69.49258470535278\n",
            "Total reward:  69.91261577606201\n",
            "Total reward:  70.24537420272827\n"
          ],
          "name": "stdout"
        },
        {
          "output_type": "stream",
          "text": [
            "DEBUG:minerl.env.malmo.instance.2e9d75:[02:04:50] [Client thread/INFO]: [CHAT] §l168...\n"
          ],
          "name": "stderr"
        },
        {
          "output_type": "stream",
          "text": [
            "Total reward:  70.49440717697144\n",
            "Total reward:  70.66144371032715\n",
            "Total reward:  70.74802494049072\n",
            "Total reward:  70.75550556182861\n",
            "Total reward:  70.6850848197937\n",
            "Total reward:  70.5378623008728\n",
            "Total reward:  70.31490516662598\n",
            "Total reward:  70.01730155944824\n",
            "Total reward:  69.64620304107666\n",
            "Total reward:  69.52479696273804\n",
            "Total reward:  69.93734550476074\n",
            "Total reward:  70.26202726364136\n",
            "Total reward:  70.49782419204712\n",
            "Total reward:  70.64624404907227\n",
            "Total reward:  70.70905351638794\n",
            "Total reward:  70.68831872940063\n",
            "Total reward:  70.58637285232544\n",
            "Total reward:  70.40572023391724\n",
            "Total reward:  70.1489109992981\n",
            "Total reward:  69.81841897964478\n"
          ],
          "name": "stdout"
        },
        {
          "output_type": "stream",
          "text": [
            "DEBUG:minerl.env.malmo.instance.2e9d75:[02:04:52] [Client thread/INFO]: [CHAT] §l167...\n"
          ],
          "name": "stderr"
        },
        {
          "output_type": "stream",
          "text": [
            "Total reward:  69.4165506362915\n",
            "Total reward:  69.25600242614746\n",
            "Total reward:  69.58850431442261\n",
            "Total reward:  69.8539891242981\n"
          ],
          "name": "stdout"
        },
        {
          "output_type": "stream",
          "text": [
            "DEBUG:minerl.env.malmo.instance.2e9d75:[02:04:52] [Server thread/INFO]: [STDOUT]: Warning: managed 18/20 ticks this second.\n"
          ],
          "name": "stderr"
        },
        {
          "output_type": "stream",
          "text": [
            "Total reward:  70.03111028671265\n",
            "Total reward:  70.1241021156311\n",
            "Total reward:  70.17824506759644\n",
            "Total reward:  70.18670988082886\n",
            "Total reward:  70.12431764602661\n",
            "Total reward:  69.99151706695557\n",
            "Total reward:  69.78834581375122\n",
            "Total reward:  69.51114797592163\n",
            "Total reward:  69.16540575027466\n",
            "Total reward:  69.05363988876343\n",
            "Total reward:  69.24291944503784\n",
            "Total reward:  69.17097616195679\n",
            "Total reward:  69.05755853652954\n",
            "Total reward:  69.05392551422119\n",
            "Total reward:  69.045006275177\n",
            "Total reward:  68.95730066299438\n"
          ],
          "name": "stdout"
        },
        {
          "output_type": "stream",
          "text": [
            "DEBUG:minerl.env.malmo.instance.2e9d75:[02:04:53] [Client thread/INFO]: [CHAT] §l166...\n",
            "DEBUG:minerl.env.malmo.instance.2e9d75:[02:04:53] [Server thread/INFO]: [STDOUT]: Warning: managed 17/20 ticks this second.\n"
          ],
          "name": "stderr"
        },
        {
          "output_type": "stream",
          "text": [
            "Total reward:  68.8005166053772\n",
            "Total reward:  68.57056903839111\n",
            "Total reward:  68.26858139038086\n",
            "Total reward:  68.03170394897461\n",
            "Total reward:  68.39195919036865\n",
            "Total reward:  68.67662763595581\n",
            "Total reward:  68.87735319137573\n",
            "Total reward:  68.99743223190308\n",
            "Total reward:  68.99587440490723\n",
            "Total reward:  68.89125871658325\n",
            "Total reward:  68.71625089645386\n",
            "Total reward:  68.472487449646\n",
            "Total reward:  68.16122627258301\n",
            "Total reward:  67.78342628479004\n",
            "Total reward:  67.33983898162842\n",
            "Total reward:  66.83109664916992\n",
            "Total reward:  66.25778865814209\n",
            "Total reward:  65.75603580474854\n",
            "Total reward:  66.10275840759277\n",
            "Total reward:  66.3802490234375\n"
          ],
          "name": "stdout"
        },
        {
          "output_type": "stream",
          "text": [
            "DEBUG:minerl.env.malmo.instance.2e9d75:[02:04:54] [Server thread/INFO]: [STDOUT]: Warning: managed 18/20 ticks this second.\n",
            "DEBUG:minerl.env.malmo.instance.2e9d75:[02:04:54] [Client thread/INFO]: [CHAT] §l165...\n"
          ],
          "name": "stderr"
        },
        {
          "output_type": "stream",
          "text": [
            "Total reward:  66.57682609558105\n",
            "Total reward:  66.6956729888916\n",
            "Total reward:  66.73972988128662\n",
            "Total reward:  66.71159362792969\n",
            "Total reward:  66.6134557723999\n",
            "Total reward:  66.44707298278809\n",
            "Total reward:  66.21379566192627\n",
            "Total reward:  65.91461181640625\n",
            "Total reward:  65.55023384094238\n",
            "Total reward:  65.41227722167969\n",
            "Total reward:  65.75752925872803\n",
            "Total reward:  66.03248310089111\n",
            "Total reward:  66.2297945022583\n",
            "Total reward:  66.35268306732178\n",
            "Total reward:  66.40398597717285\n",
            "Total reward:  66.38607215881348\n",
            "Total reward:  66.30079650878906\n",
            "Total reward:  66.14950656890869\n",
            "Total reward:  65.93442058563232\n",
            "Total reward:  65.65452671051025\n",
            "Total reward:  65.31006717681885\n"
          ],
          "name": "stdout"
        },
        {
          "output_type": "stream",
          "text": [
            "DEBUG:minerl.env.malmo.instance.2e9d75:[02:04:55] [Client thread/INFO]: [CHAT] §l164...\n"
          ],
          "name": "stderr"
        },
        {
          "output_type": "stream",
          "text": [
            "Total reward:  65.18659400939941\n",
            "Total reward:  65.54200839996338\n",
            "Total reward:  65.82235527038574\n",
            "Total reward:  66.02712535858154\n",
            "Total reward:  66.1593885421753\n",
            "Total reward:  66.22175979614258\n",
            "Total reward:  66.21632862091064\n",
            "Total reward:  66.14462947845459\n",
            "Total reward:  66.00767421722412\n",
            "Total reward:  65.80600929260254\n",
            "Total reward:  65.53982543945312\n",
            "Total reward:  65.21373748779297\n",
            "Total reward:  65.15070724487305\n",
            "Total reward:  65.58615303039551\n",
            "Total reward:  65.91939640045166\n",
            "Total reward:  66.17677688598633\n",
            "Total reward:  66.36040687561035\n"
          ],
          "name": "stdout"
        },
        {
          "output_type": "stream",
          "text": [
            "DEBUG:minerl.env.malmo.instance.2e9d75:[02:04:55] [Client thread/INFO]: [CHAT] §l163...\n"
          ],
          "name": "stderr"
        },
        {
          "output_type": "stream",
          "text": [
            "Total reward:  66.47190761566162\n",
            "Total reward:  66.51240253448486\n",
            "Total reward:  66.48255348205566\n",
            "Total reward:  66.3826379776001\n",
            "Total reward:  66.39301872253418\n",
            "Total reward:  66.43643379211426\n",
            "Total reward:  66.84641933441162\n",
            "Total reward:  67.16205596923828\n",
            "Total reward:  67.40149974822998\n",
            "Total reward:  67.56704425811768\n",
            "Total reward:  67.66051578521729\n",
            "Total reward:  67.68323516845703\n",
            "Total reward:  67.63487529754639\n",
            "Total reward:  67.4947681427002\n",
            "Total reward:  67.28928565979004\n",
            "Total reward:  67.01877117156982\n",
            "Total reward:  66.68578815460205\n",
            "Total reward:  66.29027462005615\n",
            "Total reward:  65.830641746521\n",
            "Total reward:  65.30619144439697\n",
            "Total reward:  64.78135776519775\n"
          ],
          "name": "stdout"
        },
        {
          "output_type": "stream",
          "text": [
            "DEBUG:minerl.env.malmo.instance.2e9d75:[02:04:56] [Client thread/INFO]: [CHAT] §l162...\n"
          ],
          "name": "stderr"
        },
        {
          "output_type": "stream",
          "text": [
            "Total reward:  65.20510578155518\n",
            "Total reward:  65.5360746383667\n",
            "Total reward:  65.78908061981201\n",
            "Total reward:  65.96575260162354\n",
            "Total reward:  66.06737804412842\n",
            "Total reward:  66.09492588043213\n",
            "Total reward:  66.04908847808838\n",
            "Total reward:  65.93035125732422\n",
            "Total reward:  65.73907852172852\n",
            "Total reward:  65.4755973815918\n",
            "Total reward:  65.14028072357178\n",
            "Total reward:  65.04298686981201\n",
            "Total reward:  65.47176837921143\n",
            "Total reward:  65.8051929473877\n",
            "Total reward:  66.0566234588623\n",
            "Total reward:  66.22764873504639\n",
            "Total reward:  66.31969451904297\n",
            "Total reward:  66.33404350280762\n",
            "Total reward:  66.2718563079834\n",
            "Total reward:  66.13420677185059\n"
          ],
          "name": "stdout"
        },
        {
          "output_type": "stream",
          "text": [
            "DEBUG:minerl.env.malmo.instance.2e9d75:[02:04:57] [Client thread/INFO]: [CHAT] §l161...\n"
          ],
          "name": "stderr"
        },
        {
          "output_type": "stream",
          "text": [
            "Total reward:  65.92212009429932\n",
            "Total reward:  65.63661193847656\n",
            "Total reward:  65.27871513366699\n",
            "Total reward:  64.84950733184814\n",
            "Total reward:  64.35011386871338\n",
            "Total reward:  64.18983459472656\n",
            "Total reward:  64.59469032287598\n",
            "Total reward:  64.92743015289307\n",
            "Total reward:  65.1826229095459\n",
            "Total reward:  65.35597229003906\n",
            "Total reward:  65.44871234893799\n",
            "Total reward:  65.4619951248169\n",
            "Total reward:  65.39692401885986\n",
            "Total reward:  65.25458908081055\n",
            "Total reward:  65.03610706329346\n",
            "Total reward:  64.74282741546631\n",
            "Total reward:  64.37598133087158\n",
            "Total reward:  63.936842918395996\n",
            "Total reward:  63.42674541473389\n",
            "Total reward:  63.258766174316406\n",
            "Total reward:  63.65524482727051\n"
          ],
          "name": "stdout"
        },
        {
          "output_type": "stream",
          "text": [
            "DEBUG:minerl.env.malmo.instance.2e9d75:[02:04:58] [Client thread/INFO]: [CHAT] §l160...\n"
          ],
          "name": "stderr"
        },
        {
          "output_type": "stream",
          "text": [
            "Total reward:  63.96911907196045\n",
            "Total reward:  64.19780445098877\n",
            "Total reward:  64.34336280822754\n",
            "Total reward:  64.40783405303955\n",
            "Total reward:  64.39321899414062\n",
            "Total reward:  64.30145072937012\n",
            "Total reward:  64.13437938690186\n",
            "Total reward:  63.89375686645508\n",
            "Total reward:  63.58123016357422\n",
            "Total reward:  63.198341369628906\n",
            "Total reward:  62.746538162231445\n",
            "Total reward:  62.227179527282715\n",
            "Total reward:  61.64155197143555\n",
            "Total reward:  61.05813503265381\n",
            "Total reward:  61.43819618225098\n",
            "Total reward:  61.74209022521973\n",
            "Total reward:  61.96254634857178\n",
            "Total reward:  62.1017951965332\n",
            "Total reward:  62.161980628967285\n",
            "Total reward:  62.145127296447754\n",
            "Total reward:  62.05312919616699\n"
          ],
          "name": "stdout"
        },
        {
          "output_type": "stream",
          "text": [
            "DEBUG:minerl.env.malmo.instance.2e9d75:[02:04:59] [Client thread/INFO]: [CHAT] §l159...\n"
          ],
          "name": "stderr"
        },
        {
          "output_type": "stream",
          "text": [
            "Total reward:  61.887733459472656\n",
            "Total reward:  61.65054130554199\n",
            "Total reward:  61.34301471710205\n",
            "Total reward:  60.96648979187012\n"
          ],
          "name": "stdout"
        },
        {
          "output_type": "stream",
          "text": [
            "DEBUG:minerl.env.malmo.instance.2e9d75:[02:04:59] [Server thread/INFO]: [STDOUT]: Warning: managed 19/20 ticks this second.\n"
          ],
          "name": "stderr"
        },
        {
          "output_type": "stream",
          "text": [
            "Total reward:  60.52219581604004\n",
            "Total reward:  60.01127815246582\n",
            "Total reward:  59.837379455566406\n",
            "Total reward:  60.22024726867676\n",
            "Total reward:  60.52568054199219\n",
            "Total reward:  60.74923038482666\n",
            "Total reward:  60.8930606842041\n",
            "Total reward:  60.959083557128906\n",
            "Total reward:  60.94931507110596\n",
            "Total reward:  60.86547660827637\n",
            "Total reward:  60.70912837982178\n",
            "Total reward:  60.4816780090332\n",
            "Total reward:  60.184391021728516\n",
            "Total reward:  59.81842231750488\n"
          ],
          "name": "stdout"
        },
        {
          "output_type": "stream",
          "text": [
            "DEBUG:minerl.env.malmo.instance.2e9d75:[02:05:00] [Client thread/INFO]: [CHAT] §l158...\n"
          ],
          "name": "stderr"
        },
        {
          "output_type": "stream",
          "text": [
            "Total reward:  59.6920108795166\n",
            "Total reward:  60.08203125\n",
            "Total reward:  60.39149475097656\n",
            "Total reward:  60.62007427215576\n"
          ],
          "name": "stdout"
        },
        {
          "output_type": "stream",
          "text": [
            "DEBUG:minerl.env.malmo.instance.2e9d75:[02:05:00] [Server thread/INFO]: [STDOUT]: Warning: managed 19/20 ticks this second.\n"
          ],
          "name": "stderr"
        },
        {
          "output_type": "stream",
          "text": [
            "Total reward:  60.76985740661621\n",
            "Total reward:  60.79660224914551\n",
            "Total reward:  60.717984199523926\n",
            "Total reward:  60.59884738922119\n",
            "Total reward:  60.59938907623291\n",
            "Total reward:  60.60458564758301\n",
            "Total reward:  60.612563133239746\n",
            "Total reward:  60.7903528213501\n",
            "Total reward:  60.697869300842285\n",
            "Total reward:  60.5645170211792\n",
            "Total reward:  60.537940979003906\n",
            "Total reward:  60.515329360961914\n",
            "Total reward:  60.495933532714844\n",
            "Total reward:  60.479352951049805\n",
            "Total reward:  60.465375900268555\n",
            "Total reward:  60.45388221740723\n",
            "Total reward:  60.44479179382324\n",
            "Total reward:  60.62395095825195\n",
            "Total reward:  60.547237396240234\n"
          ],
          "name": "stdout"
        },
        {
          "output_type": "stream",
          "text": [
            "DEBUG:minerl.env.malmo.instance.2e9d75:[02:05:01] [Client thread/INFO]: [CHAT] §l157...\n"
          ],
          "name": "stderr"
        },
        {
          "output_type": "stream",
          "text": [
            "Total reward:  60.430715560913086\n",
            "Total reward:  60.428659439086914\n",
            "Total reward:  60.42953872680664\n",
            "Total reward:  60.43238830566406\n",
            "Total reward:  60.437604904174805\n",
            "Total reward:  60.44487190246582\n",
            "Total reward:  60.453975677490234\n",
            "Total reward:  60.464752197265625\n",
            "Total reward:  60.663434982299805\n",
            "Total reward:  60.59857654571533\n",
            "Total reward:  60.49403381347656\n",
            "Total reward:  60.51022911071777\n",
            "Total reward:  60.52764129638672\n",
            "Total reward:  60.546125411987305\n",
            "Total reward:  60.565558433532715\n",
            "Total reward:  60.58582592010498\n",
            "Total reward:  60.60682201385498\n"
          ],
          "name": "stdout"
        },
        {
          "output_type": "stream",
          "text": [
            "DEBUG:minerl.env.malmo.instance.2e9d75:[02:05:02] [Client thread/INFO]: [CHAT] §l156...\n"
          ],
          "name": "stderr"
        },
        {
          "output_type": "stream",
          "text": [
            "Total reward:  60.62844657897949\n",
            "Total reward:  60.83901786804199\n",
            "Total reward:  60.77935218811035\n",
            "Total reward:  60.67947769165039\n"
          ],
          "name": "stdout"
        },
        {
          "output_type": "stream",
          "text": [
            "DEBUG:minerl.env.malmo.instance.2e9d75:[02:05:02] [Server thread/INFO]: [STDOUT]: Warning: managed 18/20 ticks this second.\n"
          ],
          "name": "stderr"
        },
        {
          "output_type": "stream",
          "text": [
            "Total reward:  60.70379638671875\n",
            "Total reward:  60.72787094116211\n",
            "Total reward:  60.751797676086426\n",
            "Total reward:  60.77558898925781\n",
            "Total reward:  60.799217224121094\n",
            "Total reward:  60.822630882263184\n",
            "Total reward:  60.84576606750488\n",
            "Total reward:  61.059630393981934\n",
            "Total reward:  60.999064445495605\n",
            "Total reward:  60.89746284484863\n",
            "Total reward:  60.9205379486084\n",
            "Total reward:  60.94246006011963\n",
            "Total reward:  60.9634485244751\n",
            "Total reward:  60.983595848083496\n",
            "Total reward:  60.92732906341553\n",
            "Total reward:  60.78925132751465\n",
            "Total reward:  60.578253746032715\n"
          ],
          "name": "stdout"
        },
        {
          "output_type": "stream",
          "text": [
            "DEBUG:minerl.env.malmo.instance.2e9d75:[02:05:03] [Client thread/INFO]: [CHAT] §l155...\n"
          ],
          "name": "stderr"
        },
        {
          "output_type": "stream",
          "text": [
            "Total reward:  60.2869930267334\n",
            "Total reward:  60.06255340576172\n",
            "Total reward:  60.469552993774414\n",
            "Total reward:  60.791954040527344\n",
            "Total reward:  61.03336811065674\n",
            "Total reward:  61.19557189941406\n",
            "Total reward:  61.23268795013428\n",
            "Total reward:  61.1624698638916\n",
            "Total reward:  61.05134391784668\n",
            "Total reward:  61.06438446044922\n",
            "Total reward:  61.07821273803711\n",
            "Total reward:  61.09201526641846\n",
            "Total reward:  61.299394607543945\n",
            "Total reward:  61.23149871826172\n",
            "Total reward:  61.12160110473633\n",
            "Total reward:  61.13382625579834\n",
            "Total reward:  61.14477729797363\n",
            "Total reward:  61.15461254119873\n",
            "Total reward:  61.16341495513916\n",
            "Total reward:  61.171231269836426\n",
            "Total reward:  61.1780891418457\n"
          ],
          "name": "stdout"
        },
        {
          "output_type": "stream",
          "text": [
            "DEBUG:minerl.env.malmo.instance.2e9d75:[02:05:04] [Client thread/INFO]: [CHAT] §l154...\n"
          ],
          "name": "stderr"
        },
        {
          "output_type": "stream",
          "text": [
            "Total reward:  61.18401527404785\n",
            "Total reward:  61.384135246276855\n",
            "Total reward:  61.310439109802246\n",
            "Total reward:  61.19429683685303\n",
            "Total reward:  61.19747257232666\n",
            "Total reward:  61.199673652648926\n",
            "Total reward:  61.201040267944336\n",
            "Total reward:  61.201663970947266\n",
            "Total reward:  61.20161247253418\n",
            "Total reward:  61.200944900512695\n",
            "Total reward:  61.199713706970215\n",
            "Total reward:  61.62730884552002\n",
            "Total reward:  61.965577125549316\n",
            "Total reward:  62.22303867340088\n",
            "Total reward:  62.401000022888184\n",
            "Total reward:  62.50060558319092\n",
            "Total reward:  62.522857666015625\n",
            "Total reward:  62.46865940093994\n",
            "Total reward:  62.338852882385254\n",
            "Total reward:  62.134260177612305\n",
            "Total reward:  61.84696674346924\n"
          ],
          "name": "stdout"
        },
        {
          "output_type": "stream",
          "text": [
            "DEBUG:minerl.env.malmo.instance.2e9d75:[02:05:05] [Client thread/INFO]: [CHAT] §l153...\n"
          ],
          "name": "stderr"
        },
        {
          "output_type": "stream",
          "text": [
            "Total reward:  61.474388122558594\n",
            "Total reward:  61.35074806213379\n",
            "Total reward:  61.75930881500244\n",
            "Total reward:  62.08388423919678\n",
            "Total reward:  62.32744026184082\n",
            "Total reward:  62.49163055419922\n",
            "Total reward:  62.577903747558594\n",
            "Total reward:  62.5875244140625\n",
            "Total reward:  62.52160167694092\n",
            "Total reward:  62.381131172180176\n",
            "Total reward:  62.367573738098145\n",
            "Total reward:  62.38782501220703\n",
            "Total reward:  62.823330879211426\n",
            "Total reward:  63.16490936279297\n",
            "Total reward:  63.42234230041504\n",
            "Total reward:  63.59691619873047\n",
            "Total reward:  63.68986415863037\n",
            "Total reward:  63.70239448547363\n",
            "Total reward:  63.63598155975342\n"
          ],
          "name": "stdout"
        },
        {
          "output_type": "stream",
          "text": [
            "DEBUG:minerl.env.malmo.instance.2e9d75:[02:05:06] [Client thread/INFO]: [CHAT] §l152...\n"
          ],
          "name": "stderr"
        },
        {
          "output_type": "stream",
          "text": [
            "Total reward:  63.491291999816895\n",
            "Total reward:  63.47148609161377\n",
            "Total reward:  63.47614574432373\n",
            "Total reward:  63.89507484436035\n",
            "Total reward:  64.2250804901123\n",
            "Total reward:  64.46889019012451\n",
            "Total reward:  64.62807273864746\n",
            "Total reward:  64.70423126220703\n"
          ],
          "name": "stdout"
        },
        {
          "output_type": "stream",
          "text": [
            "DEBUG:minerl.env.malmo.instance.2e9d75:[02:05:06] [Server thread/INFO]: [STDOUT]: Warning: managed 19/20 ticks this second.\n"
          ],
          "name": "stderr"
        },
        {
          "output_type": "stream",
          "text": [
            "Total reward:  64.69900798797607\n",
            "Total reward:  64.61408710479736\n",
            "Total reward:  64.45118618011475\n",
            "Total reward:  64.41288089752197\n",
            "Total reward:  64.39216613769531\n",
            "Total reward:  64.78531837463379\n",
            "Total reward:  65.09759140014648\n",
            "Total reward:  65.32351398468018\n",
            "Total reward:  65.46517562866211\n",
            "Total reward:  65.52470397949219\n",
            "Total reward:  65.50423049926758\n",
            "Total reward:  65.40585899353027\n",
            "Total reward:  65.23162746429443\n"
          ],
          "name": "stdout"
        },
        {
          "output_type": "stream",
          "text": [
            "DEBUG:minerl.env.malmo.instance.2e9d75:[02:05:07] [Client thread/INFO]: [CHAT] §l151...\n"
          ],
          "name": "stderr"
        },
        {
          "output_type": "stream",
          "text": [
            "Total reward:  65.18006610870361\n",
            "Total reward:  65.1435432434082\n",
            "Total reward:  65.5149097442627\n",
            "Total reward:  65.8111457824707\n",
            "Total reward:  66.0227746963501\n",
            "Total reward:  66.15238952636719\n",
            "Total reward:  66.20252990722656\n"
          ],
          "name": "stdout"
        },
        {
          "output_type": "stream",
          "text": [
            "DEBUG:minerl.env.malmo.instance.2e9d75:[02:05:07] [Server thread/INFO]: [STDOUT]: Warning: managed 18/20 ticks this second.\n"
          ],
          "name": "stderr"
        },
        {
          "output_type": "stream",
          "text": [
            "Total reward:  66.17561626434326\n",
            "Total reward:  66.07389450073242\n",
            "Total reward:  65.8993968963623\n",
            "Total reward:  65.66228866577148\n",
            "Total reward:  65.37644577026367\n",
            "Total reward:  65.02385902404785\n",
            "Total reward:  64.91167831420898\n",
            "Total reward:  65.3226318359375\n",
            "Total reward:  65.64711856842041\n",
            "Total reward:  65.89344215393066\n",
            "Total reward:  66.06368637084961\n",
            "Total reward:  66.15956401824951\n",
            "Total reward:  66.18239784240723\n"
          ],
          "name": "stdout"
        },
        {
          "output_type": "stream",
          "text": [
            "DEBUG:minerl.env.malmo.instance.2e9d75:[02:05:08] [Client thread/INFO]: [CHAT] §l150...\n",
            "DEBUG:minerl.env.malmo.instance.2e9d75:[02:05:08] [Server thread/INFO]: [STDOUT]: Warning: managed 14/20 ticks this second.\n"
          ],
          "name": "stderr"
        },
        {
          "output_type": "stream",
          "text": [
            "Total reward:  66.13314247131348\n",
            "Total reward:  66.0124397277832\n",
            "Total reward:  65.82069683074951\n",
            "Total reward:  65.55818462371826\n",
            "Total reward:  65.2251329421997\n",
            "Total reward:  65.13357925415039\n",
            "Total reward:  65.57795810699463\n",
            "Total reward:  65.92381477355957\n",
            "Total reward:  66.18703365325928\n",
            "Total reward:  66.36899948120117\n",
            "Total reward:  66.47091102600098\n",
            "Total reward:  66.49382019042969\n",
            "Total reward:  66.4386854171753\n",
            "Total reward:  66.30643081665039\n",
            "Total reward:  66.29612827301025\n",
            "Total reward:  66.2862434387207\n",
            "Total reward:  66.6824951171875\n",
            "Total reward:  66.99746131896973\n",
            "Total reward:  67.23166179656982\n"
          ],
          "name": "stdout"
        },
        {
          "output_type": "stream",
          "text": [
            "DEBUG:minerl.env.malmo.instance.2e9d75:[02:05:09] [Client thread/INFO]: [CHAT] §l149...\n"
          ],
          "name": "stderr"
        },
        {
          "output_type": "stream",
          "text": [
            "Total reward:  67.38728141784668\n",
            "Total reward:  67.46617794036865\n",
            "Total reward:  67.4698715209961\n",
            "Total reward:  67.39957237243652\n",
            "Total reward:  67.25622749328613\n",
            "Total reward:  67.2369613647461\n",
            "Total reward:  67.24921226501465\n",
            "Total reward:  67.66824054718018\n",
            "Total reward:  67.9959077835083\n",
            "Total reward:  68.23969554901123\n",
            "Total reward:  68.40204620361328\n",
            "Total reward:  68.4844799041748\n",
            "Total reward:  68.4883975982666\n",
            "Total reward:  68.4151029586792\n",
            "Total reward:  68.26583194732666\n",
            "Total reward:  68.04179000854492\n",
            "Total reward:  67.74417877197266\n",
            "Total reward:  67.3742208480835\n"
          ],
          "name": "stdout"
        },
        {
          "output_type": "stream",
          "text": [
            "DEBUG:minerl.env.malmo.instance.2e9d75:[02:05:10] [Client thread/INFO]: [CHAT] §l148...\n"
          ],
          "name": "stderr"
        },
        {
          "output_type": "stream",
          "text": [
            "Total reward:  67.2461404800415\n",
            "Total reward:  67.6366195678711\n",
            "Total reward:  67.9444580078125\n",
            "Total reward:  68.16718864440918\n",
            "Total reward:  68.30715656280518\n",
            "Total reward:  68.36669254302979\n",
            "Total reward:  68.34806060791016\n",
            "Total reward:  68.25339412689209\n",
            "Total reward:  68.08465003967285\n",
            "Total reward:  67.83028316497803\n",
            "Total reward:  67.50359535217285\n",
            "Total reward:  67.10975170135498\n",
            "Total reward:  66.95401859283447\n",
            "Total reward:  67.29320907592773\n",
            "Total reward:  67.56759548187256\n",
            "Total reward:  67.76090049743652\n",
            "Total reward:  67.8768835067749\n",
            "Total reward:  67.91903591156006\n",
            "Total reward:  67.89041233062744\n",
            "Total reward:  67.79351615905762\n"
          ],
          "name": "stdout"
        },
        {
          "output_type": "stream",
          "text": [
            "DEBUG:minerl.env.malmo.instance.2e9d75:[02:05:11] [Client thread/INFO]: [CHAT] §l147...\n"
          ],
          "name": "stderr"
        },
        {
          "output_type": "stream",
          "text": [
            "Total reward:  67.63025379180908\n",
            "Total reward:  67.58356094360352\n",
            "Total reward:  67.56239795684814\n",
            "Total reward:  67.73126888275146\n",
            "Total reward:  67.65831851959229\n",
            "Total reward:  67.54854583740234\n",
            "Total reward:  67.55454635620117\n",
            "Total reward:  67.56694221496582\n",
            "Total reward:  67.58404636383057\n",
            "Total reward:  67.60483837127686\n",
            "Total reward:  67.62866401672363\n",
            "Total reward:  67.65506839752197\n",
            "Total reward:  67.61298561096191\n",
            "Total reward:  67.49063682556152\n",
            "Total reward:  67.29979515075684\n",
            "Total reward:  67.04047298431396\n",
            "Total reward:  66.8471736907959\n",
            "Total reward:  67.2706995010376\n",
            "Total reward:  67.60081386566162\n"
          ],
          "name": "stdout"
        },
        {
          "output_type": "stream",
          "text": [
            "DEBUG:minerl.env.malmo.instance.2e9d75:[02:05:12] [Client thread/INFO]: [CHAT] §l146...\n"
          ],
          "name": "stderr"
        },
        {
          "output_type": "stream",
          "text": [
            "Total reward:  67.85373497009277\n",
            "Total reward:  68.03146266937256\n",
            "Total reward:  68.1355333328247\n",
            "Total reward:  68.16700172424316\n",
            "Total reward:  68.12647819519043\n",
            "Total reward:  68.01422214508057\n",
            "Total reward:  67.8302698135376\n",
            "Total reward:  67.57457160949707\n",
            "Total reward:  67.24712467193604\n",
            "Total reward:  67.15821552276611\n",
            "Total reward:  67.59996509552002\n",
            "Total reward:  67.94349575042725\n",
            "Total reward:  68.20856285095215\n",
            "Total reward:  68.39640140533447\n",
            "Total reward:  68.50778865814209\n",
            "Total reward:  68.54311084747314\n",
            "Total reward:  68.50247764587402\n",
            "Total reward:  68.3858699798584\n",
            "Total reward:  68.39248085021973\n",
            "Total reward:  68.43547058105469\n",
            "Total reward:  68.88627910614014\n",
            "Total reward:  69.23670625686646\n"
          ],
          "name": "stdout"
        },
        {
          "output_type": "stream",
          "text": [
            "DEBUG:minerl.env.malmo.instance.2e9d75:[02:05:12] [Client thread/INFO]: [CHAT] §l145...\n"
          ],
          "name": "stderr"
        },
        {
          "output_type": "stream",
          "text": [
            "Total reward:  69.50250291824341\n",
            "Total reward:  69.6842474937439\n",
            "Total reward:  69.78244638442993\n",
            "Total reward:  69.79766750335693\n",
            "Total reward:  69.73067092895508\n",
            "Total reward:  69.58250284194946\n",
            "Total reward:  69.5577163696289\n",
            "Total reward:  69.54910659790039\n",
            "Total reward:  69.9509801864624\n",
            "Total reward:  70.26650953292847\n",
            "Total reward:  70.49400091171265\n",
            "Total reward:  70.6432843208313\n",
            "Total reward:  70.72503614425659\n",
            "Total reward:  70.72800874710083\n",
            "Total reward:  70.6536455154419\n",
            "Total reward:  70.50341129302979\n",
            "Total reward:  70.27867412567139\n",
            "Total reward:  69.98073530197144\n",
            "Total reward:  69.61085987091064\n"
          ],
          "name": "stdout"
        },
        {
          "output_type": "stream",
          "text": [
            "DEBUG:minerl.env.malmo.instance.2e9d75:[02:05:13] [Client thread/INFO]: [CHAT] §l144...\n"
          ],
          "name": "stderr"
        },
        {
          "output_type": "stream",
          "text": [
            "Total reward:  69.49077892303467\n",
            "Total reward:  69.9063811302185\n",
            "Total reward:  70.23567867279053\n",
            "Total reward:  70.48063230514526\n",
            "Total reward:  70.64314556121826\n",
            "Total reward:  70.72503614425659\n",
            "Total reward:  70.72800874710083\n",
            "Total reward:  70.6536455154419\n",
            "Total reward:  70.50341129302979\n",
            "Total reward:  70.27883529663086\n",
            "Total reward:  69.98120307922363\n",
            "Total reward:  69.61173963546753\n",
            "Total reward:  69.49258470535278\n",
            "Total reward:  69.91261577606201\n",
            "Total reward:  70.24537420272827\n",
            "Total reward:  70.49440717697144\n",
            "Total reward:  70.66144371032715\n",
            "Total reward:  70.74802494049072\n",
            "Total reward:  70.75550556182861\n",
            "Total reward:  70.6850848197937\n",
            "Total reward:  70.5378623008728\n",
            "Total reward:  70.31490516662598\n"
          ],
          "name": "stdout"
        },
        {
          "output_type": "stream",
          "text": [
            "DEBUG:minerl.env.malmo.instance.2e9d75:[02:05:14] [Client thread/INFO]: [CHAT] §l143...\n",
            "DEBUG:minerl.env.malmo.instance.2e9d75:[02:05:14] [Server thread/INFO]: [STDOUT]: Warning: managed 17/20 ticks this second.\n"
          ],
          "name": "stderr"
        },
        {
          "output_type": "stream",
          "text": [
            "Total reward:  70.01730155944824\n",
            "Total reward:  69.64620304107666\n",
            "Total reward:  69.52479696273804\n",
            "Total reward:  69.93734550476074\n",
            "Total reward:  70.26202726364136\n",
            "Total reward:  70.49782419204712\n",
            "Total reward:  70.64624404907227\n",
            "Total reward:  70.70905351638794\n",
            "Total reward:  70.68831872940063\n",
            "Total reward:  70.58637285232544\n",
            "Total reward:  70.40572023391724\n",
            "Total reward:  70.1489109992981\n",
            "Total reward:  69.81841897964478\n",
            "Total reward:  69.4165506362915\n",
            "Total reward:  69.25600242614746\n",
            "Total reward:  69.58850431442261\n",
            "Total reward:  69.8539891242981\n",
            "Total reward:  70.03111028671265\n",
            "Total reward:  70.1241021156311\n"
          ],
          "name": "stdout"
        },
        {
          "output_type": "stream",
          "text": [
            "DEBUG:minerl.env.malmo.instance.2e9d75:[02:05:15] [Server thread/INFO]: [STDOUT]: Warning: managed 17/20 ticks this second.\n",
            "DEBUG:minerl.env.malmo.instance.2e9d75:[02:05:15] [Client thread/INFO]: [CHAT] §l142...\n"
          ],
          "name": "stderr"
        },
        {
          "output_type": "stream",
          "text": [
            "Total reward:  70.17824506759644\n",
            "Total reward:  70.18670988082886\n",
            "Total reward:  70.12431764602661\n",
            "Total reward:  69.99151706695557\n",
            "Total reward:  69.78834581375122\n",
            "Total reward:  69.51114797592163\n",
            "Total reward:  69.16540575027466\n",
            "Total reward:  69.05363988876343\n",
            "Total reward:  69.24291944503784\n",
            "Total reward:  69.17097616195679\n",
            "Total reward:  69.05755853652954\n",
            "Total reward:  69.05392551422119\n",
            "Total reward:  69.045006275177\n",
            "Total reward:  68.95730066299438\n",
            "Total reward:  68.8005166053772\n"
          ],
          "name": "stdout"
        },
        {
          "output_type": "stream",
          "text": [
            "DEBUG:minerl.env.malmo.instance.2e9d75:[02:05:16] [Server thread/INFO]: [STDOUT]: Warning: managed 17/20 ticks this second.\n"
          ],
          "name": "stderr"
        },
        {
          "output_type": "stream",
          "text": [
            "Total reward:  68.57056903839111\n",
            "Total reward:  68.26858139038086\n",
            "Total reward:  68.03170394897461\n",
            "Total reward:  68.39195919036865\n"
          ],
          "name": "stdout"
        },
        {
          "output_type": "stream",
          "text": [
            "DEBUG:minerl.env.malmo.instance.2e9d75:[02:05:17] [Client thread/INFO]: [CHAT] §l141...\n"
          ],
          "name": "stderr"
        },
        {
          "output_type": "stream",
          "text": [
            "Total reward:  68.67662763595581\n",
            "Total reward:  68.87735319137573\n",
            "Total reward:  68.99743223190308\n",
            "Total reward:  68.99587440490723\n",
            "Total reward:  68.89125871658325\n",
            "Total reward:  68.71625089645386\n",
            "Total reward:  68.472487449646\n",
            "Total reward:  68.16122627258301\n",
            "Total reward:  67.78342628479004\n",
            "Total reward:  67.33983898162842\n",
            "Total reward:  66.83109664916992\n",
            "Total reward:  66.25778865814209\n",
            "Total reward:  65.75603580474854\n",
            "Total reward:  66.10275840759277\n"
          ],
          "name": "stdout"
        },
        {
          "output_type": "stream",
          "text": [
            "DEBUG:minerl.env.malmo.instance.2e9d75:[02:05:17] [Server thread/INFO]: [STDOUT]: Warning: managed 16/20 ticks this second.\n"
          ],
          "name": "stderr"
        },
        {
          "output_type": "stream",
          "text": [
            "Total reward:  66.3802490234375\n",
            "Total reward:  66.57682609558105\n",
            "Total reward:  66.6956729888916\n",
            "Total reward:  66.73972988128662\n",
            "Total reward:  66.71159362792969\n",
            "Total reward:  66.6134557723999\n",
            "Total reward:  66.44707298278809\n",
            "Total reward:  66.21379566192627\n",
            "Total reward:  65.91461181640625\n"
          ],
          "name": "stdout"
        },
        {
          "output_type": "stream",
          "text": [
            "DEBUG:minerl.env.malmo.instance.2e9d75:[02:05:18] [Client thread/INFO]: [CHAT] §l140...\n"
          ],
          "name": "stderr"
        },
        {
          "output_type": "stream",
          "text": [
            "Total reward:  65.55023384094238\n",
            "Total reward:  65.41227722167969\n",
            "Total reward:  65.75752925872803\n",
            "Total reward:  66.03248310089111\n",
            "Total reward:  66.2297945022583\n",
            "Total reward:  66.35268306732178\n",
            "Total reward:  66.40398597717285\n",
            "Total reward:  66.38607215881348\n",
            "Total reward:  66.30079650878906\n",
            "Total reward:  66.14950656890869\n",
            "Total reward:  65.93442058563232\n",
            "Total reward:  65.65452671051025\n",
            "Total reward:  65.31006717681885\n",
            "Total reward:  65.18659400939941\n",
            "Total reward:  65.54200839996338\n",
            "Total reward:  65.82235527038574\n"
          ],
          "name": "stdout"
        },
        {
          "output_type": "stream",
          "text": [
            "DEBUG:minerl.env.malmo.instance.2e9d75:[02:05:19] [Client thread/INFO]: [CHAT] §l139...\n"
          ],
          "name": "stderr"
        },
        {
          "output_type": "stream",
          "text": [
            "Total reward:  66.02712535858154\n",
            "Total reward:  66.1593885421753\n",
            "Total reward:  66.22175979614258\n",
            "Total reward:  66.21632862091064\n",
            "Total reward:  66.14462947845459\n",
            "Total reward:  66.00767421722412\n",
            "Total reward:  65.80600929260254\n",
            "Total reward:  65.53982543945312\n",
            "Total reward:  65.21373748779297\n",
            "Total reward:  65.15070724487305\n",
            "Total reward:  65.58615303039551\n",
            "Total reward:  65.91939640045166\n",
            "Total reward:  66.17677688598633\n",
            "Total reward:  66.36040687561035\n",
            "Total reward:  66.47190761566162\n",
            "Total reward:  66.51240253448486\n",
            "Total reward:  66.48255348205566\n",
            "Total reward:  66.3826379776001\n",
            "Total reward:  66.39301872253418\n",
            "Total reward:  66.43643379211426\n",
            "Total reward:  66.84641933441162\n",
            "Total reward:  67.16205596923828\n",
            "Total reward:  67.40149974822998\n"
          ],
          "name": "stdout"
        },
        {
          "output_type": "stream",
          "text": [
            "DEBUG:minerl.env.malmo.instance.2e9d75:[02:05:19] [Client thread/INFO]: [CHAT] §l138...\n"
          ],
          "name": "stderr"
        },
        {
          "output_type": "stream",
          "text": [
            "Total reward:  67.56704425811768\n",
            "Total reward:  67.66051578521729\n",
            "Total reward:  67.68323516845703\n",
            "Total reward:  67.63487529754639\n",
            "Total reward:  67.4947681427002\n",
            "Total reward:  67.28928565979004\n",
            "Total reward:  67.01877117156982\n",
            "Total reward:  66.68578815460205\n",
            "Total reward:  66.29027462005615\n",
            "Total reward:  65.830641746521\n",
            "Total reward:  65.30619144439697\n",
            "Total reward:  64.78135776519775\n",
            "Total reward:  65.20510578155518\n",
            "Total reward:  65.5360746383667\n",
            "Total reward:  65.78908061981201\n",
            "Total reward:  65.96575260162354\n",
            "Total reward:  66.06737804412842\n",
            "Total reward:  66.09492588043213\n",
            "Total reward:  66.04908847808838\n"
          ],
          "name": "stdout"
        },
        {
          "output_type": "stream",
          "text": [
            "DEBUG:minerl.env.malmo.instance.2e9d75:[02:05:20] [Client thread/INFO]: [CHAT] §l137...\n"
          ],
          "name": "stderr"
        },
        {
          "output_type": "stream",
          "text": [
            "Total reward:  65.93035125732422\n",
            "Total reward:  65.73907852172852\n",
            "Total reward:  65.4755973815918\n",
            "Total reward:  65.14028072357178\n",
            "Total reward:  65.04298686981201\n",
            "Total reward:  65.47176837921143\n",
            "Total reward:  65.8051929473877\n",
            "Total reward:  66.0566234588623\n",
            "Total reward:  66.22764873504639\n",
            "Total reward:  66.31969451904297\n",
            "Total reward:  66.33404350280762\n",
            "Total reward:  66.2718563079834\n",
            "Total reward:  66.13420677185059\n",
            "Total reward:  65.92212009429932\n",
            "Total reward:  65.63661193847656\n",
            "Total reward:  65.27871513366699\n",
            "Total reward:  64.84950733184814\n",
            "Total reward:  64.35011386871338\n",
            "Total reward:  64.18983459472656\n",
            "Total reward:  64.59469032287598\n",
            "Total reward:  64.92743015289307\n",
            "Total reward:  65.1826229095459\n"
          ],
          "name": "stdout"
        },
        {
          "output_type": "stream",
          "text": [
            "DEBUG:minerl.env.malmo.instance.2e9d75:[02:05:21] [Client thread/INFO]: [CHAT] §l136...\n"
          ],
          "name": "stderr"
        },
        {
          "output_type": "stream",
          "text": [
            "Total reward:  65.35597229003906\n",
            "Total reward:  65.44871234893799\n",
            "Total reward:  65.4619951248169\n",
            "Total reward:  65.39692401885986\n",
            "Total reward:  65.25458908081055\n",
            "Total reward:  65.03610706329346\n",
            "Total reward:  64.74282741546631\n",
            "Total reward:  64.37598133087158\n",
            "Total reward:  63.936842918395996\n",
            "Total reward:  63.42674541473389\n",
            "Total reward:  63.258766174316406\n",
            "Total reward:  63.65524482727051\n",
            "Total reward:  63.96911907196045\n",
            "Total reward:  64.19780445098877\n",
            "Total reward:  64.34336280822754\n",
            "Total reward:  64.40783405303955\n",
            "Total reward:  64.39321899414062\n",
            "Total reward:  64.30145072937012\n",
            "Total reward:  64.13437938690186\n"
          ],
          "name": "stdout"
        },
        {
          "output_type": "stream",
          "text": [
            "DEBUG:minerl.env.malmo.instance.2e9d75:[02:05:22] [Client thread/INFO]: [CHAT] §l135...\n"
          ],
          "name": "stderr"
        },
        {
          "output_type": "stream",
          "text": [
            "Total reward:  63.89375686645508\n",
            "Total reward:  63.58123016357422\n",
            "Total reward:  63.198341369628906\n",
            "Total reward:  62.746538162231445\n",
            "Total reward:  62.227179527282715\n"
          ],
          "name": "stdout"
        },
        {
          "output_type": "stream",
          "text": [
            "DEBUG:minerl.env.malmo.instance.2e9d75:[02:05:23] [Server thread/INFO]: [STDOUT]: Warning: managed 18/20 ticks this second.\n"
          ],
          "name": "stderr"
        },
        {
          "output_type": "stream",
          "text": [
            "Total reward:  61.64155197143555\n",
            "Total reward:  61.05813503265381\n",
            "Total reward:  61.43819618225098\n",
            "Total reward:  61.74209022521973\n",
            "Total reward:  61.96254634857178\n",
            "Total reward:  62.1017951965332\n",
            "Total reward:  62.161980628967285\n",
            "Total reward:  62.145127296447754\n",
            "Total reward:  62.05312919616699\n",
            "Total reward:  61.887733459472656\n",
            "Total reward:  61.65054130554199\n",
            "Total reward:  61.34301471710205\n",
            "Total reward:  60.96648979187012\n",
            "Total reward:  60.52219581604004\n",
            "Total reward:  60.01127815246582\n",
            "Total reward:  59.837379455566406\n"
          ],
          "name": "stdout"
        },
        {
          "output_type": "stream",
          "text": [
            "DEBUG:minerl.env.malmo.instance.2e9d75:[02:05:23] [Client thread/INFO]: [CHAT] §l134...\n",
            "DEBUG:minerl.env.malmo.instance.2e9d75:[02:05:24] [Server thread/INFO]: [STDOUT]: Warning: managed 15/20 ticks this second.\n"
          ],
          "name": "stderr"
        },
        {
          "output_type": "stream",
          "text": [
            "Total reward:  60.22024726867676\n",
            "Total reward:  60.52568054199219\n",
            "Total reward:  60.74923038482666\n",
            "Total reward:  60.8930606842041\n",
            "Total reward:  60.959083557128906\n",
            "Total reward:  60.94931507110596\n",
            "Total reward:  60.86547660827637\n",
            "Total reward:  60.70912837982178\n",
            "Total reward:  60.4816780090332\n",
            "Total reward:  60.184391021728516\n",
            "Total reward:  59.81842231750488\n",
            "Total reward:  59.6920108795166\n",
            "Total reward:  60.08203125\n",
            "Total reward:  60.39149475097656\n",
            "Total reward:  60.62007427215576\n"
          ],
          "name": "stdout"
        },
        {
          "output_type": "stream",
          "text": [
            "DEBUG:minerl.env.malmo.instance.2e9d75:[02:05:25] [Server thread/INFO]: [STDOUT]: Warning: managed 17/20 ticks this second.\n"
          ],
          "name": "stderr"
        },
        {
          "output_type": "stream",
          "text": [
            "Total reward:  60.76985740661621\n",
            "Total reward:  60.79660224914551\n",
            "Total reward:  60.717984199523926\n",
            "Total reward:  60.59884738922119\n"
          ],
          "name": "stdout"
        },
        {
          "output_type": "stream",
          "text": [
            "DEBUG:minerl.env.malmo.instance.2e9d75:[02:05:25] [Client thread/INFO]: [CHAT] §l133...\n"
          ],
          "name": "stderr"
        },
        {
          "output_type": "stream",
          "text": [
            "Total reward:  60.59938907623291\n",
            "Total reward:  60.60458564758301\n",
            "Total reward:  60.612563133239746\n",
            "Total reward:  60.7903528213501\n",
            "Total reward:  60.697869300842285\n",
            "Total reward:  60.5645170211792\n",
            "Total reward:  60.537940979003906\n",
            "Total reward:  60.515329360961914\n",
            "Total reward:  60.495933532714844\n",
            "Total reward:  60.479352951049805\n",
            "Total reward:  60.465375900268555\n",
            "Total reward:  60.45388221740723\n",
            "Total reward:  60.44479179382324\n",
            "Total reward:  60.62395095825195\n",
            "Total reward:  60.547237396240234\n",
            "Total reward:  60.430715560913086\n",
            "Total reward:  60.428659439086914\n",
            "Total reward:  60.42953872680664\n",
            "Total reward:  60.43238830566406\n"
          ],
          "name": "stdout"
        },
        {
          "output_type": "stream",
          "text": [
            "DEBUG:minerl.env.malmo.instance.2e9d75:[02:05:26] [Client thread/INFO]: [CHAT] §l132...\n"
          ],
          "name": "stderr"
        },
        {
          "output_type": "stream",
          "text": [
            "Total reward:  60.437604904174805\n",
            "Total reward:  60.44487190246582\n",
            "Total reward:  60.453975677490234\n",
            "Total reward:  60.464752197265625\n",
            "Total reward:  60.663434982299805\n",
            "Total reward:  60.59857654571533\n",
            "Total reward:  60.49403381347656\n",
            "Total reward:  60.51022911071777\n",
            "Total reward:  60.52764129638672\n",
            "Total reward:  60.546125411987305\n",
            "Total reward:  60.565558433532715\n",
            "Total reward:  60.58582592010498\n",
            "Total reward:  60.60682201385498\n",
            "Total reward:  60.62844657897949\n",
            "Total reward:  60.83901786804199\n",
            "Total reward:  60.77935218811035\n",
            "Total reward:  60.67947769165039\n",
            "Total reward:  60.70379638671875\n"
          ],
          "name": "stdout"
        },
        {
          "output_type": "stream",
          "text": [
            "DEBUG:minerl.env.malmo.instance.2e9d75:[02:05:27] [Client thread/INFO]: [CHAT] §l131...\n"
          ],
          "name": "stderr"
        },
        {
          "output_type": "stream",
          "text": [
            "Total reward:  60.72787094116211\n",
            "Total reward:  60.751797676086426\n",
            "Total reward:  60.77558898925781\n",
            "Total reward:  60.799217224121094\n",
            "Total reward:  60.822630882263184\n",
            "Total reward:  60.84576606750488\n",
            "Total reward:  61.059630393981934\n",
            "Total reward:  60.999064445495605\n",
            "Total reward:  60.89746284484863\n",
            "Total reward:  60.9205379486084\n",
            "Total reward:  60.94246006011963\n",
            "Total reward:  60.9634485244751\n",
            "Total reward:  60.983595848083496\n",
            "Total reward:  60.92732906341553\n",
            "Total reward:  60.78925132751465\n",
            "Total reward:  60.578253746032715\n",
            "Total reward:  60.2869930267334\n",
            "Total reward:  60.06255340576172\n",
            "Total reward:  60.469552993774414\n",
            "Total reward:  60.791954040527344\n",
            "Total reward:  61.03336811065674\n",
            "Total reward:  61.19557189941406\n"
          ],
          "name": "stdout"
        },
        {
          "output_type": "stream",
          "text": [
            "DEBUG:minerl.env.malmo.instance.2e9d75:[02:05:27] [Client thread/INFO]: [CHAT] §l130...\n"
          ],
          "name": "stderr"
        },
        {
          "output_type": "stream",
          "text": [
            "Total reward:  61.23268795013428\n",
            "Total reward:  61.1624698638916\n",
            "Total reward:  61.05134391784668\n",
            "Total reward:  61.06438446044922\n",
            "Total reward:  61.07821273803711\n",
            "Total reward:  61.09201526641846\n",
            "Total reward:  61.299394607543945\n",
            "Total reward:  61.23149871826172\n",
            "Total reward:  61.12160110473633\n",
            "Total reward:  61.13382625579834\n",
            "Total reward:  61.14477729797363\n",
            "Total reward:  61.15461254119873\n",
            "Total reward:  61.16341495513916\n",
            "Total reward:  61.171231269836426\n",
            "Total reward:  61.1780891418457\n",
            "Total reward:  61.18401527404785\n",
            "Total reward:  61.384135246276855\n",
            "Total reward:  61.310439109802246\n"
          ],
          "name": "stdout"
        },
        {
          "output_type": "stream",
          "text": [
            "DEBUG:minerl.env.malmo.instance.2e9d75:[02:05:28] [Client thread/INFO]: [CHAT] §l129...\n"
          ],
          "name": "stderr"
        },
        {
          "output_type": "stream",
          "text": [
            "Total reward:  61.19429683685303\n",
            "Total reward:  61.19747257232666\n",
            "Total reward:  61.199673652648926\n",
            "Total reward:  61.201040267944336\n",
            "Total reward:  61.201663970947266\n",
            "Total reward:  61.20161247253418\n",
            "Total reward:  61.200944900512695\n",
            "Total reward:  61.199713706970215\n",
            "Total reward:  61.62730884552002\n",
            "Total reward:  61.965577125549316\n",
            "Total reward:  62.22303867340088\n",
            "Total reward:  62.401000022888184\n",
            "Total reward:  62.50060558319092\n",
            "Total reward:  62.522857666015625\n",
            "Total reward:  62.46865940093994\n",
            "Total reward:  62.338852882385254\n",
            "Total reward:  62.134260177612305\n",
            "Total reward:  61.84696674346924\n",
            "Total reward:  61.474388122558594\n",
            "Total reward:  61.35074806213379\n",
            "Total reward:  61.75930881500244\n",
            "Total reward:  62.08388423919678\n",
            "Total reward:  62.32744026184082\n",
            "Total reward:  62.49163055419922\n"
          ],
          "name": "stdout"
        },
        {
          "output_type": "stream",
          "text": [
            "DEBUG:minerl.env.malmo.instance.2e9d75:[02:05:29] [Client thread/INFO]: [CHAT] §l128...\n"
          ],
          "name": "stderr"
        },
        {
          "output_type": "stream",
          "text": [
            "Total reward:  62.577903747558594\n",
            "Total reward:  62.5875244140625\n",
            "Total reward:  62.52160167694092\n",
            "Total reward:  62.381131172180176\n",
            "Total reward:  62.367573738098145\n",
            "Total reward:  62.38782501220703\n",
            "Total reward:  62.823330879211426\n"
          ],
          "name": "stdout"
        },
        {
          "output_type": "stream",
          "text": [
            "DEBUG:minerl.env.malmo.instance.2e9d75:[02:05:30] [Server thread/INFO]: [STDOUT]: Warning: managed 18/20 ticks this second.\n"
          ],
          "name": "stderr"
        },
        {
          "output_type": "stream",
          "text": [
            "Total reward:  63.16490936279297\n",
            "Total reward:  63.42234230041504\n",
            "Total reward:  63.59691619873047\n",
            "Total reward:  63.68986415863037\n",
            "Total reward:  63.70239448547363\n",
            "Total reward:  63.63598155975342\n",
            "Total reward:  63.491291999816895\n",
            "Total reward:  63.47148609161377\n",
            "Total reward:  63.47614574432373\n"
          ],
          "name": "stdout"
        },
        {
          "output_type": "stream",
          "text": [
            "DEBUG:minerl.env.malmo.instance.2e9d75:[02:05:30] [Client thread/INFO]: [CHAT] §l127...\n"
          ],
          "name": "stderr"
        },
        {
          "output_type": "stream",
          "text": [
            "Total reward:  63.89507484436035\n",
            "Total reward:  64.2250804901123\n",
            "Total reward:  64.46889019012451\n",
            "Total reward:  64.62807273864746\n",
            "Total reward:  64.70423126220703\n",
            "Total reward:  64.69900798797607\n",
            "Total reward:  64.61408710479736\n",
            "Total reward:  64.45118618011475\n",
            "Total reward:  64.41288089752197\n",
            "Total reward:  64.39216613769531\n",
            "Total reward:  64.78531837463379\n",
            "Total reward:  65.09759140014648\n",
            "Total reward:  65.32351398468018\n",
            "Total reward:  65.46517562866211\n",
            "Total reward:  65.52470397949219\n",
            "Total reward:  65.50423049926758\n",
            "Total reward:  65.40585899353027\n",
            "Total reward:  65.23162746429443\n",
            "Total reward:  65.18006610870361\n",
            "Total reward:  65.1435432434082\n",
            "Total reward:  65.5149097442627\n",
            "Total reward:  65.8111457824707\n",
            "Total reward:  66.0227746963501\n"
          ],
          "name": "stdout"
        },
        {
          "output_type": "stream",
          "text": [
            "DEBUG:minerl.env.malmo.instance.2e9d75:[02:05:32] [Client thread/INFO]: [CHAT] §l126...\n"
          ],
          "name": "stderr"
        },
        {
          "output_type": "stream",
          "text": [
            "Total reward:  66.15238952636719\n",
            "Total reward:  66.20252990722656\n",
            "Total reward:  66.17561626434326\n",
            "Total reward:  66.07389450073242\n"
          ],
          "name": "stdout"
        },
        {
          "output_type": "stream",
          "text": [
            "DEBUG:minerl.env.malmo.instance.2e9d75:[02:05:32] [Server thread/INFO]: [STDOUT]: Warning: managed 16/20 ticks this second.\n"
          ],
          "name": "stderr"
        },
        {
          "output_type": "stream",
          "text": [
            "Total reward:  65.8993968963623\n",
            "Total reward:  65.66228866577148\n",
            "Total reward:  65.37644577026367\n",
            "Total reward:  65.02385902404785\n",
            "Total reward:  64.91167831420898\n",
            "Total reward:  65.3226318359375\n",
            "Total reward:  65.64711856842041\n",
            "Total reward:  65.89344215393066\n",
            "Total reward:  66.06368637084961\n",
            "Total reward:  66.15956401824951\n",
            "Total reward:  66.18239784240723\n",
            "Total reward:  66.13314247131348\n",
            "Total reward:  66.0124397277832\n",
            "Total reward:  65.82069683074951\n",
            "Total reward:  65.55818462371826\n"
          ],
          "name": "stdout"
        },
        {
          "output_type": "stream",
          "text": [
            "DEBUG:minerl.env.malmo.instance.2e9d75:[02:05:33] [Client thread/INFO]: [CHAT] §l125...\n",
            "DEBUG:minerl.env.malmo.instance.2e9d75:[02:05:33] [Server thread/INFO]: [STDOUT]: Warning: managed 17/20 ticks this second.\n"
          ],
          "name": "stderr"
        },
        {
          "output_type": "stream",
          "text": [
            "Total reward:  65.2251329421997\n",
            "Total reward:  65.13357925415039\n",
            "Total reward:  65.57795810699463\n",
            "Total reward:  65.92381477355957\n",
            "Total reward:  66.18703365325928\n",
            "Total reward:  66.36899948120117\n",
            "Total reward:  66.47091102600098\n",
            "Total reward:  66.49382019042969\n",
            "Total reward:  66.4386854171753\n",
            "Total reward:  66.30643081665039\n",
            "Total reward:  66.29612827301025\n",
            "Total reward:  66.2862434387207\n",
            "Total reward:  66.6824951171875\n",
            "Total reward:  66.99746131896973\n",
            "Total reward:  67.23166179656982\n",
            "Total reward:  67.38728141784668\n",
            "Total reward:  67.46617794036865\n",
            "Total reward:  67.4698715209961\n",
            "Total reward:  67.39957237243652\n",
            "Total reward:  67.25622749328613\n",
            "Total reward:  67.2369613647461\n",
            "Total reward:  67.24921226501465\n"
          ],
          "name": "stdout"
        },
        {
          "output_type": "stream",
          "text": [
            "DEBUG:minerl.env.malmo.instance.2e9d75:[02:05:34] [Client thread/INFO]: [CHAT] §l124...\n"
          ],
          "name": "stderr"
        },
        {
          "output_type": "stream",
          "text": [
            "Total reward:  67.66824054718018\n",
            "Total reward:  67.9959077835083\n",
            "Total reward:  68.23969554901123\n",
            "Total reward:  68.40204620361328\n",
            "Total reward:  68.4844799041748\n",
            "Total reward:  68.4883975982666\n",
            "Total reward:  68.4151029586792\n",
            "Total reward:  68.26583194732666\n",
            "Total reward:  68.04179000854492\n",
            "Total reward:  67.74417877197266\n",
            "Total reward:  67.3742208480835\n",
            "Total reward:  67.2461404800415\n",
            "Total reward:  67.6366195678711\n",
            "Total reward:  67.9444580078125\n",
            "Total reward:  68.16718864440918\n",
            "Total reward:  68.30715656280518\n",
            "Total reward:  68.36669254302979\n",
            "Total reward:  68.34806060791016\n",
            "Total reward:  68.25339412689209\n"
          ],
          "name": "stdout"
        },
        {
          "output_type": "stream",
          "text": [
            "DEBUG:minerl.env.malmo.instance.2e9d75:[02:05:35] [Client thread/INFO]: [CHAT] §l123...\n"
          ],
          "name": "stderr"
        },
        {
          "output_type": "stream",
          "text": [
            "Total reward:  68.08465003967285\n",
            "Total reward:  67.83028316497803\n",
            "Total reward:  67.50359535217285\n",
            "Total reward:  67.10975170135498\n",
            "Total reward:  66.95401859283447\n",
            "Total reward:  67.29320907592773\n",
            "Total reward:  67.56759548187256\n",
            "Total reward:  67.76090049743652\n",
            "Total reward:  67.8768835067749\n",
            "Total reward:  67.91903591156006\n",
            "Total reward:  67.89041233062744\n",
            "Total reward:  67.79351615905762\n",
            "Total reward:  67.63025379180908\n",
            "Total reward:  67.58356094360352\n",
            "Total reward:  67.56239795684814\n",
            "Total reward:  67.73126888275146\n",
            "Total reward:  67.65831851959229\n",
            "Total reward:  67.54854583740234\n",
            "Total reward:  67.55454635620117\n"
          ],
          "name": "stdout"
        },
        {
          "output_type": "stream",
          "text": [
            "DEBUG:minerl.env.malmo.instance.2e9d75:[02:05:36] [Client thread/INFO]: [CHAT] §l122...\n"
          ],
          "name": "stderr"
        },
        {
          "output_type": "stream",
          "text": [
            "Total reward:  67.56694221496582\n",
            "Total reward:  67.58404636383057\n",
            "Total reward:  67.60483837127686\n",
            "Total reward:  67.62866401672363\n",
            "Total reward:  67.65506839752197\n",
            "Total reward:  67.61298561096191\n",
            "Total reward:  67.49063682556152\n",
            "Total reward:  67.29979515075684\n",
            "Total reward:  67.04047298431396\n",
            "Total reward:  66.8471736907959\n",
            "Total reward:  67.2706995010376\n",
            "Total reward:  67.60081386566162\n",
            "Total reward:  67.85373497009277\n",
            "Total reward:  68.03146266937256\n",
            "Total reward:  68.1355333328247\n",
            "Total reward:  68.16700172424316\n",
            "Total reward:  68.12647819519043\n",
            "Total reward:  68.01422214508057\n",
            "Total reward:  67.8302698135376\n",
            "Total reward:  67.57457160949707\n",
            "Total reward:  67.24712467193604\n",
            "Total reward:  67.15821552276611\n"
          ],
          "name": "stdout"
        },
        {
          "output_type": "stream",
          "text": [
            "DEBUG:minerl.env.malmo.instance.2e9d75:[02:05:37] [Client thread/INFO]: [CHAT] §l121...\n"
          ],
          "name": "stderr"
        },
        {
          "output_type": "stream",
          "text": [
            "Total reward:  67.59996509552002\n",
            "Total reward:  67.94349575042725\n",
            "Total reward:  68.20856285095215\n",
            "Total reward:  68.39640140533447\n",
            "Total reward:  68.50778865814209\n",
            "Total reward:  68.54311084747314\n",
            "Total reward:  68.50247764587402\n",
            "Total reward:  68.3858699798584\n",
            "Total reward:  68.39248085021973\n",
            "Total reward:  68.43547058105469\n",
            "Total reward:  68.88627910614014\n",
            "Total reward:  69.23670625686646\n",
            "Total reward:  69.50250291824341\n",
            "Total reward:  69.6842474937439\n",
            "Total reward:  69.78244638442993\n",
            "Total reward:  69.79766750335693\n",
            "Total reward:  69.73067092895508\n",
            "Total reward:  69.58250284194946\n",
            "Total reward:  69.5577163696289\n",
            "Total reward:  69.54910659790039\n"
          ],
          "name": "stdout"
        },
        {
          "output_type": "stream",
          "text": [
            "DEBUG:minerl.env.malmo.instance.2e9d75:[02:05:38] [Client thread/INFO]: [CHAT] §l120...\n"
          ],
          "name": "stderr"
        },
        {
          "output_type": "stream",
          "text": [
            "Total reward:  69.9509801864624\n",
            "Total reward:  70.26650953292847\n",
            "Total reward:  70.49400091171265\n",
            "Total reward:  70.6432843208313\n",
            "Total reward:  70.72503614425659\n",
            "Total reward:  70.72800874710083\n",
            "Total reward:  70.6536455154419\n",
            "Total reward:  70.50341129302979\n",
            "Total reward:  70.27867412567139\n",
            "Total reward:  69.98073530197144\n",
            "Total reward:  69.61085987091064\n",
            "Total reward:  69.49077892303467\n",
            "Total reward:  69.9063811302185\n",
            "Total reward:  70.23567867279053\n",
            "Total reward:  70.48063230514526\n",
            "Total reward:  70.64314556121826\n"
          ],
          "name": "stdout"
        },
        {
          "output_type": "stream",
          "text": [
            "DEBUG:minerl.env.malmo.instance.2e9d75:[02:05:39] [Client thread/INFO]: [CHAT] §l119...\n"
          ],
          "name": "stderr"
        },
        {
          "output_type": "stream",
          "text": [
            "Total reward:  70.72503614425659\n",
            "Total reward:  70.72800874710083\n",
            "Total reward:  70.6536455154419\n",
            "Total reward:  70.50341129302979\n",
            "Total reward:  70.27883529663086\n",
            "Total reward:  69.98120307922363\n",
            "Total reward:  69.61173963546753\n",
            "Total reward:  69.49258470535278\n",
            "Total reward:  69.91261577606201\n",
            "Total reward:  70.24537420272827\n",
            "Total reward:  70.49440717697144\n",
            "Total reward:  70.66144371032715\n",
            "Total reward:  70.74802494049072\n",
            "Total reward:  70.75550556182861\n",
            "Total reward:  70.6850848197937\n",
            "Total reward:  70.5378623008728\n",
            "Total reward:  70.31490516662598\n",
            "Total reward:  70.01730155944824\n",
            "Total reward:  69.64620304107666\n",
            "Total reward:  69.52479696273804\n",
            "Total reward:  69.93734550476074\n",
            "Total reward:  70.26202726364136\n",
            "Total reward:  70.49782419204712\n",
            "Total reward:  70.64624404907227\n"
          ],
          "name": "stdout"
        },
        {
          "output_type": "stream",
          "text": [
            "DEBUG:minerl.env.malmo.instance.2e9d75:[02:05:39] [Client thread/INFO]: [CHAT] §l118...\n"
          ],
          "name": "stderr"
        },
        {
          "output_type": "stream",
          "text": [
            "Total reward:  70.70905351638794\n",
            "Total reward:  70.68831872940063\n",
            "Total reward:  70.58637285232544\n",
            "Total reward:  70.40572023391724\n",
            "Total reward:  70.1489109992981\n",
            "Total reward:  69.81841897964478\n",
            "Total reward:  69.4165506362915\n"
          ],
          "name": "stdout"
        },
        {
          "output_type": "stream",
          "text": [
            "DEBUG:minerl.env.malmo.instance.2e9d75:[02:05:40] [Server thread/INFO]: [STDOUT]: Warning: managed 18/20 ticks this second.\n"
          ],
          "name": "stderr"
        },
        {
          "output_type": "stream",
          "text": [
            "Total reward:  69.25600242614746\n",
            "Total reward:  69.58850431442261\n",
            "Total reward:  69.8539891242981\n",
            "Total reward:  70.03111028671265\n",
            "Total reward:  70.1241021156311\n",
            "Total reward:  70.17824506759644\n",
            "Total reward:  70.18670988082886\n",
            "Total reward:  70.12431764602661\n",
            "Total reward:  69.99151706695557\n",
            "Total reward:  69.78834581375122\n",
            "Total reward:  69.51114797592163\n",
            "Total reward:  69.16540575027466\n"
          ],
          "name": "stdout"
        },
        {
          "output_type": "stream",
          "text": [
            "DEBUG:minerl.env.malmo.instance.2e9d75:[02:05:41] [Server thread/INFO]: [STDOUT]: Warning: managed 12/20 ticks this second.\n",
            "DEBUG:minerl.env.malmo.instance.2e9d75:[02:05:41] [Client thread/INFO]: [CHAT] §l117...\n"
          ],
          "name": "stderr"
        },
        {
          "output_type": "stream",
          "text": [
            "Total reward:  69.05363988876343\n",
            "Total reward:  69.24291944503784\n",
            "Total reward:  69.17097616195679\n",
            "Total reward:  69.05755853652954\n",
            "Total reward:  69.05392551422119\n",
            "Total reward:  69.045006275177\n",
            "Total reward:  68.95730066299438\n",
            "Total reward:  68.8005166053772\n",
            "Total reward:  68.57056903839111\n",
            "Total reward:  68.26858139038086\n",
            "Total reward:  68.03170394897461\n",
            "Total reward:  68.39195919036865\n",
            "Total reward:  68.67662763595581\n"
          ],
          "name": "stdout"
        },
        {
          "output_type": "stream",
          "text": [
            "DEBUG:minerl.env.malmo.instance.2e9d75:[02:05:42] [Server thread/INFO]: [STDOUT]: Warning: managed 15/20 ticks this second.\n"
          ],
          "name": "stderr"
        },
        {
          "output_type": "stream",
          "text": [
            "Total reward:  68.87735319137573\n",
            "Total reward:  68.99743223190308\n",
            "Total reward:  68.99587440490723\n",
            "Total reward:  68.89125871658325\n",
            "Total reward:  68.71625089645386\n",
            "Total reward:  68.472487449646\n",
            "Total reward:  68.16122627258301\n",
            "Total reward:  67.78342628479004\n"
          ],
          "name": "stdout"
        },
        {
          "output_type": "stream",
          "text": [
            "DEBUG:minerl.env.malmo.instance.2e9d75:[02:05:42] [Client thread/INFO]: [CHAT] §l116...\n"
          ],
          "name": "stderr"
        },
        {
          "output_type": "stream",
          "text": [
            "Total reward:  67.33983898162842\n",
            "Total reward:  66.83109664916992\n",
            "Total reward:  66.25778865814209\n",
            "Total reward:  65.75603580474854\n",
            "Total reward:  66.10275840759277\n",
            "Total reward:  66.3802490234375\n",
            "Total reward:  66.57682609558105\n",
            "Total reward:  66.6956729888916\n",
            "Total reward:  66.73972988128662\n",
            "Total reward:  66.71159362792969\n",
            "Total reward:  66.6134557723999\n",
            "Total reward:  66.44707298278809\n"
          ],
          "name": "stdout"
        },
        {
          "output_type": "stream",
          "text": [
            "DEBUG:minerl.env.malmo.instance.2e9d75:[02:05:43] [Server thread/INFO]: [STDOUT]: Warning: managed 18/20 ticks this second.\n"
          ],
          "name": "stderr"
        },
        {
          "output_type": "stream",
          "text": [
            "Total reward:  66.21379566192627\n",
            "Total reward:  65.91461181640625\n",
            "Total reward:  65.55023384094238\n",
            "Total reward:  65.41227722167969\n",
            "Total reward:  65.75752925872803\n"
          ],
          "name": "stdout"
        },
        {
          "output_type": "stream",
          "text": [
            "DEBUG:minerl.env.malmo.instance.2e9d75:[02:05:43] [Client thread/INFO]: [CHAT] §l115...\n"
          ],
          "name": "stderr"
        },
        {
          "output_type": "stream",
          "text": [
            "Total reward:  66.03248310089111\n",
            "Total reward:  66.2297945022583\n",
            "Total reward:  66.35268306732178\n",
            "Total reward:  66.40398597717285\n",
            "Total reward:  66.38607215881348\n",
            "Total reward:  66.30079650878906\n",
            "Total reward:  66.14950656890869\n",
            "Total reward:  65.93442058563232\n",
            "Total reward:  65.65452671051025\n",
            "Total reward:  65.31006717681885\n",
            "Total reward:  65.18659400939941\n",
            "Total reward:  65.54200839996338\n",
            "Total reward:  65.82235527038574\n",
            "Total reward:  66.02712535858154\n",
            "Total reward:  66.1593885421753\n",
            "Total reward:  66.22175979614258\n",
            "Total reward:  66.21632862091064\n",
            "Total reward:  66.14462947845459\n",
            "Total reward:  66.00767421722412\n",
            "Total reward:  65.80600929260254\n"
          ],
          "name": "stdout"
        },
        {
          "output_type": "stream",
          "text": [
            "DEBUG:minerl.env.malmo.instance.2e9d75:[02:05:44] [Client thread/INFO]: [CHAT] §l114...\n"
          ],
          "name": "stderr"
        },
        {
          "output_type": "stream",
          "text": [
            "Total reward:  65.53982543945312\n",
            "Total reward:  65.21373748779297\n",
            "Total reward:  65.15070724487305\n",
            "Total reward:  65.58615303039551\n",
            "Total reward:  65.91939640045166\n",
            "Total reward:  66.17677688598633\n",
            "Total reward:  66.36040687561035\n",
            "Total reward:  66.47190761566162\n",
            "Total reward:  66.51240253448486\n",
            "Total reward:  66.48255348205566\n",
            "Total reward:  66.3826379776001\n",
            "Total reward:  66.39301872253418\n",
            "Total reward:  66.43643379211426\n",
            "Total reward:  66.84641933441162\n",
            "Total reward:  67.16205596923828\n",
            "Total reward:  67.40149974822998\n",
            "Total reward:  67.56704425811768\n",
            "Total reward:  67.66051578521729\n",
            "Total reward:  67.68323516845703\n",
            "Total reward:  67.63487529754639\n",
            "Total reward:  67.4947681427002\n",
            "Total reward:  67.28928565979004\n",
            "Total reward:  67.01877117156982\n"
          ],
          "name": "stdout"
        },
        {
          "output_type": "stream",
          "text": [
            "DEBUG:minerl.env.malmo.instance.2e9d75:[02:05:45] [Client thread/INFO]: [CHAT] §l113...\n"
          ],
          "name": "stderr"
        },
        {
          "output_type": "stream",
          "text": [
            "Total reward:  66.68578815460205\n",
            "Total reward:  66.29027462005615\n",
            "Total reward:  65.830641746521\n",
            "Total reward:  65.30619144439697\n",
            "Total reward:  64.78135776519775\n",
            "Total reward:  65.20510578155518\n",
            "Total reward:  65.5360746383667\n",
            "Total reward:  65.78908061981201\n",
            "Total reward:  65.96575260162354\n",
            "Total reward:  66.06737804412842\n",
            "Total reward:  66.09492588043213\n",
            "Total reward:  66.04908847808838\n",
            "Total reward:  65.93035125732422\n",
            "Total reward:  65.73907852172852\n",
            "Total reward:  65.4755973815918\n",
            "Total reward:  65.14028072357178\n",
            "Total reward:  65.04298686981201\n"
          ],
          "name": "stdout"
        },
        {
          "output_type": "stream",
          "text": [
            "DEBUG:minerl.env.malmo.instance.2e9d75:[02:05:46] [Client thread/INFO]: [CHAT] §l112...\n"
          ],
          "name": "stderr"
        },
        {
          "output_type": "stream",
          "text": [
            "Total reward:  65.47176837921143\n",
            "Total reward:  65.8051929473877\n",
            "Total reward:  66.0566234588623\n",
            "Total reward:  66.22764873504639\n",
            "Total reward:  66.31969451904297\n",
            "Total reward:  66.33404350280762\n",
            "Total reward:  66.2718563079834\n",
            "Total reward:  66.13420677185059\n",
            "Total reward:  65.92212009429932\n",
            "Total reward:  65.63661193847656\n",
            "Total reward:  65.27871513366699\n",
            "Total reward:  64.84950733184814\n",
            "Total reward:  64.35011386871338\n",
            "Total reward:  64.18983459472656\n",
            "Total reward:  64.59469032287598\n",
            "Total reward:  64.92743015289307\n",
            "Total reward:  65.1826229095459\n",
            "Total reward:  65.35597229003906\n",
            "Total reward:  65.44871234893799\n",
            "Total reward:  65.4619951248169\n",
            "Total reward:  65.39692401885986\n"
          ],
          "name": "stdout"
        },
        {
          "output_type": "stream",
          "text": [
            "DEBUG:minerl.env.malmo.instance.2e9d75:[02:05:47] [Client thread/INFO]: [CHAT] §l111...\n"
          ],
          "name": "stderr"
        },
        {
          "output_type": "stream",
          "text": [
            "Total reward:  65.25458908081055\n",
            "Total reward:  65.03610706329346\n",
            "Total reward:  64.74282741546631\n",
            "Total reward:  64.37598133087158\n",
            "Total reward:  63.936842918395996\n",
            "Total reward:  63.42674541473389\n",
            "Total reward:  63.258766174316406\n",
            "Total reward:  63.65524482727051\n",
            "Total reward:  63.96911907196045\n",
            "Total reward:  64.19780445098877\n",
            "Total reward:  64.34336280822754\n",
            "Total reward:  64.40783405303955\n",
            "Total reward:  64.39321899414062\n",
            "Total reward:  64.30145072937012\n",
            "Total reward:  64.13437938690186\n",
            "Total reward:  63.89375686645508\n",
            "Total reward:  63.58123016357422\n",
            "Total reward:  63.198341369628906\n",
            "Total reward:  62.746538162231445\n",
            "Total reward:  62.227179527282715\n"
          ],
          "name": "stdout"
        },
        {
          "output_type": "stream",
          "text": [
            "DEBUG:minerl.env.malmo.instance.2e9d75:[02:05:48] [Client thread/INFO]: [CHAT] §l110...\n"
          ],
          "name": "stderr"
        },
        {
          "output_type": "stream",
          "text": [
            "Total reward:  61.64155197143555\n",
            "Total reward:  61.05813503265381\n",
            "Total reward:  61.43819618225098\n"
          ],
          "name": "stdout"
        },
        {
          "output_type": "stream",
          "text": [
            "DEBUG:minerl.env.malmo.instance.2e9d75:[02:05:48] [Server thread/INFO]: [STDOUT]: Warning: managed 17/20 ticks this second.\n"
          ],
          "name": "stderr"
        },
        {
          "output_type": "stream",
          "text": [
            "Total reward:  61.74209022521973\n",
            "Total reward:  61.96254634857178\n",
            "Total reward:  62.1017951965332\n",
            "Total reward:  62.161980628967285\n",
            "Total reward:  62.145127296447754\n",
            "Total reward:  62.05312919616699\n",
            "Total reward:  61.887733459472656\n",
            "Total reward:  61.65054130554199\n",
            "Total reward:  61.34301471710205\n",
            "Total reward:  60.96648979187012\n",
            "Total reward:  60.52219581604004\n",
            "Total reward:  60.01127815246582\n",
            "Total reward:  59.837379455566406\n"
          ],
          "name": "stdout"
        },
        {
          "output_type": "stream",
          "text": [
            "DEBUG:minerl.env.malmo.instance.2e9d75:[02:05:49] [Server thread/INFO]: [STDOUT]: Warning: managed 14/20 ticks this second.\n"
          ],
          "name": "stderr"
        },
        {
          "output_type": "stream",
          "text": [
            "Total reward:  60.22024726867676\n",
            "Total reward:  60.52568054199219\n",
            "Total reward:  60.74923038482666\n",
            "Total reward:  60.8930606842041\n",
            "Total reward:  60.959083557128906\n",
            "Total reward:  60.94931507110596\n"
          ],
          "name": "stdout"
        },
        {
          "output_type": "stream",
          "text": [
            "DEBUG:minerl.env.malmo.instance.2e9d75:[02:05:49] [Client thread/INFO]: [CHAT] §l109...\n"
          ],
          "name": "stderr"
        },
        {
          "output_type": "stream",
          "text": [
            "Total reward:  60.86547660827637\n",
            "Total reward:  60.70912837982178\n",
            "Total reward:  60.4816780090332\n",
            "Total reward:  60.184391021728516\n",
            "Total reward:  59.81842231750488\n",
            "Total reward:  59.6920108795166\n",
            "Total reward:  60.08203125\n",
            "Total reward:  60.39149475097656\n",
            "Total reward:  60.62007427215576\n",
            "Total reward:  60.76985740661621\n",
            "Total reward:  60.79660224914551\n"
          ],
          "name": "stdout"
        },
        {
          "output_type": "stream",
          "text": [
            "DEBUG:minerl.env.malmo.instance.2e9d75:[02:05:50] [Server thread/INFO]: [STDOUT]: Warning: managed 15/20 ticks this second.\n"
          ],
          "name": "stderr"
        },
        {
          "output_type": "stream",
          "text": [
            "Total reward:  60.717984199523926\n",
            "Total reward:  60.59884738922119\n",
            "Total reward:  60.59938907623291\n",
            "Total reward:  60.60458564758301\n",
            "Total reward:  60.612563133239746\n",
            "Total reward:  60.7903528213501\n"
          ],
          "name": "stdout"
        },
        {
          "output_type": "stream",
          "text": [
            "DEBUG:minerl.env.malmo.instance.2e9d75:[02:05:51] [Client thread/INFO]: [CHAT] §l108...\n"
          ],
          "name": "stderr"
        },
        {
          "output_type": "stream",
          "text": [
            "Total reward:  60.697869300842285\n",
            "Total reward:  60.5645170211792\n",
            "Total reward:  60.537940979003906\n",
            "Total reward:  60.515329360961914\n",
            "Total reward:  60.495933532714844\n",
            "Total reward:  60.479352951049805\n",
            "Total reward:  60.465375900268555\n",
            "Total reward:  60.45388221740723\n"
          ],
          "name": "stdout"
        },
        {
          "output_type": "stream",
          "text": [
            "DEBUG:minerl.env.malmo.instance.2e9d75:[02:05:51] [Server thread/INFO]: [STDOUT]: Warning: managed 16/20 ticks this second.\n"
          ],
          "name": "stderr"
        },
        {
          "output_type": "stream",
          "text": [
            "Total reward:  60.44479179382324\n",
            "Total reward:  60.62395095825195\n",
            "Total reward:  60.547237396240234\n",
            "Total reward:  60.430715560913086\n",
            "Total reward:  60.428659439086914\n",
            "Total reward:  60.42953872680664\n",
            "Total reward:  60.43238830566406\n",
            "Total reward:  60.437604904174805\n",
            "Total reward:  60.44487190246582\n",
            "Total reward:  60.453975677490234\n",
            "Total reward:  60.464752197265625\n"
          ],
          "name": "stdout"
        },
        {
          "output_type": "stream",
          "text": [
            "DEBUG:minerl.env.malmo.instance.2e9d75:[02:05:52] [Client thread/INFO]: [CHAT] §l107...\n"
          ],
          "name": "stderr"
        },
        {
          "output_type": "stream",
          "text": [
            "Total reward:  60.663434982299805\n",
            "Total reward:  60.59857654571533\n",
            "Total reward:  60.49403381347656\n",
            "Total reward:  60.51022911071777\n",
            "Total reward:  60.52764129638672\n",
            "Total reward:  60.546125411987305\n",
            "Total reward:  60.565558433532715\n",
            "Total reward:  60.58582592010498\n",
            "Total reward:  60.60682201385498\n"
          ],
          "name": "stdout"
        },
        {
          "output_type": "stream",
          "text": [
            "DEBUG:minerl.env.malmo.instance.2e9d75:[02:05:52] [Server thread/INFO]: [STDOUT]: Warning: managed 18/20 ticks this second.\n"
          ],
          "name": "stderr"
        },
        {
          "output_type": "stream",
          "text": [
            "Total reward:  60.62844657897949\n",
            "Total reward:  60.83901786804199\n",
            "Total reward:  60.77935218811035\n",
            "Total reward:  60.67947769165039\n",
            "Total reward:  60.70379638671875\n",
            "Total reward:  60.72787094116211\n",
            "Total reward:  60.751797676086426\n",
            "Total reward:  60.77558898925781\n",
            "Total reward:  60.799217224121094\n",
            "Total reward:  60.822630882263184\n",
            "Total reward:  60.84576606750488\n"
          ],
          "name": "stdout"
        },
        {
          "output_type": "stream",
          "text": [
            "DEBUG:minerl.env.malmo.instance.2e9d75:[02:05:53] [Client thread/INFO]: [CHAT] §l106...\n"
          ],
          "name": "stderr"
        },
        {
          "output_type": "stream",
          "text": [
            "Total reward:  61.059630393981934\n",
            "Total reward:  60.999064445495605\n",
            "Total reward:  60.89746284484863\n",
            "Total reward:  60.9205379486084\n",
            "Total reward:  60.94246006011963\n",
            "Total reward:  60.9634485244751\n",
            "Total reward:  60.983595848083496\n",
            "Total reward:  60.92732906341553\n",
            "Total reward:  60.78925132751465\n",
            "Total reward:  60.578253746032715\n",
            "Total reward:  60.2869930267334\n",
            "Total reward:  60.06255340576172\n",
            "Total reward:  60.469552993774414\n",
            "Total reward:  60.791954040527344\n",
            "Total reward:  61.03336811065674\n",
            "Total reward:  61.19557189941406\n",
            "Total reward:  61.23268795013428\n",
            "Total reward:  61.1624698638916\n",
            "Total reward:  61.05134391784668\n",
            "Total reward:  61.06438446044922\n",
            "Total reward:  61.07821273803711\n",
            "Total reward:  61.09201526641846\n"
          ],
          "name": "stdout"
        },
        {
          "output_type": "stream",
          "text": [
            "DEBUG:minerl.env.malmo.instance.2e9d75:[02:05:54] [Client thread/INFO]: [CHAT] §l105...\n"
          ],
          "name": "stderr"
        },
        {
          "output_type": "stream",
          "text": [
            "Total reward:  61.299394607543945\n",
            "Total reward:  61.23149871826172\n",
            "Total reward:  61.12160110473633\n",
            "Total reward:  61.13382625579834\n",
            "Total reward:  61.14477729797363\n",
            "Total reward:  61.15461254119873\n",
            "Total reward:  61.16341495513916\n",
            "Total reward:  61.171231269836426\n",
            "Total reward:  61.1780891418457\n",
            "Total reward:  61.18401527404785\n",
            "Total reward:  61.384135246276855\n",
            "Total reward:  61.310439109802246\n",
            "Total reward:  61.19429683685303\n",
            "Total reward:  61.19747257232666\n",
            "Total reward:  61.199673652648926\n",
            "Total reward:  61.201040267944336\n",
            "Total reward:  61.201663970947266\n",
            "Total reward:  61.20161247253418\n",
            "Total reward:  61.200944900512695\n",
            "Total reward:  61.199713706970215\n",
            "Total reward:  61.62730884552002\n",
            "Total reward:  61.965577125549316\n"
          ],
          "name": "stdout"
        },
        {
          "output_type": "stream",
          "text": [
            "DEBUG:minerl.env.malmo.instance.2e9d75:[02:05:55] [Client thread/INFO]: [CHAT] §l104...\n"
          ],
          "name": "stderr"
        },
        {
          "output_type": "stream",
          "text": [
            "Total reward:  62.22303867340088\n",
            "Total reward:  62.401000022888184\n",
            "Total reward:  62.50060558319092\n",
            "Total reward:  62.522857666015625\n",
            "Total reward:  62.46865940093994\n",
            "Total reward:  62.338852882385254\n",
            "Total reward:  62.134260177612305\n",
            "Total reward:  61.84696674346924\n",
            "Total reward:  61.474388122558594\n",
            "Total reward:  61.35074806213379\n",
            "Total reward:  61.75930881500244\n",
            "Total reward:  62.08388423919678\n",
            "Total reward:  62.32744026184082\n",
            "Total reward:  62.49163055419922\n",
            "Total reward:  62.577903747558594\n",
            "Total reward:  62.5875244140625\n",
            "Total reward:  62.52160167694092\n",
            "Total reward:  62.381131172180176\n",
            "Total reward:  62.367573738098145\n",
            "Total reward:  62.38782501220703\n"
          ],
          "name": "stdout"
        },
        {
          "output_type": "stream",
          "text": [
            "DEBUG:minerl.env.malmo.instance.2e9d75:[02:05:56] [Client thread/INFO]: [CHAT] §l103...\n"
          ],
          "name": "stderr"
        },
        {
          "output_type": "stream",
          "text": [
            "Total reward:  62.823330879211426\n",
            "Total reward:  63.16490936279297\n",
            "Total reward:  63.42234230041504\n",
            "Total reward:  63.59691619873047\n",
            "Total reward:  63.68986415863037\n",
            "Total reward:  63.70239448547363\n",
            "Total reward:  63.63598155975342\n",
            "Total reward:  63.491291999816895\n",
            "Total reward:  63.47148609161377\n",
            "Total reward:  63.47614574432373\n",
            "Total reward:  63.89507484436035\n",
            "Total reward:  64.2250804901123\n"
          ],
          "name": "stdout"
        },
        {
          "output_type": "stream",
          "text": [
            "DEBUG:minerl.env.malmo.instance.2e9d75:[02:05:56] [Server thread/INFO]: [STDOUT]: Warning: managed 19/20 ticks this second.\n"
          ],
          "name": "stderr"
        },
        {
          "output_type": "stream",
          "text": [
            "Total reward:  64.46889019012451\n",
            "Total reward:  64.62807273864746\n",
            "Total reward:  64.70423126220703\n",
            "Total reward:  64.69900798797607\n",
            "Total reward:  64.61408710479736\n",
            "Total reward:  64.45118618011475\n",
            "Total reward:  64.41288089752197\n",
            "Total reward:  64.39216613769531\n"
          ],
          "name": "stdout"
        },
        {
          "output_type": "stream",
          "text": [
            "DEBUG:minerl.env.malmo.instance.2e9d75:[02:05:57] [Client thread/INFO]: [CHAT] §l102...\n"
          ],
          "name": "stderr"
        },
        {
          "output_type": "stream",
          "text": [
            "Total reward:  64.78531837463379\n",
            "Total reward:  65.09759140014648\n",
            "Total reward:  65.32351398468018\n",
            "Total reward:  65.46517562866211\n",
            "Total reward:  65.52470397949219\n",
            "Total reward:  65.50423049926758\n",
            "Total reward:  65.40585899353027\n",
            "Total reward:  65.23162746429443\n"
          ],
          "name": "stdout"
        },
        {
          "output_type": "stream",
          "text": [
            "DEBUG:minerl.env.malmo.instance.2e9d75:[02:05:57] [Server thread/INFO]: [STDOUT]: Warning: managed 17/20 ticks this second.\n"
          ],
          "name": "stderr"
        },
        {
          "output_type": "stream",
          "text": [
            "Total reward:  65.18006610870361\n",
            "Total reward:  65.1435432434082\n",
            "Total reward:  65.5149097442627\n",
            "Total reward:  65.8111457824707\n",
            "Total reward:  66.0227746963501\n",
            "Total reward:  66.15238952636719\n",
            "Total reward:  66.20252990722656\n",
            "Total reward:  66.17561626434326\n",
            "Total reward:  66.07389450073242\n",
            "Total reward:  65.8993968963623\n",
            "Total reward:  65.66228866577148\n"
          ],
          "name": "stdout"
        },
        {
          "output_type": "stream",
          "text": [
            "DEBUG:minerl.env.malmo.instance.2e9d75:[02:05:58] [Client thread/INFO]: [CHAT] §l101...\n"
          ],
          "name": "stderr"
        },
        {
          "output_type": "stream",
          "text": [
            "Total reward:  65.37644577026367\n",
            "Total reward:  65.02385902404785\n",
            "Total reward:  64.91167831420898\n",
            "Total reward:  65.3226318359375\n",
            "Total reward:  65.64711856842041\n",
            "Total reward:  65.89344215393066\n"
          ],
          "name": "stdout"
        },
        {
          "output_type": "stream",
          "text": [
            "DEBUG:minerl.env.malmo.instance.2e9d75:[02:05:58] [Server thread/INFO]: [STDOUT]: Warning: managed 15/20 ticks this second.\n"
          ],
          "name": "stderr"
        },
        {
          "output_type": "stream",
          "text": [
            "Total reward:  66.06368637084961\n",
            "Total reward:  66.15956401824951\n",
            "Total reward:  66.18239784240723\n",
            "Total reward:  66.13314247131348\n",
            "Total reward:  66.0124397277832\n",
            "Total reward:  65.82069683074951\n",
            "Total reward:  65.55818462371826\n",
            "Total reward:  65.2251329421997\n",
            "Total reward:  65.13357925415039\n",
            "Total reward:  65.57795810699463\n",
            "Total reward:  65.92381477355957\n",
            "Total reward:  66.18703365325928\n",
            "Total reward:  66.36899948120117\n",
            "Total reward:  66.47091102600098\n",
            "Total reward:  66.49382019042969\n"
          ],
          "name": "stdout"
        },
        {
          "output_type": "stream",
          "text": [
            "DEBUG:minerl.env.malmo.instance.2e9d75:[02:05:59] [Client thread/INFO]: [CHAT] §l100...\n",
            "DEBUG:minerl.env.malmo.instance.2e9d75:[02:05:59] [Server thread/INFO]: [STDOUT]: Warning: managed 16/20 ticks this second.\n"
          ],
          "name": "stderr"
        },
        {
          "output_type": "stream",
          "text": [
            "Total reward:  66.4386854171753\n",
            "Total reward:  66.30643081665039\n",
            "Total reward:  66.29612827301025\n",
            "Total reward:  66.2862434387207\n",
            "Total reward:  66.6824951171875\n",
            "Total reward:  66.99746131896973\n",
            "Total reward:  67.23166179656982\n",
            "Total reward:  67.38728141784668\n",
            "Total reward:  67.46617794036865\n",
            "Total reward:  67.4698715209961\n",
            "Total reward:  67.39957237243652\n",
            "Total reward:  67.25622749328613\n",
            "Total reward:  67.2369613647461\n",
            "Total reward:  67.24921226501465\n",
            "Total reward:  67.66824054718018\n",
            "Total reward:  67.9959077835083\n",
            "Total reward:  68.23969554901123\n",
            "Total reward:  68.40204620361328\n"
          ],
          "name": "stdout"
        },
        {
          "output_type": "stream",
          "text": [
            "DEBUG:minerl.env.malmo.instance.2e9d75:[02:06:00] [Client thread/INFO]: [CHAT] §l99...\n"
          ],
          "name": "stderr"
        },
        {
          "output_type": "stream",
          "text": [
            "Total reward:  68.4844799041748\n",
            "Total reward:  68.4883975982666\n",
            "Total reward:  68.4151029586792\n",
            "Total reward:  68.26583194732666\n",
            "Total reward:  68.04179000854492\n",
            "Total reward:  67.74417877197266\n",
            "Total reward:  67.3742208480835\n",
            "Total reward:  67.2461404800415\n",
            "Total reward:  67.6366195678711\n",
            "Total reward:  67.9444580078125\n",
            "Total reward:  68.16718864440918\n",
            "Total reward:  68.30715656280518\n",
            "Total reward:  68.36669254302979\n",
            "Total reward:  68.34806060791016\n",
            "Total reward:  68.25339412689209\n",
            "Total reward:  68.08465003967285\n",
            "Total reward:  67.83028316497803\n",
            "Total reward:  67.50359535217285\n",
            "Total reward:  67.10975170135498\n",
            "Total reward:  66.95401859283447\n",
            "Total reward:  67.29320907592773\n",
            "Total reward:  67.56759548187256\n"
          ],
          "name": "stdout"
        },
        {
          "output_type": "stream",
          "text": [
            "DEBUG:minerl.env.malmo.instance.2e9d75:[02:06:01] [Client thread/INFO]: [CHAT] §l98...\n"
          ],
          "name": "stderr"
        },
        {
          "output_type": "stream",
          "text": [
            "Total reward:  67.76090049743652\n",
            "Total reward:  67.8768835067749\n",
            "Total reward:  67.91903591156006\n",
            "Total reward:  67.89041233062744\n",
            "Total reward:  67.79351615905762\n",
            "Total reward:  67.63025379180908\n",
            "Total reward:  67.58356094360352\n",
            "Total reward:  67.56239795684814\n",
            "Total reward:  67.73126888275146\n",
            "Total reward:  67.65831851959229\n",
            "Total reward:  67.54854583740234\n",
            "Total reward:  67.55454635620117\n",
            "Total reward:  67.56694221496582\n",
            "Total reward:  67.58404636383057\n",
            "Total reward:  67.60483837127686\n",
            "Total reward:  67.62866401672363\n",
            "Total reward:  67.65506839752197\n",
            "Total reward:  67.61298561096191\n"
          ],
          "name": "stdout"
        },
        {
          "output_type": "stream",
          "text": [
            "DEBUG:minerl.env.malmo.instance.2e9d75:[02:06:02] [Client thread/INFO]: [CHAT] §l97...\n"
          ],
          "name": "stderr"
        },
        {
          "output_type": "stream",
          "text": [
            "Total reward:  67.49063682556152\n",
            "Total reward:  67.29979515075684\n",
            "Total reward:  67.04047298431396\n",
            "Total reward:  66.8471736907959\n",
            "Total reward:  67.2706995010376\n",
            "Total reward:  67.60081386566162\n",
            "Total reward:  67.85373497009277\n",
            "Total reward:  68.03146266937256\n",
            "Total reward:  68.1355333328247\n",
            "Total reward:  68.16700172424316\n",
            "Total reward:  68.12647819519043\n",
            "Total reward:  68.01422214508057\n",
            "Total reward:  67.8302698135376\n",
            "Total reward:  67.57457160949707\n",
            "Total reward:  67.24712467193604\n",
            "Total reward:  67.15821552276611\n",
            "Total reward:  67.59996509552002\n",
            "Total reward:  67.94349575042725\n",
            "Total reward:  68.20856285095215\n",
            "Total reward:  68.39640140533447\n",
            "Total reward:  68.50778865814209\n",
            "Total reward:  68.54311084747314\n"
          ],
          "name": "stdout"
        },
        {
          "output_type": "stream",
          "text": [
            "DEBUG:minerl.env.malmo.instance.2e9d75:[02:06:03] [Client thread/INFO]: [CHAT] §l96...\n"
          ],
          "name": "stderr"
        },
        {
          "output_type": "stream",
          "text": [
            "Total reward:  68.50247764587402\n",
            "Total reward:  68.3858699798584\n",
            "Total reward:  68.39248085021973\n",
            "Total reward:  68.43547058105469\n",
            "Total reward:  68.88627910614014\n",
            "Total reward:  69.23670625686646\n",
            "Total reward:  69.50250291824341\n",
            "Total reward:  69.6842474937439\n",
            "Total reward:  69.78244638442993\n",
            "Total reward:  69.79766750335693\n",
            "Total reward:  69.73067092895508\n",
            "Total reward:  69.58250284194946\n",
            "Total reward:  69.5577163696289\n",
            "Total reward:  69.54910659790039\n",
            "Total reward:  69.9509801864624\n",
            "Total reward:  70.26650953292847\n",
            "Total reward:  70.49400091171265\n",
            "Total reward:  70.6432843208313\n",
            "Total reward:  70.72503614425659\n"
          ],
          "name": "stdout"
        },
        {
          "output_type": "stream",
          "text": [
            "DEBUG:minerl.env.malmo.instance.2e9d75:[02:06:04] [Client thread/INFO]: [CHAT] §l95...\n"
          ],
          "name": "stderr"
        },
        {
          "output_type": "stream",
          "text": [
            "Total reward:  70.72800874710083\n",
            "Total reward:  70.6536455154419\n",
            "Total reward:  70.50341129302979\n",
            "Total reward:  70.27867412567139\n",
            "Total reward:  69.98073530197144\n",
            "Total reward:  69.61085987091064\n",
            "Total reward:  69.49077892303467\n",
            "Total reward:  69.9063811302185\n",
            "Total reward:  70.23567867279053\n",
            "Total reward:  70.48063230514526\n",
            "Total reward:  70.64314556121826\n",
            "Total reward:  70.72503614425659\n",
            "Total reward:  70.72800874710083\n",
            "Total reward:  70.6536455154419\n",
            "Total reward:  70.50341129302979\n",
            "Total reward:  70.27883529663086\n",
            "Total reward:  69.98120307922363\n",
            "Total reward:  69.61173963546753\n",
            "Total reward:  69.49258470535278\n"
          ],
          "name": "stdout"
        },
        {
          "output_type": "stream",
          "text": [
            "DEBUG:minerl.env.malmo.instance.2e9d75:[02:06:05] [Client thread/INFO]: [CHAT] §l94...\n"
          ],
          "name": "stderr"
        },
        {
          "output_type": "stream",
          "text": [
            "Total reward:  69.91261577606201\n",
            "Total reward:  70.24537420272827\n",
            "Total reward:  70.49440717697144\n",
            "Total reward:  70.66144371032715\n",
            "Total reward:  70.74802494049072\n",
            "Total reward:  70.75550556182861\n",
            "Total reward:  70.6850848197937\n",
            "Total reward:  70.5378623008728\n",
            "Total reward:  70.31490516662598\n",
            "Total reward:  70.01730155944824\n",
            "Total reward:  69.64620304107666\n",
            "Total reward:  69.52479696273804\n",
            "Total reward:  69.93734550476074\n",
            "Total reward:  70.26202726364136\n",
            "Total reward:  70.49782419204712\n",
            "Total reward:  70.64624404907227\n",
            "Total reward:  70.70905351638794\n",
            "Total reward:  70.68831872940063\n",
            "Total reward:  70.58637285232544\n"
          ],
          "name": "stdout"
        },
        {
          "output_type": "stream",
          "text": [
            "DEBUG:minerl.env.malmo.instance.2e9d75:[02:06:06] [Client thread/INFO]: [CHAT] §l93...\n"
          ],
          "name": "stderr"
        },
        {
          "output_type": "stream",
          "text": [
            "Total reward:  70.40572023391724\n",
            "Total reward:  70.1489109992981\n",
            "Total reward:  69.81841897964478\n",
            "Total reward:  69.4165506362915\n",
            "Total reward:  69.25600242614746\n",
            "Total reward:  69.58850431442261\n",
            "Total reward:  69.8539891242981\n",
            "Total reward:  70.03111028671265\n",
            "Total reward:  70.1241021156311\n",
            "Total reward:  70.17824506759644\n",
            "Total reward:  70.18670988082886\n",
            "Total reward:  70.12431764602661\n",
            "Total reward:  69.99151706695557\n",
            "Total reward:  69.78834581375122\n"
          ],
          "name": "stdout"
        },
        {
          "output_type": "stream",
          "text": [
            "DEBUG:minerl.env.malmo.instance.2e9d75:[02:06:07] [Server thread/INFO]: [STDOUT]: Warning: managed 14/20 ticks this second.\n"
          ],
          "name": "stderr"
        },
        {
          "output_type": "stream",
          "text": [
            "Total reward:  69.51114797592163\n",
            "Total reward:  69.16540575027466\n",
            "Total reward:  69.05363988876343\n",
            "Total reward:  69.24291944503784\n",
            "Total reward:  69.17097616195679\n",
            "Total reward:  69.05755853652954\n"
          ],
          "name": "stdout"
        },
        {
          "output_type": "stream",
          "text": [
            "DEBUG:minerl.env.malmo.instance.2e9d75:[02:06:07] [Client thread/INFO]: [CHAT] §l92...\n"
          ],
          "name": "stderr"
        },
        {
          "output_type": "stream",
          "text": [
            "Total reward:  69.05392551422119\n",
            "Total reward:  69.045006275177\n",
            "Total reward:  68.95730066299438\n",
            "Total reward:  68.8005166053772\n",
            "Total reward:  68.57056903839111\n",
            "Total reward:  68.26858139038086\n",
            "Total reward:  68.03170394897461\n",
            "Total reward:  68.39195919036865\n",
            "Total reward:  68.67662763595581\n",
            "Total reward:  68.87735319137573\n",
            "Total reward:  68.99743223190308\n",
            "Total reward:  68.99587440490723\n",
            "Total reward:  68.89125871658325\n",
            "Total reward:  68.71625089645386\n"
          ],
          "name": "stdout"
        },
        {
          "output_type": "stream",
          "text": [
            "DEBUG:minerl.env.malmo.instance.2e9d75:[02:06:08] [Server thread/INFO]: [STDOUT]: Warning: managed 19/20 ticks this second.\n"
          ],
          "name": "stderr"
        },
        {
          "output_type": "stream",
          "text": [
            "Total reward:  68.472487449646\n",
            "Total reward:  68.16122627258301\n",
            "Total reward:  67.78342628479004\n",
            "Total reward:  67.33983898162842\n",
            "Total reward:  66.83109664916992\n",
            "Total reward:  66.25778865814209\n",
            "Total reward:  65.75603580474854\n",
            "Total reward:  66.10275840759277\n"
          ],
          "name": "stdout"
        },
        {
          "output_type": "stream",
          "text": [
            "DEBUG:minerl.env.malmo.instance.2e9d75:[02:06:08] [Client thread/INFO]: [CHAT] §l91...\n"
          ],
          "name": "stderr"
        },
        {
          "output_type": "stream",
          "text": [
            "Total reward:  66.3802490234375\n",
            "Total reward:  66.57682609558105\n",
            "Total reward:  66.6956729888916\n",
            "Total reward:  66.73972988128662\n",
            "Total reward:  66.71159362792969\n",
            "Total reward:  66.6134557723999\n",
            "Total reward:  66.44707298278809\n",
            "Total reward:  66.21379566192627\n"
          ],
          "name": "stdout"
        },
        {
          "output_type": "stream",
          "text": [
            "DEBUG:minerl.env.malmo.instance.2e9d75:[02:06:09] [Server thread/INFO]: [STDOUT]: Warning: managed 18/20 ticks this second.\n"
          ],
          "name": "stderr"
        },
        {
          "output_type": "stream",
          "text": [
            "Total reward:  65.91461181640625\n",
            "Total reward:  65.55023384094238\n",
            "Total reward:  65.41227722167969\n",
            "Total reward:  65.75752925872803\n",
            "Total reward:  66.03248310089111\n",
            "Total reward:  66.2297945022583\n",
            "Total reward:  66.35268306732178\n",
            "Total reward:  66.40398597717285\n",
            "Total reward:  66.38607215881348\n",
            "Total reward:  66.30079650878906\n",
            "Total reward:  66.14950656890869\n",
            "Total reward:  65.93442058563232\n",
            "Total reward:  65.65452671051025\n"
          ],
          "name": "stdout"
        },
        {
          "output_type": "stream",
          "text": [
            "DEBUG:minerl.env.malmo.instance.2e9d75:[02:06:09] [Client thread/INFO]: [CHAT] §l90...\n"
          ],
          "name": "stderr"
        },
        {
          "output_type": "stream",
          "text": [
            "Total reward:  65.31006717681885\n",
            "Total reward:  65.18659400939941\n",
            "Total reward:  65.54200839996338\n",
            "Total reward:  65.82235527038574\n",
            "Total reward:  66.02712535858154\n",
            "Total reward:  66.1593885421753\n",
            "Total reward:  66.22175979614258\n",
            "Total reward:  66.21632862091064\n",
            "Total reward:  66.14462947845459\n",
            "Total reward:  66.00767421722412\n",
            "Total reward:  65.80600929260254\n",
            "Total reward:  65.53982543945312\n",
            "Total reward:  65.21373748779297\n",
            "Total reward:  65.15070724487305\n",
            "Total reward:  65.58615303039551\n",
            "Total reward:  65.91939640045166\n",
            "Total reward:  66.17677688598633\n",
            "Total reward:  66.36040687561035\n"
          ],
          "name": "stdout"
        },
        {
          "output_type": "stream",
          "text": [
            "DEBUG:minerl.env.malmo.instance.2e9d75:[02:06:10] [Client thread/INFO]: [CHAT] §l89...\n"
          ],
          "name": "stderr"
        },
        {
          "output_type": "stream",
          "text": [
            "Total reward:  66.47190761566162\n",
            "Total reward:  66.51240253448486\n",
            "Total reward:  66.48255348205566\n",
            "Total reward:  66.3826379776001\n",
            "Total reward:  66.39301872253418\n",
            "Total reward:  66.43643379211426\n",
            "Total reward:  66.84641933441162\n",
            "Total reward:  67.16205596923828\n",
            "Total reward:  67.40149974822998\n",
            "Total reward:  67.56704425811768\n",
            "Total reward:  67.66051578521729\n",
            "Total reward:  67.68323516845703\n",
            "Total reward:  67.63487529754639\n",
            "Total reward:  67.4947681427002\n",
            "Total reward:  67.28928565979004\n",
            "Total reward:  67.01877117156982\n",
            "Total reward:  66.68578815460205\n"
          ],
          "name": "stdout"
        },
        {
          "output_type": "stream",
          "text": [
            "DEBUG:minerl.env.malmo.instance.2e9d75:[02:06:11] [Client thread/INFO]: [CHAT] §l88...\n"
          ],
          "name": "stderr"
        },
        {
          "output_type": "stream",
          "text": [
            "Total reward:  66.29027462005615\n",
            "Total reward:  65.830641746521\n",
            "Total reward:  65.30619144439697\n",
            "Total reward:  64.78135776519775\n",
            "Total reward:  65.20510578155518\n",
            "Total reward:  65.5360746383667\n",
            "Total reward:  65.78908061981201\n",
            "Total reward:  65.96575260162354\n",
            "Total reward:  66.06737804412842\n",
            "Total reward:  66.09492588043213\n",
            "Total reward:  66.04908847808838\n",
            "Total reward:  65.93035125732422\n",
            "Total reward:  65.73907852172852\n",
            "Total reward:  65.4755973815918\n",
            "Total reward:  65.14028072357178\n",
            "Total reward:  65.04298686981201\n",
            "Total reward:  65.47176837921143\n",
            "Total reward:  65.8051929473877\n",
            "Total reward:  66.0566234588623\n",
            "Total reward:  66.22764873504639\n",
            "Total reward:  66.31969451904297\n",
            "Total reward:  66.33404350280762\n",
            "Total reward:  66.2718563079834\n",
            "Total reward:  66.13420677185059\n",
            "Total reward:  65.92212009429932\n"
          ],
          "name": "stdout"
        },
        {
          "output_type": "stream",
          "text": [
            "DEBUG:minerl.env.malmo.instance.2e9d75:[02:06:12] [Client thread/INFO]: [CHAT] §l87...\n"
          ],
          "name": "stderr"
        },
        {
          "output_type": "stream",
          "text": [
            "Total reward:  65.63661193847656\n",
            "Total reward:  65.27871513366699\n",
            "Total reward:  64.84950733184814\n",
            "Total reward:  64.35011386871338\n",
            "Total reward:  64.18983459472656\n",
            "Total reward:  64.59469032287598\n",
            "Total reward:  64.92743015289307\n",
            "Total reward:  65.1826229095459\n",
            "Total reward:  65.35597229003906\n",
            "Total reward:  65.44871234893799\n",
            "Total reward:  65.4619951248169\n",
            "Total reward:  65.39692401885986\n",
            "Total reward:  65.25458908081055\n",
            "Total reward:  65.03610706329346\n",
            "Total reward:  64.74282741546631\n",
            "Total reward:  64.37598133087158\n",
            "Total reward:  63.936842918395996\n"
          ],
          "name": "stdout"
        },
        {
          "output_type": "stream",
          "text": [
            "DEBUG:minerl.env.malmo.instance.2e9d75:[02:06:13] [Client thread/INFO]: [CHAT] §l86...\n",
            "DEBUG:minerl.env.malmo.instance.2e9d75:[02:06:13] [Server thread/INFO]: [STDOUT]: Warning: managed 18/20 ticks this second.\n"
          ],
          "name": "stderr"
        },
        {
          "output_type": "stream",
          "text": [
            "Total reward:  63.42674541473389\n",
            "Total reward:  63.258766174316406\n",
            "Total reward:  63.65524482727051\n",
            "Total reward:  63.96911907196045\n",
            "Total reward:  64.19780445098877\n",
            "Total reward:  64.34336280822754\n",
            "Total reward:  64.40783405303955\n",
            "Total reward:  64.39321899414062\n",
            "Total reward:  64.30145072937012\n",
            "Total reward:  64.13437938690186\n",
            "Total reward:  63.89375686645508\n",
            "Total reward:  63.58123016357422\n",
            "Total reward:  63.198341369628906\n",
            "Total reward:  62.746538162231445\n",
            "Total reward:  62.227179527282715\n",
            "Total reward:  61.64155197143555\n",
            "Total reward:  61.05813503265381\n",
            "Total reward:  61.43819618225098\n",
            "Total reward:  61.74209022521973\n"
          ],
          "name": "stdout"
        },
        {
          "output_type": "stream",
          "text": [
            "DEBUG:minerl.env.malmo.instance.2e9d75:[02:06:14] [Server thread/INFO]: [STDOUT]: Warning: managed 17/20 ticks this second.\n"
          ],
          "name": "stderr"
        },
        {
          "output_type": "stream",
          "text": [
            "Total reward:  61.96254634857178\n",
            "Total reward:  62.1017951965332\n",
            "Total reward:  62.161980628967285\n"
          ],
          "name": "stdout"
        },
        {
          "output_type": "stream",
          "text": [
            "DEBUG:minerl.env.malmo.instance.2e9d75:[02:06:14] [Client thread/INFO]: [CHAT] §l85...\n"
          ],
          "name": "stderr"
        },
        {
          "output_type": "stream",
          "text": [
            "Total reward:  62.145127296447754\n",
            "Total reward:  62.05312919616699\n",
            "Total reward:  61.887733459472656\n",
            "Total reward:  61.65054130554199\n",
            "Total reward:  61.34301471710205\n",
            "Total reward:  60.96648979187012\n",
            "Total reward:  60.52219581604004\n",
            "Total reward:  60.01127815246582\n",
            "Total reward:  59.837379455566406\n",
            "Total reward:  60.22024726867676\n",
            "Total reward:  60.52568054199219\n"
          ],
          "name": "stdout"
        },
        {
          "output_type": "stream",
          "text": [
            "DEBUG:minerl.env.malmo.instance.2e9d75:[02:06:15] [Server thread/INFO]: [STDOUT]: Warning: managed 15/20 ticks this second.\n"
          ],
          "name": "stderr"
        },
        {
          "output_type": "stream",
          "text": [
            "Total reward:  60.74923038482666\n",
            "Total reward:  60.8930606842041\n",
            "Total reward:  60.959083557128906\n",
            "Total reward:  60.94931507110596\n",
            "Total reward:  60.86547660827637\n",
            "Total reward:  60.70912837982178\n",
            "Total reward:  60.4816780090332\n",
            "Total reward:  60.184391021728516\n"
          ],
          "name": "stdout"
        },
        {
          "output_type": "stream",
          "text": [
            "DEBUG:minerl.env.malmo.instance.2e9d75:[02:06:15] [Client thread/INFO]: [CHAT] §l84...\n"
          ],
          "name": "stderr"
        },
        {
          "output_type": "stream",
          "text": [
            "Total reward:  59.81842231750488\n",
            "Total reward:  59.6920108795166\n",
            "Total reward:  60.08203125\n",
            "Total reward:  60.39149475097656\n",
            "Total reward:  60.62007427215576\n",
            "Total reward:  60.76985740661621\n",
            "Total reward:  60.79660224914551\n",
            "Total reward:  60.717984199523926\n",
            "Total reward:  60.59884738922119\n",
            "Total reward:  60.59938907623291\n",
            "Total reward:  60.60458564758301\n",
            "Total reward:  60.612563133239746\n"
          ],
          "name": "stdout"
        },
        {
          "output_type": "stream",
          "text": [
            "DEBUG:minerl.env.malmo.instance.2e9d75:[02:06:16] [Server thread/INFO]: [STDOUT]: Warning: managed 18/20 ticks this second.\n"
          ],
          "name": "stderr"
        },
        {
          "output_type": "stream",
          "text": [
            "Total reward:  60.7903528213501\n",
            "Total reward:  60.697869300842285\n",
            "Total reward:  60.5645170211792\n",
            "Total reward:  60.537940979003906\n",
            "Total reward:  60.515329360961914\n",
            "Total reward:  60.495933532714844\n",
            "Total reward:  60.479352951049805\n",
            "Total reward:  60.465375900268555\n",
            "Total reward:  60.45388221740723\n"
          ],
          "name": "stdout"
        },
        {
          "output_type": "stream",
          "text": [
            "DEBUG:minerl.env.malmo.instance.2e9d75:[02:06:16] [Client thread/INFO]: [CHAT] §l83...\n"
          ],
          "name": "stderr"
        },
        {
          "output_type": "stream",
          "text": [
            "Total reward:  60.44479179382324\n",
            "Total reward:  60.62395095825195\n",
            "Total reward:  60.547237396240234\n",
            "Total reward:  60.430715560913086\n",
            "Total reward:  60.428659439086914\n",
            "Total reward:  60.42953872680664\n",
            "Total reward:  60.43238830566406\n",
            "Total reward:  60.437604904174805\n",
            "Total reward:  60.44487190246582\n",
            "Total reward:  60.453975677490234\n",
            "Total reward:  60.464752197265625\n",
            "Total reward:  60.663434982299805\n",
            "Total reward:  60.59857654571533\n",
            "Total reward:  60.49403381347656\n",
            "Total reward:  60.51022911071777\n",
            "Total reward:  60.52764129638672\n",
            "Total reward:  60.546125411987305\n",
            "Total reward:  60.565558433532715\n",
            "Total reward:  60.58582592010498\n",
            "Total reward:  60.60682201385498\n"
          ],
          "name": "stdout"
        },
        {
          "output_type": "stream",
          "text": [
            "DEBUG:minerl.env.malmo.instance.2e9d75:[02:06:17] [Client thread/INFO]: [CHAT] §l82...\n"
          ],
          "name": "stderr"
        },
        {
          "output_type": "stream",
          "text": [
            "Total reward:  60.62844657897949\n",
            "Total reward:  60.83901786804199\n",
            "Total reward:  60.77935218811035\n",
            "Total reward:  60.67947769165039\n",
            "Total reward:  60.70379638671875\n",
            "Total reward:  60.72787094116211\n",
            "Total reward:  60.751797676086426\n",
            "Total reward:  60.77558898925781\n",
            "Total reward:  60.799217224121094\n",
            "Total reward:  60.822630882263184\n",
            "Total reward:  60.84576606750488\n",
            "Total reward:  61.059630393981934\n",
            "Total reward:  60.999064445495605\n",
            "Total reward:  60.89746284484863\n",
            "Total reward:  60.9205379486084\n",
            "Total reward:  60.94246006011963\n",
            "Total reward:  60.9634485244751\n",
            "Total reward:  60.983595848083496\n",
            "Total reward:  60.92732906341553\n"
          ],
          "name": "stdout"
        },
        {
          "output_type": "stream",
          "text": [
            "DEBUG:minerl.env.malmo.instance.2e9d75:[02:06:18] [Client thread/INFO]: [CHAT] §l81...\n"
          ],
          "name": "stderr"
        },
        {
          "output_type": "stream",
          "text": [
            "Total reward:  60.78925132751465\n",
            "Total reward:  60.578253746032715\n",
            "Total reward:  60.2869930267334\n",
            "Total reward:  60.06255340576172\n",
            "Total reward:  60.469552993774414\n",
            "Total reward:  60.791954040527344\n",
            "Total reward:  61.03336811065674\n",
            "Total reward:  61.19557189941406\n",
            "Total reward:  61.23268795013428\n",
            "Total reward:  61.1624698638916\n",
            "Total reward:  61.05134391784668\n",
            "Total reward:  61.06438446044922\n",
            "Total reward:  61.07821273803711\n",
            "Total reward:  61.09201526641846\n",
            "Total reward:  61.299394607543945\n",
            "Total reward:  61.23149871826172\n",
            "Total reward:  61.12160110473633\n",
            "Total reward:  61.13382625579834\n",
            "Total reward:  61.14477729797363\n",
            "Total reward:  61.15461254119873\n",
            "Total reward:  61.16341495513916\n"
          ],
          "name": "stdout"
        },
        {
          "output_type": "stream",
          "text": [
            "DEBUG:minerl.env.malmo.instance.2e9d75:[02:06:19] [Client thread/INFO]: [CHAT] §l80...\n"
          ],
          "name": "stderr"
        },
        {
          "output_type": "stream",
          "text": [
            "Total reward:  61.171231269836426\n",
            "Total reward:  61.1780891418457\n",
            "Total reward:  61.18401527404785\n",
            "Total reward:  61.384135246276855\n",
            "Total reward:  61.310439109802246\n",
            "Total reward:  61.19429683685303\n",
            "Total reward:  61.19747257232666\n",
            "Total reward:  61.199673652648926\n",
            "Total reward:  61.201040267944336\n",
            "Total reward:  61.201663970947266\n",
            "Total reward:  61.20161247253418\n",
            "Total reward:  61.200944900512695\n",
            "Total reward:  61.199713706970215\n",
            "Total reward:  61.62730884552002\n",
            "Total reward:  61.965577125549316\n",
            "Total reward:  62.22303867340088\n",
            "Total reward:  62.401000022888184\n",
            "Total reward:  62.50060558319092\n",
            "Total reward:  62.522857666015625\n",
            "Total reward:  62.46865940093994\n"
          ],
          "name": "stdout"
        },
        {
          "output_type": "stream",
          "text": [
            "DEBUG:minerl.env.malmo.instance.2e9d75:[02:06:20] [Client thread/INFO]: [CHAT] §l79...\n"
          ],
          "name": "stderr"
        },
        {
          "output_type": "stream",
          "text": [
            "Total reward:  62.338852882385254\n",
            "Total reward:  62.134260177612305\n",
            "Total reward:  61.84696674346924\n",
            "Total reward:  61.474388122558594\n",
            "Total reward:  61.35074806213379\n",
            "Total reward:  61.75930881500244\n",
            "Total reward:  62.08388423919678\n",
            "Total reward:  62.32744026184082\n",
            "Total reward:  62.49163055419922\n",
            "Total reward:  62.577903747558594\n",
            "Total reward:  62.5875244140625\n",
            "Total reward:  62.52160167694092\n",
            "Total reward:  62.381131172180176\n",
            "Total reward:  62.367573738098145\n",
            "Total reward:  62.38782501220703\n",
            "Total reward:  62.823330879211426\n"
          ],
          "name": "stdout"
        },
        {
          "output_type": "stream",
          "text": [
            "DEBUG:minerl.env.malmo.instance.2e9d75:[02:06:21] [Server thread/INFO]: [STDOUT]: Warning: managed 18/20 ticks this second.\n"
          ],
          "name": "stderr"
        },
        {
          "output_type": "stream",
          "text": [
            "Total reward:  63.16490936279297\n",
            "Total reward:  63.42234230041504\n",
            "Total reward:  63.59691619873047\n",
            "Total reward:  63.68986415863037\n",
            "Total reward:  63.70239448547363\n"
          ],
          "name": "stdout"
        },
        {
          "output_type": "stream",
          "text": [
            "DEBUG:minerl.env.malmo.instance.2e9d75:[02:06:21] [Client thread/INFO]: [CHAT] §l78...\n"
          ],
          "name": "stderr"
        },
        {
          "output_type": "stream",
          "text": [
            "Total reward:  63.63598155975342\n",
            "Total reward:  63.491291999816895\n",
            "Total reward:  63.47148609161377\n",
            "Total reward:  63.47614574432373\n",
            "Total reward:  63.89507484436035\n",
            "Total reward:  64.2250804901123\n",
            "Total reward:  64.46889019012451\n",
            "Total reward:  64.62807273864746\n",
            "Total reward:  64.70423126220703\n",
            "Total reward:  64.69900798797607\n",
            "Total reward:  64.61408710479736\n",
            "Total reward:  64.45118618011475\n"
          ],
          "name": "stdout"
        },
        {
          "output_type": "stream",
          "text": [
            "DEBUG:minerl.env.malmo.instance.2e9d75:[02:06:22] [Server thread/INFO]: [STDOUT]: Warning: managed 19/20 ticks this second.\n"
          ],
          "name": "stderr"
        },
        {
          "output_type": "stream",
          "text": [
            "Total reward:  64.41288089752197\n",
            "Total reward:  64.39216613769531\n",
            "Total reward:  64.78531837463379\n",
            "Total reward:  65.09759140014648\n",
            "Total reward:  65.32351398468018\n",
            "Total reward:  65.46517562866211\n"
          ],
          "name": "stdout"
        },
        {
          "output_type": "stream",
          "text": [
            "DEBUG:minerl.env.malmo.instance.2e9d75:[02:06:22] [Client thread/INFO]: [CHAT] §l77...\n"
          ],
          "name": "stderr"
        },
        {
          "output_type": "stream",
          "text": [
            "Total reward:  65.52470397949219\n",
            "Total reward:  65.50423049926758\n",
            "Total reward:  65.40585899353027\n",
            "Total reward:  65.23162746429443\n",
            "Total reward:  65.18006610870361\n",
            "Total reward:  65.1435432434082\n",
            "Total reward:  65.5149097442627\n"
          ],
          "name": "stdout"
        },
        {
          "output_type": "stream",
          "text": [
            "DEBUG:minerl.env.malmo.instance.2e9d75:[02:06:23] [Server thread/INFO]: [STDOUT]: Warning: managed 14/20 ticks this second.\n"
          ],
          "name": "stderr"
        },
        {
          "output_type": "stream",
          "text": [
            "Total reward:  65.8111457824707\n",
            "Total reward:  66.0227746963501\n",
            "Total reward:  66.15238952636719\n",
            "Total reward:  66.20252990722656\n",
            "Total reward:  66.17561626434326\n",
            "Total reward:  66.07389450073242\n",
            "Total reward:  65.8993968963623\n",
            "Total reward:  65.66228866577148\n",
            "Total reward:  65.37644577026367\n",
            "Total reward:  65.02385902404785\n",
            "Total reward:  64.91167831420898\n",
            "Total reward:  65.3226318359375\n",
            "Total reward:  65.64711856842041\n",
            "Total reward:  65.89344215393066\n"
          ],
          "name": "stdout"
        },
        {
          "output_type": "stream",
          "text": [
            "DEBUG:minerl.env.malmo.instance.2e9d75:[02:06:24] [Client thread/INFO]: [CHAT] §l76...\n"
          ],
          "name": "stderr"
        },
        {
          "output_type": "stream",
          "text": [
            "Total reward:  66.06368637084961\n",
            "Total reward:  66.15956401824951\n",
            "Total reward:  66.18239784240723\n"
          ],
          "name": "stdout"
        },
        {
          "output_type": "stream",
          "text": [
            "DEBUG:minerl.env.malmo.instance.2e9d75:[02:06:24] [Server thread/INFO]: [STDOUT]: Warning: managed 14/20 ticks this second.\n"
          ],
          "name": "stderr"
        },
        {
          "output_type": "stream",
          "text": [
            "Total reward:  66.13314247131348\n",
            "Total reward:  66.0124397277832\n",
            "Total reward:  65.82069683074951\n",
            "Total reward:  65.55818462371826\n",
            "Total reward:  65.2251329421997\n",
            "Total reward:  65.13357925415039\n",
            "Total reward:  65.57795810699463\n",
            "Total reward:  65.92381477355957\n",
            "Total reward:  66.18703365325928\n",
            "Total reward:  66.36899948120117\n",
            "Total reward:  66.47091102600098\n",
            "Total reward:  66.49382019042969\n",
            "Total reward:  66.4386854171753\n",
            "Total reward:  66.30643081665039\n",
            "Total reward:  66.29612827301025\n"
          ],
          "name": "stdout"
        },
        {
          "output_type": "stream",
          "text": [
            "DEBUG:minerl.env.malmo.instance.2e9d75:[02:06:25] [Server thread/INFO]: [STDOUT]: Warning: managed 17/20 ticks this second.\n",
            "DEBUG:minerl.env.malmo.instance.2e9d75:[02:06:25] [Client thread/INFO]: [CHAT] §l75...\n"
          ],
          "name": "stderr"
        },
        {
          "output_type": "stream",
          "text": [
            "Total reward:  66.2862434387207\n",
            "Total reward:  66.6824951171875\n",
            "Total reward:  66.99746131896973\n",
            "Total reward:  67.23166179656982\n",
            "Total reward:  67.38728141784668\n",
            "Total reward:  67.46617794036865\n",
            "Total reward:  67.4698715209961\n",
            "Total reward:  67.39957237243652\n",
            "Total reward:  67.25622749328613\n",
            "Total reward:  67.2369613647461\n",
            "Total reward:  67.24921226501465\n",
            "Total reward:  67.66824054718018\n",
            "Total reward:  67.9959077835083\n",
            "Total reward:  68.23969554901123\n",
            "Total reward:  68.40204620361328\n",
            "Total reward:  68.4844799041748\n",
            "Total reward:  68.4883975982666\n",
            "Total reward:  68.4151029586792\n",
            "Total reward:  68.26583194732666\n",
            "Total reward:  68.04179000854492\n"
          ],
          "name": "stdout"
        },
        {
          "output_type": "stream",
          "text": [
            "DEBUG:minerl.env.malmo.instance.2e9d75:[02:06:26] [Server thread/INFO]: [STDOUT]: Warning: managed 18/20 ticks this second.\n",
            "DEBUG:minerl.env.malmo.instance.2e9d75:[02:06:26] [Client thread/INFO]: [CHAT] §l74...\n"
          ],
          "name": "stderr"
        },
        {
          "output_type": "stream",
          "text": [
            "Total reward:  67.74417877197266\n",
            "Total reward:  67.3742208480835\n",
            "Total reward:  67.2461404800415\n",
            "Total reward:  67.6366195678711\n",
            "Total reward:  67.9444580078125\n",
            "Total reward:  68.16718864440918\n",
            "Total reward:  68.30715656280518\n",
            "Total reward:  68.36669254302979\n",
            "Total reward:  68.34806060791016\n",
            "Total reward:  68.25339412689209\n",
            "Total reward:  68.08465003967285\n",
            "Total reward:  67.83028316497803\n",
            "Total reward:  67.50359535217285\n",
            "Total reward:  67.10975170135498\n",
            "Total reward:  66.95401859283447\n",
            "Total reward:  67.29320907592773\n",
            "Total reward:  67.56759548187256\n",
            "Total reward:  67.76090049743652\n",
            "Total reward:  67.8768835067749\n",
            "Total reward:  67.91903591156006\n",
            "Total reward:  67.89041233062744\n",
            "Total reward:  67.79351615905762\n"
          ],
          "name": "stdout"
        },
        {
          "output_type": "stream",
          "text": [
            "DEBUG:minerl.env.malmo.instance.2e9d75:[02:06:27] [Client thread/INFO]: [CHAT] §l73...\n"
          ],
          "name": "stderr"
        },
        {
          "output_type": "stream",
          "text": [
            "Total reward:  67.63025379180908\n",
            "Total reward:  67.58356094360352\n",
            "Total reward:  67.56239795684814\n",
            "Total reward:  67.73126888275146\n",
            "Total reward:  67.65831851959229\n",
            "Total reward:  67.54854583740234\n",
            "Total reward:  67.55454635620117\n",
            "Total reward:  67.56694221496582\n",
            "Total reward:  67.58404636383057\n",
            "Total reward:  67.60483837127686\n",
            "Total reward:  67.62866401672363\n",
            "Total reward:  67.65506839752197\n",
            "Total reward:  67.61298561096191\n",
            "Total reward:  67.49063682556152\n",
            "Total reward:  67.29979515075684\n",
            "Total reward:  67.04047298431396\n",
            "Total reward:  66.8471736907959\n"
          ],
          "name": "stdout"
        },
        {
          "output_type": "stream",
          "text": [
            "DEBUG:minerl.env.malmo.instance.2e9d75:[02:06:28] [Client thread/INFO]: [CHAT] §l72...\n"
          ],
          "name": "stderr"
        },
        {
          "output_type": "stream",
          "text": [
            "Total reward:  67.2706995010376\n",
            "Total reward:  67.60081386566162\n",
            "Total reward:  67.85373497009277\n",
            "Total reward:  68.03146266937256\n",
            "Total reward:  68.1355333328247\n",
            "Total reward:  68.16700172424316\n",
            "Total reward:  68.12647819519043\n",
            "Total reward:  68.01422214508057\n",
            "Total reward:  67.8302698135376\n",
            "Total reward:  67.57457160949707\n",
            "Total reward:  67.24712467193604\n",
            "Total reward:  67.15821552276611\n",
            "Total reward:  67.59996509552002\n",
            "Total reward:  67.94349575042725\n",
            "Total reward:  68.20856285095215\n",
            "Total reward:  68.39640140533447\n",
            "Total reward:  68.50778865814209\n",
            "Total reward:  68.54311084747314\n",
            "Total reward:  68.50247764587402\n",
            "Total reward:  68.3858699798584\n",
            "Total reward:  68.39248085021973\n",
            "Total reward:  68.43547058105469\n",
            "Total reward:  68.88627910614014\n"
          ],
          "name": "stdout"
        },
        {
          "output_type": "stream",
          "text": [
            "DEBUG:minerl.env.malmo.instance.2e9d75:[02:06:29] [Client thread/INFO]: [CHAT] §l71...\n"
          ],
          "name": "stderr"
        },
        {
          "output_type": "stream",
          "text": [
            "Total reward:  69.23670625686646\n",
            "Total reward:  69.50250291824341\n",
            "Total reward:  69.6842474937439\n",
            "Total reward:  69.78244638442993\n",
            "Total reward:  69.79766750335693\n",
            "Total reward:  69.73067092895508\n",
            "Total reward:  69.58250284194946\n",
            "Total reward:  69.5577163696289\n",
            "Total reward:  69.54910659790039\n",
            "Total reward:  69.9509801864624\n",
            "Total reward:  70.26650953292847\n",
            "Total reward:  70.49400091171265\n",
            "Total reward:  70.6432843208313\n",
            "Total reward:  70.72503614425659\n",
            "Total reward:  70.72800874710083\n",
            "Total reward:  70.6536455154419\n",
            "Total reward:  70.50341129302979\n",
            "Total reward:  70.27867412567139\n",
            "Total reward:  69.98073530197144\n",
            "Total reward:  69.61085987091064\n"
          ],
          "name": "stdout"
        },
        {
          "output_type": "stream",
          "text": [
            "DEBUG:minerl.env.malmo.instance.2e9d75:[02:06:29] [Client thread/INFO]: [CHAT] §l70...\n"
          ],
          "name": "stderr"
        },
        {
          "output_type": "stream",
          "text": [
            "Total reward:  69.49077892303467\n",
            "Total reward:  69.9063811302185\n",
            "Total reward:  70.23567867279053\n",
            "Total reward:  70.48063230514526\n",
            "Total reward:  70.64314556121826\n",
            "Total reward:  70.72503614425659\n",
            "Total reward:  70.72800874710083\n",
            "Total reward:  70.6536455154419\n",
            "Total reward:  70.50341129302979\n",
            "Total reward:  70.27883529663086\n",
            "Total reward:  69.98120307922363\n",
            "Total reward:  69.61173963546753\n",
            "Total reward:  69.49258470535278\n",
            "Total reward:  69.91261577606201\n",
            "Total reward:  70.24537420272827\n",
            "Total reward:  70.49440717697144\n",
            "Total reward:  70.66144371032715\n",
            "Total reward:  70.74802494049072\n",
            "Total reward:  70.75550556182861\n"
          ],
          "name": "stdout"
        },
        {
          "output_type": "stream",
          "text": [
            "DEBUG:minerl.env.malmo.instance.2e9d75:[02:06:30] [Client thread/INFO]: [CHAT] §l69...\n"
          ],
          "name": "stderr"
        },
        {
          "output_type": "stream",
          "text": [
            "Total reward:  70.6850848197937\n",
            "Total reward:  70.5378623008728\n",
            "Total reward:  70.31490516662598\n",
            "Total reward:  70.01730155944824\n",
            "Total reward:  69.64620304107666\n",
            "Total reward:  69.52479696273804\n",
            "Total reward:  69.93734550476074\n",
            "Total reward:  70.26202726364136\n",
            "Total reward:  70.49782419204712\n",
            "Total reward:  70.64624404907227\n",
            "Total reward:  70.70905351638794\n",
            "Total reward:  70.68831872940063\n",
            "Total reward:  70.58637285232544\n",
            "Total reward:  70.40572023391724\n",
            "Total reward:  70.1489109992981\n",
            "Total reward:  69.81841897964478\n",
            "Total reward:  69.4165506362915\n"
          ],
          "name": "stdout"
        },
        {
          "output_type": "stream",
          "text": [
            "DEBUG:minerl.env.malmo.instance.2e9d75:[02:06:31] [Server thread/INFO]: [STDOUT]: Warning: managed 19/20 ticks this second.\n"
          ],
          "name": "stderr"
        },
        {
          "output_type": "stream",
          "text": [
            "Total reward:  69.25600242614746\n",
            "Total reward:  69.58850431442261\n",
            "Total reward:  69.8539891242981\n"
          ],
          "name": "stdout"
        },
        {
          "output_type": "stream",
          "text": [
            "DEBUG:minerl.env.malmo.instance.2e9d75:[02:06:32] [Client thread/INFO]: [CHAT] §l68...\n"
          ],
          "name": "stderr"
        },
        {
          "output_type": "stream",
          "text": [
            "Total reward:  70.03111028671265\n",
            "Total reward:  70.1241021156311\n",
            "Total reward:  70.17824506759644\n",
            "Total reward:  70.18670988082886\n",
            "Total reward:  70.12431764602661\n",
            "Total reward:  69.99151706695557\n",
            "Total reward:  69.78834581375122\n",
            "Total reward:  69.51114797592163\n",
            "Total reward:  69.16540575027466\n",
            "Total reward:  69.05363988876343\n",
            "Total reward:  69.24291944503784\n",
            "Total reward:  69.17097616195679\n"
          ],
          "name": "stdout"
        },
        {
          "output_type": "stream",
          "text": [
            "DEBUG:minerl.env.malmo.instance.2e9d75:[02:06:32] [Server thread/INFO]: [STDOUT]: Warning: managed 17/20 ticks this second.\n"
          ],
          "name": "stderr"
        },
        {
          "output_type": "stream",
          "text": [
            "Total reward:  69.05755853652954\n",
            "Total reward:  69.05392551422119\n",
            "Total reward:  69.045006275177\n",
            "Total reward:  68.95730066299438\n",
            "Total reward:  68.8005166053772\n",
            "Total reward:  68.57056903839111\n",
            "Total reward:  68.26858139038086\n",
            "Total reward:  68.03170394897461\n",
            "Total reward:  68.39195919036865\n",
            "Total reward:  68.67662763595581\n"
          ],
          "name": "stdout"
        },
        {
          "output_type": "stream",
          "text": [
            "DEBUG:minerl.env.malmo.instance.2e9d75:[02:06:33] [Client thread/INFO]: [CHAT] §l67...\n"
          ],
          "name": "stderr"
        },
        {
          "output_type": "stream",
          "text": [
            "Total reward:  68.87735319137573\n",
            "Total reward:  68.99743223190308\n",
            "Total reward:  68.99587440490723\n",
            "Total reward:  68.89125871658325\n",
            "Total reward:  68.71625089645386\n",
            "Total reward:  68.472487449646\n",
            "Total reward:  68.16122627258301\n",
            "Total reward:  67.78342628479004\n"
          ],
          "name": "stdout"
        },
        {
          "output_type": "stream",
          "text": [
            "DEBUG:minerl.env.malmo.instance.2e9d75:[02:06:33] [Server thread/INFO]: [STDOUT]: Warning: managed 17/20 ticks this second.\n"
          ],
          "name": "stderr"
        },
        {
          "output_type": "stream",
          "text": [
            "Total reward:  67.33983898162842\n",
            "Total reward:  66.83109664916992\n",
            "Total reward:  66.25778865814209\n",
            "Total reward:  65.75603580474854\n",
            "Total reward:  66.10275840759277\n",
            "Total reward:  66.3802490234375\n",
            "Total reward:  66.57682609558105\n",
            "Total reward:  66.6956729888916\n"
          ],
          "name": "stdout"
        },
        {
          "output_type": "stream",
          "text": [
            "DEBUG:minerl.env.malmo.instance.2e9d75:[02:06:34] [Client thread/INFO]: [CHAT] §l66...\n"
          ],
          "name": "stderr"
        },
        {
          "output_type": "stream",
          "text": [
            "Total reward:  66.73972988128662\n",
            "Total reward:  66.71159362792969\n",
            "Total reward:  66.6134557723999\n",
            "Total reward:  66.44707298278809\n",
            "Total reward:  66.21379566192627\n",
            "Total reward:  65.91461181640625\n",
            "Total reward:  65.55023384094238\n",
            "Total reward:  65.41227722167969\n",
            "Total reward:  65.75752925872803\n",
            "Total reward:  66.03248310089111\n",
            "Total reward:  66.2297945022583\n",
            "Total reward:  66.35268306732178\n",
            "Total reward:  66.40398597717285\n",
            "Total reward:  66.38607215881348\n",
            "Total reward:  66.30079650878906\n",
            "Total reward:  66.14950656890869\n",
            "Total reward:  65.93442058563232\n",
            "Total reward:  65.65452671051025\n",
            "Total reward:  65.31006717681885\n",
            "Total reward:  65.18659400939941\n",
            "Total reward:  65.54200839996338\n",
            "Total reward:  65.82235527038574\n"
          ],
          "name": "stdout"
        },
        {
          "output_type": "stream",
          "text": [
            "DEBUG:minerl.env.malmo.instance.2e9d75:[02:06:35] [Client thread/INFO]: [CHAT] §l65...\n"
          ],
          "name": "stderr"
        },
        {
          "output_type": "stream",
          "text": [
            "Total reward:  66.02712535858154\n",
            "Total reward:  66.1593885421753\n",
            "Total reward:  66.22175979614258\n",
            "Total reward:  66.21632862091064\n",
            "Total reward:  66.14462947845459\n",
            "Total reward:  66.00767421722412\n",
            "Total reward:  65.80600929260254\n",
            "Total reward:  65.53982543945312\n",
            "Total reward:  65.21373748779297\n",
            "Total reward:  65.15070724487305\n",
            "Total reward:  65.58615303039551\n",
            "Total reward:  65.91939640045166\n",
            "Total reward:  66.17677688598633\n",
            "Total reward:  66.36040687561035\n",
            "Total reward:  66.47190761566162\n",
            "Total reward:  66.51240253448486\n",
            "Total reward:  66.48255348205566\n",
            "Total reward:  66.3826379776001\n",
            "Total reward:  66.39301872253418\n",
            "Total reward:  66.43643379211426\n"
          ],
          "name": "stdout"
        },
        {
          "output_type": "stream",
          "text": [
            "DEBUG:minerl.env.malmo.instance.2e9d75:[02:06:35] [Client thread/INFO]: [CHAT] §l64...\n"
          ],
          "name": "stderr"
        },
        {
          "output_type": "stream",
          "text": [
            "Total reward:  66.84641933441162\n",
            "Total reward:  67.16205596923828\n",
            "Total reward:  67.40149974822998\n",
            "Total reward:  67.56704425811768\n",
            "Total reward:  67.66051578521729\n",
            "Total reward:  67.68323516845703\n",
            "Total reward:  67.63487529754639\n",
            "Total reward:  67.4947681427002\n",
            "Total reward:  67.28928565979004\n",
            "Total reward:  67.01877117156982\n",
            "Total reward:  66.68578815460205\n",
            "Total reward:  66.29027462005615\n",
            "Total reward:  65.830641746521\n",
            "Total reward:  65.30619144439697\n",
            "Total reward:  64.78135776519775\n",
            "Total reward:  65.20510578155518\n",
            "Total reward:  65.5360746383667\n",
            "Total reward:  65.78908061981201\n",
            "Total reward:  65.96575260162354\n",
            "Total reward:  66.06737804412842\n"
          ],
          "name": "stdout"
        },
        {
          "output_type": "stream",
          "text": [
            "DEBUG:minerl.env.malmo.instance.2e9d75:[02:06:36] [Client thread/INFO]: [CHAT] §l63...\n"
          ],
          "name": "stderr"
        },
        {
          "output_type": "stream",
          "text": [
            "Total reward:  66.09492588043213\n",
            "Total reward:  66.04908847808838\n",
            "Total reward:  65.93035125732422\n",
            "Total reward:  65.73907852172852\n",
            "Total reward:  65.4755973815918\n",
            "Total reward:  65.14028072357178\n",
            "Total reward:  65.04298686981201\n",
            "Total reward:  65.47176837921143\n",
            "Total reward:  65.8051929473877\n",
            "Total reward:  66.0566234588623\n",
            "Total reward:  66.22764873504639\n",
            "Total reward:  66.31969451904297\n",
            "Total reward:  66.33404350280762\n",
            "Total reward:  66.2718563079834\n",
            "Total reward:  66.13420677185059\n",
            "Total reward:  65.92212009429932\n",
            "Total reward:  65.63661193847656\n",
            "Total reward:  65.27871513366699\n",
            "Total reward:  64.84950733184814\n",
            "Total reward:  64.35011386871338\n"
          ],
          "name": "stdout"
        },
        {
          "output_type": "stream",
          "text": [
            "DEBUG:minerl.env.malmo.instance.2e9d75:[02:06:37] [Client thread/INFO]: [CHAT] §l62...\n"
          ],
          "name": "stderr"
        },
        {
          "output_type": "stream",
          "text": [
            "Total reward:  64.18983459472656\n",
            "Total reward:  64.59469032287598\n",
            "Total reward:  64.92743015289307\n",
            "Total reward:  65.1826229095459\n",
            "Total reward:  65.35597229003906\n",
            "Total reward:  65.44871234893799\n",
            "Total reward:  65.4619951248169\n",
            "Total reward:  65.39692401885986\n",
            "Total reward:  65.25458908081055\n",
            "Total reward:  65.03610706329346\n",
            "Total reward:  64.74282741546631\n",
            "Total reward:  64.37598133087158\n",
            "Total reward:  63.936842918395996\n",
            "Total reward:  63.42674541473389\n",
            "Total reward:  63.258766174316406\n",
            "Total reward:  63.65524482727051\n",
            "Total reward:  63.96911907196045\n",
            "Total reward:  64.19780445098877\n",
            "Total reward:  64.34336280822754\n",
            "Total reward:  64.40783405303955\n",
            "Total reward:  64.39321899414062\n",
            "Total reward:  64.30145072937012\n"
          ],
          "name": "stdout"
        },
        {
          "output_type": "stream",
          "text": [
            "DEBUG:minerl.env.malmo.instance.2e9d75:[02:06:38] [Client thread/INFO]: [CHAT] §l61...\n"
          ],
          "name": "stderr"
        },
        {
          "output_type": "stream",
          "text": [
            "Total reward:  64.13437938690186\n",
            "Total reward:  63.89375686645508\n",
            "Total reward:  63.58123016357422\n",
            "Total reward:  63.198341369628906\n",
            "Total reward:  62.746538162231445\n",
            "Total reward:  62.227179527282715\n",
            "Total reward:  61.64155197143555\n",
            "Total reward:  61.05813503265381\n"
          ],
          "name": "stdout"
        },
        {
          "output_type": "stream",
          "text": [
            "DEBUG:minerl.env.malmo.instance.2e9d75:[02:06:38] [Server thread/INFO]: [STDOUT]: Warning: managed 18/20 ticks this second.\n"
          ],
          "name": "stderr"
        },
        {
          "output_type": "stream",
          "text": [
            "Total reward:  61.43819618225098\n",
            "Total reward:  61.74209022521973\n",
            "Total reward:  61.96254634857178\n",
            "Total reward:  62.1017951965332\n",
            "Total reward:  62.161980628967285\n",
            "Total reward:  62.145127296447754\n",
            "Total reward:  62.05312919616699\n",
            "Total reward:  61.887733459472656\n",
            "Total reward:  61.65054130554199\n",
            "Total reward:  61.34301471710205\n",
            "Total reward:  60.96648979187012\n"
          ],
          "name": "stdout"
        },
        {
          "output_type": "stream",
          "text": [
            "DEBUG:minerl.env.malmo.instance.2e9d75:[02:06:39] [Client thread/INFO]: [CHAT] §l60...\n"
          ],
          "name": "stderr"
        },
        {
          "output_type": "stream",
          "text": [
            "Total reward:  60.52219581604004\n",
            "Total reward:  60.01127815246582\n",
            "Total reward:  59.837379455566406\n",
            "Total reward:  60.22024726867676\n"
          ],
          "name": "stdout"
        },
        {
          "output_type": "stream",
          "text": [
            "DEBUG:minerl.env.malmo.instance.2e9d75:[02:06:40] [Server thread/INFO]: [STDOUT]: Warning: managed 17/20 ticks this second.\n"
          ],
          "name": "stderr"
        },
        {
          "output_type": "stream",
          "text": [
            "Total reward:  60.52568054199219\n",
            "Total reward:  60.74923038482666\n",
            "Total reward:  60.8930606842041\n",
            "Total reward:  60.959083557128906\n",
            "Total reward:  60.94931507110596\n",
            "Total reward:  60.86547660827637\n",
            "Total reward:  60.70912837982178\n",
            "Total reward:  60.4816780090332\n",
            "Total reward:  60.184391021728516\n",
            "Total reward:  59.81842231750488\n",
            "Total reward:  59.6920108795166\n",
            "Total reward:  60.08203125\n",
            "Total reward:  60.39149475097656\n",
            "Total reward:  60.62007427215576\n"
          ],
          "name": "stdout"
        },
        {
          "output_type": "stream",
          "text": [
            "DEBUG:minerl.env.malmo.instance.2e9d75:[02:06:41] [Client thread/INFO]: [CHAT] §l59...\n"
          ],
          "name": "stderr"
        },
        {
          "output_type": "stream",
          "text": [
            "Total reward:  60.76985740661621\n",
            "Total reward:  60.79660224914551\n",
            "Total reward:  60.717984199523926\n",
            "Total reward:  60.59884738922119\n"
          ],
          "name": "stdout"
        },
        {
          "output_type": "stream",
          "text": [
            "DEBUG:minerl.env.malmo.instance.2e9d75:[02:06:41] [Server thread/INFO]: [STDOUT]: Warning: managed 16/20 ticks this second.\n"
          ],
          "name": "stderr"
        },
        {
          "output_type": "stream",
          "text": [
            "Total reward:  60.59938907623291\n",
            "Total reward:  60.60458564758301\n",
            "Total reward:  60.612563133239746\n",
            "Total reward:  60.7903528213501\n",
            "Total reward:  60.697869300842285\n",
            "Total reward:  60.5645170211792\n",
            "Total reward:  60.537940979003906\n",
            "Total reward:  60.515329360961914\n",
            "Total reward:  60.495933532714844\n",
            "Total reward:  60.479352951049805\n",
            "Total reward:  60.465375900268555\n",
            "Total reward:  60.45388221740723\n",
            "Total reward:  60.44479179382324\n",
            "Total reward:  60.62395095825195\n",
            "Total reward:  60.547237396240234\n",
            "Total reward:  60.430715560913086\n",
            "Total reward:  60.428659439086914\n",
            "Total reward:  60.42953872680664\n",
            "Total reward:  60.43238830566406\n"
          ],
          "name": "stdout"
        },
        {
          "output_type": "stream",
          "text": [
            "DEBUG:minerl.env.malmo.instance.2e9d75:[02:06:41] [Client thread/INFO]: [CHAT] §l58...\n"
          ],
          "name": "stderr"
        },
        {
          "output_type": "stream",
          "text": [
            "Total reward:  60.437604904174805\n",
            "Total reward:  60.44487190246582\n",
            "Total reward:  60.453975677490234\n",
            "Total reward:  60.464752197265625\n",
            "Total reward:  60.663434982299805\n",
            "Total reward:  60.59857654571533\n",
            "Total reward:  60.49403381347656\n",
            "Total reward:  60.51022911071777\n",
            "Total reward:  60.52764129638672\n",
            "Total reward:  60.546125411987305\n",
            "Total reward:  60.565558433532715\n",
            "Total reward:  60.58582592010498\n",
            "Total reward:  60.60682201385498\n",
            "Total reward:  60.62844657897949\n",
            "Total reward:  60.83901786804199\n",
            "Total reward:  60.77935218811035\n",
            "Total reward:  60.67947769165039\n",
            "Total reward:  60.70379638671875\n",
            "Total reward:  60.72787094116211\n",
            "Total reward:  60.751797676086426\n"
          ],
          "name": "stdout"
        },
        {
          "output_type": "stream",
          "text": [
            "DEBUG:minerl.env.malmo.instance.2e9d75:[02:06:42] [Client thread/INFO]: [CHAT] §l57...\n"
          ],
          "name": "stderr"
        },
        {
          "output_type": "stream",
          "text": [
            "Total reward:  60.77558898925781\n",
            "Total reward:  60.799217224121094\n",
            "Total reward:  60.822630882263184\n",
            "Total reward:  60.84576606750488\n",
            "Total reward:  61.059630393981934\n",
            "Total reward:  60.999064445495605\n",
            "Total reward:  60.89746284484863\n",
            "Total reward:  60.9205379486084\n",
            "Total reward:  60.94246006011963\n",
            "Total reward:  60.9634485244751\n",
            "Total reward:  60.983595848083496\n",
            "Total reward:  60.92732906341553\n",
            "Total reward:  60.78925132751465\n",
            "Total reward:  60.578253746032715\n",
            "Total reward:  60.2869930267334\n"
          ],
          "name": "stdout"
        },
        {
          "output_type": "stream",
          "text": [
            "DEBUG:minerl.env.malmo.instance.2e9d75:[02:06:43] [Client thread/INFO]: [CHAT] §l56...\n"
          ],
          "name": "stderr"
        },
        {
          "output_type": "stream",
          "text": [
            "Total reward:  60.06255340576172\n",
            "Total reward:  60.469552993774414\n",
            "Total reward:  60.791954040527344\n",
            "Total reward:  61.03336811065674\n",
            "Total reward:  61.19557189941406\n",
            "Total reward:  61.23268795013428\n",
            "Total reward:  61.1624698638916\n",
            "Total reward:  61.05134391784668\n",
            "Total reward:  61.06438446044922\n",
            "Total reward:  61.07821273803711\n",
            "Total reward:  61.09201526641846\n",
            "Total reward:  61.299394607543945\n",
            "Total reward:  61.23149871826172\n",
            "Total reward:  61.12160110473633\n",
            "Total reward:  61.13382625579834\n",
            "Total reward:  61.14477729797363\n",
            "Total reward:  61.15461254119873\n",
            "Total reward:  61.16341495513916\n",
            "Total reward:  61.171231269836426\n",
            "Total reward:  61.1780891418457\n",
            "Total reward:  61.18401527404785\n",
            "Total reward:  61.384135246276855\n",
            "Total reward:  61.310439109802246\n"
          ],
          "name": "stdout"
        },
        {
          "output_type": "stream",
          "text": [
            "DEBUG:minerl.env.malmo.instance.2e9d75:[02:06:44] [Client thread/INFO]: [CHAT] §l55...\n"
          ],
          "name": "stderr"
        },
        {
          "output_type": "stream",
          "text": [
            "Total reward:  61.19429683685303\n",
            "Total reward:  61.19747257232666\n",
            "Total reward:  61.199673652648926\n",
            "Total reward:  61.201040267944336\n",
            "Total reward:  61.201663970947266\n",
            "Total reward:  61.20161247253418\n",
            "Total reward:  61.200944900512695\n",
            "Total reward:  61.199713706970215\n",
            "Total reward:  61.62730884552002\n",
            "Total reward:  61.965577125549316\n",
            "Total reward:  62.22303867340088\n",
            "Total reward:  62.401000022888184\n",
            "Total reward:  62.50060558319092\n",
            "Total reward:  62.522857666015625\n",
            "Total reward:  62.46865940093994\n",
            "Total reward:  62.338852882385254\n",
            "Total reward:  62.134260177612305\n",
            "Total reward:  61.84696674346924\n",
            "Total reward:  61.474388122558594\n",
            "Total reward:  61.35074806213379\n",
            "Total reward:  61.75930881500244\n"
          ],
          "name": "stdout"
        },
        {
          "output_type": "stream",
          "text": [
            "DEBUG:minerl.env.malmo.instance.2e9d75:[02:06:45] [Client thread/INFO]: [CHAT] §l54...\n"
          ],
          "name": "stderr"
        },
        {
          "output_type": "stream",
          "text": [
            "Total reward:  62.08388423919678\n",
            "Total reward:  62.32744026184082\n",
            "Total reward:  62.49163055419922\n",
            "Total reward:  62.577903747558594\n",
            "Total reward:  62.5875244140625\n",
            "Total reward:  62.52160167694092\n",
            "Total reward:  62.381131172180176\n",
            "Total reward:  62.367573738098145\n",
            "Total reward:  62.38782501220703\n",
            "Total reward:  62.823330879211426\n",
            "Total reward:  63.16490936279297\n",
            "Total reward:  63.42234230041504\n"
          ],
          "name": "stdout"
        },
        {
          "output_type": "stream",
          "text": [
            "DEBUG:minerl.env.malmo.instance.2e9d75:[02:06:46] [Server thread/INFO]: [STDOUT]: Warning: managed 19/20 ticks this second.\n"
          ],
          "name": "stderr"
        },
        {
          "output_type": "stream",
          "text": [
            "Total reward:  63.59691619873047\n",
            "Total reward:  63.68986415863037\n",
            "Total reward:  63.70239448547363\n",
            "Total reward:  63.63598155975342\n",
            "Total reward:  63.491291999816895\n",
            "Total reward:  63.47148609161377\n",
            "Total reward:  63.47614574432373\n",
            "Total reward:  63.89507484436035\n",
            "Total reward:  64.2250804901123\n"
          ],
          "name": "stdout"
        },
        {
          "output_type": "stream",
          "text": [
            "DEBUG:minerl.env.malmo.instance.2e9d75:[02:06:46] [Client thread/INFO]: [CHAT] §l53...\n"
          ],
          "name": "stderr"
        },
        {
          "output_type": "stream",
          "text": [
            "Total reward:  64.46889019012451\n",
            "Total reward:  64.62807273864746\n",
            "Total reward:  64.70423126220703\n",
            "Total reward:  64.69900798797607\n",
            "Total reward:  64.61408710479736\n",
            "Total reward:  64.45118618011475\n",
            "Total reward:  64.41288089752197\n",
            "Total reward:  64.39216613769531\n",
            "Total reward:  64.78531837463379\n",
            "Total reward:  65.09759140014648\n",
            "Total reward:  65.32351398468018\n",
            "Total reward:  65.46517562866211\n",
            "Total reward:  65.52470397949219\n",
            "Total reward:  65.50423049926758\n",
            "Total reward:  65.40585899353027\n",
            "Total reward:  65.23162746429443\n",
            "Total reward:  65.18006610870361\n",
            "Total reward:  65.1435432434082\n",
            "Total reward:  65.5149097442627\n"
          ],
          "name": "stdout"
        },
        {
          "output_type": "stream",
          "text": [
            "DEBUG:minerl.env.malmo.instance.2e9d75:[02:06:47] [Client thread/INFO]: [CHAT] §l52...\n"
          ],
          "name": "stderr"
        },
        {
          "output_type": "stream",
          "text": [
            "Total reward:  65.8111457824707\n",
            "Total reward:  66.0227746963501\n",
            "Total reward:  66.15238952636719\n",
            "Total reward:  66.20252990722656\n",
            "Total reward:  66.17561626434326\n",
            "Total reward:  66.07389450073242\n",
            "Total reward:  65.8993968963623\n"
          ],
          "name": "stdout"
        },
        {
          "output_type": "stream",
          "text": [
            "DEBUG:minerl.env.malmo.instance.2e9d75:[02:06:48] [Server thread/INFO]: [STDOUT]: Warning: managed 14/20 ticks this second.\n"
          ],
          "name": "stderr"
        },
        {
          "output_type": "stream",
          "text": [
            "Total reward:  65.66228866577148\n",
            "Total reward:  65.37644577026367\n",
            "Total reward:  65.02385902404785\n",
            "Total reward:  64.91167831420898\n",
            "Total reward:  65.3226318359375\n",
            "Total reward:  65.64711856842041\n",
            "Total reward:  65.89344215393066\n",
            "Total reward:  66.06368637084961\n",
            "Total reward:  66.15956401824951\n",
            "Total reward:  66.18239784240723\n",
            "Total reward:  66.13314247131348\n"
          ],
          "name": "stdout"
        },
        {
          "output_type": "stream",
          "text": [
            "DEBUG:minerl.env.malmo.instance.2e9d75:[02:06:49] [Client thread/INFO]: [CHAT] §l51...\n"
          ],
          "name": "stderr"
        },
        {
          "output_type": "stream",
          "text": [
            "Total reward:  66.0124397277832\n",
            "Total reward:  65.82069683074951\n",
            "Total reward:  65.55818462371826\n",
            "Total reward:  65.2251329421997\n"
          ],
          "name": "stdout"
        },
        {
          "output_type": "stream",
          "text": [
            "DEBUG:minerl.env.malmo.instance.2e9d75:[02:06:49] [Server thread/INFO]: [STDOUT]: Warning: managed 17/20 ticks this second.\n"
          ],
          "name": "stderr"
        },
        {
          "output_type": "stream",
          "text": [
            "Total reward:  65.13357925415039\n",
            "Total reward:  65.57795810699463\n",
            "Total reward:  65.92381477355957\n",
            "Total reward:  66.18703365325928\n",
            "Total reward:  66.36899948120117\n",
            "Total reward:  66.47091102600098\n",
            "Total reward:  66.49382019042969\n",
            "Total reward:  66.4386854171753\n",
            "Total reward:  66.30643081665039\n",
            "Total reward:  66.29612827301025\n",
            "Total reward:  66.2862434387207\n",
            "Total reward:  66.6824951171875\n",
            "Total reward:  66.99746131896973\n",
            "Total reward:  67.23166179656982\n",
            "Total reward:  67.38728141784668\n",
            "Total reward:  67.46617794036865\n",
            "Total reward:  67.4698715209961\n"
          ],
          "name": "stdout"
        },
        {
          "output_type": "stream",
          "text": [
            "DEBUG:minerl.env.malmo.instance.2e9d75:[02:06:50] [Client thread/INFO]: [CHAT] §l50...\n"
          ],
          "name": "stderr"
        },
        {
          "output_type": "stream",
          "text": [
            "Total reward:  67.39957237243652\n",
            "Total reward:  67.25622749328613\n",
            "Total reward:  67.2369613647461\n",
            "Total reward:  67.24921226501465\n",
            "Total reward:  67.66824054718018\n",
            "Total reward:  67.9959077835083\n",
            "Total reward:  68.23969554901123\n",
            "Total reward:  68.40204620361328\n",
            "Total reward:  68.4844799041748\n",
            "Total reward:  68.4883975982666\n",
            "Total reward:  68.4151029586792\n",
            "Total reward:  68.26583194732666\n",
            "Total reward:  68.04179000854492\n",
            "Total reward:  67.74417877197266\n",
            "Total reward:  67.3742208480835\n",
            "Total reward:  67.2461404800415\n",
            "Total reward:  67.6366195678711\n"
          ],
          "name": "stdout"
        },
        {
          "output_type": "stream",
          "text": [
            "DEBUG:minerl.env.malmo.instance.2e9d75:[02:06:51] [Client thread/INFO]: [CHAT] §l49...\n"
          ],
          "name": "stderr"
        },
        {
          "output_type": "stream",
          "text": [
            "Total reward:  67.9444580078125\n",
            "Total reward:  68.16718864440918\n",
            "Total reward:  68.30715656280518\n",
            "Total reward:  68.36669254302979\n",
            "Total reward:  68.34806060791016\n",
            "Total reward:  68.25339412689209\n",
            "Total reward:  68.08465003967285\n",
            "Total reward:  67.83028316497803\n",
            "Total reward:  67.50359535217285\n",
            "Total reward:  67.10975170135498\n",
            "Total reward:  66.95401859283447\n",
            "Total reward:  67.29320907592773\n",
            "Total reward:  67.56759548187256\n",
            "Total reward:  67.76090049743652\n",
            "Total reward:  67.8768835067749\n",
            "Total reward:  67.91903591156006\n",
            "Total reward:  67.89041233062744\n",
            "Total reward:  67.79351615905762\n",
            "Total reward:  67.63025379180908\n",
            "Total reward:  67.58356094360352\n",
            "Total reward:  67.56239795684814\n"
          ],
          "name": "stdout"
        },
        {
          "output_type": "stream",
          "text": [
            "DEBUG:minerl.env.malmo.instance.2e9d75:[02:06:51] [Client thread/INFO]: [CHAT] §l48...\n"
          ],
          "name": "stderr"
        },
        {
          "output_type": "stream",
          "text": [
            "Total reward:  67.73126888275146\n",
            "Total reward:  67.65831851959229\n",
            "Total reward:  67.54854583740234\n",
            "Total reward:  67.55454635620117\n",
            "Total reward:  67.56694221496582\n",
            "Total reward:  67.58404636383057\n",
            "Total reward:  67.60483837127686\n",
            "Total reward:  67.62866401672363\n",
            "Total reward:  67.65506839752197\n",
            "Total reward:  67.61298561096191\n",
            "Total reward:  67.49063682556152\n",
            "Total reward:  67.29979515075684\n",
            "Total reward:  67.04047298431396\n",
            "Total reward:  66.8471736907959\n",
            "Total reward:  67.2706995010376\n",
            "Total reward:  67.60081386566162\n",
            "Total reward:  67.85373497009277\n",
            "Total reward:  68.03146266937256\n",
            "Total reward:  68.1355333328247\n"
          ],
          "name": "stdout"
        },
        {
          "output_type": "stream",
          "text": [
            "DEBUG:minerl.env.malmo.instance.2e9d75:[02:06:52] [Client thread/INFO]: [CHAT] §l47...\n"
          ],
          "name": "stderr"
        },
        {
          "output_type": "stream",
          "text": [
            "Total reward:  68.16700172424316\n",
            "Total reward:  68.12647819519043\n",
            "Total reward:  68.01422214508057\n",
            "Total reward:  67.8302698135376\n",
            "Total reward:  67.57457160949707\n",
            "Total reward:  67.24712467193604\n",
            "Total reward:  67.15821552276611\n",
            "Total reward:  67.59996509552002\n",
            "Total reward:  67.94349575042725\n",
            "Total reward:  68.20856285095215\n",
            "Total reward:  68.39640140533447\n",
            "Total reward:  68.50778865814209\n",
            "Total reward:  68.54311084747314\n",
            "Total reward:  68.50247764587402\n",
            "Total reward:  68.3858699798584\n",
            "Total reward:  68.39248085021973\n",
            "Total reward:  68.43547058105469\n",
            "Total reward:  68.88627910614014\n",
            "Total reward:  69.23670625686646\n",
            "Total reward:  69.50250291824341\n",
            "Total reward:  69.6842474937439\n",
            "Total reward:  69.78244638442993\n",
            "Total reward:  69.79766750335693\n",
            "Total reward:  69.73067092895508\n",
            "Total reward:  69.58250284194946\n"
          ],
          "name": "stdout"
        },
        {
          "output_type": "stream",
          "text": [
            "DEBUG:minerl.env.malmo.instance.2e9d75:[02:06:53] [Client thread/INFO]: [CHAT] §l46...\n"
          ],
          "name": "stderr"
        },
        {
          "output_type": "stream",
          "text": [
            "Total reward:  69.5577163696289\n",
            "Total reward:  69.54910659790039\n",
            "Total reward:  69.9509801864624\n",
            "Total reward:  70.26650953292847\n",
            "Total reward:  70.49400091171265\n",
            "Total reward:  70.6432843208313\n",
            "Total reward:  70.72503614425659\n",
            "Total reward:  70.72800874710083\n",
            "Total reward:  70.6536455154419\n",
            "Total reward:  70.50341129302979\n",
            "Total reward:  70.27867412567139\n",
            "Total reward:  69.98073530197144\n",
            "Total reward:  69.61085987091064\n",
            "Total reward:  69.49077892303467\n",
            "Total reward:  69.9063811302185\n"
          ],
          "name": "stdout"
        },
        {
          "output_type": "stream",
          "text": [
            "DEBUG:minerl.env.malmo.instance.2e9d75:[02:06:53] [Client thread/INFO]: [CHAT] §l45...\n"
          ],
          "name": "stderr"
        },
        {
          "output_type": "stream",
          "text": [
            "Total reward:  70.23567867279053\n",
            "Total reward:  70.48063230514526\n",
            "Total reward:  70.64314556121826\n",
            "Total reward:  70.72503614425659\n",
            "Total reward:  70.72800874710083\n",
            "Total reward:  70.6536455154419\n",
            "Total reward:  70.50341129302979\n",
            "Total reward:  70.27883529663086\n",
            "Total reward:  69.98120307922363\n",
            "Total reward:  69.61173963546753\n",
            "Total reward:  69.49258470535278\n",
            "Total reward:  69.91261577606201\n",
            "Total reward:  70.24537420272827\n",
            "Total reward:  70.49440717697144\n",
            "Total reward:  70.66144371032715\n",
            "Total reward:  70.74802494049072\n",
            "Total reward:  70.75550556182861\n",
            "Total reward:  70.6850848197937\n",
            "Total reward:  70.5378623008728\n",
            "Total reward:  70.31490516662598\n",
            "Total reward:  70.01730155944824\n",
            "Total reward:  69.64620304107666\n",
            "Total reward:  69.52479696273804\n"
          ],
          "name": "stdout"
        },
        {
          "output_type": "stream",
          "text": [
            "DEBUG:minerl.env.malmo.instance.2e9d75:[02:06:54] [Client thread/INFO]: [CHAT] §l44...\n"
          ],
          "name": "stderr"
        },
        {
          "output_type": "stream",
          "text": [
            "Total reward:  69.93734550476074\n",
            "Total reward:  70.26202726364136\n",
            "Total reward:  70.49782419204712\n",
            "Total reward:  70.64624404907227\n",
            "Total reward:  70.70905351638794\n",
            "Total reward:  70.68831872940063\n",
            "Total reward:  70.58637285232544\n",
            "Total reward:  70.40572023391724\n",
            "Total reward:  70.1489109992981\n",
            "Total reward:  69.81841897964478\n"
          ],
          "name": "stdout"
        },
        {
          "output_type": "stream",
          "text": [
            "DEBUG:minerl.env.malmo.instance.2e9d75:[02:06:55] [Server thread/INFO]: [STDOUT]: Warning: managed 18/20 ticks this second.\n"
          ],
          "name": "stderr"
        },
        {
          "output_type": "stream",
          "text": [
            "Total reward:  69.4165506362915\n",
            "Total reward:  69.25600242614746\n",
            "Total reward:  69.58850431442261\n",
            "Total reward:  69.8539891242981\n",
            "Total reward:  70.03111028671265\n",
            "Total reward:  70.1241021156311\n",
            "Total reward:  70.17824506759644\n",
            "Total reward:  70.18670988082886\n",
            "Total reward:  70.12431764602661\n",
            "Total reward:  69.99151706695557\n",
            "Total reward:  69.78834581375122\n",
            "Total reward:  69.51114797592163\n"
          ],
          "name": "stdout"
        },
        {
          "output_type": "stream",
          "text": [
            "DEBUG:minerl.env.malmo.instance.2e9d75:[02:06:56] [Client thread/INFO]: [CHAT] §l43...\n"
          ],
          "name": "stderr"
        },
        {
          "output_type": "stream",
          "text": [
            "Total reward:  69.16540575027466\n",
            "Total reward:  69.05363988876343\n",
            "Total reward:  69.24291944503784\n"
          ],
          "name": "stdout"
        },
        {
          "output_type": "stream",
          "text": [
            "DEBUG:minerl.env.malmo.instance.2e9d75:[02:06:56] [Server thread/INFO]: [STDOUT]: Warning: managed 15/20 ticks this second.\n"
          ],
          "name": "stderr"
        },
        {
          "output_type": "stream",
          "text": [
            "Total reward:  69.17097616195679\n",
            "Total reward:  69.05755853652954\n",
            "Total reward:  69.05392551422119\n",
            "Total reward:  69.045006275177\n",
            "Total reward:  68.95730066299438\n",
            "Total reward:  68.8005166053772\n",
            "Total reward:  68.57056903839111\n",
            "Total reward:  68.26858139038086\n",
            "Total reward:  68.03170394897461\n",
            "Total reward:  68.39195919036865\n",
            "Total reward:  68.67662763595581\n",
            "Total reward:  68.87735319137573\n",
            "Total reward:  68.99743223190308\n",
            "Total reward:  68.99587440490723\n",
            "Total reward:  68.89125871658325\n",
            "Total reward:  68.71625089645386\n",
            "Total reward:  68.472487449646\n"
          ],
          "name": "stdout"
        },
        {
          "output_type": "stream",
          "text": [
            "DEBUG:minerl.env.malmo.instance.2e9d75:[02:06:57] [Client thread/INFO]: [CHAT] §l42...\n",
            "DEBUG:minerl.env.malmo.instance.2e9d75:[02:06:57] [Server thread/INFO]: [STDOUT]: Warning: managed 15/20 ticks this second.\n"
          ],
          "name": "stderr"
        },
        {
          "output_type": "stream",
          "text": [
            "Total reward:  68.16122627258301\n",
            "Total reward:  67.78342628479004\n",
            "Total reward:  67.33983898162842\n",
            "Total reward:  66.83109664916992\n",
            "Total reward:  66.25778865814209\n",
            "Total reward:  65.75603580474854\n",
            "Total reward:  66.10275840759277\n",
            "Total reward:  66.3802490234375\n",
            "Total reward:  66.57682609558105\n",
            "Total reward:  66.6956729888916\n",
            "Total reward:  66.73972988128662\n",
            "Total reward:  66.71159362792969\n",
            "Total reward:  66.6134557723999\n",
            "Total reward:  66.44707298278809\n",
            "Total reward:  66.21379566192627\n"
          ],
          "name": "stdout"
        },
        {
          "output_type": "stream",
          "text": [
            "DEBUG:minerl.env.malmo.instance.2e9d75:[02:06:58] [Server thread/INFO]: [STDOUT]: Warning: managed 17/20 ticks this second.\n"
          ],
          "name": "stderr"
        },
        {
          "output_type": "stream",
          "text": [
            "Total reward:  65.91461181640625\n",
            "Total reward:  65.55023384094238\n",
            "Total reward:  65.41227722167969\n",
            "Total reward:  65.75752925872803\n"
          ],
          "name": "stdout"
        },
        {
          "output_type": "stream",
          "text": [
            "DEBUG:minerl.env.malmo.instance.2e9d75:[02:06:58] [Client thread/INFO]: [CHAT] §l41...\n"
          ],
          "name": "stderr"
        },
        {
          "output_type": "stream",
          "text": [
            "Total reward:  66.03248310089111\n",
            "Total reward:  66.2297945022583\n",
            "Total reward:  66.35268306732178\n",
            "Total reward:  66.40398597717285\n",
            "Total reward:  66.38607215881348\n",
            "Total reward:  66.30079650878906\n",
            "Total reward:  66.14950656890869\n",
            "Total reward:  65.93442058563232\n",
            "Total reward:  65.65452671051025\n",
            "Total reward:  65.31006717681885\n",
            "Total reward:  65.18659400939941\n",
            "Total reward:  65.54200839996338\n",
            "Total reward:  65.82235527038574\n",
            "Total reward:  66.02712535858154\n",
            "Total reward:  66.1593885421753\n",
            "Total reward:  66.22175979614258\n"
          ],
          "name": "stdout"
        },
        {
          "output_type": "stream",
          "text": [
            "DEBUG:minerl.env.malmo.instance.2e9d75:[02:06:59] [Client thread/INFO]: [CHAT] §l40...\n"
          ],
          "name": "stderr"
        },
        {
          "output_type": "stream",
          "text": [
            "Total reward:  66.21632862091064\n",
            "Total reward:  66.14462947845459\n",
            "Total reward:  66.00767421722412\n",
            "Total reward:  65.80600929260254\n",
            "Total reward:  65.53982543945312\n",
            "Total reward:  65.21373748779297\n",
            "Total reward:  65.15070724487305\n",
            "Total reward:  65.58615303039551\n",
            "Total reward:  65.91939640045166\n",
            "Total reward:  66.17677688598633\n",
            "Total reward:  66.36040687561035\n",
            "Total reward:  66.47190761566162\n",
            "Total reward:  66.51240253448486\n",
            "Total reward:  66.48255348205566\n",
            "Total reward:  66.3826379776001\n",
            "Total reward:  66.39301872253418\n",
            "Total reward:  66.43643379211426\n",
            "Total reward:  66.84641933441162\n",
            "Total reward:  67.16205596923828\n"
          ],
          "name": "stdout"
        },
        {
          "output_type": "stream",
          "text": [
            "DEBUG:minerl.env.malmo.instance.2e9d75:[02:07:00] [Client thread/INFO]: [CHAT] §l39...\n"
          ],
          "name": "stderr"
        },
        {
          "output_type": "stream",
          "text": [
            "Total reward:  67.40149974822998\n",
            "Total reward:  67.56704425811768\n",
            "Total reward:  67.66051578521729\n",
            "Total reward:  67.68323516845703\n",
            "Total reward:  67.63487529754639\n",
            "Total reward:  67.4947681427002\n",
            "Total reward:  67.28928565979004\n",
            "Total reward:  67.01877117156982\n",
            "Total reward:  66.68578815460205\n",
            "Total reward:  66.29027462005615\n",
            "Total reward:  65.830641746521\n",
            "Total reward:  65.30619144439697\n",
            "Total reward:  64.78135776519775\n",
            "Total reward:  65.20510578155518\n",
            "Total reward:  65.5360746383667\n",
            "Total reward:  65.78908061981201\n",
            "Total reward:  65.96575260162354\n",
            "Total reward:  66.06737804412842\n",
            "Total reward:  66.09492588043213\n",
            "Total reward:  66.04908847808838\n"
          ],
          "name": "stdout"
        },
        {
          "output_type": "stream",
          "text": [
            "DEBUG:minerl.env.malmo.instance.2e9d75:[02:07:00] [Client thread/INFO]: [CHAT] §l38...\n"
          ],
          "name": "stderr"
        },
        {
          "output_type": "stream",
          "text": [
            "Total reward:  65.93035125732422\n",
            "Total reward:  65.73907852172852\n",
            "Total reward:  65.4755973815918\n",
            "Total reward:  65.14028072357178\n",
            "Total reward:  65.04298686981201\n",
            "Total reward:  65.47176837921143\n",
            "Total reward:  65.8051929473877\n",
            "Total reward:  66.0566234588623\n",
            "Total reward:  66.22764873504639\n",
            "Total reward:  66.31969451904297\n",
            "Total reward:  66.33404350280762\n",
            "Total reward:  66.2718563079834\n",
            "Total reward:  66.13420677185059\n",
            "Total reward:  65.92212009429932\n",
            "Total reward:  65.63661193847656\n",
            "Total reward:  65.27871513366699\n",
            "Total reward:  64.84950733184814\n",
            "Total reward:  64.35011386871338\n",
            "Total reward:  64.18983459472656\n",
            "Total reward:  64.59469032287598\n",
            "Total reward:  64.92743015289307\n",
            "Total reward:  65.1826229095459\n",
            "Total reward:  65.35597229003906\n",
            "Total reward:  65.44871234893799\n"
          ],
          "name": "stdout"
        },
        {
          "output_type": "stream",
          "text": [
            "DEBUG:minerl.env.malmo.instance.2e9d75:[02:07:01] [Client thread/INFO]: [CHAT] §l37...\n"
          ],
          "name": "stderr"
        },
        {
          "output_type": "stream",
          "text": [
            "Total reward:  65.4619951248169\n",
            "Total reward:  65.39692401885986\n",
            "Total reward:  65.25458908081055\n",
            "Total reward:  65.03610706329346\n",
            "Total reward:  64.74282741546631\n",
            "Total reward:  64.37598133087158\n",
            "Total reward:  63.936842918395996\n",
            "Total reward:  63.42674541473389\n",
            "Total reward:  63.258766174316406\n",
            "Total reward:  63.65524482727051\n",
            "Total reward:  63.96911907196045\n",
            "Total reward:  64.19780445098877\n",
            "Total reward:  64.34336280822754\n",
            "Total reward:  64.40783405303955\n",
            "Total reward:  64.39321899414062\n",
            "Total reward:  64.30145072937012\n",
            "Total reward:  64.13437938690186\n",
            "Total reward:  63.89375686645508\n",
            "Total reward:  63.58123016357422\n"
          ],
          "name": "stdout"
        },
        {
          "output_type": "stream",
          "text": [
            "DEBUG:minerl.env.malmo.instance.2e9d75:[02:07:02] [Client thread/INFO]: [CHAT] §l36...\n"
          ],
          "name": "stderr"
        },
        {
          "output_type": "stream",
          "text": [
            "Total reward:  63.198341369628906\n",
            "Total reward:  62.746538162231445\n",
            "Total reward:  62.227179527282715\n",
            "Total reward:  61.64155197143555\n",
            "Total reward:  61.05813503265381\n",
            "Total reward:  61.43819618225098\n",
            "Total reward:  61.74209022521973\n",
            "Total reward:  61.96254634857178\n",
            "Total reward:  62.1017951965332\n",
            "Total reward:  62.161980628967285\n",
            "Total reward:  62.145127296447754\n",
            "Total reward:  62.05312919616699\n",
            "Total reward:  61.887733459472656\n",
            "Total reward:  61.65054130554199\n",
            "Total reward:  61.34301471710205\n",
            "Total reward:  60.96648979187012\n",
            "Total reward:  60.52219581604004\n"
          ],
          "name": "stdout"
        },
        {
          "output_type": "stream",
          "text": [
            "DEBUG:minerl.env.malmo.instance.2e9d75:[02:07:03] [Server thread/INFO]: [STDOUT]: Warning: managed 15/20 ticks this second.\n"
          ],
          "name": "stderr"
        },
        {
          "output_type": "stream",
          "text": [
            "Total reward:  60.01127815246582\n",
            "Total reward:  59.837379455566406\n",
            "Total reward:  60.22024726867676\n",
            "Total reward:  60.52568054199219\n",
            "Total reward:  60.74923038482666\n",
            "Total reward:  60.8930606842041\n"
          ],
          "name": "stdout"
        },
        {
          "output_type": "stream",
          "text": [
            "DEBUG:minerl.env.malmo.instance.2e9d75:[02:07:04] [Client thread/INFO]: [CHAT] §l35...\n"
          ],
          "name": "stderr"
        },
        {
          "output_type": "stream",
          "text": [
            "Total reward:  60.959083557128906\n",
            "Total reward:  60.94931507110596\n",
            "Total reward:  60.86547660827637\n",
            "Total reward:  60.70912837982178\n",
            "Total reward:  60.4816780090332\n",
            "Total reward:  60.184391021728516\n",
            "Total reward:  59.81842231750488\n",
            "Total reward:  59.6920108795166\n",
            "Total reward:  60.08203125\n"
          ],
          "name": "stdout"
        },
        {
          "output_type": "stream",
          "text": [
            "DEBUG:minerl.env.malmo.instance.2e9d75:[02:07:04] [Server thread/INFO]: [STDOUT]: Warning: managed 16/20 ticks this second.\n"
          ],
          "name": "stderr"
        },
        {
          "output_type": "stream",
          "text": [
            "Total reward:  60.39149475097656\n",
            "Total reward:  60.62007427215576\n",
            "Total reward:  60.76985740661621\n",
            "Total reward:  60.79660224914551\n",
            "Total reward:  60.717984199523926\n",
            "Total reward:  60.59884738922119\n",
            "Total reward:  60.59938907623291\n",
            "Total reward:  60.60458564758301\n",
            "Total reward:  60.612563133239746\n",
            "Total reward:  60.7903528213501\n",
            "Total reward:  60.697869300842285\n"
          ],
          "name": "stdout"
        },
        {
          "output_type": "stream",
          "text": [
            "DEBUG:minerl.env.malmo.instance.2e9d75:[02:07:05] [Client thread/INFO]: [CHAT] §l34...\n"
          ],
          "name": "stderr"
        },
        {
          "output_type": "stream",
          "text": [
            "Total reward:  60.5645170211792\n",
            "Total reward:  60.537940979003906\n",
            "Total reward:  60.515329360961914\n",
            "Total reward:  60.495933532714844\n",
            "Total reward:  60.479352951049805\n",
            "Total reward:  60.465375900268555\n",
            "Total reward:  60.45388221740723\n",
            "Total reward:  60.44479179382324\n",
            "Total reward:  60.62395095825195\n"
          ],
          "name": "stdout"
        },
        {
          "output_type": "stream",
          "text": [
            "DEBUG:minerl.env.malmo.instance.2e9d75:[02:07:05] [Server thread/INFO]: [STDOUT]: Warning: managed 19/20 ticks this second.\n"
          ],
          "name": "stderr"
        },
        {
          "output_type": "stream",
          "text": [
            "Total reward:  60.547237396240234\n",
            "Total reward:  60.430715560913086\n",
            "Total reward:  60.428659439086914\n",
            "Total reward:  60.42953872680664\n",
            "Total reward:  60.43238830566406\n",
            "Total reward:  60.437604904174805\n",
            "Total reward:  60.44487190246582\n",
            "Total reward:  60.453975677490234\n"
          ],
          "name": "stdout"
        },
        {
          "output_type": "stream",
          "text": [
            "DEBUG:minerl.env.malmo.instance.2e9d75:[02:07:06] [Client thread/INFO]: [CHAT] §l33...\n"
          ],
          "name": "stderr"
        },
        {
          "output_type": "stream",
          "text": [
            "Total reward:  60.464752197265625\n",
            "Total reward:  60.663434982299805\n",
            "Total reward:  60.59857654571533\n",
            "Total reward:  60.49403381347656\n",
            "Total reward:  60.51022911071777\n",
            "Total reward:  60.52764129638672\n",
            "Total reward:  60.546125411987305\n",
            "Total reward:  60.565558433532715\n"
          ],
          "name": "stdout"
        },
        {
          "output_type": "stream",
          "text": [
            "DEBUG:minerl.env.malmo.instance.2e9d75:[02:07:06] [Server thread/INFO]: [STDOUT]: Warning: managed 18/20 ticks this second.\n"
          ],
          "name": "stderr"
        },
        {
          "output_type": "stream",
          "text": [
            "Total reward:  60.58582592010498\n",
            "Total reward:  60.60682201385498\n",
            "Total reward:  60.62844657897949\n",
            "Total reward:  60.83901786804199\n",
            "Total reward:  60.77935218811035\n",
            "Total reward:  60.67947769165039\n",
            "Total reward:  60.70379638671875\n",
            "Total reward:  60.72787094116211\n",
            "Total reward:  60.751797676086426\n",
            "Total reward:  60.77558898925781\n",
            "Total reward:  60.799217224121094\n",
            "Total reward:  60.822630882263184\n",
            "Total reward:  60.84576606750488\n"
          ],
          "name": "stdout"
        },
        {
          "output_type": "stream",
          "text": [
            "DEBUG:minerl.env.malmo.instance.2e9d75:[02:07:07] [Client thread/INFO]: [CHAT] §l32...\n"
          ],
          "name": "stderr"
        },
        {
          "output_type": "stream",
          "text": [
            "Total reward:  61.059630393981934\n",
            "Total reward:  60.999064445495605\n",
            "Total reward:  60.89746284484863\n"
          ],
          "name": "stdout"
        },
        {
          "output_type": "stream",
          "text": [
            "DEBUG:minerl.env.malmo.instance.2e9d75:[02:07:07] [Server thread/INFO]: [STDOUT]: Warning: managed 17/20 ticks this second.\n"
          ],
          "name": "stderr"
        },
        {
          "output_type": "stream",
          "text": [
            "Total reward:  60.9205379486084\n",
            "Total reward:  60.94246006011963\n",
            "Total reward:  60.9634485244751\n",
            "Total reward:  60.983595848083496\n",
            "Total reward:  60.92732906341553\n",
            "Total reward:  60.78925132751465\n",
            "Total reward:  60.578253746032715\n",
            "Total reward:  60.2869930267334\n",
            "Total reward:  60.06255340576172\n",
            "Total reward:  60.469552993774414\n",
            "Total reward:  60.791954040527344\n",
            "Total reward:  61.03336811065674\n",
            "Total reward:  61.19557189941406\n",
            "Total reward:  61.23268795013428\n",
            "Total reward:  61.1624698638916\n",
            "Total reward:  61.05134391784668\n",
            "Total reward:  61.06438446044922\n",
            "Total reward:  61.07821273803711\n",
            "Total reward:  61.09201526641846\n"
          ],
          "name": "stdout"
        },
        {
          "output_type": "stream",
          "text": [
            "DEBUG:minerl.env.malmo.instance.2e9d75:[02:07:08] [Client thread/INFO]: [CHAT] §l31...\n"
          ],
          "name": "stderr"
        },
        {
          "output_type": "stream",
          "text": [
            "Total reward:  61.299394607543945\n",
            "Total reward:  61.23149871826172\n",
            "Total reward:  61.12160110473633\n",
            "Total reward:  61.13382625579834\n",
            "Total reward:  61.14477729797363\n",
            "Total reward:  61.15461254119873\n",
            "Total reward:  61.16341495513916\n",
            "Total reward:  61.171231269836426\n",
            "Total reward:  61.1780891418457\n",
            "Total reward:  61.18401527404785\n",
            "Total reward:  61.384135246276855\n",
            "Total reward:  61.310439109802246\n",
            "Total reward:  61.19429683685303\n",
            "Total reward:  61.19747257232666\n",
            "Total reward:  61.199673652648926\n",
            "Total reward:  61.201040267944336\n",
            "Total reward:  61.201663970947266\n",
            "Total reward:  61.20161247253418\n",
            "Total reward:  61.200944900512695\n"
          ],
          "name": "stdout"
        },
        {
          "output_type": "stream",
          "text": [
            "DEBUG:minerl.env.malmo.instance.2e9d75:[02:07:09] [Client thread/INFO]: [CHAT] §l30...\n"
          ],
          "name": "stderr"
        },
        {
          "output_type": "stream",
          "text": [
            "Total reward:  61.199713706970215\n",
            "Total reward:  61.62730884552002\n",
            "Total reward:  61.965577125549316\n",
            "Total reward:  62.22303867340088\n",
            "Total reward:  62.401000022888184\n",
            "Total reward:  62.50060558319092\n",
            "Total reward:  62.522857666015625\n",
            "Total reward:  62.46865940093994\n",
            "Total reward:  62.338852882385254\n",
            "Total reward:  62.134260177612305\n",
            "Total reward:  61.84696674346924\n",
            "Total reward:  61.474388122558594\n",
            "Total reward:  61.35074806213379\n",
            "Total reward:  61.75930881500244\n",
            "Total reward:  62.08388423919678\n",
            "Total reward:  62.32744026184082\n",
            "Total reward:  62.49163055419922\n",
            "Total reward:  62.577903747558594\n",
            "Total reward:  62.5875244140625\n",
            "Total reward:  62.52160167694092\n"
          ],
          "name": "stdout"
        },
        {
          "output_type": "stream",
          "text": [
            "DEBUG:minerl.env.malmo.instance.2e9d75:[02:07:10] [Client thread/INFO]: [CHAT] §l29...\n"
          ],
          "name": "stderr"
        },
        {
          "output_type": "stream",
          "text": [
            "Total reward:  62.381131172180176\n",
            "Total reward:  62.367573738098145\n",
            "Total reward:  62.38782501220703\n",
            "Total reward:  62.823330879211426\n",
            "Total reward:  63.16490936279297\n",
            "Total reward:  63.42234230041504\n",
            "Total reward:  63.59691619873047\n",
            "Total reward:  63.68986415863037\n"
          ],
          "name": "stdout"
        },
        {
          "output_type": "stream",
          "text": [
            "DEBUG:minerl.env.malmo.instance.2e9d75:[02:07:10] [Server thread/INFO]: [STDOUT]: Warning: managed 19/20 ticks this second.\n"
          ],
          "name": "stderr"
        },
        {
          "output_type": "stream",
          "text": [
            "Total reward:  63.70239448547363\n",
            "Total reward:  63.63598155975342\n",
            "Total reward:  63.491291999816895\n",
            "Total reward:  63.47148609161377\n",
            "Total reward:  63.47614574432373\n",
            "Total reward:  63.89507484436035\n",
            "Total reward:  64.2250804901123\n",
            "Total reward:  64.46889019012451\n",
            "Total reward:  64.62807273864746\n"
          ],
          "name": "stdout"
        },
        {
          "output_type": "stream",
          "text": [
            "DEBUG:minerl.env.malmo.instance.2e9d75:[02:07:11] [Client thread/INFO]: [CHAT] §l28...\n"
          ],
          "name": "stderr"
        },
        {
          "output_type": "stream",
          "text": [
            "Total reward:  64.70423126220703\n",
            "Total reward:  64.69900798797607\n",
            "Total reward:  64.61408710479736\n",
            "Total reward:  64.45118618011475\n",
            "Total reward:  64.41288089752197\n",
            "Total reward:  64.39216613769531\n",
            "Total reward:  64.78531837463379\n",
            "Total reward:  65.09759140014648\n",
            "Total reward:  65.32351398468018\n"
          ],
          "name": "stdout"
        },
        {
          "output_type": "stream",
          "text": [
            "DEBUG:minerl.env.malmo.instance.2e9d75:[02:07:11] [Server thread/INFO]: [STDOUT]: Warning: managed 18/20 ticks this second.\n"
          ],
          "name": "stderr"
        },
        {
          "output_type": "stream",
          "text": [
            "Total reward:  65.46517562866211\n",
            "Total reward:  65.52470397949219\n",
            "Total reward:  65.50423049926758\n",
            "Total reward:  65.40585899353027\n",
            "Total reward:  65.23162746429443\n",
            "Total reward:  65.18006610870361\n",
            "Total reward:  65.1435432434082\n",
            "Total reward:  65.5149097442627\n",
            "Total reward:  65.8111457824707\n",
            "Total reward:  66.0227746963501\n",
            "Total reward:  66.15238952636719\n",
            "Total reward:  66.20252990722656\n",
            "Total reward:  66.17561626434326\n"
          ],
          "name": "stdout"
        },
        {
          "output_type": "stream",
          "text": [
            "DEBUG:minerl.env.malmo.instance.2e9d75:[02:07:12] [Client thread/INFO]: [CHAT] §l27...\n"
          ],
          "name": "stderr"
        },
        {
          "output_type": "stream",
          "text": [
            "Total reward:  66.07389450073242\n",
            "Total reward:  65.8993968963623\n",
            "Total reward:  65.66228866577148\n",
            "Total reward:  "
          ],
          "name": "stdout"
        },
        {
          "output_type": "stream",
          "text": [
            "DEBUG:minerl.env.malmo.instance.2e9d75:[02:07:12] [Server thread/INFO]: [STDOUT]: Warning: managed 15/20 ticks this second.\n"
          ],
          "name": "stderr"
        },
        {
          "output_type": "stream",
          "text": [
            "65.37644577026367\n",
            "Total reward:  65.02385902404785\n",
            "Total reward:  64.91167831420898\n",
            "Total reward:  65.3226318359375\n",
            "Total reward:  65.64711856842041\n",
            "Total reward:  65.89344215393066\n",
            "Total reward:  66.06368637084961\n",
            "Total reward:  66.15956401824951\n",
            "Total reward:  66.18239784240723\n",
            "Total reward:  66.13314247131348\n",
            "Total reward:  66.0124397277832\n",
            "Total reward:  65.82069683074951\n",
            "Total reward:  65.55818462371826\n",
            "Total reward:  65.2251329421997\n",
            "Total reward:  65.13357925415039\n",
            "Total reward:  65.57795810699463\n"
          ],
          "name": "stdout"
        },
        {
          "output_type": "stream",
          "text": [
            "DEBUG:minerl.env.malmo.instance.2e9d75:[02:07:13] [Server thread/INFO]: [STDOUT]: Warning: managed 18/20 ticks this second.\n",
            "DEBUG:minerl.env.malmo.instance.2e9d75:[02:07:14] [Client thread/INFO]: [CHAT] §l26...\n"
          ],
          "name": "stderr"
        },
        {
          "output_type": "stream",
          "text": [
            "Total reward:  65.92381477355957\n",
            "Total reward:  66.18703365325928\n",
            "Total reward:  66.36899948120117\n",
            "Total reward:  66.47091102600098\n",
            "Total reward:  66.49382019042969\n",
            "Total reward:  66.4386854171753\n",
            "Total reward:  66.30643081665039\n",
            "Total reward:  66.29612827301025\n",
            "Total reward:  66.2862434387207\n",
            "Total reward:  66.6824951171875\n",
            "Total reward:  66.99746131896973\n",
            "Total reward:  67.23166179656982\n",
            "Total reward:  67.38728141784668\n",
            "Total reward:  67.46617794036865\n",
            "Total reward:  67.4698715209961\n",
            "Total reward:  67.39957237243652\n",
            "Total reward:  67.25622749328613\n",
            "Total reward:  67.2369613647461\n",
            "Total reward:  67.24921226501465\n",
            "Total reward:  67.66824054718018\n"
          ],
          "name": "stdout"
        },
        {
          "output_type": "stream",
          "text": [
            "DEBUG:minerl.env.malmo.instance.2e9d75:[02:07:15] [Server thread/INFO]: [STDOUT]: Warning: managed 18/20 ticks this second.\n",
            "DEBUG:minerl.env.malmo.instance.2e9d75:[02:07:15] [Client thread/INFO]: [CHAT] §l25...\n"
          ],
          "name": "stderr"
        },
        {
          "output_type": "stream",
          "text": [
            "Total reward:  67.9959077835083\n",
            "Total reward:  68.23969554901123\n",
            "Total reward:  68.40204620361328\n",
            "Total reward:  68.4844799041748\n",
            "Total reward:  68.4883975982666\n",
            "Total reward:  68.4151029586792\n",
            "Total reward:  68.26583194732666\n",
            "Total reward:  68.04179000854492\n",
            "Total reward:  67.74417877197266\n",
            "Total reward:  67.3742208480835\n",
            "Total reward:  67.2461404800415\n",
            "Total reward:  67.6366195678711\n",
            "Total reward:  67.9444580078125\n",
            "Total reward:  68.16718864440918\n",
            "Total reward:  68.30715656280518\n",
            "Total reward:  68.36669254302979\n",
            "Total reward:  68.34806060791016\n",
            "Total reward:  68.25339412689209\n",
            "Total reward:  68.08465003967285\n",
            "Total reward:  67.83028316497803\n"
          ],
          "name": "stdout"
        },
        {
          "output_type": "stream",
          "text": [
            "DEBUG:minerl.env.malmo.instance.2e9d75:[02:07:16] [Client thread/INFO]: [CHAT] §l24...\n"
          ],
          "name": "stderr"
        },
        {
          "output_type": "stream",
          "text": [
            "Total reward:  67.50359535217285\n",
            "Total reward:  67.10975170135498\n",
            "Total reward:  66.95401859283447\n",
            "Total reward:  67.29320907592773\n",
            "Total reward:  67.56759548187256\n",
            "Total reward:  67.76090049743652\n",
            "Total reward:  67.8768835067749\n",
            "Total reward:  67.91903591156006\n",
            "Total reward:  67.89041233062744\n",
            "Total reward:  67.79351615905762\n",
            "Total reward:  67.63025379180908\n",
            "Total reward:  67.58356094360352\n",
            "Total reward:  67.56239795684814\n",
            "Total reward:  67.73126888275146\n",
            "Total reward:  67.65831851959229\n",
            "Total reward:  67.54854583740234\n",
            "Total reward:  67.55454635620117\n"
          ],
          "name": "stdout"
        },
        {
          "output_type": "stream",
          "text": [
            "DEBUG:minerl.env.malmo.instance.2e9d75:[02:07:16] [Client thread/INFO]: [CHAT] §l23...\n"
          ],
          "name": "stderr"
        },
        {
          "output_type": "stream",
          "text": [
            "Total reward:  67.56694221496582\n",
            "Total reward:  67.58404636383057\n",
            "Total reward:  67.60483837127686\n",
            "Total reward:  67.62866401672363\n",
            "Total reward:  67.65506839752197\n",
            "Total reward:  67.61298561096191\n",
            "Total reward:  67.49063682556152\n",
            "Total reward:  67.29979515075684\n",
            "Total reward:  67.04047298431396\n",
            "Total reward:  66.8471736907959\n",
            "Total reward:  67.2706995010376\n",
            "Total reward:  67.60081386566162\n",
            "Total reward:  67.85373497009277\n",
            "Total reward:  68.03146266937256\n",
            "Total reward:  68.1355333328247\n",
            "Total reward:  68.16700172424316\n",
            "Total reward:  68.12647819519043\n",
            "Total reward:  68.01422214508057\n",
            "Total reward:  67.8302698135376\n",
            "Total reward:  67.57457160949707\n",
            "Total reward:  67.24712467193604\n",
            "Total reward:  67.15821552276611\n",
            "Total reward:  67.59996509552002\n",
            "Total reward:  67.94349575042725\n",
            "Total reward:  68.20856285095215\n",
            "Total reward:  68.39640140533447\n"
          ],
          "name": "stdout"
        },
        {
          "output_type": "stream",
          "text": [
            "DEBUG:minerl.env.malmo.instance.2e9d75:[02:07:17] [Client thread/INFO]: [CHAT] §l22...\n"
          ],
          "name": "stderr"
        },
        {
          "output_type": "stream",
          "text": [
            "Total reward:  68.50778865814209\n",
            "Total reward:  68.54311084747314\n",
            "Total reward:  68.50247764587402\n",
            "Total reward:  68.3858699798584\n",
            "Total reward:  68.39248085021973\n",
            "Total reward:  68.43547058105469\n",
            "Total reward:  68.88627910614014\n",
            "Total reward:  69.23670625686646\n",
            "Total reward:  69.50250291824341\n",
            "Total reward:  69.6842474937439\n",
            "Total reward:  69.78244638442993\n",
            "Total reward:  69.79766750335693\n",
            "Total reward:  69.73067092895508\n",
            "Total reward:  69.58250284194946\n",
            "Total reward:  69.5577163696289\n",
            "Total reward:  69.54910659790039\n"
          ],
          "name": "stdout"
        },
        {
          "output_type": "stream",
          "text": [
            "DEBUG:minerl.env.malmo.instance.2e9d75:[02:07:18] [Client thread/INFO]: [CHAT] §l21...\n"
          ],
          "name": "stderr"
        },
        {
          "output_type": "stream",
          "text": [
            "Total reward:  69.9509801864624\n",
            "Total reward:  70.26650953292847\n",
            "Total reward:  70.49400091171265\n",
            "Total reward:  70.6432843208313\n",
            "Total reward:  70.72503614425659\n",
            "Total reward:  70.72800874710083\n",
            "Total reward:  70.6536455154419\n",
            "Total reward:  70.50341129302979\n",
            "Total reward:  70.27867412567139\n",
            "Total reward:  69.98073530197144\n",
            "Total reward:  69.61085987091064\n",
            "Total reward:  69.49077892303467\n",
            "Total reward:  69.9063811302185\n",
            "Total reward:  70.23567867279053\n",
            "Total reward:  70.48063230514526\n",
            "Total reward:  70.64314556121826\n",
            "Total reward:  70.72503614425659\n",
            "Total reward:  70.72800874710083\n",
            "Total reward:  70.6536455154419\n",
            "Total reward:  70.50341129302979\n",
            "Total reward:  70.27883529663086\n",
            "Total reward:  69.98120307922363\n"
          ],
          "name": "stdout"
        },
        {
          "output_type": "stream",
          "text": [
            "DEBUG:minerl.env.malmo.instance.2e9d75:[02:07:19] [Client thread/INFO]: [CHAT] §l20...\n"
          ],
          "name": "stderr"
        },
        {
          "output_type": "stream",
          "text": [
            "Total reward:  69.61173963546753\n",
            "Total reward:  69.49258470535278\n",
            "Total reward:  69.91261577606201\n",
            "Total reward:  70.24537420272827\n",
            "Total reward:  70.49440717697144\n",
            "Total reward:  70.66144371032715\n",
            "Total reward:  70.74802494049072\n",
            "Total reward:  70.75550556182861\n",
            "Total reward:  70.6850848197937\n",
            "Total reward:  70.5378623008728\n",
            "Total reward:  70.31490516662598\n",
            "Total reward:  70.01730155944824\n",
            "Total reward:  69.64620304107666\n",
            "Total reward:  69.52479696273804\n",
            "Total reward:  69.93734550476074\n",
            "Total reward:  70.26202726364136\n",
            "Total reward:  70.49782419204712\n"
          ],
          "name": "stdout"
        },
        {
          "output_type": "stream",
          "text": [
            "DEBUG:minerl.env.malmo.instance.2e9d75:[02:07:19] [Client thread/INFO]: [CHAT] §l19...\n"
          ],
          "name": "stderr"
        },
        {
          "output_type": "stream",
          "text": [
            "Total reward:  70.64624404907227\n",
            "Total reward:  70.70905351638794\n",
            "Total reward:  70.68831872940063\n",
            "Total reward:  70.58637285232544\n",
            "Total reward:  70.40572023391724\n",
            "Total reward:  70.1489109992981\n",
            "Total reward:  69.81841897964478\n",
            "Total reward:  69.4165506362915\n",
            "Total reward:  69.25600242614746\n",
            "Total reward:  69.58850431442261\n",
            "Total reward:  69.8539891242981\n",
            "Total reward:  70.03111028671265\n",
            "Total reward:  70.1241021156311\n",
            "Total reward:  70.17824506759644\n",
            "Total reward:  70.18670988082886\n",
            "Total reward:  70.12431764602661\n",
            "Total reward:  69.99151706695557\n",
            "Total reward:  69.78834581375122\n",
            "Total reward:  69.51114797592163\n",
            "Total reward:  69.16540575027466\n",
            "Total reward:  69.05363988876343\n",
            "Total reward:  69.24291944503784\n",
            "Total reward:  69.17097616195679\n",
            "Total reward:  69.05755853652954\n",
            "Total reward:  69.05392551422119\n"
          ],
          "name": "stdout"
        },
        {
          "output_type": "stream",
          "text": [
            "DEBUG:minerl.env.malmo.instance.2e9d75:[02:07:21] [Client thread/INFO]: [CHAT] §l18...\n",
            "DEBUG:minerl.env.malmo.instance.2e9d75:[02:07:21] [Server thread/INFO]: [STDOUT]: Warning: managed 17/20 ticks this second.\n"
          ],
          "name": "stderr"
        },
        {
          "output_type": "stream",
          "text": [
            "Total reward:  69.045006275177\n",
            "Total reward:  68.95730066299438\n",
            "Total reward:  68.8005166053772\n",
            "Total reward:  68.57056903839111\n",
            "Total reward:  68.26858139038086\n",
            "Total reward:  68.03170394897461\n",
            "Total reward:  68.39195919036865\n",
            "Total reward:  68.67662763595581\n",
            "Total reward:  68.87735319137573\n",
            "Total reward:  68.99743223190308\n",
            "Total reward:  68.99587440490723\n",
            "Total reward:  68.89125871658325\n",
            "Total reward:  68.71625089645386\n",
            "Total reward:  68.472487449646\n",
            "Total reward:  68.16122627258301\n",
            "Total reward:  67.78342628479004\n",
            "Total reward:  67.33983898162842\n",
            "Total reward:  "
          ],
          "name": "stdout"
        },
        {
          "output_type": "stream",
          "text": [
            "DEBUG:minerl.env.malmo.instance.2e9d75:[02:07:22] [Server thread/INFO]: [STDOUT]: Warning: managed 16/20 ticks this second.\n",
            "DEBUG:minerl.env.malmo.instance.2e9d75:[02:07:22] [Client thread/INFO]: [CHAT] §l17...\n"
          ],
          "name": "stderr"
        },
        {
          "output_type": "stream",
          "text": [
            "66.83109664916992\n",
            "Total reward:  66.25778865814209\n",
            "Total reward:  65.75603580474854\n",
            "Total reward:  66.10275840759277\n",
            "Total reward:  66.3802490234375\n",
            "Total reward:  66.57682609558105\n",
            "Total reward:  66.6956729888916\n",
            "Total reward:  66.73972988128662\n",
            "Total reward:  66.71159362792969\n",
            "Total reward:  66.6134557723999\n",
            "Total reward:  66.44707298278809\n",
            "Total reward:  66.21379566192627\n",
            "Total reward:  65.91461181640625\n",
            "Total reward:  65.55023384094238\n",
            "Total reward:  65.41227722167969\n",
            "Total reward:  65.75752925872803\n",
            "Total reward:  66.03248310089111\n"
          ],
          "name": "stdout"
        },
        {
          "output_type": "stream",
          "text": [
            "DEBUG:minerl.env.malmo.instance.2e9d75:[02:07:23] [Server thread/INFO]: [STDOUT]: Warning: managed 18/20 ticks this second.\n"
          ],
          "name": "stderr"
        },
        {
          "output_type": "stream",
          "text": [
            "Total reward:  66.2297945022583\n",
            "Total reward:  66.35268306732178\n",
            "Total reward:  66.40398597717285\n",
            "Total reward:  66.38607215881348\n"
          ],
          "name": "stdout"
        },
        {
          "output_type": "stream",
          "text": [
            "DEBUG:minerl.env.malmo.instance.2e9d75:[02:07:23] [Client thread/INFO]: [CHAT] §l16...\n"
          ],
          "name": "stderr"
        },
        {
          "output_type": "stream",
          "text": [
            "Total reward:  66.30079650878906\n",
            "Total reward:  66.14950656890869\n",
            "Total reward:  65.93442058563232\n",
            "Total reward:  65.65452671051025\n",
            "Total reward:  65.31006717681885\n",
            "Total reward:  65.18659400939941\n",
            "Total reward:  65.54200839996338\n",
            "Total reward:  65.82235527038574\n",
            "Total reward:  66.02712535858154\n",
            "Total reward:  66.1593885421753\n",
            "Total reward:  66.22175979614258\n",
            "Total reward:  66.21632862091064\n",
            "Total reward:  66.14462947845459\n",
            "Total reward:  66.00767421722412\n",
            "Total reward:  65.80600929260254\n",
            "Total reward:  65.53982543945312\n"
          ],
          "name": "stdout"
        },
        {
          "output_type": "stream",
          "text": [
            "DEBUG:minerl.env.malmo.instance.2e9d75:[02:07:24] [Client thread/INFO]: [CHAT] §l15...\n"
          ],
          "name": "stderr"
        },
        {
          "output_type": "stream",
          "text": [
            "Total reward:  65.21373748779297\n",
            "Total reward:  65.15070724487305\n",
            "Total reward:  65.58615303039551\n",
            "Total reward:  65.91939640045166\n",
            "Total reward:  66.17677688598633\n",
            "Total reward:  66.36040687561035\n",
            "Total reward:  66.47190761566162\n",
            "Total reward:  66.51240253448486\n",
            "Total reward:  66.48255348205566\n",
            "Total reward:  66.3826379776001\n",
            "Total reward:  66.39301872253418\n",
            "Total reward:  66.43643379211426\n",
            "Total reward:  66.84641933441162\n",
            "Total reward:  67.16205596923828\n",
            "Total reward:  67.40149974822998\n",
            "Total reward:  67.56704425811768\n",
            "Total reward:  67.66051578521729\n",
            "Total reward:  67.68323516845703\n",
            "Total reward:  67.63487529754639\n",
            "Total reward:  67.4947681427002\n",
            "Total reward:  67.28928565979004\n"
          ],
          "name": "stdout"
        },
        {
          "output_type": "stream",
          "text": [
            "DEBUG:minerl.env.malmo.instance.2e9d75:[02:07:24] [Client thread/INFO]: [CHAT] §l14...\n"
          ],
          "name": "stderr"
        },
        {
          "output_type": "stream",
          "text": [
            "Total reward:  67.01877117156982\n",
            "Total reward:  66.68578815460205\n",
            "Total reward:  66.29027462005615\n",
            "Total reward:  65.830641746521\n",
            "Total reward:  65.30619144439697\n",
            "Total reward:  64.78135776519775\n",
            "Total reward:  65.20510578155518\n",
            "Total reward:  65.5360746383667\n",
            "Total reward:  65.78908061981201\n",
            "Total reward:  65.96575260162354\n",
            "Total reward:  66.06737804412842\n",
            "Total reward:  66.09492588043213\n",
            "Total reward:  66.04908847808838\n",
            "Total reward:  65.93035125732422\n",
            "Total reward:  65.73907852172852\n",
            "Total reward:  65.4755973815918\n",
            "Total reward:  65.14028072357178\n",
            "Total reward:  65.04298686981201\n",
            "Total reward:  65.47176837921143\n",
            "Total reward:  65.8051929473877\n",
            "Total reward:  66.0566234588623\n",
            "Total reward:  66.22764873504639\n",
            "Total reward:  66.31969451904297\n",
            "Total reward:  66.33404350280762\n"
          ],
          "name": "stdout"
        },
        {
          "output_type": "stream",
          "text": [
            "DEBUG:minerl.env.malmo.instance.2e9d75:[02:07:25] [Client thread/INFO]: [CHAT] §l13...\n"
          ],
          "name": "stderr"
        },
        {
          "output_type": "stream",
          "text": [
            "Total reward:  66.2718563079834\n",
            "Total reward:  66.13420677185059\n",
            "Total reward:  65.92212009429932\n",
            "Total reward:  65.63661193847656\n",
            "Total reward:  65.27871513366699\n",
            "Total reward:  64.84950733184814\n",
            "Total reward:  64.35011386871338\n",
            "Total reward:  64.18983459472656\n",
            "Total reward:  64.59469032287598\n",
            "Total reward:  64.92743015289307\n",
            "Total reward:  65.1826229095459\n",
            "Total reward:  65.35597229003906\n",
            "Total reward:  65.44871234893799\n",
            "Total reward:  65.4619951248169\n",
            "Total reward:  65.39692401885986\n",
            "Total reward:  65.25458908081055\n",
            "Total reward:  65.03610706329346\n"
          ],
          "name": "stdout"
        },
        {
          "output_type": "stream",
          "text": [
            "DEBUG:minerl.env.malmo.instance.2e9d75:[02:07:26] [Client thread/INFO]: [CHAT] §l12...\n"
          ],
          "name": "stderr"
        },
        {
          "output_type": "stream",
          "text": [
            "Total reward:  64.74282741546631\n",
            "Total reward:  64.37598133087158\n",
            "Total reward:  63.936842918395996\n",
            "Total reward:  63.42674541473389\n",
            "Total reward:  63.258766174316406\n",
            "Total reward:  63.65524482727051\n",
            "Total reward:  63.96911907196045\n",
            "Total reward:  64.19780445098877\n",
            "Total reward:  64.34336280822754\n"
          ],
          "name": "stdout"
        },
        {
          "output_type": "stream",
          "text": [
            "DEBUG:minerl.env.malmo.instance.2e9d75:[02:07:27] [Server thread/INFO]: [STDOUT]: Warning: managed 17/20 ticks this second.\n"
          ],
          "name": "stderr"
        },
        {
          "output_type": "stream",
          "text": [
            "Total reward:  64.40783405303955\n",
            "Total reward:  64.39321899414062\n",
            "Total reward:  64.30145072937012\n",
            "Total reward:  64.13437938690186\n",
            "Total reward:  63.89375686645508\n",
            "Total reward:  63.58123016357422\n",
            "Total reward:  63.198341369628906\n",
            "Total reward:  62.746538162231445\n",
            "Total reward:  62.227179527282715\n",
            "Total reward:  61.64155197143555\n",
            "Total reward:  61.05813503265381\n",
            "Total reward:  61.43819618225098\n",
            "Total reward:  61.74209022521973\n"
          ],
          "name": "stdout"
        },
        {
          "output_type": "stream",
          "text": [
            "DEBUG:minerl.env.malmo.instance.2e9d75:[02:07:28] [Client thread/INFO]: [CHAT] §l11...\n"
          ],
          "name": "stderr"
        },
        {
          "output_type": "stream",
          "text": [
            "Total reward:  61.96254634857178\n",
            "Total reward:  62.1017951965332\n",
            "Total reward:  62.161980628967285\n"
          ],
          "name": "stdout"
        },
        {
          "output_type": "stream",
          "text": [
            "DEBUG:minerl.env.malmo.instance.2e9d75:[02:07:28] [Server thread/INFO]: [STDOUT]: Warning: managed 14/20 ticks this second.\n"
          ],
          "name": "stderr"
        },
        {
          "output_type": "stream",
          "text": [
            "Total reward:  62.145127296447754\n",
            "Total reward:  62.05312919616699\n",
            "Total reward:  61.887733459472656\n",
            "Total reward:  61.65054130554199\n",
            "Total reward:  61.34301471710205\n",
            "Total reward:  60.96648979187012\n",
            "Total reward:  60.52219581604004\n",
            "Total reward:  60.01127815246582\n",
            "Total reward:  59.837379455566406\n",
            "Total reward:  60.22024726867676\n",
            "Total reward:  60.52568054199219\n",
            "Total reward:  60.74923038482666\n",
            "Total reward:  60.8930606842041\n",
            "Total reward:  60.959083557128906\n"
          ],
          "name": "stdout"
        },
        {
          "output_type": "stream",
          "text": [
            "DEBUG:minerl.env.malmo.instance.2e9d75:[02:07:29] [Server thread/INFO]: [STDOUT]: Warning: managed 15/20 ticks this second.\n"
          ],
          "name": "stderr"
        },
        {
          "output_type": "stream",
          "text": [
            "Total reward:  60.94931507110596\n",
            "Total reward:  60.86547660827637\n",
            "Total reward:  60.70912837982178\n"
          ],
          "name": "stdout"
        },
        {
          "output_type": "stream",
          "text": [
            "DEBUG:minerl.env.malmo.instance.2e9d75:[02:07:29] [Client thread/INFO]: [CHAT] §l10...\n"
          ],
          "name": "stderr"
        },
        {
          "output_type": "stream",
          "text": [
            "Total reward:  60.4816780090332\n",
            "Total reward:  60.184391021728516\n",
            "Total reward:  59.81842231750488\n",
            "Total reward:  59.6920108795166\n",
            "Total reward:  60.08203125\n",
            "Total reward:  60.39149475097656\n",
            "Total reward:  60.62007427215576\n",
            "Total reward:  60.76985740661621\n",
            "Total reward:  60.79660224914551\n",
            "Total reward:  60.717984199523926\n",
            "Total reward:  60.59884738922119\n",
            "Total reward:  60.59938907623291\n",
            "Total reward:  60.60458564758301\n",
            "Total reward:  60.612563133239746\n",
            "Total reward:  60.7903528213501\n"
          ],
          "name": "stdout"
        },
        {
          "output_type": "stream",
          "text": [
            "DEBUG:minerl.env.malmo.instance.2e9d75:[02:07:30] [Server thread/INFO]: [STDOUT]: Warning: managed 16/20 ticks this second.\n"
          ],
          "name": "stderr"
        },
        {
          "output_type": "stream",
          "text": [
            "Total reward:  60.697869300842285\n",
            "Total reward:  60.5645170211792\n",
            "Total reward:  60.537940979003906\n",
            "Total reward:  60.515329360961914\n"
          ],
          "name": "stdout"
        },
        {
          "output_type": "stream",
          "text": [
            "DEBUG:minerl.env.malmo.instance.2e9d75:[02:07:30] [Client thread/INFO]: [CHAT] §l9...\n"
          ],
          "name": "stderr"
        },
        {
          "output_type": "stream",
          "text": [
            "Total reward:  60.495933532714844\n",
            "Total reward:  60.479352951049805\n",
            "Total reward:  60.465375900268555\n",
            "Total reward:  60.45388221740723\n",
            "Total reward:  60.44479179382324\n",
            "Total reward:  60.62395095825195\n",
            "Total reward:  60.547237396240234\n",
            "Total reward:  60.430715560913086\n",
            "Total reward:  60.428659439086914\n",
            "Total reward:  60.42953872680664\n",
            "Total reward:  60.43238830566406\n",
            "Total reward:  60.437604904174805\n"
          ],
          "name": "stdout"
        },
        {
          "output_type": "stream",
          "text": [
            "DEBUG:minerl.env.malmo.instance.2e9d75:[02:07:31] [Server thread/INFO]: [STDOUT]: Warning: managed 19/20 ticks this second.\n"
          ],
          "name": "stderr"
        },
        {
          "output_type": "stream",
          "text": [
            "Total reward:  60.44487190246582\n",
            "Total reward:  60.453975677490234\n",
            "Total reward:  60.464752197265625\n",
            "Total reward:  60.663434982299805\n",
            "Total reward:  60.59857654571533\n",
            "Total reward:  60.49403381347656\n",
            "Total reward:  60.51022911071777\n",
            "Total reward:  60.52764129638672\n"
          ],
          "name": "stdout"
        },
        {
          "output_type": "stream",
          "text": [
            "DEBUG:minerl.env.malmo.instance.2e9d75:[02:07:31] [Client thread/INFO]: [CHAT] §l8...\n"
          ],
          "name": "stderr"
        },
        {
          "output_type": "stream",
          "text": [
            "Total reward:  60.546125411987305\n",
            "Total reward:  60.565558433532715\n",
            "Total reward:  60.58582592010498\n",
            "Total reward:  60.60682201385498\n",
            "Total reward:  60.62844657897949\n",
            "Total reward:  60.83901786804199\n",
            "Total reward:  60.77935218811035\n",
            "Total reward:  60.67947769165039\n",
            "Total reward:  60.70379638671875\n",
            "Total reward:  60.72787094116211\n",
            "Total reward:  60.751797676086426\n",
            "Total reward:  60.77558898925781\n",
            "Total reward:  60.799217224121094\n",
            "Total reward:  60.822630882263184\n",
            "Total reward:  60.84576606750488\n",
            "Total reward:  61.059630393981934\n",
            "Total reward:  60.999064445495605\n",
            "Total reward:  60.89746284484863\n",
            "Total reward:  60.9205379486084\n",
            "Total reward:  60.94246006011963\n",
            "Total reward:  60.9634485244751\n",
            "Total reward:  60.983595848083496\n"
          ],
          "name": "stdout"
        },
        {
          "output_type": "stream",
          "text": [
            "DEBUG:minerl.env.malmo.instance.2e9d75:[02:07:32] [Client thread/INFO]: [CHAT] §l7...\n"
          ],
          "name": "stderr"
        },
        {
          "output_type": "stream",
          "text": [
            "Total reward:  60.92732906341553\n",
            "Total reward:  60.78925132751465\n",
            "Total reward:  60.578253746032715\n",
            "Total reward:  60.2869930267334\n",
            "Total reward:  60.06255340576172\n",
            "Total reward:  60.469552993774414\n",
            "Total reward:  60.791954040527344\n",
            "Total reward:  61.03336811065674\n",
            "Total reward:  61.19557189941406\n",
            "Total reward:  61.23268795013428\n",
            "Total reward:  61.1624698638916\n",
            "Total reward:  61.05134391784668\n",
            "Total reward:  61.06438446044922\n",
            "Total reward:  61.07821273803711\n",
            "Total reward:  61.09201526641846\n",
            "Total reward:  61.299394607543945\n",
            "Total reward:  61.23149871826172\n"
          ],
          "name": "stdout"
        },
        {
          "output_type": "stream",
          "text": [
            "DEBUG:minerl.env.malmo.instance.2e9d75:[02:07:33] [Client thread/INFO]: [CHAT] §l6...\n"
          ],
          "name": "stderr"
        },
        {
          "output_type": "stream",
          "text": [
            "Total reward:  61.12160110473633\n",
            "Total reward:  61.13382625579834\n",
            "Total reward:  61.14477729797363\n",
            "Total reward:  61.15461254119873\n",
            "Total reward:  61.16341495513916\n",
            "Total reward:  61.171231269836426\n",
            "Total reward:  61.1780891418457\n",
            "Total reward:  61.18401527404785\n",
            "Total reward:  61.384135246276855\n",
            "Total reward:  61.310439109802246\n",
            "Total reward:  61.19429683685303\n",
            "Total reward:  61.19747257232666\n",
            "Total reward:  61.199673652648926\n",
            "Total reward:  61.201040267944336\n",
            "Total reward:  61.201663970947266\n",
            "Total reward:  61.20161247253418\n",
            "Total reward:  61.200944900512695\n",
            "Total reward:  61.199713706970215\n",
            "Total reward:  61.62730884552002\n",
            "Total reward:  61.965577125549316\n"
          ],
          "name": "stdout"
        },
        {
          "output_type": "stream",
          "text": [
            "DEBUG:minerl.env.malmo.instance.2e9d75:[02:07:34] [Client thread/INFO]: [CHAT] §c§l5...\n"
          ],
          "name": "stderr"
        },
        {
          "output_type": "stream",
          "text": [
            "Total reward:  62.22303867340088\n",
            "Total reward:  62.401000022888184\n",
            "Total reward:  62.50060558319092\n",
            "Total reward:  62.522857666015625\n",
            "Total reward:  62.46865940093994\n",
            "Total reward:  62.338852882385254\n",
            "Total reward:  62.134260177612305\n",
            "Total reward:  61.84696674346924\n",
            "Total reward:  61.474388122558594\n",
            "Total reward:  61.35074806213379\n",
            "Total reward:  61.75930881500244\n",
            "Total reward:  62.08388423919678\n",
            "Total reward:  62.32744026184082\n",
            "Total reward:  62.49163055419922\n",
            "Total reward:  62.577903747558594\n",
            "Total reward:  62.5875244140625\n",
            "Total reward:  62.52160167694092\n",
            "Total reward:  62.381131172180176\n",
            "Total reward:  62.367573738098145\n",
            "Total reward:  62.38782501220703\n",
            "Total reward:  62.823330879211426\n"
          ],
          "name": "stdout"
        },
        {
          "output_type": "stream",
          "text": [
            "DEBUG:minerl.env.malmo.instance.2e9d75:[02:07:35] [Client thread/INFO]: [CHAT] §c§l4...\n"
          ],
          "name": "stderr"
        },
        {
          "output_type": "stream",
          "text": [
            "Total reward:  63.16490936279297\n",
            "Total reward:  63.42234230041504\n",
            "Total reward:  63.59691619873047\n",
            "Total reward:  63.68986415863037\n",
            "Total reward:  63.70239448547363\n",
            "Total reward:  63.63598155975342\n",
            "Total reward:  63.491291999816895\n",
            "Total reward:  63.47148609161377\n",
            "Total reward:  63.47614574432373\n",
            "Total reward:  63.89507484436035\n",
            "Total reward:  64.2250804901123\n",
            "Total reward:  64.46889019012451\n",
            "Total reward:  64.62807273864746\n",
            "Total reward:  64.70423126220703\n",
            "Total reward:  64.69900798797607\n",
            "Total reward:  64.61408710479736\n",
            "Total reward:  64.45118618011475\n",
            "Total reward:  64.41288089752197\n",
            "Total reward:  64.39216613769531\n",
            "Total reward:  64.78531837463379\n"
          ],
          "name": "stdout"
        },
        {
          "output_type": "stream",
          "text": [
            "DEBUG:minerl.env.malmo.instance.2e9d75:[02:07:36] [Client thread/INFO]: [CHAT] §c§l3...\n"
          ],
          "name": "stderr"
        },
        {
          "output_type": "stream",
          "text": [
            "Total reward:  65.09759140014648\n",
            "Total reward:  65.32351398468018\n",
            "Total reward:  65.46517562866211\n",
            "Total reward:  65.52470397949219\n",
            "Total reward:  65.50423049926758\n",
            "Total reward:  65.40585899353027\n",
            "Total reward:  65.23162746429443\n",
            "Total reward:  65.18006610870361\n",
            "Total reward:  65.1435432434082\n",
            "Total reward:  65.5149097442627\n",
            "Total reward:  65.8111457824707\n",
            "Total reward:  66.0227746963501\n",
            "Total reward:  66.15238952636719\n",
            "Total reward:  66.20252990722656\n",
            "Total reward:  66.17561626434326\n",
            "Total reward:  66.07389450073242\n",
            "Total reward:  65.8993968963623\n",
            "Total reward:  65.66228866577148\n",
            "Total reward:  65.37644577026367\n",
            "Total reward:  65.02385902404785\n",
            "Total reward:  64.91167831420898\n"
          ],
          "name": "stdout"
        },
        {
          "output_type": "stream",
          "text": [
            "DEBUG:minerl.env.malmo.instance.2e9d75:[02:07:37] [Client thread/INFO]: [CHAT] §c§l2...\n",
            "DEBUG:minerl.env.malmo.instance.2e9d75:[02:07:37] [Server thread/INFO]: [STDOUT]: Warning: managed 15/20 ticks this second.\n"
          ],
          "name": "stderr"
        },
        {
          "output_type": "stream",
          "text": [
            "Total reward:  65.3226318359375\n",
            "Total reward:  65.64711856842041\n",
            "Total reward:  65.89344215393066\n",
            "Total reward:  66.06368637084961\n",
            "Total reward:  66.15956401824951\n",
            "Total reward:  66.18239784240723\n",
            "Total reward:  66.13314247131348\n",
            "Total reward:  66.0124397277832\n",
            "Total reward:  65.82069683074951\n",
            "Total reward:  65.55818462371826\n",
            "Total reward:  65.2251329421997\n",
            "Total reward:  65.13357925415039\n",
            "Total reward:  65.57795810699463\n",
            "Total reward:  65.92381477355957\n",
            "Total reward:  66.18703365325928\n",
            "Total reward:  66.36899948120117\n",
            "Total reward:  66.47091102600098\n",
            "Total reward:  66.49382019042969\n",
            "Total reward:  66.4386854171753\n"
          ],
          "name": "stdout"
        },
        {
          "output_type": "stream",
          "text": [
            "DEBUG:minerl.env.malmo.instance.2e9d75:[02:07:38] [Server thread/INFO]: [STDOUT]: Warning: managed 18/20 ticks this second.\n",
            "DEBUG:minerl.env.malmo.instance.2e9d75:[02:07:38] [Client thread/INFO]: [CHAT] §c§l1...\n"
          ],
          "name": "stderr"
        },
        {
          "output_type": "stream",
          "text": [
            "Total reward:  66.30643081665039\n",
            "Total reward:  66.29612827301025\n",
            "Total reward:  66.2862434387207\n",
            "Total reward:  66.6824951171875\n",
            "Total reward:  66.99746131896973\n",
            "Total reward:  67.23166179656982\n",
            "Total reward:  67.38728141784668\n",
            "Total reward:  67.46617794036865\n",
            "Total reward:  67.4698715209961\n",
            "Total reward:  67.39957237243652\n",
            "Total reward:  67.25622749328613\n",
            "Total reward:  67.2369613647461\n",
            "Total reward:  67.24921226501465\n",
            "Total reward:  67.66824054718018\n",
            "Total reward:  67.9959077835083\n",
            "Total reward:  68.23969554901123\n"
          ],
          "name": "stdout"
        },
        {
          "output_type": "stream",
          "text": [
            "DEBUG:minerl.env.malmo.instance.2e9d75:[02:07:39] [Server thread/INFO]: [STDOUT]: Warning: managed 17/20 ticks this second.\n"
          ],
          "name": "stderr"
        },
        {
          "output_type": "stream",
          "text": [
            "Total reward:  68.40204620361328\n",
            "Total reward:  68.4844799041748\n",
            "Total reward:  68.4883975982666\n",
            "Total reward:  68.4151029586792\n",
            "Total reward:  68.26583194732666\n"
          ],
          "name": "stdout"
        },
        {
          "output_type": "stream",
          "text": [
            "DEBUG:minerl.env.malmo.instance.2e9d75:[02:07:39] [Server thread/INFO]: [STDOUT]: SERVER request state: CLEAN_UP\n",
            "DEBUG:minerl.env.malmo.instance.2e9d75:[02:07:39] [Server thread/INFO]: [STDOUT]: SERVER enter state: CLEAN_UP\n",
            "DEBUG:minerl.env.malmo.instance.2e9d75:[02:07:39] [Server thread/INFO]: [STDOUT]: SERVER request state: DORMANT\n",
            "DEBUG:minerl.env.malmo.instance.2e9d75:[02:07:39] [Client thread/INFO]: [CHAT] §c§l0...\n",
            "DEBUG:minerl.env.malmo.instance.2e9d75:[02:07:39] [Server thread/INFO]: [STDOUT]: SERVER enter state: DORMANT\n"
          ],
          "name": "stderr"
        },
        {
          "output_type": "stream",
          "text": [
            "Total reward:  68.04179000854492\n",
            "Total reward:  67.74417877197266\n",
            "Total reward:  67.3742208480835\n",
            "Total reward:  67.2461404800415\n",
            "Total reward:  67.6366195678711\n",
            "Total reward:  67.9444580078125\n",
            "Total reward:  68.16718864440918\n",
            "Total reward:  68.30715656280518\n",
            "Total reward:  68.36669254302979\n"
          ],
          "name": "stdout"
        }
      ]
    },
    {
      "cell_type": "code",
      "metadata": {
        "id": "KWQ7q1EdOL5a",
        "colab_type": "code",
        "colab": {}
      },
      "source": [
        ""
      ],
      "execution_count": 0,
      "outputs": []
    }
  ]
}
